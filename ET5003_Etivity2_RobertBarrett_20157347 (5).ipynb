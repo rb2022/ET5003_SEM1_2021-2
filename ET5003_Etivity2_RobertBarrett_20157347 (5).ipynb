{
  "nbformat": 4,
  "nbformat_minor": 0,
  "metadata": {
    "colab": {
      "name": "ET5003_Etivity2_RobertBarrett_20157347.ipynb",
      "provenance": [],
      "collapsed_sections": []
    },
    "kernelspec": {
      "display_name": "Python 3",
      "language": "python",
      "name": "python3"
    },
    "language_info": {
      "codemirror_mode": {
        "name": "ipython",
        "version": 3
      },
      "file_extension": ".py",
      "mimetype": "text/x-python",
      "name": "python",
      "nbconvert_exporter": "python",
      "pygments_lexer": "ipython3",
      "version": "3.8.3"
    }
  },
  "cells": [
    {
      "cell_type": "markdown",
      "metadata": {
        "id": "930vlW5BrOtq"
      },
      "source": [
        "<div>\n",
        "<img src=\"https://drive.google.com/uc?export=view&id=1vK33e_EqaHgBHcbRV_m38hx6IkG0blK_\" width=\"350\"/>\n",
        "</div> \n",
        "\n",
        "# **Artificial Intelligence - MSc**\n",
        "## ET5003 - MACHINE LEARNING APPLICATIONS \n",
        "\n",
        "### Instructor: Enrique Naredo\n",
        "### ET5003_Etivity-2"
      ]
    },
    {
      "cell_type": "code",
      "metadata": {
        "cellView": "form",
        "id": "LqXD_IwUQuBF"
      },
      "source": [
        "#@title Current Date\n",
        "Today = '2021-08-22' #@param {type:\"date\"}\n"
      ],
      "execution_count": null,
      "outputs": []
    },
    {
      "cell_type": "code",
      "metadata": {
        "cellView": "form",
        "id": "uzDKau31OjVO"
      },
      "source": [
        "#@markdown ---\n",
        "#@markdown ### Enter your details here:\n",
        "Student_ID = \"20157347\" #@param {type:\"string\"}\n",
        "Student_full_name = \"Robert Barrett\" #@param {type:\"string\"}\n",
        "#@markdown ---"
      ],
      "execution_count": null,
      "outputs": []
    },
    {
      "cell_type": "code",
      "metadata": {
        "cellView": "form",
        "id": "r39xGZckTpKx"
      },
      "source": [
        "#@title Notebook information\n",
        "Notebook_type = 'Example' #@param [\"Example\", \"Lab\", \"Practice\", \"Etivity\", \"Assignment\", \"Exam\"]\n",
        "Version = 'Draft' #@param [\"Draft\", \"Final\"] {type:\"raw\"}\n",
        "Submission = False #@param {type:\"boolean\"}"
      ],
      "execution_count": null,
      "outputs": []
    },
    {
      "cell_type": "markdown",
      "metadata": {
        "id": "_A0Z6S-r6DpA"
      },
      "source": [
        "# INTRODUCTION"
      ]
    },
    {
      "cell_type": "markdown",
      "metadata": {
        "id": "QkRchZtf6IV-"
      },
      "source": [
        "**Piecewise regression**, extract from [Wikipedia](https://en.wikipedia.org/wiki/Segmented_regression):\n",
        "\n",
        "Segmented regression, also known as piecewise regression or broken-stick regression, is a method in regression analysis in which the independent variable is partitioned into intervals and a separate line segment is fit to each interval. \n",
        "\n",
        "* Segmented regression analysis can also be performed on \n",
        "multivariate data by partitioning the various independent variables. \n",
        "* Segmented regression is useful when the independent variables, clustered into different groups, exhibit different relationships between the variables in these regions. \n",
        "\n",
        "* The boundaries between the segments are breakpoints.\n",
        "\n",
        "* Segmented linear regression is segmented regression whereby the relations in the intervals are obtained by linear regression. "
      ]
    },
    {
      "cell_type": "markdown",
      "metadata": {
        "id": "aajlS0WCJ8pm"
      },
      "source": [
        "***The goal is to use advanced Machine Learning methods to predict House price.***"
      ]
    },
    {
      "cell_type": "markdown",
      "metadata": {
        "id": "Wg7VCbX77eAA"
      },
      "source": [
        "## Imports"
      ]
    },
    {
      "cell_type": "code",
      "metadata": {
        "id": "iFFLThrpwibd"
      },
      "source": [
        "# Suppressing Warnings:\n",
        "import warnings\n",
        "warnings.filterwarnings(\"ignore\")"
      ],
      "execution_count": 1,
      "outputs": []
    },
    {
      "cell_type": "code",
      "metadata": {
        "id": "d1770_fNrCWn"
      },
      "source": [
        "import pandas as pd\n",
        "import matplotlib.pyplot as plt\n",
        "import numpy as np\n",
        "import pymc3 as pm\n",
        "import arviz as az\n",
        "from sklearn.preprocessing import StandardScaler\n",
        "from sklearn.preprocessing import RobustScaler\n",
        "from sklearn.preprocessing import MinMaxScaler\n",
        "import seaborn as sb\n",
        "from sklearn.model_selection import train_test_split"
      ],
      "execution_count": 2,
      "outputs": []
    },
    {
      "cell_type": "code",
      "metadata": {
        "id": "sYPJU_Y6O6Dq"
      },
      "source": [
        "# to plot\n",
        "import matplotlib.colors\n",
        "from mpl_toolkits.mplot3d import Axes3D\n",
        "\n",
        "# to generate classification, regression and clustering datasets\n",
        "import sklearn.datasets as dt\n",
        "\n",
        "# to create data frames\n",
        "from pandas import DataFrame\n",
        "\n",
        "# to generate data from an existing dataset\n",
        "from sklearn.neighbors import KernelDensity\n",
        "from sklearn.model_selection import GridSearchCV"
      ],
      "execution_count": 3,
      "outputs": []
    },
    {
      "cell_type": "code",
      "metadata": {
        "id": "6MUJdlxSPSMM"
      },
      "source": [
        "# Define the seed so that results can be reproduced\n",
        "seed = 11\n",
        "rand_state = 11\n",
        "\n",
        "# Define the color maps for plots\n",
        "color_map = plt.cm.get_cmap('RdYlBu')\n",
        "color_map_discrete = matplotlib.colors.LinearSegmentedColormap.from_list(\"\", [\"red\",\"cyan\",\"magenta\",\"blue\"])"
      ],
      "execution_count": 4,
      "outputs": []
    },
    {
      "cell_type": "markdown",
      "metadata": {
        "id": "WL91ShB19RPw"
      },
      "source": [
        "# DATASET"
      ]
    },
    {
      "cell_type": "markdown",
      "metadata": {
        "id": "ESg5DGKWJSOf"
      },
      "source": [
        "Extract from this [paper](https://ieeexplore.ieee.org/document/9300074):\n",
        "\n",
        "* House prices are a significant impression of the economy, and its value ranges are of great concerns for the clients and property dealers. \n",
        "\n",
        "* Housing price escalate every year that eventually reinforced the need of strategy or technique that could predict house prices in future. \n",
        "\n",
        "* There are certain factors that influence house prices including physical conditions, locations, number of bedrooms and others.\n"
      ]
    },
    {
      "cell_type": "markdown",
      "metadata": {
        "id": "a8Y2pf50FlYL"
      },
      "source": [
        "1. [Download the dataset](https://github.com/UL-ET5003/ET5003_SEM1_2021-2/tree/main/Week-3). \n",
        "\n",
        "2. Upload the dataset into your folder.\n",
        "\n"
      ]
    },
    {
      "cell_type": "code",
      "metadata": {
        "colab": {
          "base_uri": "https://localhost:8080/"
        },
        "id": "XD_vWNL8M_4X",
        "outputId": "0bf3868a-6fbb-4a1d-b642-49d5b0ba5e74"
      },
      "source": [
        "from google.colab import drive\n",
        "drive.mount('/content/drive')"
      ],
      "execution_count": 5,
      "outputs": [
        {
          "output_type": "stream",
          "name": "stdout",
          "text": [
            "Mounted at /content/drive\n"
          ]
        }
      ]
    },
    {
      "cell_type": "code",
      "metadata": {
        "id": "izkQxCkuObok"
      },
      "source": [
        "path = '/content/sample_data/'\n",
        "\n",
        "col_names =['ad_id', 'area', 'bathrooms', 'beds', \n",
        "            'ber_classification', 'county', 'description_block','environment', \n",
        "            'facility', 'features', 'latitude', 'longitude', 'no_of_units',\n",
        "            'price', 'property_category', 'property_type', 'surface']\n",
        "\n",
        "train_file = path+'house_train.csv'\n",
        "test_file = path+'house_test.csv'\n",
        "true_file = path+'true_price.csv'\n",
        "\n",
        "train_data = pd.read_csv(train_file, usecols=[i for i in col_names if i not in ['features', 'description_block']])\n",
        "test_data = pd.read_csv(test_file, usecols=[i for i in col_names if i not in ['features', 'description_block', 'price']])\n",
        "true_data = pd.read_csv(true_file)"
      ],
      "execution_count": 302,
      "outputs": []
    },
    {
      "cell_type": "markdown",
      "metadata": {
        "id": "iTesJdSxeL9e"
      },
      "source": [
        "#### Comments\n",
        "We removed 'features' and ' description_block' from the files as these were free-text fields with no useful information."
      ]
    },
    {
      "cell_type": "code",
      "metadata": {
        "colab": {
          "base_uri": "https://localhost:8080/"
        },
        "id": "0ypADotT7C_r",
        "outputId": "c9afa0ad-5908-4392-b593-0ab0cc9ba38e"
      },
      "source": [
        "print(train_data.shape)\n",
        "print(test_data.shape)\n",
        "print(true_data.shape)"
      ],
      "execution_count": 152,
      "outputs": [
        {
          "output_type": "stream",
          "name": "stdout",
          "text": [
            "(2982, 15)\n",
            "(500, 14)\n",
            "(500, 2)\n"
          ]
        }
      ]
    },
    {
      "cell_type": "markdown",
      "metadata": {
        "id": "MVa7KHY4Ck2Z"
      },
      "source": [
        "## Exploratory Data Analysis"
      ]
    },
    {
      "cell_type": "markdown",
      "metadata": {
        "id": "cFdBPR-vJK0W"
      },
      "source": [
        "### Analysis of Training Data - dealing with numeric values"
      ]
    },
    {
      "cell_type": "code",
      "metadata": {
        "colab": {
          "base_uri": "https://localhost:8080/",
          "height": 204
        },
        "id": "gb4LqA5_KOp4",
        "outputId": "a6d0cc5b-282c-4506-e7da-724a0896375a"
      },
      "source": [
        "train_data.head(5)"
      ],
      "execution_count": 153,
      "outputs": [
        {
          "output_type": "execute_result",
          "data": {
            "text/html": [
              "<div>\n",
              "<style scoped>\n",
              "    .dataframe tbody tr th:only-of-type {\n",
              "        vertical-align: middle;\n",
              "    }\n",
              "\n",
              "    .dataframe tbody tr th {\n",
              "        vertical-align: top;\n",
              "    }\n",
              "\n",
              "    .dataframe thead th {\n",
              "        text-align: right;\n",
              "    }\n",
              "</style>\n",
              "<table border=\"1\" class=\"dataframe\">\n",
              "  <thead>\n",
              "    <tr style=\"text-align: right;\">\n",
              "      <th></th>\n",
              "      <th>ad_id</th>\n",
              "      <th>area</th>\n",
              "      <th>bathrooms</th>\n",
              "      <th>beds</th>\n",
              "      <th>ber_classification</th>\n",
              "      <th>county</th>\n",
              "      <th>environment</th>\n",
              "      <th>facility</th>\n",
              "      <th>latitude</th>\n",
              "      <th>longitude</th>\n",
              "      <th>no_of_units</th>\n",
              "      <th>price</th>\n",
              "      <th>property_category</th>\n",
              "      <th>property_type</th>\n",
              "      <th>surface</th>\n",
              "    </tr>\n",
              "  </thead>\n",
              "  <tbody>\n",
              "    <tr>\n",
              "      <th>0</th>\n",
              "      <td>996887</td>\n",
              "      <td>Portmarnock</td>\n",
              "      <td>NaN</td>\n",
              "      <td>NaN</td>\n",
              "      <td>NaN</td>\n",
              "      <td>Dublin</td>\n",
              "      <td>prod</td>\n",
              "      <td>NaN</td>\n",
              "      <td>53.418216</td>\n",
              "      <td>-6.149329</td>\n",
              "      <td>18.0</td>\n",
              "      <td>NaN</td>\n",
              "      <td>new_development_parent</td>\n",
              "      <td>NaN</td>\n",
              "      <td>NaN</td>\n",
              "    </tr>\n",
              "    <tr>\n",
              "      <th>1</th>\n",
              "      <td>999327</td>\n",
              "      <td>Lucan</td>\n",
              "      <td>NaN</td>\n",
              "      <td>NaN</td>\n",
              "      <td>NaN</td>\n",
              "      <td>Dublin</td>\n",
              "      <td>prod</td>\n",
              "      <td>NaN</td>\n",
              "      <td>53.364917</td>\n",
              "      <td>-6.454935</td>\n",
              "      <td>3.0</td>\n",
              "      <td>NaN</td>\n",
              "      <td>new_development_parent</td>\n",
              "      <td>NaN</td>\n",
              "      <td>NaN</td>\n",
              "    </tr>\n",
              "    <tr>\n",
              "      <th>2</th>\n",
              "      <td>999559</td>\n",
              "      <td>Rathfarnham</td>\n",
              "      <td>NaN</td>\n",
              "      <td>NaN</td>\n",
              "      <td>NaN</td>\n",
              "      <td>Dublin</td>\n",
              "      <td>prod</td>\n",
              "      <td>NaN</td>\n",
              "      <td>53.273447</td>\n",
              "      <td>-6.313821</td>\n",
              "      <td>3.0</td>\n",
              "      <td>NaN</td>\n",
              "      <td>new_development_parent</td>\n",
              "      <td>NaN</td>\n",
              "      <td>NaN</td>\n",
              "    </tr>\n",
              "    <tr>\n",
              "      <th>3</th>\n",
              "      <td>9102986</td>\n",
              "      <td>Balbriggan</td>\n",
              "      <td>NaN</td>\n",
              "      <td>NaN</td>\n",
              "      <td>NaN</td>\n",
              "      <td>Dublin</td>\n",
              "      <td>prod</td>\n",
              "      <td>NaN</td>\n",
              "      <td>53.608167</td>\n",
              "      <td>-6.210914</td>\n",
              "      <td>30.0</td>\n",
              "      <td>NaN</td>\n",
              "      <td>new_development_parent</td>\n",
              "      <td>NaN</td>\n",
              "      <td>NaN</td>\n",
              "    </tr>\n",
              "    <tr>\n",
              "      <th>4</th>\n",
              "      <td>9106028</td>\n",
              "      <td>Foxrock</td>\n",
              "      <td>NaN</td>\n",
              "      <td>NaN</td>\n",
              "      <td>NaN</td>\n",
              "      <td>Dublin</td>\n",
              "      <td>prod</td>\n",
              "      <td>NaN</td>\n",
              "      <td>53.262531</td>\n",
              "      <td>-6.181527</td>\n",
              "      <td>8.0</td>\n",
              "      <td>NaN</td>\n",
              "      <td>new_development_parent</td>\n",
              "      <td>NaN</td>\n",
              "      <td>NaN</td>\n",
              "    </tr>\n",
              "  </tbody>\n",
              "</table>\n",
              "</div>"
            ],
            "text/plain": [
              "     ad_id         area  ...  property_type  surface\n",
              "0   996887  Portmarnock  ...            NaN      NaN\n",
              "1   999327        Lucan  ...            NaN      NaN\n",
              "2   999559  Rathfarnham  ...            NaN      NaN\n",
              "3  9102986   Balbriggan  ...            NaN      NaN\n",
              "4  9106028      Foxrock  ...            NaN      NaN\n",
              "\n",
              "[5 rows x 15 columns]"
            ]
          },
          "metadata": {},
          "execution_count": 153
        }
      ]
    },
    {
      "cell_type": "code",
      "metadata": {
        "colab": {
          "base_uri": "https://localhost:8080/",
          "height": 297
        },
        "id": "09bgMaUsCsqp",
        "outputId": "ccd01ee7-c41a-4ed3-d7c8-aeb749814622"
      },
      "source": [
        "train_data.describe()"
      ],
      "execution_count": 154,
      "outputs": [
        {
          "output_type": "execute_result",
          "data": {
            "text/html": [
              "<div>\n",
              "<style scoped>\n",
              "    .dataframe tbody tr th:only-of-type {\n",
              "        vertical-align: middle;\n",
              "    }\n",
              "\n",
              "    .dataframe tbody tr th {\n",
              "        vertical-align: top;\n",
              "    }\n",
              "\n",
              "    .dataframe thead th {\n",
              "        text-align: right;\n",
              "    }\n",
              "</style>\n",
              "<table border=\"1\" class=\"dataframe\">\n",
              "  <thead>\n",
              "    <tr style=\"text-align: right;\">\n",
              "      <th></th>\n",
              "      <th>ad_id</th>\n",
              "      <th>bathrooms</th>\n",
              "      <th>beds</th>\n",
              "      <th>latitude</th>\n",
              "      <th>longitude</th>\n",
              "      <th>no_of_units</th>\n",
              "      <th>price</th>\n",
              "      <th>surface</th>\n",
              "    </tr>\n",
              "  </thead>\n",
              "  <tbody>\n",
              "    <tr>\n",
              "      <th>count</th>\n",
              "      <td>2.982000e+03</td>\n",
              "      <td>2931.000000</td>\n",
              "      <td>2931.000000</td>\n",
              "      <td>2982.000000</td>\n",
              "      <td>2982.000000</td>\n",
              "      <td>59.000000</td>\n",
              "      <td>2.892000e+03</td>\n",
              "      <td>2431.000000</td>\n",
              "    </tr>\n",
              "    <tr>\n",
              "      <th>mean</th>\n",
              "      <td>1.224065e+07</td>\n",
              "      <td>1.998635</td>\n",
              "      <td>2.979188</td>\n",
              "      <td>53.355991</td>\n",
              "      <td>-6.257175</td>\n",
              "      <td>7.440678</td>\n",
              "      <td>5.323536e+05</td>\n",
              "      <td>318.851787</td>\n",
              "    </tr>\n",
              "    <tr>\n",
              "      <th>std</th>\n",
              "      <td>5.793037e+05</td>\n",
              "      <td>1.291875</td>\n",
              "      <td>1.468408</td>\n",
              "      <td>0.086748</td>\n",
              "      <td>0.141906</td>\n",
              "      <td>8.937081</td>\n",
              "      <td>5.678148e+05</td>\n",
              "      <td>4389.423136</td>\n",
              "    </tr>\n",
              "    <tr>\n",
              "      <th>min</th>\n",
              "      <td>9.968870e+05</td>\n",
              "      <td>0.000000</td>\n",
              "      <td>0.000000</td>\n",
              "      <td>51.458439</td>\n",
              "      <td>-6.521183</td>\n",
              "      <td>0.000000</td>\n",
              "      <td>1.999500e+04</td>\n",
              "      <td>3.400000</td>\n",
              "    </tr>\n",
              "    <tr>\n",
              "      <th>25%</th>\n",
              "      <td>1.226813e+07</td>\n",
              "      <td>1.000000</td>\n",
              "      <td>2.000000</td>\n",
              "      <td>53.298929</td>\n",
              "      <td>-6.314064</td>\n",
              "      <td>2.000000</td>\n",
              "      <td>2.800000e+05</td>\n",
              "      <td>74.100000</td>\n",
              "    </tr>\n",
              "    <tr>\n",
              "      <th>50%</th>\n",
              "      <td>1.237758e+07</td>\n",
              "      <td>2.000000</td>\n",
              "      <td>3.000000</td>\n",
              "      <td>53.345497</td>\n",
              "      <td>-6.252254</td>\n",
              "      <td>3.000000</td>\n",
              "      <td>3.800000e+05</td>\n",
              "      <td>100.000000</td>\n",
              "    </tr>\n",
              "    <tr>\n",
              "      <th>75%</th>\n",
              "      <td>1.240294e+07</td>\n",
              "      <td>3.000000</td>\n",
              "      <td>4.000000</td>\n",
              "      <td>53.388845</td>\n",
              "      <td>-6.196049</td>\n",
              "      <td>8.000000</td>\n",
              "      <td>5.750000e+05</td>\n",
              "      <td>142.000000</td>\n",
              "    </tr>\n",
              "    <tr>\n",
              "      <th>max</th>\n",
              "      <td>1.242836e+07</td>\n",
              "      <td>18.000000</td>\n",
              "      <td>27.000000</td>\n",
              "      <td>53.630588</td>\n",
              "      <td>-1.744995</td>\n",
              "      <td>36.000000</td>\n",
              "      <td>9.995000e+06</td>\n",
              "      <td>182108.539008</td>\n",
              "    </tr>\n",
              "  </tbody>\n",
              "</table>\n",
              "</div>"
            ],
            "text/plain": [
              "              ad_id    bathrooms  ...         price        surface\n",
              "count  2.982000e+03  2931.000000  ...  2.892000e+03    2431.000000\n",
              "mean   1.224065e+07     1.998635  ...  5.323536e+05     318.851787\n",
              "std    5.793037e+05     1.291875  ...  5.678148e+05    4389.423136\n",
              "min    9.968870e+05     0.000000  ...  1.999500e+04       3.400000\n",
              "25%    1.226813e+07     1.000000  ...  2.800000e+05      74.100000\n",
              "50%    1.237758e+07     2.000000  ...  3.800000e+05     100.000000\n",
              "75%    1.240294e+07     3.000000  ...  5.750000e+05     142.000000\n",
              "max    1.242836e+07    18.000000  ...  9.995000e+06  182108.539008\n",
              "\n",
              "[8 rows x 8 columns]"
            ]
          },
          "metadata": {},
          "execution_count": 154
        }
      ]
    },
    {
      "cell_type": "markdown",
      "metadata": {
        "id": "Zcbw7l3gEsWf"
      },
      "source": [
        "#### Analysis of results\n",
        "The above table provides a lot of information for data preparation:\n",
        "\n",
        "1. **count** is the count of non-NaN values and tells us if there are missing values. We can see a number of the above features have missing values and need further analysis.\n",
        "\n",
        "2. **min** and **max** show different ranges and as such need to be scaled to the same range. We will do this as part of Data Preparations.\n"
      ]
    },
    {
      "cell_type": "code",
      "metadata": {
        "colab": {
          "base_uri": "https://localhost:8080/"
        },
        "id": "OmqjJo-oGJXv",
        "outputId": "15ee87d8-6468-4941-dfb8-c61ecf3ebab1"
      },
      "source": [
        "# Check % of missing values in each feature\n",
        "\n",
        "train_missing = train_data.isnull().sum()*100/len(train_data)\n",
        "print(train_missing)"
      ],
      "execution_count": 155,
      "outputs": [
        {
          "output_type": "stream",
          "name": "stdout",
          "text": [
            "ad_id                  0.000000\n",
            "area                   0.000000\n",
            "bathrooms              1.710262\n",
            "beds                   1.710262\n",
            "ber_classification    22.702884\n",
            "county                 0.000000\n",
            "environment            0.000000\n",
            "facility              67.639168\n",
            "latitude               0.000000\n",
            "longitude              0.000000\n",
            "no_of_units           98.021462\n",
            "price                  3.018109\n",
            "property_category      0.000000\n",
            "property_type          1.710262\n",
            "surface               18.477532\n",
            "dtype: float64\n"
          ]
        }
      ]
    },
    {
      "cell_type": "code",
      "metadata": {
        "colab": {
          "base_uri": "https://localhost:8080/"
        },
        "id": "eCVUqPY-cw9X",
        "outputId": "fbde4e76-7d84-4f07-e9ab-4791de769423"
      },
      "source": [
        "# Let's check for uniqueness in the columns as it seems some columns have only one unique value\n",
        "\n",
        "print(\"Unique values in 'county':\", train_data.county.unique())\n",
        "print(\"Unique values in 'environment':\", train_data.environment.unique())"
      ],
      "execution_count": 156,
      "outputs": [
        {
          "output_type": "stream",
          "name": "stdout",
          "text": [
            "Unique values in 'county': ['Dublin']\n",
            "Unique values in 'environment': ['prod']\n"
          ]
        }
      ]
    },
    {
      "cell_type": "markdown",
      "metadata": {
        "id": "zwG7VKePer29"
      },
      "source": [
        "Both of these columns have only one value in them and as such we will also remove these."
      ]
    },
    {
      "cell_type": "markdown",
      "metadata": {
        "id": "uWtyJcLiH5wZ"
      },
      "source": [
        "#### Analysis of results\n",
        "The above provides some insight into features that can be dropped. Features that are almost empty can be dropped and features with significant number of missing values can also be dropped. \n",
        "**List of features to drop**\n",
        "1. \"ber_classification\"\n",
        "2. \"facilities\"\n",
        "3. \"no_of_units\"\n",
        "4. 'surface'\n",
        "\n",
        "Plus the following clumns with only one unique value.\n",
        "5. 'county'\n",
        "6. 'environment'\n",
        "\n",
        "The 'ad_id' is an identifier and, as we will see below in the correlation map, it is not relevant for training to predict a price. It also will be removed from the training set."
      ]
    },
    {
      "cell_type": "code",
      "metadata": {
        "id": "-9_xx9WqSAGw"
      },
      "source": [
        "# Drop columns where there is significant missing data\n",
        "\n",
        "train_data.drop(['ad_id','ber_classification', 'facility', 'no_of_units', 'surface', 'county', 'environment'], axis=1, inplace=True)\n"
      ],
      "execution_count": 303,
      "outputs": []
    },
    {
      "cell_type": "code",
      "metadata": {
        "colab": {
          "base_uri": "https://localhost:8080/"
        },
        "id": "7QOwb6LcS8Xw",
        "outputId": "17b9c055-068c-4c73-c765-8bcfec4b368c"
      },
      "source": [
        "# List columns again\n",
        "train_missing = train_data.isnull().sum()*100/len(train_data)\n",
        "print(train_missing)"
      ],
      "execution_count": 304,
      "outputs": [
        {
          "output_type": "stream",
          "name": "stdout",
          "text": [
            "area                 0.000000\n",
            "bathrooms            1.710262\n",
            "beds                 1.710262\n",
            "latitude             0.000000\n",
            "longitude            0.000000\n",
            "price                3.018109\n",
            "property_category    0.000000\n",
            "property_type        1.710262\n",
            "dtype: float64\n"
          ]
        }
      ]
    },
    {
      "cell_type": "markdown",
      "metadata": {
        "id": "4VmUU1jXS-a2"
      },
      "source": [
        "The columns now left are in good shape except for a few that have a small percentage of missing vales. Because the % missing is small, we will just remove these rows before further processing."
      ]
    },
    {
      "cell_type": "code",
      "metadata": {
        "id": "s65vCnEqS1VB"
      },
      "source": [
        "# Remove full row instances where there are missing values\n",
        "\n",
        "df_train = train_data.dropna()"
      ],
      "execution_count": 305,
      "outputs": []
    },
    {
      "cell_type": "code",
      "metadata": {
        "id": "I76myX-G9bSR"
      },
      "source": [
        "# Let's look at features that may have nonsense values\n",
        "\n",
        "# Remove instances where 'bedrooms' or 'bathrooms' is zero\n",
        "\n",
        "df_train = df_train.drop(df_train[(df_train.bathrooms==0) | (df_train.beds==0)].index)"
      ],
      "execution_count": 306,
      "outputs": []
    },
    {
      "cell_type": "code",
      "metadata": {
        "colab": {
          "base_uri": "https://localhost:8080/",
          "height": 111
        },
        "id": "-M3ZdCueHFNu",
        "outputId": "f6e5a22c-9477-423d-8163-8149f86ae76e"
      },
      "source": [
        "# Look at values of 'longitude' and 'latitude' that do not make sense, i.e. outliers\n",
        "\n",
        "outliers = df_train[(df_train.longitude > -6) | (df_train.latitude < 53)]\n",
        "\n",
        "outliers.head()"
      ],
      "execution_count": 307,
      "outputs": [
        {
          "output_type": "execute_result",
          "data": {
            "text/html": [
              "<div>\n",
              "<style scoped>\n",
              "    .dataframe tbody tr th:only-of-type {\n",
              "        vertical-align: middle;\n",
              "    }\n",
              "\n",
              "    .dataframe tbody tr th {\n",
              "        vertical-align: top;\n",
              "    }\n",
              "\n",
              "    .dataframe thead th {\n",
              "        text-align: right;\n",
              "    }\n",
              "</style>\n",
              "<table border=\"1\" class=\"dataframe\">\n",
              "  <thead>\n",
              "    <tr style=\"text-align: right;\">\n",
              "      <th></th>\n",
              "      <th>area</th>\n",
              "      <th>bathrooms</th>\n",
              "      <th>beds</th>\n",
              "      <th>latitude</th>\n",
              "      <th>longitude</th>\n",
              "      <th>price</th>\n",
              "      <th>property_category</th>\n",
              "      <th>property_type</th>\n",
              "    </tr>\n",
              "  </thead>\n",
              "  <tbody>\n",
              "    <tr>\n",
              "      <th>767</th>\n",
              "      <td>Clondalkin</td>\n",
              "      <td>1.0</td>\n",
              "      <td>3.0</td>\n",
              "      <td>52.501856</td>\n",
              "      <td>-1.744995</td>\n",
              "      <td>199000.0</td>\n",
              "      <td>sale</td>\n",
              "      <td>semi-detached</td>\n",
              "    </tr>\n",
              "    <tr>\n",
              "      <th>861</th>\n",
              "      <td>Glenageary</td>\n",
              "      <td>2.0</td>\n",
              "      <td>4.0</td>\n",
              "      <td>51.458439</td>\n",
              "      <td>-2.496219</td>\n",
              "      <td>795000.0</td>\n",
              "      <td>sale</td>\n",
              "      <td>semi-detached</td>\n",
              "    </tr>\n",
              "  </tbody>\n",
              "</table>\n",
              "</div>"
            ],
            "text/plain": [
              "           area  bathrooms  beds  ...     price  property_category  property_type\n",
              "767  Clondalkin        1.0   3.0  ...  199000.0               sale  semi-detached\n",
              "861  Glenageary        2.0   4.0  ...  795000.0               sale  semi-detached\n",
              "\n",
              "[2 rows x 8 columns]"
            ]
          },
          "metadata": {},
          "execution_count": 307
        }
      ]
    },
    {
      "cell_type": "markdown",
      "metadata": {
        "id": "KM7X7tcrH84A"
      },
      "source": [
        "#### **Comment**\n",
        "The locations with these coordinates are not in the areas indicated.\n",
        "The Clondalkin location has coordinates for Birmingham.\n",
        "The Glenageary location has coordinates for Bristol.\n",
        "\n",
        "We will remove these two ouliers."
      ]
    },
    {
      "cell_type": "code",
      "metadata": {
        "id": "eL-5YoJcIUNf"
      },
      "source": [
        "df_train = df_train.drop(df_train[(df_train.longitude > -6) | (df_train.latitude < 53)].index)"
      ],
      "execution_count": 308,
      "outputs": []
    },
    {
      "cell_type": "code",
      "metadata": {
        "colab": {
          "base_uri": "https://localhost:8080/"
        },
        "id": "3MGWQVh1Ub8c",
        "outputId": "8c628d0d-e203-4a82-8b0b-42e0df006077"
      },
      "source": [
        "# Let's see how many training instances are left after clean up\n",
        "\n",
        "print(\"Number of training instances remaining: \", df_train.shape)\n",
        "\n",
        "train_missing = df_train.isnull().sum()*100/len(df_train)\n",
        "print(train_missing)"
      ],
      "execution_count": 309,
      "outputs": [
        {
          "output_type": "stream",
          "name": "stdout",
          "text": [
            "Number of training instances remaining:  (2826, 8)\n",
            "area                 0.0\n",
            "bathrooms            0.0\n",
            "beds                 0.0\n",
            "latitude             0.0\n",
            "longitude            0.0\n",
            "price                0.0\n",
            "property_category    0.0\n",
            "property_type        0.0\n",
            "dtype: float64\n"
          ]
        }
      ]
    },
    {
      "cell_type": "markdown",
      "metadata": {
        "id": "xlWM1aobWHua"
      },
      "source": [
        "#### Comments\n",
        "From above we have removed columns and rows to improve the quality of the data set. We have \n",
        "\n",
        "1. Reduced the number of columns from 16 to 8\n",
        "2. We have reduced the number of records/instances from 2982 to 2826.\n",
        "\n",
        "The reduction in number of data instances is small and is unlikely to affect the outcome. Reducing the number of columns is a good start."
      ]
    },
    {
      "cell_type": "code",
      "metadata": {
        "colab": {
          "base_uri": "https://localhost:8080/",
          "height": 287
        },
        "id": "Svo2xbDXYT2l",
        "outputId": "6804a4bb-bc8c-490a-c14c-81ef514889ae"
      },
      "source": [
        "# Let's look at any correlations between numeric values in the df_train data\n",
        "\n",
        "sb.heatmap(df_train.corr(), annot=True)"
      ],
      "execution_count": 164,
      "outputs": [
        {
          "output_type": "execute_result",
          "data": {
            "text/plain": [
              "<matplotlib.axes._subplots.AxesSubplot at 0x7fa08f07c310>"
            ]
          },
          "metadata": {},
          "execution_count": 164
        },
        {
          "output_type": "display_data",
          "data": {
            "image/png": "[encoded data removed]",
            "text/plain": [
              "<Figure size 432x288 with 2 Axes>"
            ]
          },
          "metadata": {
            "needs_background": "light"
          }
        }
      ]
    },
    {
      "cell_type": "code",
      "metadata": {
        "colab": {
          "base_uri": "https://localhost:8080/",
          "height": 920
        },
        "id": "7LgcRrMgh7aZ",
        "outputId": "f7d1a304-f58c-4cce-dac0-08592f09ccc7"
      },
      "source": [
        "# Let's take a closer look at som eof these correlations\n",
        "\n",
        "sb.pairplot(data=df_train[['beds','bathrooms', 'latitude', 'longitude', 'price']])"
      ],
      "execution_count": 52,
      "outputs": [
        {
          "output_type": "execute_result",
          "data": {
            "text/plain": [
              "<seaborn.axisgrid.PairGrid at 0x7fa0b0c86f10>"
            ]
          },
          "metadata": {},
          "execution_count": 52
        },
        {
          "output_type": "display_data",
          "data": {
            "image/png": "[encoded data removed]",
            "text/plain": [
              "<Figure size 900x900 with 30 Axes>"
            ]
          },
          "metadata": {
            "needs_background": "light"
          }
        }
      ]
    },
    {
      "cell_type": "markdown",
      "metadata": {
        "id": "cFwdFxHGYso2"
      },
      "source": [
        "#### Comments\n",
        "We can see a positive correlation between the 'price' and 'bathrooms' and 'beds'. These are clearly important for price.\n",
        "\n",
        "It is interesting to see that the latitude seems to have a slight negative impact on price and the longitude has a slightly positive impact (from Heatmap). This can be attributed to the dynamics of Dublin prices impacted by location, i.e. there is a distinct cultural driver in North/West versus South Dublin prices.\n",
        "\n",
        "We will extact 'price' as our target (y) value for the model training."
      ]
    },
    {
      "cell_type": "markdown",
      "metadata": {
        "id": "rB-1sjWfSW3b"
      },
      "source": [
        "### Analysis of Training Data - dealing with categorical values"
      ]
    },
    {
      "cell_type": "code",
      "metadata": {
        "id": "Fbj7YJ-ojHWO"
      },
      "source": [
        "# Let's deal with Categorical data\n",
        "\n",
        "# Feature map 'area' first\n",
        "unique_areas = df_train['area'].unique() # create a list of unique areas\n",
        "unique_areas_list = np.append(unique_areas, \"Kilbarrack\")\n",
        "unique_areas_index = []\n",
        "\n",
        "# Create a dictionary lookup with Area Name: index pairs for lookup\n",
        "i = [i+1 for i in range(len(unique_areas_list))]\n",
        "unique_areas_index = dict(zip(unique_areas_list, i))\n",
        "\n",
        "# Replace area name with the index from the 'unique_areas_index' dictionary \n",
        "df_train_1 = df_train.replace({'area': unique_areas_index})\n",
        "\n",
        "# Do the same with 'property_type' - there are 12 values here so one-hot-encoding may be a good option here - reduces need for scaling\n",
        "df_train_1 = pd.get_dummies(df_train_1, columns=['property_type'])\n",
        "\n",
        "# We are going to map 'property_category' to binary values: it only have two values, it could be one-hot-encoded but it doesn't matter if values are 0,1\n",
        "mapper_prop_category = {\"new_development_parent\": 0, \"sale\": 1}\n",
        "df_train_1['property_category'] = df_train_1['property_category'].replace(mapper_prop_category)\n"
      ],
      "execution_count": 310,
      "outputs": []
    },
    {
      "cell_type": "code",
      "metadata": {
        "colab": {
          "base_uri": "https://localhost:8080/",
          "height": 241
        },
        "id": "tzPPcB5YQAvE",
        "outputId": "699b4bab-fb94-4a5c-eb5a-7c21f11395aa"
      },
      "source": [
        "df_train = df_train_1.copy()\n",
        "df_train.head()"
      ],
      "execution_count": 311,
      "outputs": [
        {
          "output_type": "execute_result",
          "data": {
            "text/html": [
              "<div>\n",
              "<style scoped>\n",
              "    .dataframe tbody tr th:only-of-type {\n",
              "        vertical-align: middle;\n",
              "    }\n",
              "\n",
              "    .dataframe tbody tr th {\n",
              "        vertical-align: top;\n",
              "    }\n",
              "\n",
              "    .dataframe thead th {\n",
              "        text-align: right;\n",
              "    }\n",
              "</style>\n",
              "<table border=\"1\" class=\"dataframe\">\n",
              "  <thead>\n",
              "    <tr style=\"text-align: right;\">\n",
              "      <th></th>\n",
              "      <th>area</th>\n",
              "      <th>bathrooms</th>\n",
              "      <th>beds</th>\n",
              "      <th>latitude</th>\n",
              "      <th>longitude</th>\n",
              "      <th>price</th>\n",
              "      <th>property_category</th>\n",
              "      <th>property_type_apartment</th>\n",
              "      <th>property_type_bungalow</th>\n",
              "      <th>property_type_detached</th>\n",
              "      <th>property_type_duplex</th>\n",
              "      <th>property_type_end-of-terrace</th>\n",
              "      <th>property_type_semi-detached</th>\n",
              "      <th>property_type_site</th>\n",
              "      <th>property_type_studio</th>\n",
              "      <th>property_type_terraced</th>\n",
              "      <th>property_type_townhouse</th>\n",
              "    </tr>\n",
              "  </thead>\n",
              "  <tbody>\n",
              "    <tr>\n",
              "      <th>15</th>\n",
              "      <td>1</td>\n",
              "      <td>3.0</td>\n",
              "      <td>5.0</td>\n",
              "      <td>53.400454</td>\n",
              "      <td>-6.445730</td>\n",
              "      <td>935000.0</td>\n",
              "      <td>0</td>\n",
              "      <td>0</td>\n",
              "      <td>0</td>\n",
              "      <td>1</td>\n",
              "      <td>0</td>\n",
              "      <td>0</td>\n",
              "      <td>0</td>\n",
              "      <td>0</td>\n",
              "      <td>0</td>\n",
              "      <td>0</td>\n",
              "      <td>0</td>\n",
              "    </tr>\n",
              "    <tr>\n",
              "      <th>26</th>\n",
              "      <td>2</td>\n",
              "      <td>4.0</td>\n",
              "      <td>4.0</td>\n",
              "      <td>53.316410</td>\n",
              "      <td>-6.385214</td>\n",
              "      <td>485000.0</td>\n",
              "      <td>0</td>\n",
              "      <td>0</td>\n",
              "      <td>0</td>\n",
              "      <td>0</td>\n",
              "      <td>0</td>\n",
              "      <td>0</td>\n",
              "      <td>1</td>\n",
              "      <td>0</td>\n",
              "      <td>0</td>\n",
              "      <td>0</td>\n",
              "      <td>0</td>\n",
              "    </tr>\n",
              "    <tr>\n",
              "      <th>27</th>\n",
              "      <td>1</td>\n",
              "      <td>3.0</td>\n",
              "      <td>5.0</td>\n",
              "      <td>53.401414</td>\n",
              "      <td>-6.446634</td>\n",
              "      <td>935000.0</td>\n",
              "      <td>0</td>\n",
              "      <td>0</td>\n",
              "      <td>0</td>\n",
              "      <td>1</td>\n",
              "      <td>0</td>\n",
              "      <td>0</td>\n",
              "      <td>0</td>\n",
              "      <td>0</td>\n",
              "      <td>0</td>\n",
              "      <td>0</td>\n",
              "      <td>0</td>\n",
              "    </tr>\n",
              "    <tr>\n",
              "      <th>35</th>\n",
              "      <td>3</td>\n",
              "      <td>5.0</td>\n",
              "      <td>5.0</td>\n",
              "      <td>53.375377</td>\n",
              "      <td>-6.056749</td>\n",
              "      <td>1475000.0</td>\n",
              "      <td>0</td>\n",
              "      <td>0</td>\n",
              "      <td>0</td>\n",
              "      <td>1</td>\n",
              "      <td>0</td>\n",
              "      <td>0</td>\n",
              "      <td>0</td>\n",
              "      <td>0</td>\n",
              "      <td>0</td>\n",
              "      <td>0</td>\n",
              "      <td>0</td>\n",
              "    </tr>\n",
              "    <tr>\n",
              "      <th>38</th>\n",
              "      <td>4</td>\n",
              "      <td>2.0</td>\n",
              "      <td>2.0</td>\n",
              "      <td>53.372130</td>\n",
              "      <td>-6.338466</td>\n",
              "      <td>410000.0</td>\n",
              "      <td>0</td>\n",
              "      <td>1</td>\n",
              "      <td>0</td>\n",
              "      <td>0</td>\n",
              "      <td>0</td>\n",
              "      <td>0</td>\n",
              "      <td>0</td>\n",
              "      <td>0</td>\n",
              "      <td>0</td>\n",
              "      <td>0</td>\n",
              "      <td>0</td>\n",
              "    </tr>\n",
              "  </tbody>\n",
              "</table>\n",
              "</div>"
            ],
            "text/plain": [
              "    area  bathrooms  ...  property_type_terraced  property_type_townhouse\n",
              "15     1        3.0  ...                       0                        0\n",
              "26     2        4.0  ...                       0                        0\n",
              "27     1        3.0  ...                       0                        0\n",
              "35     3        5.0  ...                       0                        0\n",
              "38     4        2.0  ...                       0                        0\n",
              "\n",
              "[5 rows x 17 columns]"
            ]
          },
          "metadata": {},
          "execution_count": 311
        }
      ]
    },
    {
      "cell_type": "markdown",
      "metadata": {
        "id": "U2isyzdUXD61"
      },
      "source": [
        "### Feature distribution and scaling\n"
      ]
    },
    {
      "cell_type": "code",
      "metadata": {
        "colab": {
          "base_uri": "https://localhost:8080/",
          "height": 951
        },
        "id": "HXp_D5nDjPyM",
        "outputId": "fa21a3bc-9b4f-49df-c415-80872adb6814"
      },
      "source": [
        "# Let's look at feature distributions and scaling\n",
        "\n",
        "# First we will look at the distribution of key predictor features\n",
        "\n",
        "fig = plt.figure(figsize=(12, 16))\n",
        "\n",
        "ax1 = fig.add_subplot(5, 2, 1)\n",
        "ax1.set_title(\"Plot of 'area'\")\n",
        "df_train.boxplot(column=['area'])\n",
        "\n",
        "ax2 = fig.add_subplot(5, 2, 2)\n",
        "ax2.set_title(\"Histogram of 'area'\")\n",
        "df_train['area'].hist(bins=20)\n",
        "\n",
        "ax3 = fig.add_subplot(5, 2, 3)\n",
        "ax3.set_title(\"Plot of 'bathrooms'\")\n",
        "df_train.boxplot(column=['bathrooms'])\n",
        "\n",
        "ax4 = fig.add_subplot(5, 2, 4)\n",
        "ax4.set_title(\"Histogram of 'bathrooms'\")\n",
        "df_train['bathrooms'].hist(bins=20)\n",
        "\n",
        "ax5 = fig.add_subplot(5, 2, 5)\n",
        "ax5.set_title(\"Plot of 'beds'\")\n",
        "df_train.boxplot(column=['beds'])\n",
        "\n",
        "ax6 = fig.add_subplot(5, 2, 6)\n",
        "ax6.set_title(\"Histogram of 'beds'\")\n",
        "df_train['beds'].hist(bins=20)\n",
        "\n",
        "ax7 = fig.add_subplot(5, 2, 7)\n",
        "ax7.set_title(\"Plot of 'latitude'\")\n",
        "df_train.boxplot(column=['latitude'])\n",
        "\n",
        "ax8 = fig.add_subplot(5, 2, 8)\n",
        "ax8.set_title(\"Histogram of 'latitude'\")\n",
        "df_train['latitude'].hist(bins=20)\n",
        "\n",
        "ax9 = fig.add_subplot(5, 2, 9)\n",
        "ax9.set_title(\"Plot of 'longitude'\")\n",
        "df_train.boxplot(column=['longitude'])\n",
        "\n",
        "ax10 = fig.add_subplot(5, 2, 10)\n",
        "ax10.set_title(\"Histogram of 'logitude'\")\n",
        "df_train['longitude'].hist(bins=20)\n"
      ],
      "execution_count": 285,
      "outputs": [
        {
          "output_type": "execute_result",
          "data": {
            "text/plain": [
              "<matplotlib.axes._subplots.AxesSubplot at 0x7fa0a1de5a90>"
            ]
          },
          "metadata": {},
          "execution_count": 285
        },
        {
          "output_type": "display_data",
          "data": {
            "image/png": "[encoded data removed]",
            "text/plain": [
              "<Figure size 864x1152 with 10 Axes>"
            ]
          },
          "metadata": {
            "needs_background": "light"
          }
        }
      ]
    },
    {
      "cell_type": "markdown",
      "metadata": {
        "id": "b9X4bgdeaCB1"
      },
      "source": [
        "### Analysis of distributions and outliers\n",
        "The above plots indicate outliers (boxplots) and distributions (histograms) of features. The shapes determine the approach to scaling and outlier handling as follows:\n",
        "\n",
        "**area** is not Gaussian and can be scaled using a power transform such as Yeo-Johnson to make it more Gaussian-like\n",
        "\n",
        "**bathrooms** and **beds** have relatively significant outliers and should be treated with the Log Transform\n",
        "\n",
        "**latitude** and **longitude** have outliers but can be treated with the Standard Scaler.\n",
        "\n",
        "We will apply these treatments next."
      ]
    },
    {
      "cell_type": "code",
      "metadata": {
        "id": "EFjKBMNJkYOn"
      },
      "source": [
        "# Apply scalers for distribution and outlier handling\n",
        "\n",
        "# Scaling 'area' with Box-Cox to rescale from left skewed to more normal distribution (perfect for non-negative values)\n",
        "from sklearn.preprocessing import PowerTransformer\n",
        "\n",
        "bc_scaler = PowerTransformer(method='box-cox')\n",
        "df_train[['area']] = bc_scaler.fit_transform(df_train[['area']])\n",
        "\n",
        "# Scaling 'bathrooms' and 'beds'\n",
        "df_train['bathrooms'] = np.log(df_train['bathrooms'])\n",
        "df_train['beds'] = np.log(df_train['beds'])\n",
        "\n",
        "# Scaling 'latitude' and 'longitude'\n",
        "\n",
        "standard_scaler = StandardScaler()\n",
        "\n",
        "df_train[['latitude', 'longitude']] = standard_scaler.fit_transform(df_train[['latitude', 'longitude']])\n"
      ],
      "execution_count": 312,
      "outputs": []
    },
    {
      "cell_type": "code",
      "metadata": {
        "colab": {
          "base_uri": "https://localhost:8080/",
          "height": 241
        },
        "id": "8dTHTaNpZyGZ",
        "outputId": "eb15bd7d-bf5c-487b-aff7-3c928bf6cee0"
      },
      "source": [
        "df_train.head()"
      ],
      "execution_count": 313,
      "outputs": [
        {
          "output_type": "execute_result",
          "data": {
            "text/html": [
              "<div>\n",
              "<style scoped>\n",
              "    .dataframe tbody tr th:only-of-type {\n",
              "        vertical-align: middle;\n",
              "    }\n",
              "\n",
              "    .dataframe tbody tr th {\n",
              "        vertical-align: top;\n",
              "    }\n",
              "\n",
              "    .dataframe thead th {\n",
              "        text-align: right;\n",
              "    }\n",
              "</style>\n",
              "<table border=\"1\" class=\"dataframe\">\n",
              "  <thead>\n",
              "    <tr style=\"text-align: right;\">\n",
              "      <th></th>\n",
              "      <th>area</th>\n",
              "      <th>bathrooms</th>\n",
              "      <th>beds</th>\n",
              "      <th>latitude</th>\n",
              "      <th>longitude</th>\n",
              "      <th>price</th>\n",
              "      <th>property_category</th>\n",
              "      <th>property_type_apartment</th>\n",
              "      <th>property_type_bungalow</th>\n",
              "      <th>property_type_detached</th>\n",
              "      <th>property_type_duplex</th>\n",
              "      <th>property_type_end-of-terrace</th>\n",
              "      <th>property_type_semi-detached</th>\n",
              "      <th>property_type_site</th>\n",
              "      <th>property_type_studio</th>\n",
              "      <th>property_type_terraced</th>\n",
              "      <th>property_type_townhouse</th>\n",
              "    </tr>\n",
              "  </thead>\n",
              "  <tbody>\n",
              "    <tr>\n",
              "      <th>15</th>\n",
              "      <td>-2.148164</td>\n",
              "      <td>1.098612</td>\n",
              "      <td>1.609438</td>\n",
              "      <td>0.577429</td>\n",
              "      <td>-2.012990</td>\n",
              "      <td>935000.0</td>\n",
              "      <td>0</td>\n",
              "      <td>0</td>\n",
              "      <td>0</td>\n",
              "      <td>1</td>\n",
              "      <td>0</td>\n",
              "      <td>0</td>\n",
              "      <td>0</td>\n",
              "      <td>0</td>\n",
              "      <td>0</td>\n",
              "      <td>0</td>\n",
              "      <td>0</td>\n",
              "    </tr>\n",
              "    <tr>\n",
              "      <th>26</th>\n",
              "      <td>-1.906751</td>\n",
              "      <td>1.386294</td>\n",
              "      <td>1.386294</td>\n",
              "      <td>-0.517530</td>\n",
              "      <td>-1.354206</td>\n",
              "      <td>485000.0</td>\n",
              "      <td>0</td>\n",
              "      <td>0</td>\n",
              "      <td>0</td>\n",
              "      <td>0</td>\n",
              "      <td>0</td>\n",
              "      <td>0</td>\n",
              "      <td>1</td>\n",
              "      <td>0</td>\n",
              "      <td>0</td>\n",
              "      <td>0</td>\n",
              "      <td>0</td>\n",
              "    </tr>\n",
              "    <tr>\n",
              "      <th>27</th>\n",
              "      <td>-2.148164</td>\n",
              "      <td>1.098612</td>\n",
              "      <td>1.609438</td>\n",
              "      <td>0.589936</td>\n",
              "      <td>-2.022832</td>\n",
              "      <td>935000.0</td>\n",
              "      <td>0</td>\n",
              "      <td>0</td>\n",
              "      <td>0</td>\n",
              "      <td>1</td>\n",
              "      <td>0</td>\n",
              "      <td>0</td>\n",
              "      <td>0</td>\n",
              "      <td>0</td>\n",
              "      <td>0</td>\n",
              "      <td>0</td>\n",
              "      <td>0</td>\n",
              "    </tr>\n",
              "    <tr>\n",
              "      <th>35</th>\n",
              "      <td>-1.737305</td>\n",
              "      <td>1.609438</td>\n",
              "      <td>1.609438</td>\n",
              "      <td>0.250714</td>\n",
              "      <td>2.221459</td>\n",
              "      <td>1475000.0</td>\n",
              "      <td>0</td>\n",
              "      <td>0</td>\n",
              "      <td>0</td>\n",
              "      <td>1</td>\n",
              "      <td>0</td>\n",
              "      <td>0</td>\n",
              "      <td>0</td>\n",
              "      <td>0</td>\n",
              "      <td>0</td>\n",
              "      <td>0</td>\n",
              "      <td>0</td>\n",
              "    </tr>\n",
              "    <tr>\n",
              "      <th>38</th>\n",
              "      <td>-1.602360</td>\n",
              "      <td>0.693147</td>\n",
              "      <td>0.693147</td>\n",
              "      <td>0.208411</td>\n",
              "      <td>-0.845311</td>\n",
              "      <td>410000.0</td>\n",
              "      <td>0</td>\n",
              "      <td>1</td>\n",
              "      <td>0</td>\n",
              "      <td>0</td>\n",
              "      <td>0</td>\n",
              "      <td>0</td>\n",
              "      <td>0</td>\n",
              "      <td>0</td>\n",
              "      <td>0</td>\n",
              "      <td>0</td>\n",
              "      <td>0</td>\n",
              "    </tr>\n",
              "  </tbody>\n",
              "</table>\n",
              "</div>"
            ],
            "text/plain": [
              "        area  bathrooms  ...  property_type_terraced  property_type_townhouse\n",
              "15 -2.148164   1.098612  ...                       0                        0\n",
              "26 -1.906751   1.386294  ...                       0                        0\n",
              "27 -2.148164   1.098612  ...                       0                        0\n",
              "35 -1.737305   1.609438  ...                       0                        0\n",
              "38 -1.602360   0.693147  ...                       0                        0\n",
              "\n",
              "[5 rows x 17 columns]"
            ]
          },
          "metadata": {},
          "execution_count": 313
        }
      ]
    },
    {
      "cell_type": "markdown",
      "metadata": {
        "id": "gMRk2LnNRibe"
      },
      "source": [
        "#### Comments\n",
        "The above data is now processed to ensure all predictor features are scaled them same."
      ]
    },
    {
      "cell_type": "code",
      "metadata": {
        "id": "bLAwszXoTpUk"
      },
      "source": [
        "# Apply all preprocessing to the test dataset\n",
        "\n",
        "# Drop irrelevant columns from test dataset\n",
        "test_data.drop(['ad_id','ber_classification', 'facility', 'no_of_units', 'surface', 'county', 'environment'], axis=1, inplace=True)\n",
        "\n",
        "# Drop samples/instances with null values\n",
        "df_test = test_data.dropna()\n",
        "\n",
        "# Remove samples/instances with zero values in 'bathrooms' and 'beds'\n",
        "df_test = df_test.drop(df_test[(df_test.bathrooms==0) | (df_test.beds==0)].index)\n",
        "\n",
        "# Remove samples/instances where the coordinates are not correct\n",
        "df_test = df_test.drop(df_test[(df_test.longitude > -6) | (df_test.latitude < 53)].index)\n",
        "\n",
        "# Replace area name with the index from the 'unique_areas_index' dictionary y\n",
        "df_test_1 = df_test.replace({'area': unique_areas_index})\n",
        "\n",
        "# Do the same with 'property_type' - there are 12 values here so one-hot-encoding may be a good option here - reduces need for scaling\n",
        "df_test_1 = pd.get_dummies(df_test_1, columns=['property_type'])\n",
        "\n",
        "# We are going to map 'property_category' to binary values: it only have two values, it could be one-hot-encoded but it doesn't matter if values are 0,1\n",
        "mapper_prop_category = {\"new_development_parent\": 0, \"sale\": 1}\n",
        "df_test_1['property_category'] = df_test_1['property_category'].replace(mapper_prop_category)\n",
        "\n",
        "df_test = df_test_1.copy()\n",
        "\n",
        "# Scaling 'area' with Box-Cox to rescale from left skewed to more normal distribution (perfect for non-negative values)\n",
        "bc_scaler = PowerTransformer(method='box-cox')\n",
        "df_test[['area']] = bc_scaler.fit_transform(df_test[['area']])\n",
        "\n",
        "# Scaling 'bathrooms' and 'beds'\n",
        "df_test['bathrooms'] = np.log(df_test['bathrooms'])\n",
        "df_test['beds'] = np.log(df_test['beds'])\n",
        "\n",
        "# Scaling 'latitude' and 'longitude'\n",
        "standard_scaler = StandardScaler()\n",
        "\n",
        "df_test[['latitude', 'longitude']] = standard_scaler.fit_transform(df_test[['latitude', 'longitude']])\n"
      ],
      "execution_count": 314,
      "outputs": []
    },
    {
      "cell_type": "code",
      "metadata": {
        "colab": {
          "base_uri": "https://localhost:8080/",
          "height": 241
        },
        "id": "lCvebd9UVU_J",
        "outputId": "5f5961bb-ed75-45d2-f4ee-3246ff1d3654"
      },
      "source": [
        "df_test.head()"
      ],
      "execution_count": 315,
      "outputs": [
        {
          "output_type": "execute_result",
          "data": {
            "text/html": [
              "<div>\n",
              "<style scoped>\n",
              "    .dataframe tbody tr th:only-of-type {\n",
              "        vertical-align: middle;\n",
              "    }\n",
              "\n",
              "    .dataframe tbody tr th {\n",
              "        vertical-align: top;\n",
              "    }\n",
              "\n",
              "    .dataframe thead th {\n",
              "        text-align: right;\n",
              "    }\n",
              "</style>\n",
              "<table border=\"1\" class=\"dataframe\">\n",
              "  <thead>\n",
              "    <tr style=\"text-align: right;\">\n",
              "      <th></th>\n",
              "      <th>area</th>\n",
              "      <th>bathrooms</th>\n",
              "      <th>beds</th>\n",
              "      <th>latitude</th>\n",
              "      <th>longitude</th>\n",
              "      <th>property_category</th>\n",
              "      <th>property_type_apartment</th>\n",
              "      <th>property_type_bungalow</th>\n",
              "      <th>property_type_detached</th>\n",
              "      <th>property_type_duplex</th>\n",
              "      <th>property_type_end-of-terrace</th>\n",
              "      <th>property_type_semi-detached</th>\n",
              "      <th>property_type_site</th>\n",
              "      <th>property_type_studio</th>\n",
              "      <th>property_type_terraced</th>\n",
              "      <th>property_type_townhouse</th>\n",
              "    </tr>\n",
              "  </thead>\n",
              "  <tbody>\n",
              "    <tr>\n",
              "      <th>0</th>\n",
              "      <td>-0.725206</td>\n",
              "      <td>0.693147</td>\n",
              "      <td>1.386294</td>\n",
              "      <td>2.580195</td>\n",
              "      <td>1.662766</td>\n",
              "      <td>1</td>\n",
              "      <td>0</td>\n",
              "      <td>1</td>\n",
              "      <td>0</td>\n",
              "      <td>0</td>\n",
              "      <td>0</td>\n",
              "      <td>0</td>\n",
              "      <td>0</td>\n",
              "      <td>0</td>\n",
              "      <td>0</td>\n",
              "      <td>0</td>\n",
              "    </tr>\n",
              "    <tr>\n",
              "      <th>1</th>\n",
              "      <td>-1.401348</td>\n",
              "      <td>0.693147</td>\n",
              "      <td>1.098612</td>\n",
              "      <td>0.089918</td>\n",
              "      <td>-2.315691</td>\n",
              "      <td>1</td>\n",
              "      <td>0</td>\n",
              "      <td>0</td>\n",
              "      <td>0</td>\n",
              "      <td>0</td>\n",
              "      <td>0</td>\n",
              "      <td>0</td>\n",
              "      <td>0</td>\n",
              "      <td>0</td>\n",
              "      <td>1</td>\n",
              "      <td>0</td>\n",
              "    </tr>\n",
              "    <tr>\n",
              "      <th>2</th>\n",
              "      <td>-0.451786</td>\n",
              "      <td>1.098612</td>\n",
              "      <td>1.386294</td>\n",
              "      <td>1.203898</td>\n",
              "      <td>-0.167391</td>\n",
              "      <td>1</td>\n",
              "      <td>0</td>\n",
              "      <td>0</td>\n",
              "      <td>0</td>\n",
              "      <td>0</td>\n",
              "      <td>0</td>\n",
              "      <td>1</td>\n",
              "      <td>0</td>\n",
              "      <td>0</td>\n",
              "      <td>0</td>\n",
              "      <td>0</td>\n",
              "    </tr>\n",
              "    <tr>\n",
              "      <th>3</th>\n",
              "      <td>-1.401348</td>\n",
              "      <td>1.386294</td>\n",
              "      <td>1.098612</td>\n",
              "      <td>-0.014999</td>\n",
              "      <td>-2.380588</td>\n",
              "      <td>1</td>\n",
              "      <td>0</td>\n",
              "      <td>0</td>\n",
              "      <td>0</td>\n",
              "      <td>0</td>\n",
              "      <td>0</td>\n",
              "      <td>1</td>\n",
              "      <td>0</td>\n",
              "      <td>0</td>\n",
              "      <td>0</td>\n",
              "      <td>0</td>\n",
              "    </tr>\n",
              "    <tr>\n",
              "      <th>4</th>\n",
              "      <td>-2.101455</td>\n",
              "      <td>0.000000</td>\n",
              "      <td>1.098612</td>\n",
              "      <td>-0.233286</td>\n",
              "      <td>-1.644752</td>\n",
              "      <td>1</td>\n",
              "      <td>0</td>\n",
              "      <td>0</td>\n",
              "      <td>0</td>\n",
              "      <td>0</td>\n",
              "      <td>0</td>\n",
              "      <td>1</td>\n",
              "      <td>0</td>\n",
              "      <td>0</td>\n",
              "      <td>0</td>\n",
              "      <td>0</td>\n",
              "    </tr>\n",
              "  </tbody>\n",
              "</table>\n",
              "</div>"
            ],
            "text/plain": [
              "       area  bathrooms  ...  property_type_terraced  property_type_townhouse\n",
              "0 -0.725206   0.693147  ...                       0                        0\n",
              "1 -1.401348   0.693147  ...                       1                        0\n",
              "2 -0.451786   1.098612  ...                       0                        0\n",
              "3 -1.401348   1.386294  ...                       0                        0\n",
              "4 -2.101455   0.000000  ...                       0                        0\n",
              "\n",
              "[5 rows x 16 columns]"
            ]
          },
          "metadata": {},
          "execution_count": 315
        }
      ]
    },
    {
      "cell_type": "code",
      "metadata": {
        "colab": {
          "base_uri": "https://localhost:8080/",
          "height": 425
        },
        "id": "gZR-ZWnvV4Im",
        "outputId": "caa7c6f2-6f57-4537-ce57-331470749967"
      },
      "source": [
        "# Let's look at any correlations between numeric values in the df_train data\n",
        "\n",
        "sb.heatmap(df_train.corr())"
      ],
      "execution_count": 243,
      "outputs": [
        {
          "output_type": "execute_result",
          "data": {
            "text/plain": [
              "<matplotlib.axes._subplots.AxesSubplot at 0x7fa091cdc850>"
            ]
          },
          "metadata": {},
          "execution_count": 243
        },
        {
          "output_type": "display_data",
          "data": {
            "image/png": "[encoded data removed]",
            "text/plain": [
              "<Figure size 432x288 with 2 Axes>"
            ]
          },
          "metadata": {
            "needs_background": "light"
          }
        }
      ]
    },
    {
      "cell_type": "markdown",
      "metadata": {
        "id": "jEBVw0UmV9zu"
      },
      "source": [
        "####Comments\n",
        "Based in the correlation matrix above, it is clear that the following may have an imapct on the price of a property:\n",
        "\n",
        "1. property_type_detached\n",
        "2. property_type_apartment\n",
        "3. longitude\n",
        "4. latitude\n",
        "5. beds\n",
        "6. bathrooms\n",
        "7. area\n",
        "\n",
        "We wil use these to test the baseline pediction of price."
      ]
    },
    {
      "cell_type": "markdown",
      "metadata": {
        "id": "bJFJQxAS9HZK"
      },
      "source": [
        "# PIECEWISE REGRESSION"
      ]
    },
    {
      "cell_type": "markdown",
      "metadata": {
        "id": "uQ_1QsLToIDi"
      },
      "source": [
        "## Full Model"
      ]
    },
    {
      "cell_type": "code",
      "metadata": {
        "id": "IMqVSChe4kJe"
      },
      "source": [
        "# select some features columns just for the baseline model\n",
        "# assume not all of the features are informative or useful\n",
        "# in this exercise you could try all of them if possible\n",
        "\n",
        "featrain = ['area', 'bathrooms', 'beds', 'latitude', 'longitude',\n",
        "            'property_type_apartment', 'property_type_detached', 'price']\n",
        "featest = ['area','bathrooms', 'beds', 'latitude', 'longitude',\n",
        "            'property_type_apartment', 'property_type_detached']\n",
        "\n",
        "df_subset_train = df_train[featrain]\n",
        "df_subset_test = df_test[featest]\n",
        "df_cost =  true_data[true_data.index.isin(df_subset_test.index)]"
      ],
      "execution_count": 378,
      "outputs": []
    },
    {
      "cell_type": "code",
      "metadata": {
        "colab": {
          "base_uri": "https://localhost:8080/",
          "height": 420
        },
        "id": "7TABgDxlgo2p",
        "outputId": "458f9f28-32e0-48c6-d7b1-011314f57f40"
      },
      "source": [
        "# Let's look at the distribution of property prices from training data\n",
        "\n",
        "fig = plt.figure(figsize=(10, 6))\n",
        "\n",
        "ax0 = fig.add_subplot(1, 2, 1)\n",
        "ax0.set_title(\"Plot of 'Price'\")\n",
        "df_subset_train.boxplot(column=['price'])\n",
        "\n",
        "ax00 = fig.add_subplot(1, 2, 2)\n",
        "ax00.set_title(\"Histogram of 'Price'\")\n",
        "df_subset_train['price'].hist(bins=20)"
      ],
      "execution_count": 355,
      "outputs": [
        {
          "output_type": "execute_result",
          "data": {
            "text/plain": [
              "<matplotlib.axes._subplots.AxesSubplot at 0x7fa08da08790>"
            ]
          },
          "metadata": {},
          "execution_count": 355
        },
        {
          "output_type": "display_data",
          "data": {
            "image/png": "[encoded data removed]",
            "text/plain": [
              "<Figure size 720x432 with 2 Axes>"
            ]
          },
          "metadata": {
            "needs_background": "light"
          }
        }
      ]
    },
    {
      "cell_type": "markdown",
      "metadata": {
        "id": "SgEktzvjhvZm"
      },
      "source": [
        "#### Comment\n",
        "These data will need to be log and standard scaled."
      ]
    },
    {
      "cell_type": "code",
      "metadata": {
        "id": "XS1iHxHdMu8q"
      },
      "source": [
        "# Separate training data into target 'y' and predictor 'X' values\n",
        "\n",
        "# train set, input columns\n",
        "X_train = df_subset_train.iloc[:,0:-1].values \n",
        "# train set, output column, cost\n",
        "y_train = df_subset_train.iloc[:,-1].values.reshape(-1,1)   \n",
        "\n",
        "# test set, input columns\n",
        "X_test = df_subset_test.iloc[:,0:].values \n",
        "# test set, output column, cost\n",
        "y_test = df_cost.Expected.values"
      ],
      "execution_count": 379,
      "outputs": []
    },
    {
      "cell_type": "code",
      "metadata": {
        "id": "SaQLjSkliBSb"
      },
      "source": [
        "# Scale y_train 'price' values\n",
        "\n",
        "ylog = np.log(y_train.astype('float'))\n",
        "yscaler = StandardScaler().fit(ylog)\n",
        "y_train = yscaler.transform(ylog)"
      ],
      "execution_count": 380,
      "outputs": []
    },
    {
      "cell_type": "code",
      "metadata": {
        "id": "PZK2kfygoIDi"
      },
      "source": [
        "# model\n",
        "with pm.Model() as model:\n",
        "    #prior over the parameters of linear regression\n",
        "    alpha = pm.Normal('alpha', mu=0, sigma=30)\n",
        "    #we have one beta for each column of Xn\n",
        "    beta = pm.Normal('beta', mu=0, sigma=30, shape=X_train.shape[1])\n",
        "    #prior over the variance of the noise\n",
        "    sigma = pm.HalfCauchy('sigma_n', 5)\n",
        "    #linear regression model in matrix form\n",
        "    mu = alpha + pm.math.dot(beta, X_train.T)\n",
        "    #likelihood, be sure that observed is a 1d vector\n",
        "    like = pm.Normal('like', mu=mu, sigma=sigma, observed=y_train[:,0])\n",
        "    "
      ],
      "execution_count": 381,
      "outputs": []
    },
    {
      "cell_type": "code",
      "metadata": {
        "colab": {
          "base_uri": "https://localhost:8080/",
          "height": 306
        },
        "id": "Hu04Scfzc1wK",
        "outputId": "86b5d038-bc44-4342-9a94-1290ba2590df"
      },
      "source": [
        "#number of iterations of the algorithms\n",
        "iter = 50000\n",
        "\n",
        "# run the model\n",
        "with model:\n",
        "    approximation = pm.fit(iter,method='advi')\n",
        "    \n",
        "# check the convergence\n",
        "plt.plot(approximation.hist);"
      ],
      "execution_count": 382,
      "outputs": [
        {
          "output_type": "display_data",
          "data": {
            "text/html": [
              "\n",
              "    <div>\n",
              "        <style>\n",
              "            /* Turns off some styling */\n",
              "            progress {\n",
              "                /* gets rid of default border in Firefox and Opera. */\n",
              "                border: none;\n",
              "                /* Needs to be in here for Safari polyfill so background images work as expected. */\n",
              "                background-size: auto;\n",
              "            }\n",
              "            .progress-bar-interrupted, .progress-bar-interrupted::-webkit-progress-bar {\n",
              "                background: #F44336;\n",
              "            }\n",
              "        </style>\n",
              "      <progress value='50000' class='' max='50000' style='width:300px; height:20px; vertical-align: middle;'></progress>\n",
              "      100.00% [50000/50000 00:12<00:00 Average Loss = 2,629.2]\n",
              "    </div>\n",
              "    "
            ],
            "text/plain": [
              "<IPython.core.display.HTML object>"
            ]
          },
          "metadata": {}
        },
        {
          "output_type": "stream",
          "name": "stderr",
          "text": [
            "Finished [100%]: Average Loss = 2,629.2\n"
          ]
        },
        {
          "output_type": "display_data",
          "data": {
            "image/png": "[encoded data removed]",
            "text/plain": [
              "<Figure size 432x288 with 1 Axes>"
            ]
          },
          "metadata": {
            "needs_background": "light"
          }
        }
      ]
    },
    {
      "cell_type": "code",
      "metadata": {
        "id": "wLxppEZ0dE0M"
      },
      "source": [
        "# samples from the posterior\n",
        "posterior = approximation.sample(draws=2000)"
      ],
      "execution_count": 383,
      "outputs": []
    },
    {
      "cell_type": "code",
      "metadata": {
        "id": "cIskuS3ToIDk",
        "colab": {
          "base_uri": "https://localhost:8080/"
        },
        "outputId": "7049e649-93c8-4256-ab20-3b529f91c803"
      },
      "source": [
        "# prediction\n",
        "ll=np.mean(posterior['alpha']) + np.dot(np.mean(posterior['beta'],axis=0), X_test.T)\n",
        "y_pred_BLR = np.exp(yscaler.inverse_transform(ll.reshape(-1,1)))[:,0]\n",
        "print(\"MAE = \",(np.mean(abs(y_pred_BLR - y_test))))\n",
        "print(\"MAPE = \",(np.mean(abs(y_pred_BLR - y_test) / y_test)))"
      ],
      "execution_count": 384,
      "outputs": [
        {
          "output_type": "stream",
          "name": "stdout",
          "text": [
            "MAE =  203412.09453346493\n",
            "MAPE =  0.2643648015412629\n"
          ]
        }
      ]
    },
    {
      "cell_type": "markdown",
      "metadata": {
        "id": "m6GcOrjB4P0s"
      },
      "source": [
        "### Analysis of first model\n",
        "The results for MAE and MAPE are very similar for both the reduced feature set above and the full set of features. Adding in or reoving any other feature reduced the performance of the model, sometimes considerably. We will use this measure of performance a our baseline."
      ]
    },
    {
      "cell_type": "markdown",
      "metadata": {
        "id": "q_jBBKvtoIDk"
      },
      "source": [
        "## Clustering"
      ]
    },
    {
      "cell_type": "markdown",
      "metadata": {
        "id": "VYFvbgYDaEOS"
      },
      "source": [
        "### Full Model"
      ]
    },
    {
      "cell_type": "code",
      "metadata": {
        "id": "iphQ53UE0iVw"
      },
      "source": [
        "# training gaussian mixture model \n",
        "from sklearn.mixture import GaussianMixture\n",
        "\n",
        "gmm = GaussianMixture(n_components=4)\n"
      ],
      "execution_count": null,
      "outputs": []
    },
    {
      "cell_type": "markdown",
      "metadata": {
        "id": "h51OhBV5Z4tY"
      },
      "source": [
        "### Clusters"
      ]
    },
    {
      "cell_type": "code",
      "metadata": {
        "id": "vNvx_KxrLt90"
      },
      "source": [
        "# train clusters\n",
        "\n"
      ],
      "execution_count": null,
      "outputs": []
    },
    {
      "cell_type": "code",
      "metadata": {
        "id": "-wTT4220zFNx"
      },
      "source": [
        "# test clusters\n"
      ],
      "execution_count": null,
      "outputs": []
    },
    {
      "cell_type": "markdown",
      "metadata": {
        "id": "dXF25ZDYoIDl"
      },
      "source": [
        "## Piecewise Model"
      ]
    },
    {
      "cell_type": "code",
      "metadata": {
        "id": "N1e-4ruvaJci"
      },
      "source": [
        "# model_0\n",
        "with pm.Model() as model_0:\n",
        "  # prior over the parameters of linear regression\n",
        "  alpha = pm.Normal('alpha', mu=0, sigma=30)\n",
        "  # we have a beta for each column of Xn0\n",
        "  beta = pm.Normal('beta', mu=0, sigma=30, shape=Xn0.shape[1])\n",
        "  # prior over the variance of the noise\n",
        "  sigma = pm.HalfCauchy('sigma_n', 5)\n",
        "  # linear regression relationship\n",
        "  #linear regression model in matrix form\n",
        "  mu = alpha + pm.math.dot(beta, Xn0.T)\n",
        "  # likelihood, be sure that observed is a 1d vector\n",
        "  like = pm.Normal('like', mu=mu, sigma=sigma, observed=yn0[:,0])\n",
        "\n"
      ],
      "execution_count": null,
      "outputs": []
    },
    {
      "cell_type": "markdown",
      "metadata": {
        "id": "wHBgUe1pcZQQ"
      },
      "source": [
        "##Simulations"
      ]
    },
    {
      "cell_type": "markdown",
      "metadata": {
        "id": "bfSEdYAUoIDn"
      },
      "source": [
        "### Only Cluster 0"
      ]
    },
    {
      "cell_type": "markdown",
      "metadata": {
        "id": "qgMUwBO7oIDq"
      },
      "source": [
        "## Overall"
      ]
    },
    {
      "cell_type": "markdown",
      "metadata": {
        "id": "QMY9rDvVoIDq"
      },
      "source": [
        "## Test set performance"
      ]
    },
    {
      "cell_type": "markdown",
      "metadata": {
        "id": "YGmB9BNkoIDr"
      },
      "source": [
        "### PPC on the Test set\n",
        "\n"
      ]
    },
    {
      "cell_type": "markdown",
      "metadata": {
        "id": "f0GYCpwEM09T"
      },
      "source": [
        "# SUMMARY"
      ]
    }
  ]
}