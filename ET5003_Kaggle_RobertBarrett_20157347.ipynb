{
  "nbformat": 4,
  "nbformat_minor": 0,
  "metadata": {
    "colab": {
      "name": "ET5003_Kaggle_RobertBarrett_20157347.ipynb",
      "provenance": [],
      "collapsed_sections": [
        "930vlW5BrOtq",
        "Wg7VCbX77eAA",
        "__2NJo1HSWkF",
        "sPhTqy9fmYPU",
        "g9BbWfW_CRpM",
        "kDtjYcehOkJL",
        "ojXElPMamAcq"
      ],
      "include_colab_link": true
    },
    "kernelspec": {
      "display_name": "Python 3 (ipykernel)",
      "language": "python",
      "name": "python3"
    },
    "language_info": {
      "codemirror_mode": {
        "name": "ipython",
        "version": 3
      },
      "file_extension": ".py",
      "mimetype": "text/x-python",
      "name": "python",
      "nbconvert_exporter": "python",
      "pygments_lexer": "ipython3",
      "version": "3.8.11"
    }
  },
  "cells": [
    {
      "cell_type": "markdown",
      "metadata": {
        "id": "view-in-github",
        "colab_type": "text"
      },
      "source": [
        "<a href=\"https://colab.research.google.com/github/rb2022/ET5003_SEM1_2021-2/blob/main/ET5003_Kaggle_RobertBarrett_20157347.ipynb\" target=\"_parent\"><img src=\"https://colab.research.google.com/assets/colab-badge.svg\" alt=\"Open In Colab\"/></a>"
      ]
    },
    {
      "cell_type": "markdown",
      "metadata": {
        "id": "930vlW5BrOtq"
      },
      "source": [
        "<div>\n",
        "<img src=\"https://drive.google.com/uc?export=view&id=1vK33e_EqaHgBHcbRV_m38hx6IkG0blK_\" width=\"350\"/>\n",
        "</div> \n",
        "\n",
        "#**Artificial Intelligence - MSc**\n",
        "##ET5003 - MACHINE LEARNING APPLICATIONS \n",
        "\n",
        "###Instructor: Enrique Naredo\n",
        "###ET5003_KaggleCompetition"
      ]
    },
    {
      "cell_type": "code",
      "metadata": {
        "cellView": "form",
        "id": "LqXD_IwUQuBF"
      },
      "source": [
        "#@title Current Date\n",
        "Today = '2021-10-06' #@param {type:\"date\"}\n"
      ],
      "execution_count": null,
      "outputs": []
    },
    {
      "cell_type": "code",
      "metadata": {
        "cellView": "form",
        "id": "uzDKau31OjVO",
        "colab": {
          "base_uri": "https://localhost:8080/",
          "height": 129
        },
        "outputId": "e3176e42-bd65-4f52-9918-1612d7c053f1"
      },
      "source": [
        "#@markdown ---\n",
        "#@markdown ### Enter your details here:\n",
        "Team_Number = \"5\" #@param {type:\"string\"}\n",
        "Student_ID&Name = \"\" #@param {type:\"string\"}\n",
        "Student_ID&Name = \"\" #@param {type:\"string\"}\n",
        "Student_ID&Name = \"\" #@param {type:\"string\"}\n",
        "Student_ID&Name = \"\" #@param {type:\"string\"}\n",
        "Student_ID&Name = \"\" #@param {type:\"string\"}\n",
        "#@markdown ---"
      ],
      "execution_count": null,
      "outputs": [
        {
          "output_type": "error",
          "ename": "SyntaxError",
          "evalue": "ignored",
          "traceback": [
            "\u001b[0;36m  File \u001b[0;32m\"<ipython-input-3-1478174b4f86>\"\u001b[0;36m, line \u001b[0;32m4\u001b[0m\n\u001b[0;31m    Student_ID&Name = \"\" #@param {type:\"string\"}\u001b[0m\n\u001b[0m                                                ^\u001b[0m\n\u001b[0;31mSyntaxError\u001b[0m\u001b[0;31m:\u001b[0m can't assign to operator\n"
          ]
        }
      ]
    },
    {
      "cell_type": "code",
      "metadata": {
        "cellView": "form",
        "id": "r39xGZckTpKx"
      },
      "source": [
        "#@title Notebook information\n",
        "Notebook_type = 'Etivity' #@param [\"Example\", \"Lab\", \"Practice\", \"Etivity\", \"Assignment\", \"Exam\"]\n",
        "Version = Final #@param [\"Draft\", \"Final\"] {type:\"raw\"}\n",
        "Submission = False #@param {type:\"boolean\"}"
      ],
      "execution_count": null,
      "outputs": []
    },
    {
      "cell_type": "markdown",
      "metadata": {
        "id": "_A0Z6S-r6DpA"
      },
      "source": [
        "# INTRODUCTION"
      ]
    },
    {
      "cell_type": "markdown",
      "metadata": {
        "id": "d2vlkUAJ7Pz7"
      },
      "source": [
        "Your introduction here."
      ]
    },
    {
      "cell_type": "markdown",
      "metadata": {
        "id": "aajlS0WCJ8pm"
      },
      "source": [
        "***The goal is to use advanced Machine Learning methods to predict House price.***"
      ]
    },
    {
      "cell_type": "markdown",
      "metadata": {
        "id": "Wg7VCbX77eAA"
      },
      "source": [
        "## Imports"
      ]
    },
    {
      "cell_type": "code",
      "metadata": {
        "id": "iFFLThrpwibd"
      },
      "source": [
        "# Suppressing Warnings:\n",
        "import warnings\n",
        "warnings.filterwarnings(\"ignore\")"
      ],
      "execution_count": 1,
      "outputs": []
    },
    {
      "cell_type": "code",
      "metadata": {
        "id": "k96-GLUGE2ux"
      },
      "source": [
        "# standard libraries\n",
        "import pandas as pd\n",
        "import numpy as np\n",
        "import matplotlib.pyplot as plt\n",
        "%matplotlib inline"
      ],
      "execution_count": 2,
      "outputs": []
    },
    {
      "cell_type": "code",
      "metadata": {
        "id": "sYPJU_Y6O6Dq"
      },
      "source": [
        "# to plot\n",
        "import matplotlib.colors\n",
        "from mpl_toolkits.mplot3d import Axes3D\n",
        "\n",
        "# to generate classification, regression and clustering datasets\n",
        "import sklearn.datasets as dt\n",
        "\n",
        "# to create data frames\n",
        "from pandas import DataFrame\n",
        "\n",
        "# to generate data from an existing dataset\n",
        "from sklearn.neighbors import KernelDensity\n",
        "from sklearn.model_selection import GridSearchCV"
      ],
      "execution_count": 3,
      "outputs": []
    },
    {
      "cell_type": "code",
      "metadata": {
        "id": "mxMYIOx1FONV"
      },
      "source": [
        "# Scikit-learn is an open source machine learning library \n",
        "# that supports supervised and unsupervised learning\n",
        "# https://scikit-learn.org/stable/\n",
        "from sklearn.model_selection import train_test_split\n",
        "from sklearn.feature_extraction.text import CountVectorizer\n",
        "from sklearn.naive_bayes import MultinomialNB\n",
        "from sklearn.metrics import accuracy_score, confusion_matrix"
      ],
      "execution_count": 4,
      "outputs": []
    },
    {
      "cell_type": "code",
      "metadata": {
        "id": "YLlFHWx4j7W6"
      },
      "source": [
        "# Regular expression operations\n",
        "#https://docs.python.org/3/library/re.html\n",
        "import re \n",
        "\n",
        "# Natural Language Toolkit\n",
        "# https://www.nltk.org/install.html\n",
        "import nltk\n",
        "\n",
        "# Stemming maps different forms of the same word to a common “stem” \n",
        "# https://pypi.org/project/snowballstemmer/\n",
        "from nltk.stem import SnowballStemmer\n",
        "\n",
        "# https://www.nltk.org/book/ch02.html\n",
        "from nltk.corpus import stopwords\n",
        "\n",
        "# https://scikit-learn.org/stable/modules/generated/sklearn.preprocessing.StandardScaler.html\n",
        "from sklearn.preprocessing import StandardScaler"
      ],
      "execution_count": 5,
      "outputs": []
    },
    {
      "cell_type": "code",
      "metadata": {
        "colab": {
          "base_uri": "https://localhost:8080/"
        },
        "id": "5cfDHD9BXh0s",
        "outputId": "f0f7cecd-425a-461d-dfdb-0e037b970888"
      },
      "source": [
        "!pip install gpy"
      ],
      "execution_count": 6,
      "outputs": [
        {
          "output_type": "stream",
          "name": "stdout",
          "text": [
            "Collecting gpy\n",
            "  Downloading GPy-1.10.0.tar.gz (959 kB)\n",
            "\u001b[K     |████████████████████████████████| 959 kB 34.2 MB/s \n",
            "\u001b[?25hRequirement already satisfied: numpy>=1.7 in /usr/local/lib/python3.7/dist-packages (from gpy) (1.19.5)\n",
            "Requirement already satisfied: six in /usr/local/lib/python3.7/dist-packages (from gpy) (1.15.0)\n",
            "Collecting paramz>=0.9.0\n",
            "  Downloading paramz-0.9.5.tar.gz (71 kB)\n",
            "\u001b[K     |████████████████████████████████| 71 kB 8.3 MB/s \n",
            "\u001b[?25hRequirement already satisfied: cython>=0.29 in /usr/local/lib/python3.7/dist-packages (from gpy) (0.29.24)\n",
            "Requirement already satisfied: scipy>=1.3.0 in /usr/local/lib/python3.7/dist-packages (from gpy) (1.4.1)\n",
            "Requirement already satisfied: decorator>=4.0.10 in /usr/local/lib/python3.7/dist-packages (from paramz>=0.9.0->gpy) (4.4.2)\n",
            "Building wheels for collected packages: gpy, paramz\n",
            "  Building wheel for gpy (setup.py) ... \u001b[?25l\u001b[?25hdone\n",
            "  Created wheel for gpy: filename=GPy-1.10.0-cp37-cp37m-linux_x86_64.whl size=2565107 sha256=b8905646707c27fe3f94926a27bf8b0f056374490ec7800ab6e120259fe395be\n",
            "  Stored in directory: /root/.cache/pip/wheels/f7/18/28/dd1ce0192a81b71a3b086fd952511d088b21e8359ea496860a\n",
            "  Building wheel for paramz (setup.py) ... \u001b[?25l\u001b[?25hdone\n",
            "  Created wheel for paramz: filename=paramz-0.9.5-py3-none-any.whl size=102565 sha256=512548ff8ffa14b3ccd666a70b5001acebccf57fbff9dc1a739311be72e58887\n",
            "  Stored in directory: /root/.cache/pip/wheels/c8/95/f5/ce28482da28162e6028c4b3a32c41d147395825b3cd62bc810\n",
            "Successfully built gpy paramz\n",
            "Installing collected packages: paramz, gpy\n",
            "Successfully installed gpy-1.10.0 paramz-0.9.5\n"
          ]
        }
      ]
    },
    {
      "cell_type": "code",
      "metadata": {
        "id": "SwGh2bagw4kg"
      },
      "source": [
        "import GPy as GPy\n",
        "import numpy as np\n",
        "import pylab as pb\n",
        "import pymc3 as pm\n",
        "import arviz as az"
      ],
      "execution_count": 7,
      "outputs": []
    },
    {
      "cell_type": "code",
      "metadata": {
        "id": "6MUJdlxSPSMM"
      },
      "source": [
        "# Define the seed so that results can be reproduced\n",
        "seed = 11\n",
        "rand_state = 11\n",
        "\n",
        "# Define the color maps for plots\n",
        "color_map = plt.cm.get_cmap('RdYlBu')\n",
        "color_map_discrete = matplotlib.colors.LinearSegmentedColormap.from_list(\"\", [\"red\",\"cyan\",\"magenta\",\"blue\"])"
      ],
      "execution_count": 8,
      "outputs": []
    },
    {
      "cell_type": "markdown",
      "metadata": {
        "id": "WL91ShB19RPw"
      },
      "source": [
        "# DATASET"
      ]
    },
    {
      "cell_type": "markdown",
      "metadata": {
        "id": "ESg5DGKWJSOf"
      },
      "source": [
        "Extract from this [paper](https://ieeexplore.ieee.org/document/9300074):\n",
        "\n",
        "* House prices are a significant impression of the economy, and its value ranges are of great concerns for the clients and property dealers. \n",
        "\n",
        "* Housing price escalate every year that eventually reinforced the need of strategy or technique that could predict house prices in future. \n",
        "\n",
        "* There are certain factors that influence house prices including physical conditions, locations, number of bedrooms and others.\n"
      ]
    },
    {
      "cell_type": "markdown",
      "metadata": {
        "id": "a8Y2pf50FlYL"
      },
      "source": [
        "1. [Download the dataset](https://github.com/UL-CS6134/CS6134_SEM1_2021-2/tree/main/Week-5). \n",
        "\n",
        "2. Upload the dataset into your folder.\n",
        "\n"
      ]
    },
    {
      "cell_type": "code",
      "metadata": {
        "colab": {
          "base_uri": "https://localhost:8080/"
        },
        "id": "4PaZf3Bn2c2h",
        "outputId": "542fdb19-77bb-421d-ed50-fdc9a50fa0b1"
      },
      "source": [
        "from google.colab import drive\n",
        "drive.mount('/content/drive')"
      ],
      "execution_count": 9,
      "outputs": [
        {
          "output_type": "stream",
          "name": "stdout",
          "text": [
            "Mounted at /content/drive\n"
          ]
        }
      ]
    },
    {
      "cell_type": "code",
      "metadata": {
        "id": "G-wCWDj82o6V"
      },
      "source": [
        "path = '/content/sample_data/'\n",
        "\n",
        "# Due to formatting issues, I found that explicitly defining features of interest and omitting ones that are problematic was useful\n",
        "\n",
        "train_file = path+'HousePrice_Train.csv'\n",
        "test_file = path+'HousePrice_Test.csv'\n",
        "\n",
        "# Import the data, while excluding 'features' and 'description_block' explicitly on import\n",
        "train_data = pd.read_csv(train_file)\n",
        "test_data = pd.read_csv(test_file)"
      ],
      "execution_count": 106,
      "outputs": []
    },
    {
      "cell_type": "code",
      "metadata": {
        "colab": {
          "base_uri": "https://localhost:8080/"
        },
        "id": "fYI6C0p33J-S",
        "outputId": "8f2316a2-54fb-45eb-9d84-73b574641908"
      },
      "source": [
        "print(train_data.shape)\n",
        "print(test_data.shape)"
      ],
      "execution_count": 11,
      "outputs": [
        {
          "output_type": "stream",
          "name": "stdout",
          "text": [
            "(1638, 14)\n",
            "(702, 13)\n"
          ]
        }
      ]
    },
    {
      "cell_type": "markdown",
      "metadata": {
        "id": "FMkdCQEmKTof"
      },
      "source": [
        "The challenge is to predict the final price of each house."
      ]
    },
    {
      "cell_type": "markdown",
      "metadata": {
        "id": "8F8jPJL53vNj"
      },
      "source": [
        "## Exploratory Data Analysis"
      ]
    },
    {
      "cell_type": "markdown",
      "metadata": {
        "id": "XCkOiH5D4CtE"
      },
      "source": [
        "#### Let's look at samples of the tabular data and review some basic statistics"
      ]
    },
    {
      "cell_type": "code",
      "metadata": {
        "colab": {
          "base_uri": "https://localhost:8080/",
          "height": 289
        },
        "id": "GOXDPSG03pGd",
        "outputId": "a47fd5be-7d52-4ebd-fd24-f98f7a74f2e0"
      },
      "source": [
        "# Review samples of training data\n",
        "\n",
        "train_data.head()"
      ],
      "execution_count": 13,
      "outputs": [
        {
          "output_type": "execute_result",
          "data": {
            "text/html": [
              "<div>\n",
              "<style scoped>\n",
              "    .dataframe tbody tr th:only-of-type {\n",
              "        vertical-align: middle;\n",
              "    }\n",
              "\n",
              "    .dataframe tbody tr th {\n",
              "        vertical-align: top;\n",
              "    }\n",
              "\n",
              "    .dataframe thead th {\n",
              "        text-align: right;\n",
              "    }\n",
              "</style>\n",
              "<table border=\"1\" class=\"dataframe\">\n",
              "  <thead>\n",
              "    <tr style=\"text-align: right;\">\n",
              "      <th></th>\n",
              "      <th>Index</th>\n",
              "      <th>ID</th>\n",
              "      <th>Location</th>\n",
              "      <th>Num_Bathrooms</th>\n",
              "      <th>Num_Beds</th>\n",
              "      <th>BER_class</th>\n",
              "      <th>Description</th>\n",
              "      <th>Services</th>\n",
              "      <th>Features</th>\n",
              "      <th>Latitude</th>\n",
              "      <th>Longitude</th>\n",
              "      <th>Type</th>\n",
              "      <th>Surface</th>\n",
              "      <th>Price</th>\n",
              "    </tr>\n",
              "  </thead>\n",
              "  <tbody>\n",
              "    <tr>\n",
              "      <th>0</th>\n",
              "      <td>1</td>\n",
              "      <td>12409116</td>\n",
              "      <td>Ongar</td>\n",
              "      <td>2</td>\n",
              "      <td>2</td>\n",
              "      <td>C3</td>\n",
              "      <td>DNG are delighted to present to the market no....</td>\n",
              "      <td>NaN</td>\n",
              "      <td>None</td>\n",
              "      <td>53.396659</td>\n",
              "      <td>-6.438791</td>\n",
              "      <td>apartment</td>\n",
              "      <td>67.00</td>\n",
              "      <td>195000</td>\n",
              "    </tr>\n",
              "    <tr>\n",
              "      <th>1</th>\n",
              "      <td>2</td>\n",
              "      <td>12320330</td>\n",
              "      <td>North Strand</td>\n",
              "      <td>1</td>\n",
              "      <td>2</td>\n",
              "      <td>D1</td>\n",
              "      <td>13 Northbrook Terrace is a charming red brick ...</td>\n",
              "      <td>NaN</td>\n",
              "      <td>Bight and Spacious interior\\nNumerous original...</td>\n",
              "      <td>53.357129</td>\n",
              "      <td>-6.239779</td>\n",
              "      <td>terraced</td>\n",
              "      <td>95.97</td>\n",
              "      <td>425000</td>\n",
              "    </tr>\n",
              "    <tr>\n",
              "      <th>2</th>\n",
              "      <td>3</td>\n",
              "      <td>12405953</td>\n",
              "      <td>Stepaside</td>\n",
              "      <td>3</td>\n",
              "      <td>3</td>\n",
              "      <td>A3</td>\n",
              "      <td>Welcome to No. 6 Cotter Close, an immaculately...</td>\n",
              "      <td>NaN</td>\n",
              "      <td>Special Features\\nLarge rear garden\\nGenerous ...</td>\n",
              "      <td>53.266468</td>\n",
              "      <td>-6.222771</td>\n",
              "      <td>semi-detached</td>\n",
              "      <td>107.00</td>\n",
              "      <td>535000</td>\n",
              "    </tr>\n",
              "    <tr>\n",
              "      <th>3</th>\n",
              "      <td>4</td>\n",
              "      <td>12202582</td>\n",
              "      <td>Cabinteely</td>\n",
              "      <td>1</td>\n",
              "      <td>3</td>\n",
              "      <td>E1</td>\n",
              "      <td>Welcome to 3 Sycamore Walk!\\n\\r\\nEnjoying a pr...</td>\n",
              "      <td>NaN</td>\n",
              "      <td>Wonderful 3 bed detached bungalow.     \\nAccom...</td>\n",
              "      <td>53.261600</td>\n",
              "      <td>-6.166738</td>\n",
              "      <td>detached</td>\n",
              "      <td>81.00</td>\n",
              "      <td>499000</td>\n",
              "    </tr>\n",
              "    <tr>\n",
              "      <th>4</th>\n",
              "      <td>5</td>\n",
              "      <td>12299336</td>\n",
              "      <td>Lusk</td>\n",
              "      <td>3</td>\n",
              "      <td>4</td>\n",
              "      <td>D1</td>\n",
              "      <td>'Four Seasons' comes to the market as a wonder...</td>\n",
              "      <td>NaN</td>\n",
              "      <td>Detached Property      \\nDouble Glazed Windows...</td>\n",
              "      <td>53.550731</td>\n",
              "      <td>-6.121415</td>\n",
              "      <td>detached</td>\n",
              "      <td>153.00</td>\n",
              "      <td>510000</td>\n",
              "    </tr>\n",
              "  </tbody>\n",
              "</table>\n",
              "</div>"
            ],
            "text/plain": [
              "   Index        ID      Location  ...           Type  Surface   Price\n",
              "0      1  12409116         Ongar  ...      apartment    67.00  195000\n",
              "1      2  12320330  North Strand  ...       terraced    95.97  425000\n",
              "2      3  12405953     Stepaside  ...  semi-detached   107.00  535000\n",
              "3      4  12202582    Cabinteely  ...       detached    81.00  499000\n",
              "4      5  12299336          Lusk  ...       detached   153.00  510000\n",
              "\n",
              "[5 rows x 14 columns]"
            ]
          },
          "metadata": {},
          "execution_count": 13
        }
      ]
    },
    {
      "cell_type": "code",
      "metadata": {
        "colab": {
          "base_uri": "https://localhost:8080/",
          "height": 289
        },
        "id": "yEyAR5qV4Us7",
        "outputId": "e3b206d8-cedc-4af0-faee-c9c22017db6d"
      },
      "source": [
        "# Review samples of test data\n",
        "\n",
        "test_data.head()"
      ],
      "execution_count": 14,
      "outputs": [
        {
          "output_type": "execute_result",
          "data": {
            "text/html": [
              "<div>\n",
              "<style scoped>\n",
              "    .dataframe tbody tr th:only-of-type {\n",
              "        vertical-align: middle;\n",
              "    }\n",
              "\n",
              "    .dataframe tbody tr th {\n",
              "        vertical-align: top;\n",
              "    }\n",
              "\n",
              "    .dataframe thead th {\n",
              "        text-align: right;\n",
              "    }\n",
              "</style>\n",
              "<table border=\"1\" class=\"dataframe\">\n",
              "  <thead>\n",
              "    <tr style=\"text-align: right;\">\n",
              "      <th></th>\n",
              "      <th>Index</th>\n",
              "      <th>ID</th>\n",
              "      <th>Location</th>\n",
              "      <th>Num_Bathrooms</th>\n",
              "      <th>Num_Beds</th>\n",
              "      <th>BER_class</th>\n",
              "      <th>Description</th>\n",
              "      <th>Services</th>\n",
              "      <th>Features</th>\n",
              "      <th>Latitude</th>\n",
              "      <th>Longitude</th>\n",
              "      <th>Type</th>\n",
              "      <th>Surface</th>\n",
              "    </tr>\n",
              "  </thead>\n",
              "  <tbody>\n",
              "    <tr>\n",
              "      <th>0</th>\n",
              "      <td>1639</td>\n",
              "      <td>12292473</td>\n",
              "      <td>Milltown</td>\n",
              "      <td>2</td>\n",
              "      <td>2</td>\n",
              "      <td>C2</td>\n",
              "      <td>OMD Estate Agents are delighted to present thi...</td>\n",
              "      <td>Parking,Oil Fired Central Heating</td>\n",
              "      <td>Designated parking spaces\\nPresented in pristi...</td>\n",
              "      <td>53.316269</td>\n",
              "      <td>-6.243391</td>\n",
              "      <td>townhouse</td>\n",
              "      <td>65.0</td>\n",
              "    </tr>\n",
              "    <tr>\n",
              "      <th>1</th>\n",
              "      <td>1640</td>\n",
              "      <td>12314667</td>\n",
              "      <td>Glasnevin</td>\n",
              "      <td>2</td>\n",
              "      <td>5</td>\n",
              "      <td>E1</td>\n",
              "      <td>Welcome to Saint Anthony No.214 Glasnevin Aven...</td>\n",
              "      <td>Parking,Gas Fired Central Heating</td>\n",
              "      <td>Modern Worcester Gas Boiler\\nSingle Glazed Win...</td>\n",
              "      <td>53.390769</td>\n",
              "      <td>-6.281936</td>\n",
              "      <td>semi-detached</td>\n",
              "      <td>142.0</td>\n",
              "    </tr>\n",
              "    <tr>\n",
              "      <th>2</th>\n",
              "      <td>1641</td>\n",
              "      <td>11699240</td>\n",
              "      <td>Dalkey</td>\n",
              "      <td>1</td>\n",
              "      <td>2</td>\n",
              "      <td>G</td>\n",
              "      <td>Located in this ever popular road, on grounds ...</td>\n",
              "      <td>NaN</td>\n",
              "      <td>2 BEDROOM DETACHED HOUSE ON  1/5th ACRE\\nOIL F...</td>\n",
              "      <td>53.272486</td>\n",
              "      <td>-6.108675</td>\n",
              "      <td>detached</td>\n",
              "      <td>80.0</td>\n",
              "    </tr>\n",
              "    <tr>\n",
              "      <th>3</th>\n",
              "      <td>1642</td>\n",
              "      <td>12416984</td>\n",
              "      <td>Raheny</td>\n",
              "      <td>4</td>\n",
              "      <td>4</td>\n",
              "      <td>A2</td>\n",
              "      <td>DNG are delighted to represent the sale of thi...</td>\n",
              "      <td>Parking,Alarm</td>\n",
              "      <td>Detached House\\nSouth Facing Garden\\nOff Stree...</td>\n",
              "      <td>53.376932</td>\n",
              "      <td>-6.185334</td>\n",
              "      <td>detached</td>\n",
              "      <td>209.0</td>\n",
              "    </tr>\n",
              "    <tr>\n",
              "      <th>4</th>\n",
              "      <td>1643</td>\n",
              "      <td>12383407</td>\n",
              "      <td>Crumlin</td>\n",
              "      <td>2</td>\n",
              "      <td>3</td>\n",
              "      <td>F</td>\n",
              "      <td>A unique opportunity to acquire this red brick...</td>\n",
              "      <td>Parking,Gas Fired Central Heating,Alarm</td>\n",
              "      <td>Red brick end of terrace property \\nC. 108sqm ...</td>\n",
              "      <td>53.327208</td>\n",
              "      <td>-6.308938</td>\n",
              "      <td>end-of-terrace</td>\n",
              "      <td>108.0</td>\n",
              "    </tr>\n",
              "  </tbody>\n",
              "</table>\n",
              "</div>"
            ],
            "text/plain": [
              "   Index        ID   Location  ...  Longitude            Type Surface\n",
              "0   1639  12292473   Milltown  ...  -6.243391       townhouse    65.0\n",
              "1   1640  12314667  Glasnevin  ...  -6.281936   semi-detached   142.0\n",
              "2   1641  11699240     Dalkey  ...  -6.108675        detached    80.0\n",
              "3   1642  12416984     Raheny  ...  -6.185334        detached   209.0\n",
              "4   1643  12383407    Crumlin  ...  -6.308938  end-of-terrace   108.0\n",
              "\n",
              "[5 rows x 13 columns]"
            ]
          },
          "metadata": {},
          "execution_count": 14
        }
      ]
    },
    {
      "cell_type": "code",
      "metadata": {
        "colab": {
          "base_uri": "https://localhost:8080/",
          "height": 297
        },
        "id": "1p-xAm8s4pxn",
        "outputId": "de44416f-76ff-43e7-ad40-1f0bd42872b9"
      },
      "source": [
        "# Generate statistcis for numeric training data\n",
        "\n",
        "train_data.describe()"
      ],
      "execution_count": 15,
      "outputs": [
        {
          "output_type": "execute_result",
          "data": {
            "text/html": [
              "<div>\n",
              "<style scoped>\n",
              "    .dataframe tbody tr th:only-of-type {\n",
              "        vertical-align: middle;\n",
              "    }\n",
              "\n",
              "    .dataframe tbody tr th {\n",
              "        vertical-align: top;\n",
              "    }\n",
              "\n",
              "    .dataframe thead th {\n",
              "        text-align: right;\n",
              "    }\n",
              "</style>\n",
              "<table border=\"1\" class=\"dataframe\">\n",
              "  <thead>\n",
              "    <tr style=\"text-align: right;\">\n",
              "      <th></th>\n",
              "      <th>Index</th>\n",
              "      <th>ID</th>\n",
              "      <th>Num_Bathrooms</th>\n",
              "      <th>Num_Beds</th>\n",
              "      <th>Latitude</th>\n",
              "      <th>Longitude</th>\n",
              "      <th>Surface</th>\n",
              "      <th>Price</th>\n",
              "    </tr>\n",
              "  </thead>\n",
              "  <tbody>\n",
              "    <tr>\n",
              "      <th>count</th>\n",
              "      <td>1638.000000</td>\n",
              "      <td>1.638000e+03</td>\n",
              "      <td>1638.000000</td>\n",
              "      <td>1638.000000</td>\n",
              "      <td>1638.000000</td>\n",
              "      <td>1638.000000</td>\n",
              "      <td>1638.000000</td>\n",
              "      <td>1.638000e+03</td>\n",
              "    </tr>\n",
              "    <tr>\n",
              "      <th>mean</th>\n",
              "      <td>819.500000</td>\n",
              "      <td>1.231930e+07</td>\n",
              "      <td>2.054335</td>\n",
              "      <td>3.043346</td>\n",
              "      <td>53.350473</td>\n",
              "      <td>-6.255086</td>\n",
              "      <td>169.540695</td>\n",
              "      <td>5.547196e+05</td>\n",
              "    </tr>\n",
              "    <tr>\n",
              "      <th>std</th>\n",
              "      <td>472.994186</td>\n",
              "      <td>1.447540e+05</td>\n",
              "      <td>1.241259</td>\n",
              "      <td>1.379650</td>\n",
              "      <td>0.076832</td>\n",
              "      <td>0.144430</td>\n",
              "      <td>1791.793934</td>\n",
              "      <td>5.652032e+05</td>\n",
              "    </tr>\n",
              "    <tr>\n",
              "      <th>min</th>\n",
              "      <td>1.000000</td>\n",
              "      <td>1.118567e+07</td>\n",
              "      <td>1.000000</td>\n",
              "      <td>1.000000</td>\n",
              "      <td>52.501856</td>\n",
              "      <td>-6.497000</td>\n",
              "      <td>3.400000</td>\n",
              "      <td>1.999500e+04</td>\n",
              "    </tr>\n",
              "    <tr>\n",
              "      <th>25%</th>\n",
              "      <td>410.250000</td>\n",
              "      <td>1.228104e+07</td>\n",
              "      <td>1.000000</td>\n",
              "      <td>2.000000</td>\n",
              "      <td>53.294261</td>\n",
              "      <td>-6.309613</td>\n",
              "      <td>73.000000</td>\n",
              "      <td>2.950000e+05</td>\n",
              "    </tr>\n",
              "    <tr>\n",
              "      <th>50%</th>\n",
              "      <td>819.500000</td>\n",
              "      <td>1.238055e+07</td>\n",
              "      <td>2.000000</td>\n",
              "      <td>3.000000</td>\n",
              "      <td>53.341386</td>\n",
              "      <td>-6.247780</td>\n",
              "      <td>97.050000</td>\n",
              "      <td>3.950000e+05</td>\n",
              "    </tr>\n",
              "    <tr>\n",
              "      <th>75%</th>\n",
              "      <td>1228.750000</td>\n",
              "      <td>1.240548e+07</td>\n",
              "      <td>3.000000</td>\n",
              "      <td>4.000000</td>\n",
              "      <td>53.382031</td>\n",
              "      <td>-6.193982</td>\n",
              "      <td>135.000000</td>\n",
              "      <td>5.950000e+05</td>\n",
              "    </tr>\n",
              "    <tr>\n",
              "      <th>max</th>\n",
              "      <td>1638.000000</td>\n",
              "      <td>1.242836e+07</td>\n",
              "      <td>18.000000</td>\n",
              "      <td>27.000000</td>\n",
              "      <td>53.630588</td>\n",
              "      <td>-1.744995</td>\n",
              "      <td>72236.387140</td>\n",
              "      <td>8.900000e+06</td>\n",
              "    </tr>\n",
              "  </tbody>\n",
              "</table>\n",
              "</div>"
            ],
            "text/plain": [
              "             Index            ID  ...       Surface         Price\n",
              "count  1638.000000  1.638000e+03  ...   1638.000000  1.638000e+03\n",
              "mean    819.500000  1.231930e+07  ...    169.540695  5.547196e+05\n",
              "std     472.994186  1.447540e+05  ...   1791.793934  5.652032e+05\n",
              "min       1.000000  1.118567e+07  ...      3.400000  1.999500e+04\n",
              "25%     410.250000  1.228104e+07  ...     73.000000  2.950000e+05\n",
              "50%     819.500000  1.238055e+07  ...     97.050000  3.950000e+05\n",
              "75%    1228.750000  1.240548e+07  ...    135.000000  5.950000e+05\n",
              "max    1638.000000  1.242836e+07  ...  72236.387140  8.900000e+06\n",
              "\n",
              "[8 rows x 8 columns]"
            ]
          },
          "metadata": {},
          "execution_count": 15
        }
      ]
    },
    {
      "cell_type": "markdown",
      "metadata": {
        "id": "GmDdrEf942fF"
      },
      "source": [
        "#### Initial Analysis of Training Data Statistics\n",
        "The above table provides a some key information:\n",
        "\n",
        "1. **counts** indicate no missing values for these numeric features\n",
        "\n",
        "2. **mean** and **50% Quartile** are the same or close except for \"Surface\" and \"Price\" showing an imbalance in the data .. we may need to deal with this.\n",
        "\n",
        "3. **min** and **max** indicate ranges that need to be scaled"
      ]
    },
    {
      "cell_type": "code",
      "metadata": {
        "colab": {
          "base_uri": "https://localhost:8080/"
        },
        "id": "nKJ26Fef7GuI",
        "outputId": "e008849c-aea9-43c9-e24b-d6433b8099de"
      },
      "source": [
        "# Check for missing values in Training data \n",
        "train_missing = train_data.isnull().sum()*100/len(train_data)\n",
        "print(train_missing)"
      ],
      "execution_count": 16,
      "outputs": [
        {
          "output_type": "stream",
          "name": "stdout",
          "text": [
            "Index             0.000000\n",
            "ID                0.000000\n",
            "Location          0.000000\n",
            "Num_Bathrooms     0.000000\n",
            "Num_Beds          0.000000\n",
            "BER_class        15.323565\n",
            "Description       0.000000\n",
            "Services         64.774115\n",
            "Features          0.000000\n",
            "Latitude          0.000000\n",
            "Longitude         0.000000\n",
            "Type              0.000000\n",
            "Surface           0.000000\n",
            "Price             0.000000\n",
            "dtype: float64\n"
          ]
        }
      ]
    },
    {
      "cell_type": "markdown",
      "metadata": {
        "id": "HboMCX6c7aIn"
      },
      "source": [
        "**Comments** There are two features have missing values. These are categorical features as they did not appear in above statistics report. High % missing features cannot be remediated and should be removed. We should look at 'BER_class' and see if it is an important feature. If it is, then we should look to see if there is a way to handle the missing values. \n",
        "\n",
        "Approach here will be to \n",
        "\n",
        "1. Remove 'ID' as it provides no information\n",
        "\n",
        "2. Remove the feature 'Services'\n",
        "\n",
        "3. Determine importance of 'BER_class' as a predictor of price. We will use XGBoost and its correspondng \"feature_importance\" metric.\n",
        "\n",
        "Reviewing the features for non-uniqueness, there are no features with just one value."
      ]
    },
    {
      "cell_type": "code",
      "metadata": {
        "colab": {
          "base_uri": "https://localhost:8080/"
        },
        "id": "ZLOxMiD8-hVK",
        "outputId": "3c7b48d9-5c92-4081-dc3e-bbe82f745e83"
      },
      "source": [
        "# Let's look at obvious erroneous values - no zero values in the training data\n",
        "\n",
        "train_data_zeros = (train_data == 0).all()\n",
        "print(train_data_zeros)"
      ],
      "execution_count": null,
      "outputs": [
        {
          "output_type": "stream",
          "name": "stdout",
          "text": [
            "Index            False\n",
            "ID               False\n",
            "Location         False\n",
            "Num_Bathrooms    False\n",
            "Num_Beds         False\n",
            "BER_class        False\n",
            "Description      False\n",
            "Services         False\n",
            "Features         False\n",
            "Latitude         False\n",
            "Longitude        False\n",
            "Type             False\n",
            "Surface          False\n",
            "Price            False\n",
            "dtype: bool\n"
          ]
        }
      ]
    },
    {
      "cell_type": "markdown",
      "metadata": {
        "id": "dDdmVvJ58KZd"
      },
      "source": [
        "There are no features with zeros so we do not have to analyse this further."
      ]
    },
    {
      "cell_type": "code",
      "metadata": {
        "colab": {
          "base_uri": "https://localhost:8080/",
          "height": 80
        },
        "id": "7WUbJtyN8t3W",
        "outputId": "fcdf0366-b88c-4ce1-d9f5-5b5ecedc837e"
      },
      "source": [
        "# Let's look for obvious coordinates outside Dublin range\n",
        "\n",
        "outliers = train_data[(train_data.Longitude > -6) | (train_data.Latitude < 53)]\n",
        "\n",
        "outliers.head()"
      ],
      "execution_count": 14,
      "outputs": [
        {
          "output_type": "execute_result",
          "data": {
            "text/html": [
              "<div>\n",
              "<style scoped>\n",
              "    .dataframe tbody tr th:only-of-type {\n",
              "        vertical-align: middle;\n",
              "    }\n",
              "\n",
              "    .dataframe tbody tr th {\n",
              "        vertical-align: top;\n",
              "    }\n",
              "\n",
              "    .dataframe thead th {\n",
              "        text-align: right;\n",
              "    }\n",
              "</style>\n",
              "<table border=\"1\" class=\"dataframe\">\n",
              "  <thead>\n",
              "    <tr style=\"text-align: right;\">\n",
              "      <th></th>\n",
              "      <th>Index</th>\n",
              "      <th>ID</th>\n",
              "      <th>Location</th>\n",
              "      <th>Num_Bathrooms</th>\n",
              "      <th>Num_Beds</th>\n",
              "      <th>BER_class</th>\n",
              "      <th>Description</th>\n",
              "      <th>Services</th>\n",
              "      <th>Features</th>\n",
              "      <th>Latitude</th>\n",
              "      <th>Longitude</th>\n",
              "      <th>Type</th>\n",
              "      <th>Surface</th>\n",
              "      <th>Price</th>\n",
              "    </tr>\n",
              "  </thead>\n",
              "  <tbody>\n",
              "    <tr>\n",
              "      <th>355</th>\n",
              "      <td>356</td>\n",
              "      <td>12270559</td>\n",
              "      <td>Clondalkin</td>\n",
              "      <td>1</td>\n",
              "      <td>3</td>\n",
              "      <td>NaN</td>\n",
              "      <td>RAY COOKE AUCTIONEERS take great pleasure in i...</td>\n",
              "      <td>NaN</td>\n",
              "      <td>None</td>\n",
              "      <td>52.501856</td>\n",
              "      <td>-1.744995</td>\n",
              "      <td>semi-detached</td>\n",
              "      <td>79.0</td>\n",
              "      <td>199000</td>\n",
              "    </tr>\n",
              "  </tbody>\n",
              "</table>\n",
              "</div>"
            ],
            "text/plain": [
              "     Index        ID    Location  ...           Type  Surface   Price\n",
              "355    356  12270559  Clondalkin  ...  semi-detached     79.0  199000\n",
              "\n",
              "[1 rows x 14 columns]"
            ]
          },
          "metadata": {},
          "execution_count": 14
        }
      ]
    },
    {
      "cell_type": "markdown",
      "metadata": {
        "id": "pMr7bjEt9YKU"
      },
      "source": [
        "This location has coordinates for a UK address and should be removed."
      ]
    },
    {
      "cell_type": "code",
      "metadata": {
        "id": "xcxW9x0J9iWv"
      },
      "source": [
        "# Remove location in UK\n",
        "df_train = train_data.drop(train_data[(train_data.Longitude > -6) | (train_data.Latitude < 53)].index)"
      ],
      "execution_count": 12,
      "outputs": []
    },
    {
      "cell_type": "code",
      "metadata": {
        "id": "uFZVONMkA0vy"
      },
      "source": [
        "# Drop unimportant features\n",
        "\n",
        "df_train.drop(['ID', 'Services'], axis=1, inplace=True)"
      ],
      "execution_count": 13,
      "outputs": []
    },
    {
      "cell_type": "code",
      "metadata": {
        "id": "_vVew9ysIPW7"
      },
      "source": [
        "# Let's deal with categorical data\n",
        "\n",
        "# Feature map 'locations'\n",
        "locations = np.hstack((train_data['Location'], test_data['Location']))\n",
        "unique_loc = np.unique(locations)\n",
        "unique_loc_index=[]\n",
        "\n",
        "# Create a dictionary lookup\n",
        "i = [i+1 for i in range(len(unique_loc))]\n",
        "unique_areas_index = dict(zip(unique_loc, i))\n",
        "\n",
        "# Replace area name with the index from the 'unique_areas_index' dictionary \n",
        "df_train_1 = df_train.replace({'Location': unique_areas_index})\n",
        "\n",
        "# Feature map 'BER_class'\n",
        "ber_stack = np.hstack((train_data['BER_class'], test_data['BER_class'])) # get all BER Classes from Train and Test datasets to ensure we have all classes in each set.\n",
        "ber_class = [c for c in ber_stack if not(pd.isna(c)) == True] # remove NaN from feature map list\n",
        "unique_ber = np.unique(ber_class)\n",
        "unique_ber_index=[]\n",
        "\n",
        "# Create a dictionary lookup\n",
        "i = [i+1 for i in range(len(unique_ber))]\n",
        "unique_ber_index = dict(zip(unique_ber, i))\n",
        "\n",
        "# Replace BER_class with the index from the 'unique_ber_index' dictionary \n",
        "df_train_2 = df_train_1.replace({'BER_class': unique_ber_index})\n",
        "\n",
        "# One-hot Encode 'Type'\n",
        "df_train_2 = pd.get_dummies(df_train_2, columns=['Type'])\n",
        "\n",
        "df_train = df_train_2.copy()\n",
        "\n",
        "# Take a copy of the Location and BER_class column before scaling - this will be used during imputing for NaNs later\n",
        "loc_ber_train_values = df_train[['Location', 'BER_class']].copy()\n"
      ],
      "execution_count": 14,
      "outputs": []
    },
    {
      "cell_type": "markdown",
      "metadata": {
        "id": "gAhx8VU4d9im"
      },
      "source": [
        "We will now look at the feature distributions and outliers."
      ]
    },
    {
      "cell_type": "code",
      "metadata": {
        "colab": {
          "base_uri": "https://localhost:8080/"
        },
        "id": "c5nG9cSteJMh",
        "outputId": "f9977909-466d-4fb8-cefb-53777f8d8ca7"
      },
      "source": [
        "df_train.columns"
      ],
      "execution_count": 15,
      "outputs": [
        {
          "output_type": "execute_result",
          "data": {
            "text/plain": [
              "Index(['Index', 'Location', 'Num_Bathrooms', 'Num_Beds', 'BER_class',\n",
              "       'Description', 'Features', 'Latitude', 'Longitude', 'Surface', 'Price',\n",
              "       'Type_apartment', 'Type_bungalow', 'Type_detached', 'Type_duplex',\n",
              "       'Type_end-of-terrace', 'Type_semi-detached', 'Type_site', 'Type_studio',\n",
              "       'Type_terraced', 'Type_townhouse'],\n",
              "      dtype='object')"
            ]
          },
          "metadata": {},
          "execution_count": 15
        }
      ]
    },
    {
      "cell_type": "markdown",
      "metadata": {
        "id": "C_xwBU21eVmc"
      },
      "source": [
        "We will look at these key features:\n",
        "\n",
        "'Location', 'Num_Bathrooms', 'Num_Beds', 'BER_class', 'Latitude', 'Longitude', 'Surface', 'Price'"
      ]
    },
    {
      "cell_type": "code",
      "metadata": {
        "colab": {
          "base_uri": "https://localhost:8080/",
          "height": 1000
        },
        "id": "91wUPq0HeDOU",
        "outputId": "4b3098f5-3de1-4424-e532-18a00480cca6"
      },
      "source": [
        "# First we will look at the distribution of key predictor features\n",
        "\n",
        "fig = plt.figure(figsize=(20,30))\n",
        "\n",
        "ax1 = fig.add_subplot(8, 2, 1)\n",
        "ax1.set_title(\"Plot of 'Location'\")\n",
        "df_train.boxplot(column=['Location'])\n",
        "\n",
        "ax2 = fig.add_subplot(8, 2, 2)\n",
        "ax2.set_title(\"Histogram of 'Location'\")\n",
        "df_train['Location'].hist(bins=20)\n",
        "\n",
        "ax3 = fig.add_subplot(8, 2, 3)\n",
        "ax3.set_title(\"Plot of 'Num_Bathrooms'\")\n",
        "df_train.boxplot(column=['Num_Bathrooms'])\n",
        "\n",
        "ax4 = fig.add_subplot(8, 2, 4)\n",
        "ax4.set_title(\"Histogram of 'Num_Bathrooms'\")\n",
        "df_train['Num_Bathrooms'].hist(bins=20)\n",
        "\n",
        "ax5 = fig.add_subplot(8, 2, 5)\n",
        "ax5.set_title(\"Plot of 'Num_Beds'\")\n",
        "df_train.boxplot(column=['Num_Beds'])\n",
        "\n",
        "ax6 = fig.add_subplot(8, 2, 6)\n",
        "ax6.set_title(\"Histogram of 'Num_Beds'\")\n",
        "df_train['Num_Beds'].hist(bins=20)\n",
        "\n",
        "ax7 = fig.add_subplot(8, 2, 7)\n",
        "ax7.set_title(\"Plot of 'BER_class'\")\n",
        "df_train.boxplot(column=['BER_class'])\n",
        "\n",
        "ax8 = fig.add_subplot(8, 2, 8)\n",
        "ax8.set_title(\"Histogram of 'BER_class'\")\n",
        "df_train['BER_class'].hist(bins=20)\n",
        "\n",
        "ax9 = fig.add_subplot(8, 2, 9)\n",
        "ax9.set_title(\"Plot of 'Longitude'\")\n",
        "df_train.boxplot(column=['Longitude'])\n",
        "\n",
        "ax10 = fig.add_subplot(8, 2, 10)\n",
        "ax10.set_title(\"Histogram of 'Longitude'\")\n",
        "df_train['Longitude'].hist(bins=20)\n",
        "\n",
        "ax11 = fig.add_subplot(8, 2, 11)\n",
        "ax11.set_title(\"Plot of 'Latitude'\")\n",
        "df_train.boxplot(column=['Latitude'])\n",
        "\n",
        "ax12 = fig.add_subplot(8, 2, 12)\n",
        "ax12.set_title(\"Histogram of 'Latitude'\")\n",
        "df_train['Latitude'].hist(bins=20)\n",
        "\n",
        "ax13 = fig.add_subplot(8, 2, 13)\n",
        "ax13.set_title(\"Plot of 'Surface'\")\n",
        "df_train.boxplot(column=['Surface'])\n",
        "\n",
        "ax14 = fig.add_subplot(8, 2, 14)\n",
        "ax14.set_title(\"Histogram of 'Surface'\")\n",
        "df_train['Surface'].hist(bins=20)\n",
        "\n",
        "ax15 = fig.add_subplot(8, 2, 15)\n",
        "ax15.set_title(\"Plot of 'Price'\")\n",
        "df_train.boxplot(column=['Price'])\n",
        "\n",
        "ax16 = fig.add_subplot(8, 2, 16)\n",
        "ax16.set_title(\"Histogram of 'Price'\")\n",
        "df_train['Price'].hist(bins=20)"
      ],
      "execution_count": 16,
      "outputs": [
        {
          "output_type": "execute_result",
          "data": {
            "text/plain": [
              "<matplotlib.axes._subplots.AxesSubplot at 0x7fa14f7f50d0>"
            ]
          },
          "metadata": {},
          "execution_count": 16
        },
        {
          "output_type": "display_data",
          "data": {
            "image/png": "[encoded data removed]",
            "text/plain": [
              "<Figure size 1440x2160 with 16 Axes>"
            ]
          },
          "metadata": {
            "needs_background": "light"
          }
        }
      ]
    },
    {
      "cell_type": "markdown",
      "metadata": {
        "id": "p2LpCTSgljiU"
      },
      "source": [
        "There is an outlier on 'Surface' that needs to be investigated"
      ]
    },
    {
      "cell_type": "code",
      "metadata": {
        "colab": {
          "base_uri": "https://localhost:8080/",
          "height": 335
        },
        "id": "LMUs3SjJlCLT",
        "outputId": "a5e54ca0-311f-43cc-889c-f249650ed9e3"
      },
      "source": [
        "df_train[(df_train.Surface > 2000)]"
      ],
      "execution_count": 17,
      "outputs": [
        {
          "output_type": "execute_result",
          "data": {
            "text/html": [
              "<div>\n",
              "<style scoped>\n",
              "    .dataframe tbody tr th:only-of-type {\n",
              "        vertical-align: middle;\n",
              "    }\n",
              "\n",
              "    .dataframe tbody tr th {\n",
              "        vertical-align: top;\n",
              "    }\n",
              "\n",
              "    .dataframe thead th {\n",
              "        text-align: right;\n",
              "    }\n",
              "</style>\n",
              "<table border=\"1\" class=\"dataframe\">\n",
              "  <thead>\n",
              "    <tr style=\"text-align: right;\">\n",
              "      <th></th>\n",
              "      <th>Index</th>\n",
              "      <th>Location</th>\n",
              "      <th>Num_Bathrooms</th>\n",
              "      <th>Num_Beds</th>\n",
              "      <th>BER_class</th>\n",
              "      <th>Description</th>\n",
              "      <th>Features</th>\n",
              "      <th>Latitude</th>\n",
              "      <th>Longitude</th>\n",
              "      <th>Surface</th>\n",
              "      <th>Price</th>\n",
              "      <th>Type_apartment</th>\n",
              "      <th>Type_bungalow</th>\n",
              "      <th>Type_detached</th>\n",
              "      <th>Type_duplex</th>\n",
              "      <th>Type_end-of-terrace</th>\n",
              "      <th>Type_semi-detached</th>\n",
              "      <th>Type_site</th>\n",
              "      <th>Type_studio</th>\n",
              "      <th>Type_terraced</th>\n",
              "      <th>Type_townhouse</th>\n",
              "    </tr>\n",
              "  </thead>\n",
              "  <tbody>\n",
              "    <tr>\n",
              "      <th>506</th>\n",
              "      <td>507</td>\n",
              "      <td>138</td>\n",
              "      <td>1</td>\n",
              "      <td>4</td>\n",
              "      <td>12.0</td>\n",
              "      <td>Thornton Park is a superb modern equestrian ce...</td>\n",
              "      <td>None</td>\n",
              "      <td>53.474502</td>\n",
              "      <td>-6.343483</td>\n",
              "      <td>72236.38714</td>\n",
              "      <td>1100000</td>\n",
              "      <td>0</td>\n",
              "      <td>1</td>\n",
              "      <td>0</td>\n",
              "      <td>0</td>\n",
              "      <td>0</td>\n",
              "      <td>0</td>\n",
              "      <td>0</td>\n",
              "      <td>0</td>\n",
              "      <td>0</td>\n",
              "      <td>0</td>\n",
              "    </tr>\n",
              "    <tr>\n",
              "      <th>1115</th>\n",
              "      <td>1116</td>\n",
              "      <td>19</td>\n",
              "      <td>1</td>\n",
              "      <td>2</td>\n",
              "      <td>13.0</td>\n",
              "      <td>Baxter Real Estate are delighted to present to...</td>\n",
              "      <td>Short drive to the N3 and M50 .\\nSuitable for ...</td>\n",
              "      <td>53.386540</td>\n",
              "      <td>-6.377356</td>\n",
              "      <td>6705.00000</td>\n",
              "      <td>425000</td>\n",
              "      <td>0</td>\n",
              "      <td>1</td>\n",
              "      <td>0</td>\n",
              "      <td>0</td>\n",
              "      <td>0</td>\n",
              "      <td>0</td>\n",
              "      <td>0</td>\n",
              "      <td>0</td>\n",
              "      <td>0</td>\n",
              "      <td>0</td>\n",
              "    </tr>\n",
              "  </tbody>\n",
              "</table>\n",
              "</div>"
            ],
            "text/plain": [
              "      Index  Location  ...  Type_terraced  Type_townhouse\n",
              "506     507       138  ...              0               0\n",
              "1115   1116        19  ...              0               0\n",
              "\n",
              "[2 rows x 21 columns]"
            ]
          },
          "metadata": {},
          "execution_count": 17
        }
      ]
    },
    {
      "cell_type": "markdown",
      "metadata": {
        "id": "DRo9rE7Klnc9"
      },
      "source": [
        "There is only two values in the range greater than 2,000. Decision to remove it seems valid."
      ]
    },
    {
      "cell_type": "code",
      "metadata": {
        "id": "wvd5R8rulwpw"
      },
      "source": [
        "df_train = df_train.drop(df_train[df_train.Surface > 2000].index)"
      ],
      "execution_count": 18,
      "outputs": []
    },
    {
      "cell_type": "code",
      "metadata": {
        "id": "FR1Kurr8koN1"
      },
      "source": [
        "# Apply scalers to data to resolve distribution and outlier issues\n",
        "from sklearn.preprocessing import StandardScaler\n",
        "from sklearn.preprocessing import MinMaxScaler\n",
        "\n",
        "minmax = MinMaxScaler()\n",
        "standardscaler = StandardScaler()\n",
        "\n",
        "# Not a normal distribution so just scale with MinMax [0, 1]\n",
        "df_train[['Location']] = minmax.fit_transform(df_train[['Location']])\n",
        "\n",
        "# Deal with outliers with a Log Transform - later we will use Standard Scaler as well on some feature\n",
        "df_train['Num_Bathrooms'] = np.log(df_train['Num_Bathrooms'])\n",
        "\n",
        "df_train['Num_Beds'] = np.log(df_train['Num_Beds'])\n",
        "\n",
        "df_train['Latitude'] = np.log(df_train['Latitude'])\n",
        "\n",
        "df_train['Surface'] = np.log(df_train['Surface'])\n",
        "\n",
        "df_train['Price'] = np.log(df_train['Price'])\n",
        "\n",
        "# Standard scaler for normal distributions\n",
        "df_train[['BER_class', 'Longitude', 'Latitude', 'Surface', 'Price']] = standardscaler.fit_transform(df_train[['BER_class', 'Longitude', 'Latitude', 'Surface', 'Price']])\n"
      ],
      "execution_count": 19,
      "outputs": []
    },
    {
      "cell_type": "markdown",
      "metadata": {
        "id": "AG4JxHmwsjEd"
      },
      "source": [
        "Do the same scaling to the Test Data"
      ]
    },
    {
      "cell_type": "code",
      "metadata": {
        "colab": {
          "base_uri": "https://localhost:8080/"
        },
        "id": "T641v2TdsnpI",
        "outputId": "99c25d44-92bd-4040-8f4a-6030f3588985"
      },
      "source": [
        "# Check for missing values in Training data - calculate % misisng values\n",
        "test_missing = test_data.isnull().sum()*100/len(test_data)\n",
        "print(test_missing)"
      ],
      "execution_count": 20,
      "outputs": [
        {
          "output_type": "stream",
          "name": "stdout",
          "text": [
            "Index             0.000000\n",
            "ID                0.000000\n",
            "Location          0.000000\n",
            "Num_Bathrooms     0.000000\n",
            "Num_Beds          0.000000\n",
            "BER_class        15.384615\n",
            "Description       0.000000\n",
            "Services         64.957265\n",
            "Features          0.000000\n",
            "Latitude          0.000000\n",
            "Longitude         0.000000\n",
            "Type              0.000000\n",
            "Surface           0.000000\n",
            "dtype: float64\n"
          ]
        }
      ]
    },
    {
      "cell_type": "code",
      "metadata": {
        "id": "hA9fcSHbtbGT"
      },
      "source": [
        "# Drop unimportant features\n",
        "\n",
        "test_data.drop(['ID', 'Services'], axis=1, inplace=True)\n"
      ],
      "execution_count": 21,
      "outputs": []
    },
    {
      "cell_type": "code",
      "metadata": {
        "id": "0Vb-owPEt6cb"
      },
      "source": [
        "df_test = test_data.copy()"
      ],
      "execution_count": 22,
      "outputs": []
    },
    {
      "cell_type": "code",
      "metadata": {
        "id": "7EDOr10Itsga"
      },
      "source": [
        "# Let's deal with categorical data for Test Dataset\n",
        "\n",
        "# Replace area name with the index from the 'unique_areas_index' dictionary \n",
        "df_test_1 = df_test.replace({'Location': unique_areas_index})\n",
        "\n",
        "# Replace BER_class with the index from the 'unique_ber_index' dictionary \n",
        "df_test_2 = df_test_1.replace({'BER_class': unique_ber_index})\n",
        "\n",
        "# One-hot Encode 'Type'\n",
        "df_test_2 = pd.get_dummies(df_test_2, columns=['Type'])\n",
        "\n",
        "df_test = df_test_2.copy()\n",
        "\n",
        "# Take a copy of the Location and BER_class column before scaling - this will be used during imputing for NaNs later\n",
        "loc_ber_test_values = df_test[['Location', 'BER_class']].copy()\n",
        "\n",
        "# Apply same scalers as for Training dataset\n",
        "df_test[['Location']] = minmax.fit_transform(df_test[['Location']])\n",
        "\n",
        "df_test['Num_Bathrooms'] = np.log(df_test['Num_Bathrooms'])\n",
        "\n",
        "df_test['Num_Beds'] = np.log(df_test['Num_Beds'])\n",
        "\n",
        "df_test['Latitude'] = np.log(df_test['Latitude'])\n",
        "\n",
        "df_test['Surface'] = np.log(df_test['Surface'])\n",
        "\n",
        "# Standard scaler for normal distributions\n",
        "df_test[['BER_class', 'Longitude', 'Latitude', 'Surface']] = standardscaler.fit_transform(df_test[['BER_class', 'Longitude', 'Latitude', 'Surface']])\n"
      ],
      "execution_count": 23,
      "outputs": []
    },
    {
      "cell_type": "markdown",
      "metadata": {
        "id": "he3gk4kS-iPr"
      },
      "source": [
        "Now let's look at 'BER_class' and see how important it is for predicting price.\n",
        "The following approach uses XGBoost Regression algorithm which has some powerful built in functions for Feature Importance."
      ]
    },
    {
      "cell_type": "code",
      "metadata": {
        "id": "THFqAjKz9Kj1"
      },
      "source": [
        "# Let's take a closer look at 'BER_class' using feature importance on all data set\n",
        "# We will look at the feature Importance of 'BER_class' with empty features removed from the dataset \n",
        "# and left in to see check the impact also for imputation.\n",
        "\n",
        "import xgboost as xgb\n",
        "from sklearn.model_selection import train_test_split\n",
        "from sklearn.metrics import mean_squared_error, r2_score\n",
        "\n",
        "def xgb_model(X, y, msg):\n",
        "\n",
        "  xgb_model = xgb.XGBRegressor(max_depth=7, learning_rate = 0.6, n_jobs=4, objective = 'reg:squarederror', random_state=10, n_estimators=50).fit(X, y)\n",
        "\n",
        "  y_train_xgb_pred = xgb_model.predict(X)\n",
        "\n",
        "  RMSE_xgb_train = mean_squared_error(y, y_train_xgb_pred, squared=False)\n",
        "\n",
        "  r2_xgb_train = r2_score(y, y_train_xgb_pred)\n",
        "\n",
        "  print(msg)\n",
        "\n",
        "  print(\"RMSE_train: %.4f   R2_score: %.4f\" %(RMSE_xgb_train, r2_xgb_train))\n",
        "\n",
        "  return xgb_model, RMSE_xgb_train, r2_xgb_train"
      ],
      "execution_count": 24,
      "outputs": []
    },
    {
      "cell_type": "code",
      "metadata": {
        "colab": {
          "base_uri": "https://localhost:8080/"
        },
        "id": "mbTJtwYQi2qN",
        "outputId": "b0e6ff09-9351-47c3-a8a9-704a8f8ae215"
      },
      "source": [
        "# Let's look at the Feature Importance with all BER_class values equal to NULL removed\n",
        "# We will also remove large text features for now.\n",
        "\n",
        "features = ['Location', 'Num_Bathrooms', 'Num_Beds', 'BER_class',\n",
        "                        'Latitude', 'Longitude', 'Surface', 'Type_apartment', \n",
        "                        'Type_bungalow', 'Type_detached', 'Type_duplex',\n",
        "                        'Type_end-of-terrace', 'Type_semi-detached', 'Type_site', 'Type_studio',\n",
        "                        'Type_terraced', 'Type_townhouse', 'Price']\n",
        "\n",
        "df_train_xgb = df_train[features]\n",
        "X_train_xgb = df_train_xgb.iloc[:,0:-1].values \n",
        "y_train_xgb = df_train_xgb.iloc[:,-1].values.reshape(-1,1)  \n",
        "\n",
        "df_train_xgb_partial = df_train_xgb.dropna(how='all', subset=['BER_class'])\n",
        "X_train_xgb_partial = df_train_xgb_partial.iloc[:,0:-1].values\n",
        "y_train_xgb_partial = df_train_xgb_partial.iloc[:,-1].values.reshape(-1,1) \n",
        "\n",
        "# Call XGBoost Model for each dataset\n",
        "\n",
        "Model_Full, RMSE_xgb_train_full, r2_xgb_train_full = xgb_model(X_train_xgb, y_train_xgb, \"Performance Evaluation for Full Training Set\")\n",
        "\n",
        "Model_Partial, RMSE_xgb_train_partial, r2_xgb_train_partial = xgb_model(X_train_xgb_partial, y_train_xgb_partial, \"Performance Evaluation for NaNs Removed\")\n",
        "\n"
      ],
      "execution_count": 25,
      "outputs": [
        {
          "output_type": "stream",
          "name": "stdout",
          "text": [
            "Performance Evaluation for Full Training Set\n",
            "RMSE_train: 0.0332   R2_score: 0.9989\n",
            "Performance Evaluation for NaNs Removed\n",
            "RMSE_train: 0.0230   R2_score: 0.9994\n"
          ]
        }
      ]
    },
    {
      "cell_type": "code",
      "metadata": {
        "colab": {
          "base_uri": "https://localhost:8080/",
          "height": 395
        },
        "id": "JwLrm20MlVoc",
        "outputId": "dd047e73-6071-45e6-9022-b42df3084d13"
      },
      "source": [
        "# Let's plot the Feature Importance for each of these solutions\n",
        "\n",
        "import seaborn as sn\n",
        "\n",
        "fig = plt.figure(figsize=(25,6))\n",
        "\n",
        "Model_Full.get_booster().feature_names = features[:-1]\n",
        "ax1 = fig.add_subplot(1, 2, 1)\n",
        "ax1.set_title(\"Plot of Feature Importance for Full Model\")\n",
        "xgb.plot_importance(Model_Full, max_num_features= 17, ax=ax1, importance_type=\"weight\")\n",
        "\n",
        "Model_Partial.get_booster().feature_names = features[:-1]\n",
        "ax2 = fig.add_subplot(1, 2, 2)\n",
        "ax2.set_title(\"Plot of Feature Importance for Model with NaNs removed.\")\n",
        "xgb.plot_importance(Model_Partial, max_num_features= 17, ax=ax2, importance_type=\"weight\")\n",
        "\n",
        "plt.show()\n"
      ],
      "execution_count": 26,
      "outputs": [
        {
          "output_type": "display_data",
          "data": {
            "image/png": "[encoded data removed]",
            "text/plain": [
              "<Figure size 1800x432 with 2 Axes>"
            ]
          },
          "metadata": {
            "needs_background": "light"
          }
        }
      ]
    },
    {
      "cell_type": "markdown",
      "metadata": {
        "id": "-y3OfhT_49NQ"
      },
      "source": [
        "**Analysis of Plots** It can be seen from the above plots of Training Dataset with NaNs removed (plot on right) and NaNs left (plot on left) in that both plots confirm the importance of BER_class. XGBoost handles NaN values by default but we cannot expect that all models wil do so. We will keep the BER_class and compute imputed values for missing data.\n",
        "\n",
        "Note also that both models agree on the overall importance of features. The Top 7 Features have a greater influence on model performance. It seems that property 'Type' is not so important.\n",
        "\n",
        "For this exercise, I will concentrate on the Top 7 key features and remove the 'Type'"
      ]
    },
    {
      "cell_type": "markdown",
      "metadata": {
        "id": "qOhE_Pm6Ugrq"
      },
      "source": [
        "#### Imputing BER_class value: replace NaNs with average BER by location"
      ]
    },
    {
      "cell_type": "code",
      "metadata": {
        "id": "ZIwkj9zDFY1g"
      },
      "source": [
        "# First we will determine the average BER_class for each Location.\n",
        "# This approach was taken because many locations have a mix of BER ratings (determined from analysis)\n",
        "# but are, in general, either new development areas or mature development areas and as such \n",
        "# are likely to have ratings within a range based on maturity of the location as a whole.\n",
        "\n",
        "# Determine the average BER_class rating by location\n",
        "feat = ['Location', 'BER_class']\n",
        "train_feat = df_train_2[feat]\n",
        "test_feat =  df_test_2[feat]\n",
        "train_test_stack = pd.concat([train_feat, test_feat])\n",
        "\n",
        "average_vals = train_test_stack.groupby(['Location'], dropna=True)['BER_class'].mean().round()\n"
      ],
      "execution_count": 27,
      "outputs": []
    },
    {
      "cell_type": "markdown",
      "metadata": {
        "id": "rQzYXEgixIox"
      },
      "source": [
        "**Comment** The code above creates a lookup of Average BER_class by Location. However, this is not a perfect lookup as there are several locations in the combined Training and Test datasets that have only one property in certain locations and these properties have a NaN value for BER_class. This means that the lookup will not be able to replace these NaNs with and average. Tests have shown that the effect is limited and the BER_class is improved from 15.4% missing values to 0.1% missing values. "
      ]
    },
    {
      "cell_type": "code",
      "metadata": {
        "id": "7g9ccilmcw_m"
      },
      "source": [
        "# Look for NaNs and replace them with the average for the given location\n",
        "import math\n",
        "\n",
        "def impute_ber(data):\n",
        "  for index, row in data.iterrows():\n",
        "    if math.isnan(row['BER_class']): \n",
        "      loc = row['Location']\n",
        "      lookup_ber = average_vals.loc[loc]\n",
        "      data.loc[index, \"BER_class\"] = lookup_ber\n",
        "  return data"
      ],
      "execution_count": 28,
      "outputs": []
    },
    {
      "cell_type": "code",
      "metadata": {
        "id": "2HGvWNPxRUof"
      },
      "source": [
        "# Impute BER_class on training data\n",
        "ber_tr_values = impute_ber(loc_ber_train_values)\n",
        "\n",
        "# Impute BER_class on test data\n",
        "ber_ts_values = impute_ber(loc_ber_test_values)\n",
        "\n",
        "# There are still a very small number (2 in both training and test datsets) of NaNs due to single properties in locations that have NaNs and therefore could not be averaged\n",
        "# We will apply an average over the entire feature for BER_class to populate these\n",
        "ber_tr_values['BER_class'].fillna((ber_tr_values['BER_class'].mean()), inplace=True)\n",
        "ber_ts_values['BER_class'].fillna((ber_ts_values['BER_class'].mean()), inplace=True)\n",
        "\n",
        "# We can apply the standard scaler to each of the training and test set BER_class features\n",
        "ber_tr_values[['BER_class']] = standardscaler.fit_transform(ber_tr_values[['BER_class']])\n",
        "ber_ts_values[['BER_class']] = standardscaler.fit_transform(ber_ts_values[['BER_class']])\n",
        "\n",
        "# Then we insert these columns back into the df_train and df_test datasets\n",
        "df_train['BER_class'] = ber_tr_values['BER_class']\n",
        "df_test['BER_class'] = ber_ts_values['BER_class']"
      ],
      "execution_count": 29,
      "outputs": []
    },
    {
      "cell_type": "code",
      "metadata": {
        "id": "riiimrmxW5ay"
      },
      "source": [
        "# Create a processing pipeline as a function\n",
        "\n",
        "def process_dataset(dataset, ds_type):\n",
        "\n",
        "  minmax=MinMaxScaler()\n",
        "  standardscaler = StandardScaler()\n",
        "\n",
        "  # Remove outliers for location that is not in Dublin\n",
        "  df_dataset = dataset.drop(dataset[(dataset.Longitude > -6) | (dataset.Latitude < 53)].index)\n",
        "\n",
        "  # Drop unimportant features\n",
        "  df_dataset.drop(['ID', 'Services'], axis=1, inplace=True)\n",
        "\n",
        "  # Replace Locations with index value from 'unique_areas_index' lookup\n",
        "  df_dataset_1 = df_dataset.replace({'Location': unique_areas_index})\n",
        "\n",
        "  # Replace BER_class with index value from 'unique_ber_index'\n",
        "  df_dataset_2 = df_train_1.replace({'BER_class': unique_ber_index})\n",
        "\n",
        "  # One-hot-encode 'Type\n",
        "  df_datset_2 = pd.get_dummies(df_dataset_2, columns=['Type'])\n",
        "\n",
        "  df_dataset = df_dataset_2.copy()\n",
        "\n",
        "  # Take a copy of the Location and BER_class before applying further scaling\n",
        "\n",
        "  loc_ber_dataset_values = df_dataset[['Location', 'BER_class']].copy()\n",
        "\n",
        "  # Remove Surface values over 2000.\n",
        "  df_dataset = df_datatset.drop(df_dataset[df_datset.Surface > 2000].index)\n",
        "\n",
        "  # Apply scalers to features\n",
        "  minmax = MinMaxScaler()\n",
        "  standardscaler = StandardScaler()\n",
        "\n",
        "  # Not a normal distribution so just scale with MinMax [0, 1]\n",
        "  df_dataset[['Location']] = minmax.fit_transform(df_dataset[['Location']])\n",
        "\n",
        "  # Deal with outliers with a Log Transform - later we will use Standard Scaler as well on some feature\n",
        "  df_dataset['Num_Bathrooms'] = np.log(df_dataset['Num_Bathrooms'])\n",
        "\n",
        "  df_dataset['Num_Beds'] = np.log(df_datatset['Num_Beds'])\n",
        "\n",
        "  df_dataset['Latitude'] = np.log(df_dataset['Latitude'])\n",
        "\n",
        "  df_dataset['Surface'] = np.log(df_dataset['Surface'])\n",
        "\n",
        "  df_dataset['Price'] = np.log(df_dataset['Price'])\n",
        "\n",
        "  # Standard scaler for normal distributions\n",
        "  df_dataset[['BER_class', 'Longitude', 'Latitude', 'Surface']] = standardscaler.fit_transform(df_dataset[['BER_class', 'Longitude', 'Latitude', 'Surface']])\n",
        "\n",
        "  # Scale 'Price' if teh dataset if Training/Validation\n",
        "  if ds_type == \"Training\":\n",
        "    df_dataset[['Price']] = standardscaler.fit_transform(df_dataset[['Price']])\n",
        "\n",
        "\n",
        "  return df_datset, loc_ber_dataset_values"
      ],
      "execution_count": null,
      "outputs": []
    },
    {
      "cell_type": "code",
      "metadata": {
        "colab": {
          "base_uri": "https://localhost:8080/"
        },
        "id": "MVFbKXYlaJna",
        "outputId": "7d270319-9a5a-41ed-b5ab-509392deefd0"
      },
      "source": [
        "# Let's test for any performance changes with the XGBoost Model\n",
        "\n",
        "# Remove 'Type' from dataset as it does not appear to be too important\n",
        "features = ['Location', 'Num_Bathrooms', 'Num_Beds', 'BER_class',\n",
        "                        'Latitude', 'Longitude', 'Surface','Price']\n",
        "\n",
        "df_train_xgb = df_train[features]\n",
        "X_train_xgb = df_train_xgb.iloc[:,0:-1].values \n",
        "y_train_xgb = df_train_xgb.iloc[:,-1].values.reshape(-1,1)  \n",
        "\n",
        "# Call XGBoost Model for each dataset\n",
        "Model_Full, RMSE_xgb_train_full, r2_xgb_train_full = xgb_model(X_train_xgb, y_train_xgb, \"Performance Evaluation for Full Training Set\")\n"
      ],
      "execution_count": 30,
      "outputs": [
        {
          "output_type": "stream",
          "name": "stdout",
          "text": [
            "Performance Evaluation for Full Training Set\n",
            "RMSE_train: 0.0410   R2_score: 0.9983\n"
          ]
        }
      ]
    },
    {
      "cell_type": "markdown",
      "metadata": {
        "id": "tzW8dKSMd7dc"
      },
      "source": [
        "**Comment** The performance of the XGBoost Model has not shown much improvement with the imputing of missing BER_values. However, that is expected as XGBoost handles missing values by default. We expect to see no great impact on the model, but no deterioration."
      ]
    },
    {
      "cell_type": "code",
      "metadata": {
        "colab": {
          "base_uri": "https://localhost:8080/",
          "height": 404
        },
        "id": "feqaggUld5Vs",
        "outputId": "4af4ce78-a417-402e-ec38-67a2a1a7056e"
      },
      "source": [
        "# Plot the Feature Importance to see what the impact of imputing BER_class has been\n",
        "fig, ax = plt.subplots(figsize=(12, 6))\n",
        "\n",
        "Model_Full.get_booster().feature_names = features[:-1]\n",
        "xgb.plot_importance(Model_Full, max_num_features= 7, ax=ax, importance_type=\"weight\")\n",
        "plt.show()"
      ],
      "execution_count": 31,
      "outputs": [
        {
          "output_type": "display_data",
          "data": {
            "image/png": "[encoded data removed]",
            "text/plain": [
              "<Figure size 864x432 with 1 Axes>"
            ]
          },
          "metadata": {
            "needs_background": "light"
          }
        }
      ]
    },
    {
      "cell_type": "markdown",
      "metadata": {
        "id": "yX3llkLheaDy"
      },
      "source": [
        "**Comment** As mentioned above, we expect to see no great change from in either BER_class feature importance. Key here is the model performs well with the newly processed data and that is confirmed. We want to process the data to perform well with models that do not handle missing data well and that is what we have done here."
      ]
    },
    {
      "cell_type": "markdown",
      "metadata": {
        "id": "pezB2qttcfvJ"
      },
      "source": [
        "### Analysis of Exploratory Data Analysis and Feature Engineering/Preprocessing\n",
        "**Explain the approach, setps and results**\n",
        "\n",
        "**Discuss the imputing for BER_class**\n",
        ">>1) Not much impact and \n",
        "\n",
        ">>2) not expected with XGBoost but will be important for modelling with algorithms that do not handle NaNs as well as XGBoost>\n",
        "\n",
        "**Discuss the Type feature(s)** and the fact they do not look useful and may be removed from further processing\n",
        "\n",
        "\n",
        "**The data is fully processed and ready for next stage - NLP Processing**"
      ]
    },
    {
      "cell_type": "markdown",
      "metadata": {
        "id": "kv89CagzfFWF"
      },
      "source": [
        "The training and test datasets have been fully processed by removing unnecessary columns removing erroneous records, scaling and imputing values to provide complete datasets ready for further processing."
      ]
    },
    {
      "cell_type": "markdown",
      "metadata": {
        "id": "5iBxEe-2fgNs"
      },
      "source": [
        "**Comment** key to note here is the scales on all features are within similar ranges and not with large differences."
      ]
    },
    {
      "cell_type": "markdown",
      "metadata": {
        "id": "G5oRiZxo2gpN"
      },
      "source": [
        "# NATURAL LANGUAGE PROCESSING"
      ]
    },
    {
      "cell_type": "markdown",
      "metadata": {
        "id": "e8s0Wi3a8yjN"
      },
      "source": [
        "Natural language processing ([NLP](https://en.wikipedia.org/wiki/Natural_language_processing)) is a subfield of linguistics, computer science, and artificial intelligence.\n",
        "\n",
        "* NLP concerned with the interactions between computers and human language.\n",
        "* In particular how to program computers to process and analyze large amounts of natural language data. \n",
        "* The goal is a computer capable of \"understanding\" the contents of documents.\n",
        "* Including the contextual nuances of the language within them. \n",
        "* The technology can then accurately extract information and insights contained in the documents.\n",
        "* As well as categorize and organize the documents themselves. "
      ]
    },
    {
      "cell_type": "markdown",
      "metadata": {
        "id": "oValFP-z2gpN"
      },
      "source": [
        "For this section, we will process the two textual features using NLP techniqus. The two textual features are:\n",
        "\n",
        "1. Description\n",
        "\n",
        "2. Features\n",
        "\n",
        "We are looking to see if these features have an impact on price. There maybe some words or phrases (bi- or tri-grams) that may influence the Price paid for the propertes. This is interesting because these are typically used by sellers or estate agents to dscribe the prperty for sale. The use of descriptions like this, as well as more detail on features of the prperty, are likely to influence buyers, so we will test this."
      ]
    },
    {
      "cell_type": "markdown",
      "metadata": {
        "id": "__2NJo1HSWkF"
      },
      "source": [
        "### Approach to using NLP to increase the performance of the datasets\n",
        "There are many options available to using NLP to process text data. For the current exercise, I will look at using NLP to provide additional features that may enhance the results and increase performance of the prediction models.\n",
        "\n",
        "The approach will take the follow steps\n",
        "1. Process 'Description' and 'Features' features to extract relevant words or phrases (n-grams). **Note**: It has been observed that these features, especially 'Description' can have similar text content. An initial review has also found descriptions of property features in the 'Description' field and \"None\" in the 'Features' field. This will be mitigated by combining these textual fields for processing.\n",
        "\n",
        "2. Combine 'Description' and 'Features' fields and process by removing extraneous content such as numbers, punctuation, stopwords, etc and then Stemming, Lemmatizing, etc. to produce clean textual content.\n",
        "\n",
        "3. Apply TF-IDF to extract the most important words and phrases across the textual corpus.\n",
        "\n",
        "4. Order and select the top X number of words and phrases and create new features from them on the datasets, i.e. 'has_Parking', 'has_Garden', 'local_Amenities', etc.\n",
        "\n",
        "5. Process each property record in both Training and Test datasets to update these features with [0, 1] if any of the words or phrases are present in the text of the record/sample.\n",
        "\n",
        "6. This will provide additional features to train on - I will train on a full set of features on both Bayes Regression Model and Bayes Nueral Network.\n",
        "\n",
        "7. I will also see if these features change the Feature Importance selected by XGBoost.\n",
        "\n",
        "8. Overall performance improvement will be evaluated across models with/without these new features."
      ]
    },
    {
      "cell_type": "markdown",
      "metadata": {
        "id": "EtzVO6GWJVeM"
      },
      "source": [
        "## Word Counting in Property Corpus"
      ]
    },
    {
      "cell_type": "code",
      "metadata": {
        "colab": {
          "base_uri": "https://localhost:8080/"
        },
        "id": "bX15hme1jp1Y",
        "outputId": "7ed11e61-6470-446b-e08f-32c5348b331c"
      },
      "source": [
        "# Set up the various components of the NLP processing code\n",
        "\n",
        "from nltk.tokenize import word_tokenize  \n",
        "from nltk.stem import WordNetLemmatizer\n",
        "from nltk.stem.porter import *\n",
        "nltk.download('punkt')\n",
        "nltk.download('wordnet')\n",
        "import nltk\n",
        "nltk.download('stopwords')"
      ],
      "execution_count": 39,
      "outputs": [
        {
          "output_type": "stream",
          "name": "stdout",
          "text": [
            "[nltk_data] Downloading package punkt to /root/nltk_data...\n",
            "[nltk_data]   Unzipping tokenizers/punkt.zip.\n",
            "[nltk_data] Downloading package wordnet to /root/nltk_data...\n",
            "[nltk_data]   Unzipping corpora/wordnet.zip.\n",
            "[nltk_data] Downloading package stopwords to /root/nltk_data...\n",
            "[nltk_data]   Unzipping corpora/stopwords.zip.\n"
          ]
        },
        {
          "output_type": "execute_result",
          "data": {
            "text/plain": [
              "True"
            ]
          },
          "metadata": {},
          "execution_count": 39
        }
      ]
    },
    {
      "cell_type": "code",
      "metadata": {
        "id": "e_WND6NP2gpN"
      },
      "source": [
        "# Define a text preprocessing function\n",
        "\n",
        "def nlp_preprocess(text):\n",
        " \n",
        "  text = text.lower() # set all text to lower case\n",
        "\n",
        "  string = re.sub('[^a-zA-Z]', ' ', text) # extract only words from text\n",
        "\n",
        "  text = \" \".join(string.split()) # split text into words\n",
        "\n",
        "  shortword = re.compile(r'\\W*\\b\\w{1,2}\\b') # remove single or double letter words\n",
        "  text = (shortword.sub('', text))\n",
        "\n",
        "  # 1. Tokenization\n",
        "  NLP_token = word_tokenize(text) # Tokenise the words\n",
        "\n",
        "  # 3. Lemmatization\n",
        "  WL = WordNetLemmatizer()\n",
        "  NLP_lemma = []\n",
        "  for word in NLP_token:\n",
        "  #for word in NLP_stem:\n",
        "      NLP_lemma.append(WL.lemmatize(word))\n",
        "  \n",
        "  # 4. Stopword   \n",
        "  FS = []  \n",
        "  NLP_stop = set(stopwords.words(\"english\"))\n",
        "  for w in NLP_lemma:  \n",
        "      if w not in NLP_stop:  \n",
        "        FS.append(w)\n",
        "  \n",
        "  # 5. Punctuation  \n",
        "  punctuations = \"?:!.,;\"\n",
        "  for word in FS:\n",
        "      if word in punctuations:\n",
        "          FS.remove(word)\n",
        "             \n",
        "  return FS"
      ],
      "execution_count": 40,
      "outputs": []
    },
    {
      "cell_type": "code",
      "metadata": {
        "id": "STw0y9njNMxE"
      },
      "source": [
        "# Function to count words in text corpi\n",
        "\n",
        "def count_words(text):\n",
        "  for word in text:\n",
        "    if word not in list(word_counts.keys()): word_counts.update({word:1})\n",
        "    else: word_counts[word] += 1\n",
        "  return word_counts"
      ],
      "execution_count": 36,
      "outputs": []
    },
    {
      "cell_type": "code",
      "metadata": {
        "id": "NRSQz955j8Gx"
      },
      "source": [
        "# Firstly, let's add back the \"Description\" and \"Features\" columns to the df_train and df_test datsets\n",
        "\n",
        "df_train['Desc_Feat'] = train_data['Description'] + ' ' + train_data['Features']\n",
        "\n",
        "df_test['Desc_Feat'] = train_data['Description'] +' ' + train_data['Features']\n"
      ],
      "execution_count": 37,
      "outputs": []
    },
    {
      "cell_type": "code",
      "metadata": {
        "id": "1wwg0XFwR1Zm"
      },
      "source": [
        "# Generate the list of words sorted by count of word occurrences\n",
        "word_counts={}\n",
        "\n",
        "n = df_train.shape[0]\n",
        "for p in range(n):\n",
        "  text= nlp_preprocess((df_train.iloc[p]['Desc_Feat']))\n",
        "  count_words(text)\n",
        "\n",
        "sorted_words = dict(sorted(word_counts.items(), key=lambda x: x[1], reverse=True))"
      ],
      "execution_count": 41,
      "outputs": []
    },
    {
      "cell_type": "code",
      "metadata": {
        "id": "fwIKX04Dfnvm"
      },
      "source": [
        "# Create a DataFrame from the sorted list of words by word occurrences\n",
        "# Select just top 120 values\n",
        "\n",
        "words = list(sorted_words.keys())[0:120]\n",
        "count = list(sorted_words.values())[0:120]\n",
        "\n",
        "df_wdcount=pd.DataFrame(words, columns=['Words'])\n",
        "df_wdcount['Counts'] = count"
      ],
      "execution_count": 42,
      "outputs": []
    },
    {
      "cell_type": "code",
      "metadata": {
        "colab": {
          "base_uri": "https://localhost:8080/",
          "height": 737
        },
        "id": "4feK6VMSXBqw",
        "outputId": "7eb39c44-4803-4ae9-c39c-0d3dd5249c47"
      },
      "source": [
        "# Plot the list of words by word accurences acorss all the prperty records\n",
        "\n",
        "plt.figure(figsize=(20, 8))\n",
        "ax = sn.barplot(x='Words', y='Counts', data=df_wdcount, order=df_wdcount.sort_values('Counts', ascending=False).Words)\n",
        "plt.xticks(rotation=90)"
      ],
      "execution_count": 43,
      "outputs": [
        {
          "output_type": "execute_result",
          "data": {
            "text/plain": [
              "(array([  0,   1,   2,   3,   4,   5,   6,   7,   8,   9,  10,  11,  12,\n",
              "         13,  14,  15,  16,  17,  18,  19,  20,  21,  22,  23,  24,  25,\n",
              "         26,  27,  28,  29,  30,  31,  32,  33,  34,  35,  36,  37,  38,\n",
              "         39,  40,  41,  42,  43,  44,  45,  46,  47,  48,  49,  50,  51,\n",
              "         52,  53,  54,  55,  56,  57,  58,  59,  60,  61,  62,  63,  64,\n",
              "         65,  66,  67,  68,  69,  70,  71,  72,  73,  74,  75,  76,  77,\n",
              "         78,  79,  80,  81,  82,  83,  84,  85,  86,  87,  88,  89,  90,\n",
              "         91,  92,  93,  94,  95,  96,  97,  98,  99, 100, 101, 102, 103,\n",
              "        104, 105, 106, 107, 108, 109, 110, 111, 112, 113, 114, 115, 116,\n",
              "        117, 118, 119]), <a list of 120 Text major ticklabel objects>)"
            ]
          },
          "metadata": {},
          "execution_count": 43
        },
        {
          "output_type": "display_data",
          "data": {
            "image/png": "[encoded data removed]",
            "text/plain": [
              "<Figure size 1440x576 with 1 Axes>"
            ]
          },
          "metadata": {
            "needs_background": "light"
          }
        }
      ]
    },
    {
      "cell_type": "markdown",
      "metadata": {
        "id": "sPhTqy9fmYPU"
      },
      "source": [
        "### Word Occurrence Plot\n",
        "**Analysis** This plot of Word Occurrence in the corpus of text provides us with an view on recurring words in the description+feature text describing the properties. Recurring descriptive words are important as they are used by estate agents to differentiate properties and attract buyers. Many word are typically used by estate agents and they have a lexicon that they use for advertisements. \n",
        "\n",
        "However, the word occurrece, while important, does not tell the whole story. Recurring words may not differentiate properties in a large list of poperties. Very common words may not attract attention to buy or have an impact on price, which is what we are predicting here. To augment our analysis, we will also look at TF-IDF to dentify important words within the property descriptions."
      ]
    },
    {
      "cell_type": "markdown",
      "metadata": {
        "id": "x4MZ6EfhJbPl"
      },
      "source": [
        "## Term Frequency-Inverse Document Frequency (TF-IDF) in Property Corpus"
      ]
    },
    {
      "cell_type": "code",
      "metadata": {
        "colab": {
          "base_uri": "https://localhost:8080/"
        },
        "id": "29d8i9hEiD2v",
        "outputId": "875b48db-7f14-4362-c843-091bff94bbc2"
      },
      "source": [
        "df_train.columns"
      ],
      "execution_count": 45,
      "outputs": [
        {
          "output_type": "execute_result",
          "data": {
            "text/plain": [
              "Index(['Index', 'Location', 'Num_Bathrooms', 'Num_Beds', 'BER_class',\n",
              "       'Description', 'Features', 'Latitude', 'Longitude', 'Surface', 'Price',\n",
              "       'Type_apartment', 'Type_bungalow', 'Type_detached', 'Type_duplex',\n",
              "       'Type_end-of-terrace', 'Type_semi-detached', 'Type_site', 'Type_studio',\n",
              "       'Type_terraced', 'Type_townhouse', 'Desc_Feat'],\n",
              "      dtype='object')"
            ]
          },
          "metadata": {},
          "execution_count": 45
        }
      ]
    },
    {
      "cell_type": "code",
      "metadata": {
        "id": "BnENpKBNhfdA"
      },
      "source": [
        "# Test out TF-IDF on the corpus of Description+Features\n",
        "# Preprocess the data first ... although for TF-IDF it would push common words down the list anyway, but for simplicity we remove them\n",
        "\n",
        "corpus = []\n",
        "n = df_train.shape[0]\n",
        "for p in range(n):\n",
        "  text = nlp_preprocess((df_train.iloc[p]['Desc_Feat']))\n",
        "  corpus.append(\" \".join(text))"
      ],
      "execution_count": 44,
      "outputs": []
    },
    {
      "cell_type": "code",
      "metadata": {
        "colab": {
          "base_uri": "https://localhost:8080/"
        },
        "id": "2s8g32qDqRi-",
        "outputId": "641ce0b3-f098-4412-bd10-8ce0767f7bc2"
      },
      "source": [
        "# Apply TF-IDF to the corpus of text across all property records\n",
        "# This approach will provide us with another list, but this time rather than just calculating common words\n",
        "# we will calculate using TF-IDF hwo important words are to the corpus of documents\n",
        "\n",
        "from sklearn.feature_extraction.text import TfidfTransformer\n",
        "from sklearn.feature_extraction.text import CountVectorizer\n",
        "\n",
        "tfidfTransform = TfidfTransformer(use_idf=True)\n",
        "CV = CountVectorizer()\n",
        "word_count = CV.fit_transform(corpus)\n",
        "tf_idf = tfidfTransform.fit_transform(word_count)\n",
        "df = pd.DataFrame(tf_idf[0].T.todense(), index=CV.get_feature_names(), columns=['tfidf'])\n",
        "df = df.sort_values('tfidf', ascending=False)\n",
        "print(df.head(120))"
      ],
      "execution_count": 45,
      "outputs": [
        {
          "output_type": "stream",
          "name": "stdout",
          "text": [
            "                  tfidf\n",
            "extensively    0.333659\n",
            "chipping       0.312013\n",
            "row            0.283394\n",
            "bedroom        0.168313\n",
            "apartment      0.159009\n",
            "...                 ...\n",
            "school         0.034877\n",
            "home           0.034100\n",
            "location       0.032385\n",
            "accommodation  0.027935\n",
            "peninsula      0.000000\n",
            "\n",
            "[120 rows x 1 columns]\n"
          ]
        }
      ]
    },
    {
      "cell_type": "code",
      "metadata": {
        "id": "_KnMBPH2txxZ"
      },
      "source": [
        "# Reset the index of the dataframe and rename the index to make it easier to plot.\n",
        "\n",
        "df.reset_index(inplace=True)\n",
        "df_150=df.loc[1:150] # select 150 words from the dataframe\n",
        "df_150_words = df_150.rename(columns={\"index\":\"words\"})"
      ],
      "execution_count": 46,
      "outputs": []
    },
    {
      "cell_type": "code",
      "metadata": {
        "colab": {
          "base_uri": "https://localhost:8080/",
          "height": 788
        },
        "id": "oi-2LADErqwA",
        "outputId": "1d4d4ee2-4cd6-4f22-f007-66f9c18b1083"
      },
      "source": [
        "# Plot ordered list of words by TF-IDF score\n",
        "\n",
        "plt.figure(figsize=(20, 8))\n",
        "ax = sn.barplot(x='words', y='tfidf', data=df_150_words, order=df_150_words.sort_values('tfidf', ascending=False).words)\n",
        "plt.xticks(rotation=90)"
      ],
      "execution_count": 48,
      "outputs": [
        {
          "output_type": "execute_result",
          "data": {
            "text/plain": [
              "(array([  0,   1,   2,   3,   4,   5,   6,   7,   8,   9,  10,  11,  12,\n",
              "         13,  14,  15,  16,  17,  18,  19,  20,  21,  22,  23,  24,  25,\n",
              "         26,  27,  28,  29,  30,  31,  32,  33,  34,  35,  36,  37,  38,\n",
              "         39,  40,  41,  42,  43,  44,  45,  46,  47,  48,  49,  50,  51,\n",
              "         52,  53,  54,  55,  56,  57,  58,  59,  60,  61,  62,  63,  64,\n",
              "         65,  66,  67,  68,  69,  70,  71,  72,  73,  74,  75,  76,  77,\n",
              "         78,  79,  80,  81,  82,  83,  84,  85,  86,  87,  88,  89,  90,\n",
              "         91,  92,  93,  94,  95,  96,  97,  98,  99, 100, 101, 102, 103,\n",
              "        104, 105, 106, 107, 108, 109, 110, 111, 112, 113, 114, 115, 116,\n",
              "        117, 118, 119, 120, 121, 122, 123, 124, 125, 126, 127, 128, 129,\n",
              "        130, 131, 132, 133, 134, 135, 136, 137, 138, 139, 140, 141, 142,\n",
              "        143, 144, 145, 146, 147, 148, 149]),\n",
              " <a list of 150 Text major ticklabel objects>)"
            ]
          },
          "metadata": {},
          "execution_count": 48
        },
        {
          "output_type": "display_data",
          "data": {
            "image/png": "[encoded data removed]",
            "text/plain": [
              "<Figure size 1440x576 with 1 Axes>"
            ]
          },
          "metadata": {
            "needs_background": "light"
          }
        }
      ]
    },
    {
      "cell_type": "markdown",
      "metadata": {
        "id": "rBtOZYlz_flm"
      },
      "source": [
        "### Term Frequency - Inverse Document Frequency (TF-IDF) Plot\n",
        "**Analysis** This plot differs from the pure word count plot above. It provides a visual of the words that are most important to the corpus of data. You can see the words order by *how important they are* with words that are very common, i.e. recur very frequenetly in the property descriptions, set to '0' - this can be seen by the suddent drop after the word \"accomodation\".\n",
        "\n",
        "A good description of how TF-IDF works can be found in the text by Silge and Robinson (2021) or Chaudhary (2020).\n"
      ]
    },
    {
      "cell_type": "code",
      "metadata": {
        "colab": {
          "base_uri": "https://localhost:8080/"
        },
        "id": "0-AqlnL5C8vl",
        "outputId": "1d97c1be-df37-4331-b3a3-120b2b91cbbc"
      },
      "source": [
        "# Prints word position for analysis below\n",
        "\n",
        "print (df_150_words[df_150_words['words'] == \"amentity\"])\n",
        "\n",
        "print (df_wdcount[df_wdcount['Words'] == \"amenity\"])"
      ],
      "execution_count": 59,
      "outputs": [
        {
          "output_type": "stream",
          "name": "stdout",
          "text": [
            "Empty DataFrame\n",
            "Columns: [words, tfidf]\n",
            "Index: []\n",
            "      Words  Counts\n",
            "47  amenity    1577\n"
          ]
        }
      ]
    },
    {
      "cell_type": "markdown",
      "metadata": {
        "id": "g9BbWfW_CRpM"
      },
      "source": [
        "### How do we create new features from this information?\n",
        "With the Word Occurrence and TF-IDF information we can now apply an heuristic approach to determine the new features.\n",
        "Neither plots provides us with all the information but given an understanding of what is important for prospective home buyers (or investors as the case may be), we can say:\n",
        "\n",
        "1. Having a garden is an important feature of a house but not an apartment. The word 'garden' appears a lot (high on Word Occurrence and low (< 7000) on TF-IDF). Given this we can assume that 'garden' is not a maor differentiator in general but it is an important consideration to *generalise* our model\n",
        "\n",
        "2. Parking appears quite high in both word occurrence and TF-IDF score. It is clearly important for both house and apartment buyers. We will include this as one of our features\n",
        "\n",
        "3. School also appears on both plots: word occurrence (46) and TF-IDF (115). For families we know that this is important. Families live on both houses and apartments and it can be a deciding factor\n",
        "\n",
        "4. Public Transport appears as \"transport\" in TF-IDF and as \"bus\" in word count. Based on knowledge that public transport is important in Dublin, we can take these values as important features.\n",
        "\n",
        "5. Local Amenities appear in both lists of words as \"amentity\", \"retaurant\", \"pharmacy\", \"supermarket. These are key both from the position on both plots and heuristic domain knowledge.\n",
        "\n",
        "With these findings, we can now search the individual words in each property record looking for these words and setting [0] if it does not occur and [1] if it does for the following nw features:\n",
        "\n",
        "1. has_Garden\n",
        "2. has_Parking\n",
        "3. local_School (close to schools to include \"school\", \"secondary\", \"primary\")\n",
        "4. local_Transport (to include \"transport\", \"bus\")\n",
        "5. local_Amenities (to include \"amenity\", \"shop\", \"shopping\", \"restaurant\", \"supermarket\")\n"
      ]
    },
    {
      "cell_type": "markdown",
      "metadata": {
        "id": "j7Tz87rlKhlS"
      },
      "source": [
        "### Create new features from above rules"
      ]
    },
    {
      "cell_type": "code",
      "metadata": {
        "id": "21EaNbnyYWJp"
      },
      "source": [
        "# Reload the data to ensure we are working with clean datsets\n",
        "\n",
        "path = '/content/sample_data/'\n",
        "\n",
        "# Due to formatting issues, I found that explicitly defining features of interest and omitting ones that are problematic was useful\n",
        "\n",
        "train_file = path+'HousePrice_Train.csv'\n",
        "test_file = path+'HousePrice_Test.csv'\n",
        "\n",
        "# Import the data, while excluding 'features' and 'description_block' explicitly on import\n",
        "train_data = pd.read_csv(train_file)\n",
        "test_data = pd.read_csv(test_file)"
      ],
      "execution_count": 184,
      "outputs": []
    },
    {
      "cell_type": "code",
      "metadata": {
        "id": "xdR9QJKEK5nE"
      },
      "source": [
        "# Create new features in training and test dataframes\n",
        "# Go back to original datasets: we will want to split them for performance testing on training and validation sets\n",
        "\n",
        "df_train = train_data.join(pd.DataFrame(\n",
        "    {\n",
        "        'has_Garden': 0,\n",
        "        'has_Parking': 0,\n",
        "        'local_School': 0,\n",
        "        'local_Transport': 0,\n",
        "        'local_Amenities': 0\n",
        "    }, index=train_data.index\n",
        "))"
      ],
      "execution_count": 185,
      "outputs": []
    },
    {
      "cell_type": "code",
      "metadata": {
        "id": "LZX2rEscUskx"
      },
      "source": [
        "# Create the same features for Test\n",
        "\n",
        "df_test = test_data.join(pd.DataFrame(\n",
        "    {\n",
        "        'has_Garden': 0,\n",
        "        'has_Parking': 0,\n",
        "        'local_School': 0,\n",
        "        'local_Transport': 0,\n",
        "        'local_Amenities': 0\n",
        "    }, index=test_data.index\n",
        "))"
      ],
      "execution_count": 186,
      "outputs": []
    },
    {
      "cell_type": "code",
      "metadata": {
        "id": "2a-sMpvyMytk"
      },
      "source": [
        "# Combine 'Description' and 'Features'\n",
        "\n",
        "df_train['Desc_Feat'] = df_train['Description'] + ' ' + df_train['Features']\n",
        "\n",
        "df_test['Desc_Feat'] = df_test['Description'] +' ' + df_test['Features']"
      ],
      "execution_count": 187,
      "outputs": []
    },
    {
      "cell_type": "code",
      "metadata": {
        "id": "8-e8P8zknc_O"
      },
      "source": [
        "# check if words are in a text\n",
        "\n",
        "def words_in_text(list, text):\n",
        "  return set(list).intersection(text)"
      ],
      "execution_count": 188,
      "outputs": []
    },
    {
      "cell_type": "code",
      "metadata": {
        "id": "p_L6T7iVOrnM"
      },
      "source": [
        "# Process the text descriptions in the new 'Desc_Feat' column for each property\n",
        "\n",
        "_Garden = [\"garden\"]\n",
        "_Parking = [\"parking\"]\n",
        "_localSchool = [\"school\", \"primary school\", \"secondary school\"]\n",
        "_localTransport = [\"transport\", \"bus\"]\n",
        "_localAmenities = [\"amenity\", \"shop\", \"shopping\", \"restaurant\", \"supermarket\", \"pharmacy\"]\n",
        "\n",
        "corpus = []\n",
        "\n",
        "for index, row in df_train.iterrows():\n",
        "  descfeat = []\n",
        "  text = nlp_preprocess((df_train.iloc[index]['Desc_Feat']))\n",
        "  descfeat.append(\" \".join(text))\n",
        "\n",
        "  # check for key keywords to set the new features\n",
        "  if words_in_text(_Garden, text): df_train.loc[index, \"has_Garden\"] = 1\n",
        "  if words_in_text(_Parking, text): df_train.loc[index, \"has_Parking\"] = 1\n",
        "  if words_in_text(_localSchool, text): df_train.loc[index, \"local_School\"] = 1\n",
        "  if words_in_text(_localTransport, text): df_train.loc[index, \"local_Transport\"] = 1\n",
        "  if words_in_text(_localAmenities, text): df_train.loc[index, \"local_Amenities\"] = 1"
      ],
      "execution_count": 189,
      "outputs": []
    },
    {
      "cell_type": "code",
      "metadata": {
        "id": "ZqXhzFpKOJMI"
      },
      "source": [
        "# Drop these columns from the datasets; they are no longer needed\n",
        "\n",
        "df_train.drop(columns=['Description', 'Features', 'Desc_Feat'], inplace=True)\n",
        "\n",
        "df_test.drop(columns=['Description', 'Features', 'Desc_Feat'], inplace=True)"
      ],
      "execution_count": 190,
      "outputs": []
    },
    {
      "cell_type": "markdown",
      "metadata": {
        "id": "lm0SiGU5sgxp"
      },
      "source": [
        "### Comments on New Features for datasets\n",
        "Now we have added five new features to the property datasets. Before we take thenext step to train and test ML Models, I will quickly take a look to see if these features have impacted Feature Importance order."
      ]
    },
    {
      "cell_type": "code",
      "metadata": {
        "colab": {
          "base_uri": "https://localhost:8080/"
        },
        "id": "ZYZkiksUtozl",
        "outputId": "847474b2-563e-4b64-cce2-3a8453358595"
      },
      "source": [
        "df_train_xgb.columns"
      ],
      "execution_count": 205,
      "outputs": [
        {
          "output_type": "execute_result",
          "data": {
            "text/plain": [
              "Index(['Location', 'Num_Bathrooms', 'Num_Beds', 'BER_class', 'Latitude',\n",
              "       'Longitude', 'Surface', 'Price', 'has_Garden'],\n",
              "      dtype='object')"
            ]
          },
          "metadata": {},
          "execution_count": 205
        }
      ]
    },
    {
      "cell_type": "code",
      "metadata": {
        "colab": {
          "base_uri": "https://localhost:8080/",
          "height": 204
        },
        "id": "SNXxmHJaJOSP",
        "outputId": "a897a1ea-2f75-4afe-d061-816a59f96b23"
      },
      "source": [
        "df_train_xgb.head()"
      ],
      "execution_count": 206,
      "outputs": [
        {
          "output_type": "execute_result",
          "data": {
            "text/html": [
              "<div>\n",
              "<style scoped>\n",
              "    .dataframe tbody tr th:only-of-type {\n",
              "        vertical-align: middle;\n",
              "    }\n",
              "\n",
              "    .dataframe tbody tr th {\n",
              "        vertical-align: top;\n",
              "    }\n",
              "\n",
              "    .dataframe thead th {\n",
              "        text-align: right;\n",
              "    }\n",
              "</style>\n",
              "<table border=\"1\" class=\"dataframe\">\n",
              "  <thead>\n",
              "    <tr style=\"text-align: right;\">\n",
              "      <th></th>\n",
              "      <th>Location</th>\n",
              "      <th>Num_Bathrooms</th>\n",
              "      <th>Num_Beds</th>\n",
              "      <th>BER_class</th>\n",
              "      <th>Latitude</th>\n",
              "      <th>Longitude</th>\n",
              "      <th>Surface</th>\n",
              "      <th>Price</th>\n",
              "      <th>has_Garden</th>\n",
              "    </tr>\n",
              "  </thead>\n",
              "  <tbody>\n",
              "    <tr>\n",
              "      <th>0</th>\n",
              "      <td>0.727891</td>\n",
              "      <td>0.693147</td>\n",
              "      <td>0.693147</td>\n",
              "      <td>-0.315848</td>\n",
              "      <td>0.620414</td>\n",
              "      <td>-1.972920</td>\n",
              "      <td>-0.801032</td>\n",
              "      <td>-1.375767</td>\n",
              "      <td>0</td>\n",
              "    </tr>\n",
              "    <tr>\n",
              "      <th>1</th>\n",
              "      <td>0.714286</td>\n",
              "      <td>0.000000</td>\n",
              "      <td>0.693147</td>\n",
              "      <td>0.027283</td>\n",
              "      <td>0.085158</td>\n",
              "      <td>0.195426</td>\n",
              "      <td>-0.129563</td>\n",
              "      <td>-0.069313</td>\n",
              "      <td>1</td>\n",
              "    </tr>\n",
              "    <tr>\n",
              "      <th>2</th>\n",
              "      <td>0.911565</td>\n",
              "      <td>1.098612</td>\n",
              "      <td>1.098612</td>\n",
              "      <td>-2.374633</td>\n",
              "      <td>-1.143935</td>\n",
              "      <td>0.380738</td>\n",
              "      <td>0.073728</td>\n",
              "      <td>0.316671</td>\n",
              "      <td>1</td>\n",
              "    </tr>\n",
              "    <tr>\n",
              "      <th>3</th>\n",
              "      <td>0.149660</td>\n",
              "      <td>0.000000</td>\n",
              "      <td>1.098612</td>\n",
              "      <td>0.713544</td>\n",
              "      <td>-1.209989</td>\n",
              "      <td>0.991249</td>\n",
              "      <td>-0.446453</td>\n",
              "      <td>0.199858</td>\n",
              "      <td>1</td>\n",
              "    </tr>\n",
              "    <tr>\n",
              "      <th>4</th>\n",
              "      <td>0.639456</td>\n",
              "      <td>1.098612</td>\n",
              "      <td>1.386294</td>\n",
              "      <td>0.027283</td>\n",
              "      <td>2.702848</td>\n",
              "      <td>1.485068</td>\n",
              "      <td>0.741957</td>\n",
              "      <td>0.236422</td>\n",
              "      <td>1</td>\n",
              "    </tr>\n",
              "  </tbody>\n",
              "</table>\n",
              "</div>"
            ],
            "text/plain": [
              "   Location  Num_Bathrooms  Num_Beds  ...   Surface     Price  has_Garden\n",
              "0  0.727891       0.693147  0.693147  ... -0.801032 -1.375767           0\n",
              "1  0.714286       0.000000  0.693147  ... -0.129563 -0.069313           1\n",
              "2  0.911565       1.098612  1.098612  ...  0.073728  0.316671           1\n",
              "3  0.149660       0.000000  1.098612  ... -0.446453  0.199858           1\n",
              "4  0.639456       1.098612  1.386294  ...  0.741957  0.236422           1\n",
              "\n",
              "[5 rows x 9 columns]"
            ]
          },
          "metadata": {},
          "execution_count": 206
        }
      ]
    },
    {
      "cell_type": "code",
      "metadata": {
        "id": "T3UMerWTtvHv"
      },
      "source": [
        "# Add the new features from df_train to the datset for XGBoost\n",
        "\n",
        "#df_train_xgb['has_Garden', 'has_Parking', 'local_School', 'local_Transport', 'local_Amenities'] = df_train['has_Garden', 'has_Parking', 'local_School', 'local_Transport', 'local_Amenities']\n",
        "\n",
        "df_train_xgb['has_Garden'] = df_train['has_Garden']\n",
        "df_train_xgb['has_Par'] = df_train['has_Garden']\n",
        "\n"
      ],
      "execution_count": 202,
      "outputs": []
    },
    {
      "cell_type": "code",
      "metadata": {
        "id": "hC_MEqkytbVV"
      },
      "source": [
        "# Let's test for any performance changes with the XGBoost Model\n",
        "\n",
        "# Remove 'Type' from dataset as it does not appear to be too important\n",
        "X_train_xgb = df_train_xgb.iloc[:,0:-1].values \n",
        "y_train_xgb = df_train_xgb.iloc[:,-1].values.reshape(-1,1)  \n",
        "\n",
        "# Call XGBoost Model for each dataset\n",
        "Model_Full, RMSE_xgb_train_full, r2_xgb_train_full = xgb_model(X_train_xgb, y_train_xgb, \"Performance Evaluation for Full Training Set\")"
      ],
      "execution_count": null,
      "outputs": []
    },
    {
      "cell_type": "markdown",
      "metadata": {
        "id": "2PMoPLlUJ1Ly"
      },
      "source": [
        "## Training & Test Data"
      ]
    },
    {
      "cell_type": "markdown",
      "metadata": {
        "id": "ztBkSZluye87"
      },
      "source": [
        "### Train dataset"
      ]
    },
    {
      "cell_type": "code",
      "metadata": {
        "id": "6XUFUPABMHfF",
        "colab": {
          "base_uri": "https://localhost:8080/",
          "height": 258
        },
        "outputId": "f8633e24-422a-4442-cc97-78196f2fd2ac"
      },
      "source": [
        "# show first data frame rows \n",
        "df_train.head()"
      ],
      "execution_count": 191,
      "outputs": [
        {
          "output_type": "execute_result",
          "data": {
            "text/html": [
              "<div>\n",
              "<style scoped>\n",
              "    .dataframe tbody tr th:only-of-type {\n",
              "        vertical-align: middle;\n",
              "    }\n",
              "\n",
              "    .dataframe tbody tr th {\n",
              "        vertical-align: top;\n",
              "    }\n",
              "\n",
              "    .dataframe thead th {\n",
              "        text-align: right;\n",
              "    }\n",
              "</style>\n",
              "<table border=\"1\" class=\"dataframe\">\n",
              "  <thead>\n",
              "    <tr style=\"text-align: right;\">\n",
              "      <th></th>\n",
              "      <th>Index</th>\n",
              "      <th>ID</th>\n",
              "      <th>Location</th>\n",
              "      <th>Num_Bathrooms</th>\n",
              "      <th>Num_Beds</th>\n",
              "      <th>BER_class</th>\n",
              "      <th>Services</th>\n",
              "      <th>Latitude</th>\n",
              "      <th>Longitude</th>\n",
              "      <th>Type</th>\n",
              "      <th>Surface</th>\n",
              "      <th>Price</th>\n",
              "      <th>has_Garden</th>\n",
              "      <th>has_Parking</th>\n",
              "      <th>local_School</th>\n",
              "      <th>local_Transport</th>\n",
              "      <th>local_Amenities</th>\n",
              "    </tr>\n",
              "  </thead>\n",
              "  <tbody>\n",
              "    <tr>\n",
              "      <th>0</th>\n",
              "      <td>1</td>\n",
              "      <td>12409116</td>\n",
              "      <td>Ongar</td>\n",
              "      <td>2</td>\n",
              "      <td>2</td>\n",
              "      <td>C3</td>\n",
              "      <td>NaN</td>\n",
              "      <td>53.396659</td>\n",
              "      <td>-6.438791</td>\n",
              "      <td>apartment</td>\n",
              "      <td>67.00</td>\n",
              "      <td>195000</td>\n",
              "      <td>0</td>\n",
              "      <td>1</td>\n",
              "      <td>1</td>\n",
              "      <td>1</td>\n",
              "      <td>1</td>\n",
              "    </tr>\n",
              "    <tr>\n",
              "      <th>1</th>\n",
              "      <td>2</td>\n",
              "      <td>12320330</td>\n",
              "      <td>North Strand</td>\n",
              "      <td>1</td>\n",
              "      <td>2</td>\n",
              "      <td>D1</td>\n",
              "      <td>NaN</td>\n",
              "      <td>53.357129</td>\n",
              "      <td>-6.239779</td>\n",
              "      <td>terraced</td>\n",
              "      <td>95.97</td>\n",
              "      <td>425000</td>\n",
              "      <td>1</td>\n",
              "      <td>0</td>\n",
              "      <td>1</td>\n",
              "      <td>0</td>\n",
              "      <td>1</td>\n",
              "    </tr>\n",
              "    <tr>\n",
              "      <th>2</th>\n",
              "      <td>3</td>\n",
              "      <td>12405953</td>\n",
              "      <td>Stepaside</td>\n",
              "      <td>3</td>\n",
              "      <td>3</td>\n",
              "      <td>A3</td>\n",
              "      <td>NaN</td>\n",
              "      <td>53.266468</td>\n",
              "      <td>-6.222771</td>\n",
              "      <td>semi-detached</td>\n",
              "      <td>107.00</td>\n",
              "      <td>535000</td>\n",
              "      <td>1</td>\n",
              "      <td>1</td>\n",
              "      <td>1</td>\n",
              "      <td>1</td>\n",
              "      <td>1</td>\n",
              "    </tr>\n",
              "    <tr>\n",
              "      <th>3</th>\n",
              "      <td>4</td>\n",
              "      <td>12202582</td>\n",
              "      <td>Cabinteely</td>\n",
              "      <td>1</td>\n",
              "      <td>3</td>\n",
              "      <td>E1</td>\n",
              "      <td>NaN</td>\n",
              "      <td>53.261600</td>\n",
              "      <td>-6.166738</td>\n",
              "      <td>detached</td>\n",
              "      <td>81.00</td>\n",
              "      <td>499000</td>\n",
              "      <td>1</td>\n",
              "      <td>1</td>\n",
              "      <td>1</td>\n",
              "      <td>1</td>\n",
              "      <td>1</td>\n",
              "    </tr>\n",
              "    <tr>\n",
              "      <th>4</th>\n",
              "      <td>5</td>\n",
              "      <td>12299336</td>\n",
              "      <td>Lusk</td>\n",
              "      <td>3</td>\n",
              "      <td>4</td>\n",
              "      <td>D1</td>\n",
              "      <td>NaN</td>\n",
              "      <td>53.550731</td>\n",
              "      <td>-6.121415</td>\n",
              "      <td>detached</td>\n",
              "      <td>153.00</td>\n",
              "      <td>510000</td>\n",
              "      <td>1</td>\n",
              "      <td>0</td>\n",
              "      <td>1</td>\n",
              "      <td>0</td>\n",
              "      <td>0</td>\n",
              "    </tr>\n",
              "  </tbody>\n",
              "</table>\n",
              "</div>"
            ],
            "text/plain": [
              "   Index        ID  ... local_Transport  local_Amenities\n",
              "0      1  12409116  ...               1                1\n",
              "1      2  12320330  ...               0                1\n",
              "2      3  12405953  ...               1                1\n",
              "3      4  12202582  ...               1                1\n",
              "4      5  12299336  ...               0                0\n",
              "\n",
              "[5 rows x 17 columns]"
            ]
          },
          "metadata": {},
          "execution_count": 191
        }
      ]
    },
    {
      "cell_type": "code",
      "metadata": {
        "id": "5rq_p-D4yLBe",
        "colab": {
          "base_uri": "https://localhost:8080/",
          "height": 297
        },
        "outputId": "884b5360-42d3-449e-9d37-4ee8fa9147b6"
      },
      "source": [
        "# Generate descriptive statistics\n",
        "df_train.describe()"
      ],
      "execution_count": 192,
      "outputs": [
        {
          "output_type": "execute_result",
          "data": {
            "text/html": [
              "<div>\n",
              "<style scoped>\n",
              "    .dataframe tbody tr th:only-of-type {\n",
              "        vertical-align: middle;\n",
              "    }\n",
              "\n",
              "    .dataframe tbody tr th {\n",
              "        vertical-align: top;\n",
              "    }\n",
              "\n",
              "    .dataframe thead th {\n",
              "        text-align: right;\n",
              "    }\n",
              "</style>\n",
              "<table border=\"1\" class=\"dataframe\">\n",
              "  <thead>\n",
              "    <tr style=\"text-align: right;\">\n",
              "      <th></th>\n",
              "      <th>Index</th>\n",
              "      <th>ID</th>\n",
              "      <th>Num_Bathrooms</th>\n",
              "      <th>Num_Beds</th>\n",
              "      <th>Latitude</th>\n",
              "      <th>Longitude</th>\n",
              "      <th>Surface</th>\n",
              "      <th>Price</th>\n",
              "      <th>has_Garden</th>\n",
              "      <th>has_Parking</th>\n",
              "      <th>local_School</th>\n",
              "      <th>local_Transport</th>\n",
              "      <th>local_Amenities</th>\n",
              "    </tr>\n",
              "  </thead>\n",
              "  <tbody>\n",
              "    <tr>\n",
              "      <th>count</th>\n",
              "      <td>1638.000000</td>\n",
              "      <td>1.638000e+03</td>\n",
              "      <td>1638.000000</td>\n",
              "      <td>1638.000000</td>\n",
              "      <td>1638.000000</td>\n",
              "      <td>1638.000000</td>\n",
              "      <td>1638.000000</td>\n",
              "      <td>1.638000e+03</td>\n",
              "      <td>1638.000000</td>\n",
              "      <td>1638.000000</td>\n",
              "      <td>1638.000000</td>\n",
              "      <td>1638.000000</td>\n",
              "      <td>1638.000000</td>\n",
              "    </tr>\n",
              "    <tr>\n",
              "      <th>mean</th>\n",
              "      <td>819.500000</td>\n",
              "      <td>1.231930e+07</td>\n",
              "      <td>2.054335</td>\n",
              "      <td>3.043346</td>\n",
              "      <td>53.350473</td>\n",
              "      <td>-6.255086</td>\n",
              "      <td>169.540695</td>\n",
              "      <td>5.547196e+05</td>\n",
              "      <td>0.768620</td>\n",
              "      <td>0.695971</td>\n",
              "      <td>0.620269</td>\n",
              "      <td>0.703907</td>\n",
              "      <td>0.899267</td>\n",
              "    </tr>\n",
              "    <tr>\n",
              "      <th>std</th>\n",
              "      <td>472.994186</td>\n",
              "      <td>1.447540e+05</td>\n",
              "      <td>1.241259</td>\n",
              "      <td>1.379650</td>\n",
              "      <td>0.076832</td>\n",
              "      <td>0.144430</td>\n",
              "      <td>1791.793934</td>\n",
              "      <td>5.652032e+05</td>\n",
              "      <td>0.421843</td>\n",
              "      <td>0.460136</td>\n",
              "      <td>0.485468</td>\n",
              "      <td>0.456672</td>\n",
              "      <td>0.301066</td>\n",
              "    </tr>\n",
              "    <tr>\n",
              "      <th>min</th>\n",
              "      <td>1.000000</td>\n",
              "      <td>1.118567e+07</td>\n",
              "      <td>1.000000</td>\n",
              "      <td>1.000000</td>\n",
              "      <td>52.501856</td>\n",
              "      <td>-6.497000</td>\n",
              "      <td>3.400000</td>\n",
              "      <td>1.999500e+04</td>\n",
              "      <td>0.000000</td>\n",
              "      <td>0.000000</td>\n",
              "      <td>0.000000</td>\n",
              "      <td>0.000000</td>\n",
              "      <td>0.000000</td>\n",
              "    </tr>\n",
              "    <tr>\n",
              "      <th>25%</th>\n",
              "      <td>410.250000</td>\n",
              "      <td>1.228104e+07</td>\n",
              "      <td>1.000000</td>\n",
              "      <td>2.000000</td>\n",
              "      <td>53.294261</td>\n",
              "      <td>-6.309613</td>\n",
              "      <td>73.000000</td>\n",
              "      <td>2.950000e+05</td>\n",
              "      <td>1.000000</td>\n",
              "      <td>0.000000</td>\n",
              "      <td>0.000000</td>\n",
              "      <td>0.000000</td>\n",
              "      <td>1.000000</td>\n",
              "    </tr>\n",
              "    <tr>\n",
              "      <th>50%</th>\n",
              "      <td>819.500000</td>\n",
              "      <td>1.238055e+07</td>\n",
              "      <td>2.000000</td>\n",
              "      <td>3.000000</td>\n",
              "      <td>53.341386</td>\n",
              "      <td>-6.247780</td>\n",
              "      <td>97.050000</td>\n",
              "      <td>3.950000e+05</td>\n",
              "      <td>1.000000</td>\n",
              "      <td>1.000000</td>\n",
              "      <td>1.000000</td>\n",
              "      <td>1.000000</td>\n",
              "      <td>1.000000</td>\n",
              "    </tr>\n",
              "    <tr>\n",
              "      <th>75%</th>\n",
              "      <td>1228.750000</td>\n",
              "      <td>1.240548e+07</td>\n",
              "      <td>3.000000</td>\n",
              "      <td>4.000000</td>\n",
              "      <td>53.382031</td>\n",
              "      <td>-6.193982</td>\n",
              "      <td>135.000000</td>\n",
              "      <td>5.950000e+05</td>\n",
              "      <td>1.000000</td>\n",
              "      <td>1.000000</td>\n",
              "      <td>1.000000</td>\n",
              "      <td>1.000000</td>\n",
              "      <td>1.000000</td>\n",
              "    </tr>\n",
              "    <tr>\n",
              "      <th>max</th>\n",
              "      <td>1638.000000</td>\n",
              "      <td>1.242836e+07</td>\n",
              "      <td>18.000000</td>\n",
              "      <td>27.000000</td>\n",
              "      <td>53.630588</td>\n",
              "      <td>-1.744995</td>\n",
              "      <td>72236.387140</td>\n",
              "      <td>8.900000e+06</td>\n",
              "      <td>1.000000</td>\n",
              "      <td>1.000000</td>\n",
              "      <td>1.000000</td>\n",
              "      <td>1.000000</td>\n",
              "      <td>1.000000</td>\n",
              "    </tr>\n",
              "  </tbody>\n",
              "</table>\n",
              "</div>"
            ],
            "text/plain": [
              "             Index            ID  ...  local_Transport  local_Amenities\n",
              "count  1638.000000  1.638000e+03  ...      1638.000000      1638.000000\n",
              "mean    819.500000  1.231930e+07  ...         0.703907         0.899267\n",
              "std     472.994186  1.447540e+05  ...         0.456672         0.301066\n",
              "min       1.000000  1.118567e+07  ...         0.000000         0.000000\n",
              "25%     410.250000  1.228104e+07  ...         0.000000         1.000000\n",
              "50%     819.500000  1.238055e+07  ...         1.000000         1.000000\n",
              "75%    1228.750000  1.240548e+07  ...         1.000000         1.000000\n",
              "max    1638.000000  1.242836e+07  ...         1.000000         1.000000\n",
              "\n",
              "[8 rows x 13 columns]"
            ]
          },
          "metadata": {},
          "execution_count": 192
        }
      ]
    },
    {
      "cell_type": "markdown",
      "metadata": {
        "id": "Iqg9_uxFyZli"
      },
      "source": [
        "### Test dataset"
      ]
    },
    {
      "cell_type": "code",
      "metadata": {
        "id": "bw2_yypxMfsi",
        "colab": {
          "base_uri": "https://localhost:8080/",
          "height": 598
        },
        "outputId": "f10bed03-f717-49f0-d386-3412e7a33a57"
      },
      "source": [
        "# show first data frame rows \n",
        "df_test.head()"
      ],
      "execution_count": null,
      "outputs": [
        {
          "output_type": "execute_result",
          "data": {
            "text/html": [
              "<div>\n",
              "<style scoped>\n",
              "    .dataframe tbody tr th:only-of-type {\n",
              "        vertical-align: middle;\n",
              "    }\n",
              "\n",
              "    .dataframe tbody tr th {\n",
              "        vertical-align: top;\n",
              "    }\n",
              "\n",
              "    .dataframe thead th {\n",
              "        text-align: right;\n",
              "    }\n",
              "</style>\n",
              "<table border=\"1\" class=\"dataframe\">\n",
              "  <thead>\n",
              "    <tr style=\"text-align: right;\">\n",
              "      <th></th>\n",
              "      <th>Index</th>\n",
              "      <th>Location</th>\n",
              "      <th>Num_Bathrooms</th>\n",
              "      <th>Num_Beds</th>\n",
              "      <th>BER_class</th>\n",
              "      <th>Description</th>\n",
              "      <th>Features</th>\n",
              "      <th>Latitude</th>\n",
              "      <th>Longitude</th>\n",
              "      <th>Surface</th>\n",
              "      <th>Type_apartment</th>\n",
              "      <th>Type_bungalow</th>\n",
              "      <th>Type_detached</th>\n",
              "      <th>Type_duplex</th>\n",
              "      <th>Type_end-of-terrace</th>\n",
              "      <th>Type_semi-detached</th>\n",
              "      <th>Type_site</th>\n",
              "      <th>Type_terraced</th>\n",
              "      <th>Type_townhouse</th>\n",
              "    </tr>\n",
              "  </thead>\n",
              "  <tbody>\n",
              "    <tr>\n",
              "      <th>0</th>\n",
              "      <td>1639</td>\n",
              "      <td>0.655172</td>\n",
              "      <td>0.693147</td>\n",
              "      <td>0.693147</td>\n",
              "      <td>-0.616615</td>\n",
              "      <td>OMD Estate Agents are delighted to present thi...</td>\n",
              "      <td>Designated parking spaces\\nPresented in pristi...</td>\n",
              "      <td>-0.462275</td>\n",
              "      <td>0.098546</td>\n",
              "      <td>-0.854973</td>\n",
              "      <td>0</td>\n",
              "      <td>0</td>\n",
              "      <td>0</td>\n",
              "      <td>0</td>\n",
              "      <td>0</td>\n",
              "      <td>0</td>\n",
              "      <td>0</td>\n",
              "      <td>0</td>\n",
              "      <td>1</td>\n",
              "    </tr>\n",
              "    <tr>\n",
              "      <th>1</th>\n",
              "      <td>1640</td>\n",
              "      <td>0.448276</td>\n",
              "      <td>0.693147</td>\n",
              "      <td>1.609438</td>\n",
              "      <td>0.689377</td>\n",
              "      <td>Welcome to Saint Anthony No.214 Glasnevin Aven...</td>\n",
              "      <td>Modern Worcester Gas Boiler\\nSingle Glazed Win...</td>\n",
              "      <td>0.546564</td>\n",
              "      <td>-0.322551</td>\n",
              "      <td>0.571829</td>\n",
              "      <td>0</td>\n",
              "      <td>0</td>\n",
              "      <td>0</td>\n",
              "      <td>0</td>\n",
              "      <td>0</td>\n",
              "      <td>1</td>\n",
              "      <td>0</td>\n",
              "      <td>0</td>\n",
              "      <td>0</td>\n",
              "    </tr>\n",
              "    <tr>\n",
              "      <th>2</th>\n",
              "      <td>1641</td>\n",
              "      <td>0.275862</td>\n",
              "      <td>0.000000</td>\n",
              "      <td>0.693147</td>\n",
              "      <td>1.668871</td>\n",
              "      <td>Located in this ever popular road, on grounds ...</td>\n",
              "      <td>2 BEDROOM DETACHED HOUSE ON  1/5th ACRE\\nOIL F...</td>\n",
              "      <td>-1.055818</td>\n",
              "      <td>1.570297</td>\n",
              "      <td>-0.475852</td>\n",
              "      <td>0</td>\n",
              "      <td>0</td>\n",
              "      <td>1</td>\n",
              "      <td>0</td>\n",
              "      <td>0</td>\n",
              "      <td>0</td>\n",
              "      <td>0</td>\n",
              "      <td>0</td>\n",
              "      <td>0</td>\n",
              "    </tr>\n",
              "    <tr>\n",
              "      <th>3</th>\n",
              "      <td>1642</td>\n",
              "      <td>0.772414</td>\n",
              "      <td>1.386294</td>\n",
              "      <td>1.386294</td>\n",
              "      <td>-2.575603</td>\n",
              "      <td>DNG are delighted to represent the sale of thi...</td>\n",
              "      <td>Detached House\\nSouth Facing Garden\\nOff Stree...</td>\n",
              "      <td>0.359297</td>\n",
              "      <td>0.732808</td>\n",
              "      <td>1.277538</td>\n",
              "      <td>0</td>\n",
              "      <td>0</td>\n",
              "      <td>1</td>\n",
              "      <td>0</td>\n",
              "      <td>0</td>\n",
              "      <td>0</td>\n",
              "      <td>0</td>\n",
              "      <td>0</td>\n",
              "      <td>0</td>\n",
              "    </tr>\n",
              "    <tr>\n",
              "      <th>4</th>\n",
              "      <td>1643</td>\n",
              "      <td>0.268966</td>\n",
              "      <td>0.693147</td>\n",
              "      <td>1.098612</td>\n",
              "      <td>1.342373</td>\n",
              "      <td>A unique opportunity to acquire this red brick...</td>\n",
              "      <td>Red brick end of terrace property \\nC. 108sqm ...</td>\n",
              "      <td>-0.314053</td>\n",
              "      <td>-0.617542</td>\n",
              "      <td>0.072098</td>\n",
              "      <td>0</td>\n",
              "      <td>0</td>\n",
              "      <td>0</td>\n",
              "      <td>0</td>\n",
              "      <td>1</td>\n",
              "      <td>0</td>\n",
              "      <td>0</td>\n",
              "      <td>0</td>\n",
              "      <td>0</td>\n",
              "    </tr>\n",
              "  </tbody>\n",
              "</table>\n",
              "</div>"
            ],
            "text/plain": [
              "   Index  Location  Num_Bathrooms  ...  Type_site  Type_terraced Type_townhouse\n",
              "0   1639  0.655172       0.693147  ...          0              0              1\n",
              "1   1640  0.448276       0.693147  ...          0              0              0\n",
              "2   1641  0.275862       0.000000  ...          0              0              0\n",
              "3   1642  0.772414       1.386294  ...          0              0              0\n",
              "4   1643  0.268966       0.693147  ...          0              0              0\n",
              "\n",
              "[5 rows x 19 columns]"
            ]
          },
          "metadata": {},
          "execution_count": 43
        }
      ]
    },
    {
      "cell_type": "code",
      "metadata": {
        "id": "FXo0x2u7T7-1",
        "colab": {
          "base_uri": "https://localhost:8080/",
          "height": 351
        },
        "outputId": "e5e61a8f-3161-4653-bfbb-216918765c9e"
      },
      "source": [
        "# Generate descriptive statistics\n",
        "df_test.describe()"
      ],
      "execution_count": null,
      "outputs": [
        {
          "output_type": "execute_result",
          "data": {
            "text/html": [
              "<div>\n",
              "<style scoped>\n",
              "    .dataframe tbody tr th:only-of-type {\n",
              "        vertical-align: middle;\n",
              "    }\n",
              "\n",
              "    .dataframe tbody tr th {\n",
              "        vertical-align: top;\n",
              "    }\n",
              "\n",
              "    .dataframe thead th {\n",
              "        text-align: right;\n",
              "    }\n",
              "</style>\n",
              "<table border=\"1\" class=\"dataframe\">\n",
              "  <thead>\n",
              "    <tr style=\"text-align: right;\">\n",
              "      <th></th>\n",
              "      <th>Index</th>\n",
              "      <th>Location</th>\n",
              "      <th>Num_Bathrooms</th>\n",
              "      <th>Num_Beds</th>\n",
              "      <th>BER_class</th>\n",
              "      <th>Latitude</th>\n",
              "      <th>Longitude</th>\n",
              "      <th>Surface</th>\n",
              "      <th>Type_apartment</th>\n",
              "      <th>Type_bungalow</th>\n",
              "      <th>Type_detached</th>\n",
              "      <th>Type_duplex</th>\n",
              "      <th>Type_end-of-terrace</th>\n",
              "      <th>Type_semi-detached</th>\n",
              "      <th>Type_site</th>\n",
              "      <th>Type_terraced</th>\n",
              "      <th>Type_townhouse</th>\n",
              "    </tr>\n",
              "  </thead>\n",
              "  <tbody>\n",
              "    <tr>\n",
              "      <th>count</th>\n",
              "      <td>702.000000</td>\n",
              "      <td>702.000000</td>\n",
              "      <td>702.000000</td>\n",
              "      <td>702.000000</td>\n",
              "      <td>7.020000e+02</td>\n",
              "      <td>7.020000e+02</td>\n",
              "      <td>7.020000e+02</td>\n",
              "      <td>7.020000e+02</td>\n",
              "      <td>702.000000</td>\n",
              "      <td>702.000000</td>\n",
              "      <td>702.00000</td>\n",
              "      <td>702.000000</td>\n",
              "      <td>702.000000</td>\n",
              "      <td>702.000000</td>\n",
              "      <td>702.000000</td>\n",
              "      <td>702.000000</td>\n",
              "      <td>702.000000</td>\n",
              "    </tr>\n",
              "    <tr>\n",
              "      <th>mean</th>\n",
              "      <td>1989.500000</td>\n",
              "      <td>0.507663</td>\n",
              "      <td>0.580580</td>\n",
              "      <td>1.013545</td>\n",
              "      <td>-3.722885e-16</td>\n",
              "      <td>5.027555e-14</td>\n",
              "      <td>6.153356e-15</td>\n",
              "      <td>1.031147e-16</td>\n",
              "      <td>0.276353</td>\n",
              "      <td>0.025641</td>\n",
              "      <td>0.14245</td>\n",
              "      <td>0.021368</td>\n",
              "      <td>0.091168</td>\n",
              "      <td>0.245014</td>\n",
              "      <td>0.002849</td>\n",
              "      <td>0.188034</td>\n",
              "      <td>0.007123</td>\n",
              "    </tr>\n",
              "    <tr>\n",
              "      <th>std</th>\n",
              "      <td>202.794231</td>\n",
              "      <td>0.291095</td>\n",
              "      <td>0.498537</td>\n",
              "      <td>0.415753</td>\n",
              "      <td>1.000713e+00</td>\n",
              "      <td>1.000713e+00</td>\n",
              "      <td>1.000713e+00</td>\n",
              "      <td>1.000713e+00</td>\n",
              "      <td>0.447512</td>\n",
              "      <td>0.158175</td>\n",
              "      <td>0.34976</td>\n",
              "      <td>0.144709</td>\n",
              "      <td>0.288053</td>\n",
              "      <td>0.430402</td>\n",
              "      <td>0.053338</td>\n",
              "      <td>0.391018</td>\n",
              "      <td>0.084154</td>\n",
              "    </tr>\n",
              "    <tr>\n",
              "      <th>min</th>\n",
              "      <td>1639.000000</td>\n",
              "      <td>0.000000</td>\n",
              "      <td>0.000000</td>\n",
              "      <td>0.000000</td>\n",
              "      <td>-2.575603e+00</td>\n",
              "      <td>-1.846362e+00</td>\n",
              "      <td>-2.936280e+00</td>\n",
              "      <td>-2.143177e+00</td>\n",
              "      <td>0.000000</td>\n",
              "      <td>0.000000</td>\n",
              "      <td>0.00000</td>\n",
              "      <td>0.000000</td>\n",
              "      <td>0.000000</td>\n",
              "      <td>0.000000</td>\n",
              "      <td>0.000000</td>\n",
              "      <td>0.000000</td>\n",
              "      <td>0.000000</td>\n",
              "    </tr>\n",
              "    <tr>\n",
              "      <th>25%</th>\n",
              "      <td>1814.250000</td>\n",
              "      <td>0.270690</td>\n",
              "      <td>0.000000</td>\n",
              "      <td>0.693147</td>\n",
              "      <td>-6.166147e-01</td>\n",
              "      <td>-7.474966e-01</td>\n",
              "      <td>-5.664116e-01</td>\n",
              "      <td>-6.430413e-01</td>\n",
              "      <td>0.000000</td>\n",
              "      <td>0.000000</td>\n",
              "      <td>0.00000</td>\n",
              "      <td>0.000000</td>\n",
              "      <td>0.000000</td>\n",
              "      <td>0.000000</td>\n",
              "      <td>0.000000</td>\n",
              "      <td>0.000000</td>\n",
              "      <td>0.000000</td>\n",
              "    </tr>\n",
              "    <tr>\n",
              "      <th>50%</th>\n",
              "      <td>1989.500000</td>\n",
              "      <td>0.462069</td>\n",
              "      <td>0.693147</td>\n",
              "      <td>1.098612</td>\n",
              "      <td>3.638120e-02</td>\n",
              "      <td>-1.251458e-01</td>\n",
              "      <td>5.039519e-02</td>\n",
              "      <td>-8.309184e-02</td>\n",
              "      <td>0.000000</td>\n",
              "      <td>0.000000</td>\n",
              "      <td>0.00000</td>\n",
              "      <td>0.000000</td>\n",
              "      <td>0.000000</td>\n",
              "      <td>0.000000</td>\n",
              "      <td>0.000000</td>\n",
              "      <td>0.000000</td>\n",
              "      <td>0.000000</td>\n",
              "    </tr>\n",
              "    <tr>\n",
              "      <th>75%</th>\n",
              "      <td>2164.750000</td>\n",
              "      <td>0.793103</td>\n",
              "      <td>1.098612</td>\n",
              "      <td>1.386294</td>\n",
              "      <td>6.893772e-01</td>\n",
              "      <td>4.245285e-01</td>\n",
              "      <td>7.443558e-01</td>\n",
              "      <td>5.047100e-01</td>\n",
              "      <td>1.000000</td>\n",
              "      <td>0.000000</td>\n",
              "      <td>0.00000</td>\n",
              "      <td>0.000000</td>\n",
              "      <td>0.000000</td>\n",
              "      <td>0.000000</td>\n",
              "      <td>0.000000</td>\n",
              "      <td>0.000000</td>\n",
              "      <td>0.000000</td>\n",
              "    </tr>\n",
              "    <tr>\n",
              "      <th>max</th>\n",
              "      <td>2340.000000</td>\n",
              "      <td>1.000000</td>\n",
              "      <td>2.197225</td>\n",
              "      <td>2.639057</td>\n",
              "      <td>1.995369e+00</td>\n",
              "      <td>3.607425e+00</td>\n",
              "      <td>2.133195e+00</td>\n",
              "      <td>8.059505e+00</td>\n",
              "      <td>1.000000</td>\n",
              "      <td>1.000000</td>\n",
              "      <td>1.00000</td>\n",
              "      <td>1.000000</td>\n",
              "      <td>1.000000</td>\n",
              "      <td>1.000000</td>\n",
              "      <td>1.000000</td>\n",
              "      <td>1.000000</td>\n",
              "      <td>1.000000</td>\n",
              "    </tr>\n",
              "  </tbody>\n",
              "</table>\n",
              "</div>"
            ],
            "text/plain": [
              "             Index    Location  ...  Type_terraced  Type_townhouse\n",
              "count   702.000000  702.000000  ...     702.000000      702.000000\n",
              "mean   1989.500000    0.507663  ...       0.188034        0.007123\n",
              "std     202.794231    0.291095  ...       0.391018        0.084154\n",
              "min    1639.000000    0.000000  ...       0.000000        0.000000\n",
              "25%    1814.250000    0.270690  ...       0.000000        0.000000\n",
              "50%    1989.500000    0.462069  ...       0.000000        0.000000\n",
              "75%    2164.750000    0.793103  ...       0.000000        0.000000\n",
              "max    2340.000000    1.000000  ...       1.000000        1.000000\n",
              "\n",
              "[8 rows x 17 columns]"
            ]
          },
          "metadata": {},
          "execution_count": 44
        }
      ]
    },
    {
      "cell_type": "markdown",
      "metadata": {
        "id": "bJFJQxAS9HZK"
      },
      "source": [
        "# PIECEWISE REGRESSION"
      ]
    },
    {
      "cell_type": "markdown",
      "metadata": {
        "id": "QkRchZtf6IV-"
      },
      "source": [
        "**Piecewise regression**, extract from [Wikipedia](https://en.wikipedia.org/wiki/Segmented_regression):\n",
        "\n",
        "Segmented regression, also known as piecewise regression or broken-stick regression, is a method in regression analysis in which the independent variable is partitioned into intervals and a separate line segment is fit to each interval. \n",
        "\n",
        "* Segmented regression analysis can also be performed on \n",
        "multivariate data by partitioning the various independent variables. \n",
        "* Segmented regression is useful when the independent variables, clustered into different groups, exhibit different relationships between the variables in these regions. \n",
        "\n",
        "* The boundaries between the segments are breakpoints.\n",
        "\n",
        "* Segmented linear regression is segmented regression whereby the relations in the intervals are obtained by linear regression. "
      ]
    },
    {
      "cell_type": "markdown",
      "metadata": {
        "id": "4vmFyHndJbNI"
      },
      "source": [
        "### Bayesian Model Price Prediction on dataset with Full 7 key features as determined above in EDA Section"
      ]
    },
    {
      "cell_type": "code",
      "metadata": {
        "id": "ZR4SQClOAnwo"
      },
      "source": [
        "df_train['Price'] = train_data['Price'] # put original price back in the dataset"
      ],
      "execution_count": null,
      "outputs": []
    },
    {
      "cell_type": "code",
      "metadata": {
        "id": "IAJGmYbxBFJA"
      },
      "source": [
        "# List of key features determined from EDA and XGBoost Feature Importance Analysis\n",
        "\n",
        "featrain = ['Location', 'Num_Bathrooms', 'Num_Beds', 'BER_class','Latitude', 'Longitude', 'Surface', 'Price']\n",
        "featest = ['Location', 'Num_Bathrooms', 'Num_Beds', 'BER_class','Latitude', 'Longitude', 'Surface']\n",
        "\n",
        "df_subset_train = df_train[featrain]\n",
        "df_subset_test = df_test[featest]"
      ],
      "execution_count": null,
      "outputs": []
    },
    {
      "cell_type": "code",
      "metadata": {
        "id": "eVzq0vQmFOnC"
      },
      "source": [
        "# Separate training data into target 'y' and predictor 'X' values\n",
        "\n",
        "# train set, input columns\n",
        "X_train = df_subset_train.iloc[:,0:-1].values \n",
        "# train set, output column, cost\n",
        "y_train = df_subset_train.iloc[:,-1].values.reshape(-1,1)   \n",
        "\n",
        "# test set, input columns\n",
        "X_test = df_subset_test.iloc[:,0:].values \n"
      ],
      "execution_count": null,
      "outputs": []
    },
    {
      "cell_type": "code",
      "metadata": {
        "id": "mHoeT5IqFTXX"
      },
      "source": [
        "# Scale y_train 'price' values\n",
        "\n",
        "ylog = np.log(y_train.astype('float'))\n",
        "yscaler = StandardScaler().fit(ylog)\n",
        "y_train = yscaler.transform(ylog)"
      ],
      "execution_count": null,
      "outputs": []
    },
    {
      "cell_type": "code",
      "metadata": {
        "id": "i-uyDxqzdO4B"
      },
      "source": [
        "# model\n",
        "with pm.Model() as model:\n",
        "    #prior over the parameters of linear regression\n",
        "    alpha = pm.Normal('alpha', mu=0, sigma=30)\n",
        "    #we have one beta for each column of Xn\n",
        "    beta = pm.Normal('beta', mu=0, sigma=30, shape=X_train.shape[1])\n",
        "    #prior over the variance of the noise\n",
        "    sigma = pm.HalfCauchy('sigma_n', 5)\n",
        "    #linear regression model in matrix form\n",
        "    mu = alpha + pm.math.dot(beta, X_train.T)\n",
        "    #likelihood, be sure that observed is a 1d vector\n",
        "    like = pm.Normal('like', mu=mu, sigma=sigma, observed=y_train[:,0])"
      ],
      "execution_count": null,
      "outputs": []
    },
    {
      "cell_type": "code",
      "metadata": {
        "colab": {
          "base_uri": "https://localhost:8080/",
          "height": 306
        },
        "id": "DCu7Zw2YdT4w",
        "outputId": "98e5152a-e7ac-49b8-f3bc-75798631a27e"
      },
      "source": [
        "#number of iterations of the algorithms\n",
        "iter = 50000\n",
        "\n",
        "# run the model\n",
        "with model:\n",
        "    approximation = pm.fit(iter,method='advi')\n",
        "    \n",
        "# check the convergence\n",
        "plt.plot(approximation.hist);"
      ],
      "execution_count": null,
      "outputs": [
        {
          "output_type": "display_data",
          "data": {
            "text/html": [
              "\n",
              "    <div>\n",
              "        <style>\n",
              "            /* Turns off some styling */\n",
              "            progress {\n",
              "                /* gets rid of default border in Firefox and Opera. */\n",
              "                border: none;\n",
              "                /* Needs to be in here for Safari polyfill so background images work as expected. */\n",
              "                background-size: auto;\n",
              "            }\n",
              "            .progress-bar-interrupted, .progress-bar-interrupted::-webkit-progress-bar {\n",
              "                background: #F44336;\n",
              "            }\n",
              "        </style>\n",
              "      <progress value='50000' class='' max='50000' style='width:300px; height:20px; vertical-align: middle;'></progress>\n",
              "      100.00% [50000/50000 00:13<00:00 Average Loss = 1,237.4]\n",
              "    </div>\n",
              "    "
            ],
            "text/plain": [
              "<IPython.core.display.HTML object>"
            ]
          },
          "metadata": {}
        },
        {
          "output_type": "stream",
          "name": "stderr",
          "text": [
            "Finished [100%]: Average Loss = 1,237.4\n"
          ]
        },
        {
          "output_type": "display_data",
          "data": {
            "image/png": "[encoded data removed]",
            "text/plain": [
              "<Figure size 432x288 with 1 Axes>"
            ]
          },
          "metadata": {
            "needs_background": "light"
          }
        }
      ]
    },
    {
      "cell_type": "code",
      "metadata": {
        "id": "IUtJkuxcdWH1"
      },
      "source": [
        "# samples from the posterior\n",
        "posterior = approximation.sample(draws=2000)"
      ],
      "execution_count": null,
      "outputs": []
    },
    {
      "cell_type": "code",
      "metadata": {
        "colab": {
          "base_uri": "https://localhost:8080/"
        },
        "id": "k2MNcvxqdX1Y",
        "outputId": "34c487d4-fdd9-4fac-d19b-e06552bcde6f"
      },
      "source": [
        "# prediction\n",
        "ll=np.mean(posterior['alpha']) + np.dot(np.mean(posterior['beta'],axis=0), X_test.T)\n",
        "y_pred_BLR = np.exp(yscaler.inverse_transform(ll.reshape(-1,1)))[:,0]\n",
        "print(len(y_pred_BLR))"
      ],
      "execution_count": null,
      "outputs": [
        {
          "output_type": "stream",
          "name": "stdout",
          "text": [
            "702\n"
          ]
        }
      ]
    },
    {
      "cell_type": "code",
      "metadata": {
        "colab": {
          "base_uri": "https://localhost:8080/",
          "height": 419
        },
        "id": "3bhvUp0CF889",
        "outputId": "5fe239bc-9042-4679-8691-ca76220c9185"
      },
      "source": [
        "df_1 = test_data['Index']\n",
        "df_2 = pd.DataFrame(y_pred_BLR, columns=['Price_Full'])\n",
        "full_test_predictions = pd.concat([df_1, df_2], axis=1)\n",
        "full_test_predictions"
      ],
      "execution_count": null,
      "outputs": [
        {
          "output_type": "execute_result",
          "data": {
            "text/html": [
              "<div>\n",
              "<style scoped>\n",
              "    .dataframe tbody tr th:only-of-type {\n",
              "        vertical-align: middle;\n",
              "    }\n",
              "\n",
              "    .dataframe tbody tr th {\n",
              "        vertical-align: top;\n",
              "    }\n",
              "\n",
              "    .dataframe thead th {\n",
              "        text-align: right;\n",
              "    }\n",
              "</style>\n",
              "<table border=\"1\" class=\"dataframe\">\n",
              "  <thead>\n",
              "    <tr style=\"text-align: right;\">\n",
              "      <th></th>\n",
              "      <th>Index</th>\n",
              "      <th>Price_Full</th>\n",
              "    </tr>\n",
              "  </thead>\n",
              "  <tbody>\n",
              "    <tr>\n",
              "      <th>0</th>\n",
              "      <td>1639</td>\n",
              "      <td>327319.863719</td>\n",
              "    </tr>\n",
              "    <tr>\n",
              "      <th>1</th>\n",
              "      <td>1640</td>\n",
              "      <td>514588.816156</td>\n",
              "    </tr>\n",
              "    <tr>\n",
              "      <th>2</th>\n",
              "      <td>1641</td>\n",
              "      <td>554063.071616</td>\n",
              "    </tr>\n",
              "    <tr>\n",
              "      <th>3</th>\n",
              "      <td>1642</td>\n",
              "      <td>766644.161484</td>\n",
              "    </tr>\n",
              "    <tr>\n",
              "      <th>4</th>\n",
              "      <td>1643</td>\n",
              "      <td>472565.362024</td>\n",
              "    </tr>\n",
              "    <tr>\n",
              "      <th>...</th>\n",
              "      <td>...</td>\n",
              "      <td>...</td>\n",
              "    </tr>\n",
              "    <tr>\n",
              "      <th>697</th>\n",
              "      <td>2336</td>\n",
              "      <td>207250.815992</td>\n",
              "    </tr>\n",
              "    <tr>\n",
              "      <th>698</th>\n",
              "      <td>2337</td>\n",
              "      <td>248428.129017</td>\n",
              "    </tr>\n",
              "    <tr>\n",
              "      <th>699</th>\n",
              "      <td>2338</td>\n",
              "      <td>529817.781306</td>\n",
              "    </tr>\n",
              "    <tr>\n",
              "      <th>700</th>\n",
              "      <td>2339</td>\n",
              "      <td>563486.684498</td>\n",
              "    </tr>\n",
              "    <tr>\n",
              "      <th>701</th>\n",
              "      <td>2340</td>\n",
              "      <td>704054.135336</td>\n",
              "    </tr>\n",
              "  </tbody>\n",
              "</table>\n",
              "<p>702 rows × 2 columns</p>\n",
              "</div>"
            ],
            "text/plain": [
              "     Index     Price_Full\n",
              "0     1639  327319.863719\n",
              "1     1640  514588.816156\n",
              "2     1641  554063.071616\n",
              "3     1642  766644.161484\n",
              "4     1643  472565.362024\n",
              "..     ...            ...\n",
              "697   2336  207250.815992\n",
              "698   2337  248428.129017\n",
              "699   2338  529817.781306\n",
              "700   2339  563486.684498\n",
              "701   2340  704054.135336\n",
              "\n",
              "[702 rows x 2 columns]"
            ]
          },
          "metadata": {},
          "execution_count": 384
        }
      ]
    },
    {
      "cell_type": "code",
      "metadata": {
        "id": "He8cZ6IOG5l1"
      },
      "source": [
        "# Save this file as a CSV\n",
        "\n",
        "full_test_predictions.to_csv(path+'ET5003_Kaggle_RobertBarrett_20157347.csv')"
      ],
      "execution_count": null,
      "outputs": []
    },
    {
      "cell_type": "markdown",
      "metadata": {
        "id": "kDtjYcehOkJL"
      },
      "source": [
        "### Price Prediction using Piecewise Bayesian Model (Clustering by Top 2 Key Features)"
      ]
    },
    {
      "cell_type": "code",
      "metadata": {
        "colab": {
          "base_uri": "https://localhost:8080/"
        },
        "id": "Gt4Rq0nMlQ00",
        "outputId": "27e5d6cd-96ba-4486-f59b-1b7bf18984f4"
      },
      "source": [
        "# List the feature order in the datasets\n",
        "featrain"
      ],
      "execution_count": null,
      "outputs": [
        {
          "output_type": "execute_result",
          "data": {
            "text/plain": [
              "['Location',\n",
              " 'Num_Bathrooms',\n",
              " 'Num_Beds',\n",
              " 'BER_class',\n",
              " 'Latitude',\n",
              " 'Longitude',\n",
              " 'Surface',\n",
              " 'Price']"
            ]
          },
          "metadata": {},
          "execution_count": 301
        }
      ]
    },
    {
      "cell_type": "code",
      "metadata": {
        "id": "czOtO9e_k6Bo"
      },
      "source": [
        "# clustering by features 5, 6; from list above these are 'longitude' and 'latitude'\n",
        "ind=[5, 6]\n",
        "X_ind = np.vstack([X_train[:,ind],X_test[:,ind]])"
      ],
      "execution_count": null,
      "outputs": []
    },
    {
      "cell_type": "code",
      "metadata": {
        "colab": {
          "base_uri": "https://localhost:8080/",
          "height": 282
        },
        "id": "ESF1oKnsjn7M",
        "outputId": "5fd446f0-e459-4d92-a5bd-77762ae817dc"
      },
      "source": [
        "# training gaussian mixture model \n",
        "from sklearn.mixture import GaussianMixture\n",
        "\n",
        "gmm = GaussianMixture(n_components=4)\n",
        "\n",
        "# Gaussian Mixture\n",
        "gmm.fit(X_ind)\n",
        "# plot predicted clusters\n",
        "label = gmm.predict(X_ind)\n",
        "plt.scatter(X_ind[:,0],X_ind[:,1], c = label)\n",
        "# centroids:  orange dots\n",
        "plt.scatter(gmm.means_[:,0],gmm.means_[:,1], c = 'orange')"
      ],
      "execution_count": null,
      "outputs": [
        {
          "output_type": "execute_result",
          "data": {
            "text/plain": [
              "<matplotlib.collections.PathCollection at 0x7f0aff2e06d0>"
            ]
          },
          "metadata": {},
          "execution_count": 386
        },
        {
          "output_type": "display_data",
          "data": {
            "image/png": "[encoded data removed]",
            "text/plain": [
              "<Figure size 432x288 with 1 Axes>"
            ]
          },
          "metadata": {
            "needs_background": "light"
          }
        }
      ]
    },
    {
      "cell_type": "markdown",
      "metadata": {
        "id": "ojXElPMamAcq"
      },
      "source": [
        "#### Prediction on 4 Clusters"
      ]
    },
    {
      "cell_type": "code",
      "metadata": {
        "colab": {
          "base_uri": "https://localhost:8080/"
        },
        "id": "ywO8THgHl_Cp",
        "outputId": "5be7eb25-04bd-4453-a3b0-1439862b55bd"
      },
      "source": [
        "# train clusters\n",
        "\n",
        "clusters_train = gmm.predict(X_train[:,ind])\n",
        "unique_train, counts_train = np.unique(clusters_train, return_counts=True)\n",
        "dict(zip(unique_train, counts_train))"
      ],
      "execution_count": null,
      "outputs": [
        {
          "output_type": "execute_result",
          "data": {
            "text/plain": [
              "{0: 691, 1: 173, 2: 360, 3: 411}"
            ]
          },
          "metadata": {},
          "execution_count": 388
        }
      ]
    },
    {
      "cell_type": "code",
      "metadata": {
        "colab": {
          "base_uri": "https://localhost:8080/"
        },
        "id": "Cm4hRIx7mT5f",
        "outputId": "e5dfb8e0-6b24-47f3-c722-9ca1af01f412"
      },
      "source": [
        "# test clusters\n",
        "\n",
        "clusters_test = gmm.predict(X_test[:,ind])\n",
        "unique_test, counts_test = np.unique(clusters_test, return_counts=True)\n",
        "dict(zip(unique_test, counts_test))"
      ],
      "execution_count": null,
      "outputs": [
        {
          "output_type": "execute_result",
          "data": {
            "text/plain": [
              "{0: 289, 1: 69, 2: 145, 3: 199}"
            ]
          },
          "metadata": {},
          "execution_count": 389
        }
      ]
    },
    {
      "cell_type": "code",
      "metadata": {
        "id": "XDd2QwhwmdI1"
      },
      "source": [
        "# train set, input columns\n",
        "X_train = df_subset_train.iloc[:,0:-1].values \n",
        "# train set, output column, cost\n",
        "y_train = df_subset_train.iloc[:,-1].values.reshape(-1,1)   \n",
        "\n",
        "# test set, input columns\n",
        "X_test = df_subset_test.iloc[:,0:].values "
      ],
      "execution_count": null,
      "outputs": []
    },
    {
      "cell_type": "code",
      "metadata": {
        "id": "EidKJ4ZWmxhY"
      },
      "source": [
        "# Process data for cluster 0\n",
        "Xn0 = X_train[clusters_train==0,:]\n",
        "Xtestn0 = X_test[clusters_test==0,:]\n",
        "\n",
        "ylog0 = np.log(y_train.astype('float')[clusters_train==0,:])\n",
        "yscaler0 = StandardScaler().fit(ylog0)\n",
        "yn0 = yscaler0.transform(ylog0)"
      ],
      "execution_count": null,
      "outputs": []
    },
    {
      "cell_type": "code",
      "metadata": {
        "id": "EKWzBquum0Yx"
      },
      "source": [
        "# Process data for cluster 1\n",
        "Xn1 = X_train[clusters_train==1,:]\n",
        "Xtestn1 = X_test[clusters_test==1,:]\n",
        "\n",
        "ylog1 = np.log(y_train.astype('float')[clusters_train==1,:])\n",
        "yscaler1 = StandardScaler().fit(ylog1)\n",
        "yn1 = yscaler1.transform(ylog1)"
      ],
      "execution_count": null,
      "outputs": []
    },
    {
      "cell_type": "code",
      "metadata": {
        "id": "ZfBGAwuMm2_0"
      },
      "source": [
        "# Process data for cluster 2\n",
        "Xn2 = X_train[clusters_train==2,:]\n",
        "Xtestn2 = X_test[clusters_test==2,:]\n",
        "ylog2 = np.log(y_train.astype('float')[clusters_train==2,:])\n",
        "yscaler2 = StandardScaler().fit(ylog2)\n",
        "yn2 = yscaler2.transform(ylog2)"
      ],
      "execution_count": null,
      "outputs": []
    },
    {
      "cell_type": "code",
      "metadata": {
        "id": "s3qpmST-m5tG"
      },
      "source": [
        "# Process data for cluster 3\n",
        "Xn3 = X_train[clusters_train==3,:]\n",
        "Xtestn3 = X_test[clusters_test==3,:]\n",
        "ylog3 = np.log(y_train.astype('float')[clusters_train==3,:])\n",
        "yscaler3 = StandardScaler().fit(ylog3)\n",
        "yn3 = yscaler3.transform(ylog3)"
      ],
      "execution_count": null,
      "outputs": []
    },
    {
      "cell_type": "code",
      "metadata": {
        "colab": {
          "base_uri": "https://localhost:8080/",
          "height": 54
        },
        "id": "twzeQBFzm-CV",
        "outputId": "b7537530-209e-44cf-caaf-5e07bf5ff582"
      },
      "source": [
        "# Train model_0\n",
        "with pm.Model() as model_0:\n",
        "  # prior over the parameters of linear regression\n",
        "  alpha = pm.Normal('alpha', mu=0, sigma=30)\n",
        "  # we have a beta for each column of Xn0\n",
        "  beta = pm.Normal('beta', mu=0, sigma=30, shape=Xn0.shape[1])\n",
        "  # prior over the variance of the noise\n",
        "  sigma = pm.HalfCauchy('sigma_n', 5)\n",
        "  # linear regression relationship\n",
        "  #linear regression model in matrix form\n",
        "  mu = alpha + pm.math.dot(beta, Xn0.T)\n",
        "  # likelihood, be sure that observed is a 1d vector\n",
        "  like = pm.Normal('like', mu=mu, sigma=sigma, observed=yn0[:,0])\n",
        "\n",
        "with model_0:\n",
        "  # iterations of the algorithm\n",
        "  approximation = pm.fit(40000,method='advi')\n",
        "\n",
        "# samples from the posterior   \n",
        "posterior0 = approximation.sample(5000)"
      ],
      "execution_count": null,
      "outputs": [
        {
          "output_type": "display_data",
          "data": {
            "text/html": [
              "\n",
              "    <div>\n",
              "        <style>\n",
              "            /* Turns off some styling */\n",
              "            progress {\n",
              "                /* gets rid of default border in Firefox and Opera. */\n",
              "                border: none;\n",
              "                /* Needs to be in here for Safari polyfill so background images work as expected. */\n",
              "                background-size: auto;\n",
              "            }\n",
              "            .progress-bar-interrupted, .progress-bar-interrupted::-webkit-progress-bar {\n",
              "                background: #F44336;\n",
              "            }\n",
              "        </style>\n",
              "      <progress value='40000' class='' max='40000' style='width:300px; height:20px; vertical-align: middle;'></progress>\n",
              "      100.00% [40000/40000 00:06<00:00 Average Loss = 659.74]\n",
              "    </div>\n",
              "    "
            ],
            "text/plain": [
              "<IPython.core.display.HTML object>"
            ]
          },
          "metadata": {}
        },
        {
          "output_type": "stream",
          "name": "stderr",
          "text": [
            "Finished [100%]: Average Loss = 659.76\n"
          ]
        }
      ]
    },
    {
      "cell_type": "code",
      "metadata": {
        "colab": {
          "base_uri": "https://localhost:8080/",
          "height": 54
        },
        "id": "R7RkKF-_nCP9",
        "outputId": "36f7ba6f-41f7-493e-d1db-2e1e8d8cb4ec"
      },
      "source": [
        "# Train model_1\n",
        "with pm.Model() as model_1:\n",
        "  # prior over the parameters of linear regression\n",
        "  alpha = pm.Normal('alpha', mu=0, sigma=30)\n",
        "  # we have a beta for each column of Xn\n",
        "  beta = pm.Normal('beta', mu=0, sigma=30, shape=Xn1.shape[1])\n",
        "  # prior over the variance of the noise\n",
        "  sigma = pm.HalfCauchy('sigma_n', 5)\n",
        "  # linear regression relationship\n",
        "  #linear regression model in matrix form\n",
        "  mu = alpha + pm.math.dot(beta, Xn1.T)\n",
        "  # likelihood, # \n",
        "  like = pm.Normal('like', mu=mu, sigma=sigma, observed=yn1[:,0])\n",
        "  \n",
        "with model_1:\n",
        "  # iterations of the algorithm\n",
        "  approximation = pm.fit(40000,method='advi')\n",
        "\n",
        "# samples from the posterior    \n",
        "posterior1 = approximation.sample(5000)"
      ],
      "execution_count": null,
      "outputs": [
        {
          "output_type": "display_data",
          "data": {
            "text/html": [
              "\n",
              "    <div>\n",
              "        <style>\n",
              "            /* Turns off some styling */\n",
              "            progress {\n",
              "                /* gets rid of default border in Firefox and Opera. */\n",
              "                border: none;\n",
              "                /* Needs to be in here for Safari polyfill so background images work as expected. */\n",
              "                background-size: auto;\n",
              "            }\n",
              "            .progress-bar-interrupted, .progress-bar-interrupted::-webkit-progress-bar {\n",
              "                background: #F44336;\n",
              "            }\n",
              "        </style>\n",
              "      <progress value='40000' class='' max='40000' style='width:300px; height:20px; vertical-align: middle;'></progress>\n",
              "      100.00% [40000/40000 00:05<00:00 Average Loss = 239.35]\n",
              "    </div>\n",
              "    "
            ],
            "text/plain": [
              "<IPython.core.display.HTML object>"
            ]
          },
          "metadata": {}
        },
        {
          "output_type": "stream",
          "name": "stderr",
          "text": [
            "Finished [100%]: Average Loss = 239.35\n"
          ]
        }
      ]
    },
    {
      "cell_type": "code",
      "metadata": {
        "colab": {
          "base_uri": "https://localhost:8080/",
          "height": 54
        },
        "id": "tXIIUP8jnI3U",
        "outputId": "10caea75-23d7-4c7f-b1c7-7a6c30347bd1"
      },
      "source": [
        "# Train model_2\n",
        "with pm.Model() as model_2:\n",
        "  # prior over the parameters of linear regression\n",
        "  alpha = pm.Normal('alpha', mu=0, sigma=30)\n",
        "  # we have a beta for each column of Xn\n",
        "  beta = pm.Normal('beta', mu=0, sigma=30, shape=Xn2.shape[1])\n",
        "  # prior over the variance of the noise\n",
        "  sigma = pm.HalfCauchy('sigma_n', 5)\n",
        "  # linear regression relationship\n",
        "  # linear regression model in matrix form\n",
        "  mu = alpha + pm.math.dot(beta, Xn2.T)\n",
        "  # likelihood, be sure that observed is a 1d vector\n",
        "  like = pm.Normal('like', mu=mu, sigma=sigma, observed=yn2[:,0])\n",
        "    \n",
        "with model_2:\n",
        "  # iterations of the algorithms\n",
        "  approximation = pm.fit(40000,method='advi')\n",
        "\n",
        "# samples from the posterior    \n",
        "posterior2 = approximation.sample(5000)"
      ],
      "execution_count": null,
      "outputs": [
        {
          "output_type": "display_data",
          "data": {
            "text/html": [
              "\n",
              "    <div>\n",
              "        <style>\n",
              "            /* Turns off some styling */\n",
              "            progress {\n",
              "                /* gets rid of default border in Firefox and Opera. */\n",
              "                border: none;\n",
              "                /* Needs to be in here for Safari polyfill so background images work as expected. */\n",
              "                background-size: auto;\n",
              "            }\n",
              "            .progress-bar-interrupted, .progress-bar-interrupted::-webkit-progress-bar {\n",
              "                background: #F44336;\n",
              "            }\n",
              "        </style>\n",
              "      <progress value='40000' class='' max='40000' style='width:300px; height:20px; vertical-align: middle;'></progress>\n",
              "      100.00% [40000/40000 00:05<00:00 Average Loss = 318.42]\n",
              "    </div>\n",
              "    "
            ],
            "text/plain": [
              "<IPython.core.display.HTML object>"
            ]
          },
          "metadata": {}
        },
        {
          "output_type": "stream",
          "name": "stderr",
          "text": [
            "Finished [100%]: Average Loss = 318.45\n"
          ]
        }
      ]
    },
    {
      "cell_type": "code",
      "metadata": {
        "colab": {
          "base_uri": "https://localhost:8080/",
          "height": 54
        },
        "id": "4-QZ3k3tnMvl",
        "outputId": "58fc3fcc-8c5a-458d-e8e1-f86a5330502b"
      },
      "source": [
        "# Train model_3\n",
        "with pm.Model() as model3:\n",
        "  # prior over the parameters of linear regression\n",
        "  alpha = pm.Normal('alpha', mu=0, sigma=30)\n",
        "  # we have a beta for each column of Xn\n",
        "  beta = pm.Normal('beta', mu=0, sigma=30, shape=Xn3.shape[1])\n",
        "  # prior over the variance of the noise\n",
        "  sigma = pm.HalfCauchy('sigma_n', 5)\n",
        "  # linear regression relationship\n",
        "  mu = alpha + pm.math.dot(beta, Xn3.T)#linear regression model in matrix form\n",
        "  # likelihood, be sure that observed is a 1d vector\n",
        "  like = pm.Normal('like', mu=mu, sigma=sigma, observed=yn3[:,0])\n",
        "    \n",
        "with model3:\n",
        "  # number of iterations of the algorithms\n",
        "  approximation = pm.fit(40000,method='advi')\n",
        "\n",
        "# samples from the posterior     \n",
        "posterior3 = approximation.sample(5000)"
      ],
      "execution_count": null,
      "outputs": [
        {
          "output_type": "display_data",
          "data": {
            "text/html": [
              "\n",
              "    <div>\n",
              "        <style>\n",
              "            /* Turns off some styling */\n",
              "            progress {\n",
              "                /* gets rid of default border in Firefox and Opera. */\n",
              "                border: none;\n",
              "                /* Needs to be in here for Safari polyfill so background images work as expected. */\n",
              "                background-size: auto;\n",
              "            }\n",
              "            .progress-bar-interrupted, .progress-bar-interrupted::-webkit-progress-bar {\n",
              "                background: #F44336;\n",
              "            }\n",
              "        </style>\n",
              "      <progress value='40000' class='' max='40000' style='width:300px; height:20px; vertical-align: middle;'></progress>\n",
              "      100.00% [40000/40000 00:05<00:00 Average Loss = 457.36]\n",
              "    </div>\n",
              "    "
            ],
            "text/plain": [
              "<IPython.core.display.HTML object>"
            ]
          },
          "metadata": {}
        },
        {
          "output_type": "stream",
          "name": "stderr",
          "text": [
            "Finished [100%]: Average Loss = 457.35\n"
          ]
        }
      ]
    },
    {
      "cell_type": "code",
      "metadata": {
        "id": "6_-fZmXqnRF2"
      },
      "source": [
        "# Posterior predictive checks (PPCs)\n",
        "def ppc(alpha,beta,sigma, X,  nsamples=500):\n",
        "    #we select nsamples random samples from the posterior\n",
        "    ind = np.random.randint(0,beta.shape[0],size=nsamples)\n",
        "    alphai = alpha[ind]\n",
        "    betai = beta[ind,:]\n",
        "    sigmai = sigma[ind]\n",
        "\n",
        "    Ypred = np.zeros((nsamples,X.shape[0]))\n",
        "    for i in range(X.shape[0]):\n",
        "        #we generate data from linear model\n",
        "        y_pred = alphai + np.dot(betai, X[i:i+1,:].T).T +np.random.randn(len(sigmai))*sigmai\n",
        "        Ypred[:,i]=y_pred[0,:]\n",
        "    return Ypred"
      ],
      "execution_count": null,
      "outputs": []
    },
    {
      "cell_type": "code",
      "metadata": {
        "colab": {
          "base_uri": "https://localhost:8080/",
          "height": 283
        },
        "id": "hoQUu310nSbK",
        "outputId": "d9311f04-a14e-48ec-c9cd-9bd1b5a2711b"
      },
      "source": [
        "# Simulation for cluster 0\n",
        "# Reverse the scaling for predicted value to get back to the original price scale\n",
        "Ypred0 = yscaler0.inverse_transform(ppc(posterior0['alpha'],posterior0['beta'],posterior0['sigma_n'],Xn0,  nsamples=200))\n",
        "for i in range(Ypred0.shape[0]):\n",
        "    az.plot_dist( Ypred0[i,:],color='r',plot_kwargs={\"linewidth\": 0.2})\n",
        "az.plot_dist(Ypred0[i,:],color='r',plot_kwargs={\"linewidth\": 0.2}, label=\"prediction\")\n",
        "#plt.plot(np.linspace(-8,8,100),norm.pdf(np.linspace(-8,8,100),df=np.mean(posterior_1['nu'])))\n",
        "#plt.xlim([0,10e7])\n",
        "az.plot_dist(ylog0,label='true observations');\n",
        "plt.legend()\n",
        "plt.xlabel(\"log(y) - output variable\")\n",
        "plt.ylabel(\"density plot\");"
      ],
      "execution_count": null,
      "outputs": [
        {
          "output_type": "display_data",
          "data": {
            "image/png": "[encoded data removed]",
            "text/plain": [
              "<Figure size 432x288 with 1 Axes>"
            ]
          },
          "metadata": {
            "needs_background": "light"
          }
        }
      ]
    },
    {
      "cell_type": "code",
      "metadata": {
        "colab": {
          "base_uri": "https://localhost:8080/",
          "height": 283
        },
        "id": "vyvgl4I2nXZg",
        "outputId": "8b5eeaa9-d9f9-4b4a-9bc4-6158aa17743c"
      },
      "source": [
        "#Simulation for cluster 1\n",
        "# Reverse the scaling for predicted value to get back to the original price scale\n",
        "Ypred1 = yscaler1.inverse_transform(ppc(posterior1['alpha'],posterior1['beta'],posterior1['sigma_n'],Xn1,  nsamples=200))\n",
        "for i in range(Ypred1.shape[0]):\n",
        "    az.plot_dist( Ypred1[i,:],color='r',plot_kwargs={\"linewidth\": 0.2})\n",
        "az.plot_dist(Ypred1[i,:],color='r',plot_kwargs={\"linewidth\": 0.2}, label=\"prediction\")\n",
        "#plt.plot(np.linspace(-8,8,100),norm.pdf(np.linspace(-8,8,100),df=np.mean(posterior_1['nu'])))\n",
        "#plt.xlim([0,10e7])\n",
        "az.plot_dist(ylog1,label='true observations');\n",
        "plt.legend()\n",
        "plt.xlabel(\"log(y) - output variable\")\n",
        "plt.ylabel(\"density plot\");"
      ],
      "execution_count": null,
      "outputs": [
        {
          "output_type": "display_data",
          "data": {
            "image/png": "[encoded data removed]",
            "text/plain": [
              "<Figure size 432x288 with 1 Axes>"
            ]
          },
          "metadata": {
            "needs_background": "light"
          }
        }
      ]
    },
    {
      "cell_type": "code",
      "metadata": {
        "colab": {
          "base_uri": "https://localhost:8080/",
          "height": 283
        },
        "id": "wB9iCDxGna7L",
        "outputId": "5a2992ee-2b60-4c8f-e761-82971a1ee999"
      },
      "source": [
        "#Simulation\n",
        "Ypred2 = yscaler2.inverse_transform(ppc(posterior2['alpha'],posterior2['beta'],posterior2['sigma_n'],Xn2,  nsamples=200))\n",
        "for i in range(Ypred2.shape[0]):\n",
        "    az.plot_dist( Ypred2[i,:],color='r',plot_kwargs={\"linewidth\": 0.2})\n",
        "az.plot_dist(Ypred2[i,:],color='r',plot_kwargs={\"linewidth\": 0.2}, label=\"prediction\")\n",
        "#plt.plot(np.linspace(-8,8,100),norm.pdf(np.linspace(-8,8,100),df=np.mean(posterior_1['nu'])))\n",
        "#plt.xlim([0,10e7])\n",
        "az.plot_dist(ylog2,label='true observations');\n",
        "plt.legend()\n",
        "plt.xlabel(\"log(y) - output variable\")\n",
        "plt.ylabel(\"density plot\");"
      ],
      "execution_count": null,
      "outputs": [
        {
          "output_type": "display_data",
          "data": {
            "image/png": "[encoded data removed]",
            "text/plain": [
              "<Figure size 432x288 with 1 Axes>"
            ]
          },
          "metadata": {
            "needs_background": "light"
          }
        }
      ]
    },
    {
      "cell_type": "code",
      "metadata": {
        "colab": {
          "base_uri": "https://localhost:8080/",
          "height": 283
        },
        "id": "oSG-dcm2nfKq",
        "outputId": "60cf51c3-b8d1-4052-b057-4003ac9a5c13"
      },
      "source": [
        "#Simulation for Cluster 3\n",
        "# Reverse the scaling for predicted value to get back to the original price scale\n",
        "Ypred3 = yscaler3.inverse_transform(ppc(posterior3['alpha'],posterior3['beta'],posterior3['sigma_n'],Xn3,  nsamples=200))\n",
        "for i in range(Ypred3.shape[0]):\n",
        "    az.plot_dist( Ypred3[i,:],color='r',plot_kwargs={\"linewidth\": 0.2})\n",
        "az.plot_dist(Ypred3[i,:],color='r',plot_kwargs={\"linewidth\": 0.2}, label=\"prediction\")\n",
        "#plt.plot(np.linspace(-8,8,100),norm.pdf(np.linspace(-8,8,100),df=np.mean(posterior_1['nu'])))\n",
        "#plt.xlim([0,10e7])\n",
        "az.plot_dist(ylog3,label='true observations');\n",
        "plt.legend()\n",
        "plt.xlabel(\"log(y) - output variable\")\n",
        "plt.ylabel(\"density plot\");"
      ],
      "execution_count": null,
      "outputs": [
        {
          "output_type": "display_data",
          "data": {
            "image/png": "[encoded data removed]",
            "text/plain": [
              "<Figure size 432x288 with 1 Axes>"
            ]
          },
          "metadata": {
            "needs_background": "light"
          }
        }
      ]
    },
    {
      "cell_type": "code",
      "metadata": {
        "colab": {
          "base_uri": "https://localhost:8080/",
          "height": 283
        },
        "id": "hsWzYfOanjK7",
        "outputId": "f298c64b-cee6-4edd-a5e2-24e48cead899"
      },
      "source": [
        "# Using PPC, take 200 samples from the posteriors of each cluster\n",
        "Ypred0 = ppc(posterior0['alpha'],posterior0['beta'],posterior0['sigma_n'],Xn0,  nsamples=200)\n",
        "Ypred1 = ppc(posterior1['alpha'],posterior1['beta'],posterior1['sigma_n'],Xn1,  nsamples=200)\n",
        "Ypred2 = ppc(posterior2['alpha'],posterior2['beta'],posterior2['sigma_n'],Xn2,  nsamples=200)\n",
        "Ypred3 = ppc(posterior3['alpha'],posterior3['beta'],posterior3['sigma_n'],Xn3,  nsamples=200)\n",
        "\n",
        "# Create a combined predicted value by reversing the scaling done on each cluster prediction\n",
        "Ypred = np.hstack([ yscaler0.inverse_transform(Ypred0),\n",
        "                 yscaler1.inverse_transform(Ypred1),\n",
        "                 yscaler2.inverse_transform(Ypred2),\n",
        "                 yscaler3.inverse_transform(Ypred3)])\n",
        "\n",
        "# Plot the distribution for the combined set of samples\n",
        "for i in range(Ypred.shape[0]):\n",
        "    az.plot_dist( Ypred[i,:],color='r',plot_kwargs={\"linewidth\": 0.2})\n",
        "\n",
        "# plot the predicted distributions against the true distribution to see how they are close\n",
        "az.plot_dist(Ypred[i,:],color='r',plot_kwargs={\"linewidth\": 0.2}, label=\"prediction\")\n",
        "ylog=np.vstack([ylog0,ylog1,ylog2,ylog3])\n",
        "az.plot_dist(ylog,label='true observations');\n",
        "plt.legend()\n",
        "plt.xlabel(\"log(y) - output variable\")\n",
        "plt.ylabel(\"density plot\");"
      ],
      "execution_count": null,
      "outputs": [
        {
          "output_type": "display_data",
          "data": {
            "image/png": "[encoded data removed]",
            "text/plain": [
              "<Figure size 432x288 with 1 Axes>"
            ]
          },
          "metadata": {
            "needs_background": "light"
          }
        }
      ]
    },
    {
      "cell_type": "code",
      "metadata": {
        "id": "XSQhGvYDoFBj"
      },
      "source": [
        "# cluster 0\n",
        "y_pred_BLR0 = np.exp(yscaler0.inverse_transform(np.mean(posterior0['alpha']) \n",
        "              + np.dot(np.mean(posterior0['beta'],axis=0), Xtestn0.T)))\n",
        "\n",
        "# cluster 1\n",
        "y_pred_BLR1 = np.exp(yscaler1.inverse_transform(np.mean(posterior1['alpha']) \n",
        "              + np.dot(np.mean(posterior1['beta'],axis=0), Xtestn1.T)))\n",
        "\n",
        "# cluster 2\n",
        "y_pred_BLR2 = np.exp(yscaler2.inverse_transform(np.mean(posterior2['alpha']) \n",
        "              + np.dot(np.mean(posterior2['beta'],axis=0), Xtestn2.T)))\n",
        "\n",
        "# cluster 3\n",
        "y_pred_BLR3 = np.exp(yscaler3.inverse_transform(np.mean(posterior3['alpha']) \n",
        "              + np.dot(np.mean(posterior3['beta'],axis=0), Xtestn3.T)))\n",
        "\n",
        "joint_y_pred=np.hstack([y_pred_BLR0, y_pred_BLR1, y_pred_BLR2, y_pred_BLR3])"
      ],
      "execution_count": null,
      "outputs": []
    },
    {
      "cell_type": "code",
      "metadata": {
        "colab": {
          "base_uri": "https://localhost:8080/",
          "height": 419
        },
        "id": "-aJCzAsvqrwC",
        "outputId": "a186d6d8-3199-4bf1-f519-c519939fed6e"
      },
      "source": [
        "# Save predictions to predictions dataframe\n",
        "df_1 = full_test_predictions\n",
        "df_2 = pd.DataFrame(joint_y_pred, columns=['Price_Piecewise'])\n",
        "full_test_predictions = pd.concat([df_1, df_2], axis=1)\n",
        "full_test_predictions"
      ],
      "execution_count": null,
      "outputs": [
        {
          "output_type": "execute_result",
          "data": {
            "text/html": [
              "<div>\n",
              "<style scoped>\n",
              "    .dataframe tbody tr th:only-of-type {\n",
              "        vertical-align: middle;\n",
              "    }\n",
              "\n",
              "    .dataframe tbody tr th {\n",
              "        vertical-align: top;\n",
              "    }\n",
              "\n",
              "    .dataframe thead th {\n",
              "        text-align: right;\n",
              "    }\n",
              "</style>\n",
              "<table border=\"1\" class=\"dataframe\">\n",
              "  <thead>\n",
              "    <tr style=\"text-align: right;\">\n",
              "      <th></th>\n",
              "      <th>Index</th>\n",
              "      <th>Price_Full</th>\n",
              "      <th>Price_Piecewise</th>\n",
              "    </tr>\n",
              "  </thead>\n",
              "  <tbody>\n",
              "    <tr>\n",
              "      <th>0</th>\n",
              "      <td>1639</td>\n",
              "      <td>327319.863719</td>\n",
              "      <td>544457.137278</td>\n",
              "    </tr>\n",
              "    <tr>\n",
              "      <th>1</th>\n",
              "      <td>1640</td>\n",
              "      <td>514588.816156</td>\n",
              "      <td>486291.974630</td>\n",
              "    </tr>\n",
              "    <tr>\n",
              "      <th>2</th>\n",
              "      <td>1641</td>\n",
              "      <td>554063.071616</td>\n",
              "      <td>796848.791118</td>\n",
              "    </tr>\n",
              "    <tr>\n",
              "      <th>3</th>\n",
              "      <td>1642</td>\n",
              "      <td>766644.161484</td>\n",
              "      <td>460711.203099</td>\n",
              "    </tr>\n",
              "    <tr>\n",
              "      <th>4</th>\n",
              "      <td>1643</td>\n",
              "      <td>472565.362024</td>\n",
              "      <td>640060.923345</td>\n",
              "    </tr>\n",
              "    <tr>\n",
              "      <th>...</th>\n",
              "      <td>...</td>\n",
              "      <td>...</td>\n",
              "      <td>...</td>\n",
              "    </tr>\n",
              "    <tr>\n",
              "      <th>697</th>\n",
              "      <td>2336</td>\n",
              "      <td>207250.815992</td>\n",
              "      <td>288755.223644</td>\n",
              "    </tr>\n",
              "    <tr>\n",
              "      <th>698</th>\n",
              "      <td>2337</td>\n",
              "      <td>248428.129017</td>\n",
              "      <td>245706.789650</td>\n",
              "    </tr>\n",
              "    <tr>\n",
              "      <th>699</th>\n",
              "      <td>2338</td>\n",
              "      <td>529817.781306</td>\n",
              "      <td>297286.911206</td>\n",
              "    </tr>\n",
              "    <tr>\n",
              "      <th>700</th>\n",
              "      <td>2339</td>\n",
              "      <td>563486.684498</td>\n",
              "      <td>209441.686576</td>\n",
              "    </tr>\n",
              "    <tr>\n",
              "      <th>701</th>\n",
              "      <td>2340</td>\n",
              "      <td>704054.135336</td>\n",
              "      <td>289472.352447</td>\n",
              "    </tr>\n",
              "  </tbody>\n",
              "</table>\n",
              "<p>702 rows × 3 columns</p>\n",
              "</div>"
            ],
            "text/plain": [
              "     Index     Price_Full  Price_Piecewise\n",
              "0     1639  327319.863719    544457.137278\n",
              "1     1640  514588.816156    486291.974630\n",
              "2     1641  554063.071616    796848.791118\n",
              "3     1642  766644.161484    460711.203099\n",
              "4     1643  472565.362024    640060.923345\n",
              "..     ...            ...              ...\n",
              "697   2336  207250.815992    288755.223644\n",
              "698   2337  248428.129017    245706.789650\n",
              "699   2338  529817.781306    297286.911206\n",
              "700   2339  563486.684498    209441.686576\n",
              "701   2340  704054.135336    289472.352447\n",
              "\n",
              "[702 rows x 3 columns]"
            ]
          },
          "metadata": {},
          "execution_count": 406
        }
      ]
    },
    {
      "cell_type": "markdown",
      "metadata": {
        "id": "_kFgkUA85_pn"
      },
      "source": [
        "# BAYESIAN NN"
      ]
    },
    {
      "cell_type": "markdown",
      "metadata": {
        "id": "ELer5PV37ftX"
      },
      "source": [
        "A [Bayesian network](https://en.wikipedia.org/wiki/Bayesian_network) (also known as a Bayes network, Bayes net, belief network, or decision network) is a probabilistic graphical model that represents a set of variables and their conditional dependencies via a directed acyclic graph (DAG). \n",
        "\n",
        "* Bayesian networks are ideal for taking an event that occurred and predicting the likelihood that any one of several possible known causes was the contributing factor. \n",
        "* For example, a Bayesian network could represent the probabilistic relationships between diseases and symptoms. \n",
        "* Given symptoms, the network can be used to compute the probabilities of the presence of various diseases."
      ]
    },
    {
      "cell_type": "markdown",
      "metadata": {
        "id": "z0kauv1L5_po"
      },
      "source": [
        "Your comments, explanation, and references here."
      ]
    },
    {
      "cell_type": "code",
      "metadata": {
        "id": "0smpwCET5_pp",
        "colab": {
          "base_uri": "https://localhost:8080/"
        },
        "outputId": "daba20b4-3ea6-4928-a3ac-ffa2194dc3ec"
      },
      "source": [
        "# Instantiate Kernel\n",
        "kernel = GPy.kern.RBF(input_dim=1,lengthscale=0.15,variance=0.2)\n",
        "print(kernel)"
      ],
      "execution_count": null,
      "outputs": [
        {
          "output_type": "stream",
          "name": "stdout",
          "text": [
            "  \u001b[1mrbf.       \u001b[0;0m  |  value  |  constraints  |  priors\n",
            "  \u001b[1mvariance   \u001b[0;0m  |    0.2  |      +ve      |        \n",
            "  \u001b[1mlengthscale\u001b[0;0m  |   0.15  |      +ve      |        \n"
          ]
        }
      ]
    },
    {
      "cell_type": "code",
      "metadata": {
        "id": "77w9vHoHmsJh"
      },
      "source": [
        "df_train['Price'] = train_data['Price'] # put original pice back in the dataset"
      ],
      "execution_count": null,
      "outputs": []
    },
    {
      "cell_type": "code",
      "metadata": {
        "id": "yvb-wTvlujZp"
      },
      "source": [
        "# List of key features determined from EDA and XGBoost Feature Importance Analysis\n",
        "\n",
        "featrain = ['Location', 'Num_Bathrooms', 'Num_Beds', 'BER_class','Latitude', 'Longitude', 'Surface', 'Price']\n",
        "featest = ['Location', 'Num_Bathrooms', 'Num_Beds', 'BER_class','Latitude', 'Longitude', 'Surface']\n",
        "\n",
        "df_subset_train = df_train[featrain]\n",
        "df_subset_test = df_test[featest]"
      ],
      "execution_count": null,
      "outputs": []
    },
    {
      "cell_type": "code",
      "metadata": {
        "id": "0A6nNsBBusiP"
      },
      "source": [
        "# Separate training data into target 'y' and predictor 'X' values\n",
        "\n",
        "# train set, input columns\n",
        "X_train = df_subset_train.iloc[:,0:-1].values \n",
        "# train set, output column, cost\n",
        "y_train = df_subset_train.iloc[:,-1].values.reshape(-1,1)   \n",
        "\n",
        "# test set, input columns\n",
        "X_test = df_subset_test.iloc[:,0:].values "
      ],
      "execution_count": null,
      "outputs": []
    },
    {
      "cell_type": "code",
      "metadata": {
        "id": "rQKOLaueuxzk"
      },
      "source": [
        "# Scale y_train 'price' values\n",
        "\n",
        "ylog = np.log(y_train.astype('float'))\n",
        "yscaler = StandardScaler().fit(ylog)\n",
        "y_train = yscaler.transform(ylog)"
      ],
      "execution_count": null,
      "outputs": []
    },
    {
      "cell_type": "code",
      "metadata": {
        "id": "l7W_Ht59dMjE"
      },
      "source": [
        "# https://theano-pymc.readthedocs.io/en/latest/\n",
        "import theano\n",
        "\n",
        "# add a column of ones to include an intercept in the model\n",
        "x1 = np.hstack([np.ones((X_train.shape[0],1)), X_train])\n",
        "floatX = theano.config.floatX"
      ],
      "execution_count": null,
      "outputs": []
    },
    {
      "cell_type": "code",
      "metadata": {
        "id": "U9OcKk8RU5ag"
      },
      "source": [
        "l = 15\n",
        "# Initialize random weights between each layer\n",
        "# we do that to help the numerical algorithm that computes the posterior\n",
        "init_1 = np.random.randn(x1.shape[1], l).astype(floatX)\n",
        "init_out = np.random.randn(l).astype(floatX)\n",
        "\n",
        "# pymc3 model as neural_network\n",
        "with pm.Model() as neural_network:\n",
        "    # we convert the data in theano type so we can do dot products with the correct type.\n",
        "    ann_input = pm.Data('ann_input', x1)\n",
        "    ann_output = pm.Data('ann_output', y_train)\n",
        "    # Priors \n",
        "    # Weights from input to hidden layer\n",
        "    weights_in_1 = pm.Normal('w_1', 0, sigma=1,\n",
        "                             shape=(x1.shape[1], l), testval=init_1)\n",
        "    # Weights from hidden layer to output\n",
        "    weights_2_out = pm.Normal('w_0', 0, sigma=1,\n",
        "                              shape=(l,),testval=init_out)\n",
        "\n",
        "    # Build neural-network using tanh activation function\n",
        "    # Inner layer\n",
        "    act_1 = pm.math.tanh(pm.math.dot(ann_input,weights_in_1))\n",
        "    # Linear layer, like in Linear regression\n",
        "    act_out = pm.Deterministic('act_out',pm.math.dot(act_1, weights_2_out))\n",
        "\n",
        "    # standard deviation of noise\n",
        "    sigma = pm.HalfCauchy('sigma',5)\n",
        "\n",
        "    # Normal likelihood\n",
        "    out = pm.Normal('out',\n",
        "                       act_out,\n",
        "                       sigma=sigma,\n",
        "                       observed=ann_output[:,0])"
      ],
      "execution_count": null,
      "outputs": []
    },
    {
      "cell_type": "code",
      "metadata": {
        "colab": {
          "base_uri": "https://localhost:8080/",
          "height": 54
        },
        "id": "Eb9gsxyGVmoW",
        "outputId": "8fb80b99-9eeb-4803-c5fe-9c87f3f69d5a"
      },
      "source": [
        "# we can do instead an approximated inference\n",
        "param3 = 20000 # start with 1000, then use 50000+\n",
        "VI = 'advi'  # 'advi', 'fullrank_advi', 'svgd', 'asvgd', 'nfvi'\n",
        "OP = pm.adam # pm.adam, pm.sgd, pm.adagrad, pm.adagrad_window, pm.adadelta\n",
        "LR = 0.01    \n",
        "\n",
        "with neural_network:\n",
        "    approx = pm.fit(param3, method=VI, obj_optimizer=pm.adam(learning_rate=LR))"
      ],
      "execution_count": null,
      "outputs": [
        {
          "output_type": "display_data",
          "data": {
            "text/html": [
              "\n",
              "    <div>\n",
              "        <style>\n",
              "            /* Turns off some styling */\n",
              "            progress {\n",
              "                /* gets rid of default border in Firefox and Opera. */\n",
              "                border: none;\n",
              "                /* Needs to be in here for Safari polyfill so background images work as expected. */\n",
              "                background-size: auto;\n",
              "            }\n",
              "            .progress-bar-interrupted, .progress-bar-interrupted::-webkit-progress-bar {\n",
              "                background: #F44336;\n",
              "            }\n",
              "        </style>\n",
              "      <progress value='20000' class='' max='20000' style='width:300px; height:20px; vertical-align: middle;'></progress>\n",
              "      100.00% [20000/20000 00:38<00:00 Average Loss = 938.72]\n",
              "    </div>\n",
              "    "
            ],
            "text/plain": [
              "<IPython.core.display.HTML object>"
            ]
          },
          "metadata": {}
        },
        {
          "output_type": "stream",
          "name": "stderr",
          "text": [
            "Finished [100%]: Average Loss = 938.85\n"
          ]
        }
      ]
    },
    {
      "cell_type": "code",
      "metadata": {
        "colab": {
          "base_uri": "https://localhost:8080/",
          "height": 279
        },
        "id": "EfYUAf29VqI9",
        "outputId": "28276d99-26df-4586-f567-c25f6bdf3058"
      },
      "source": [
        "# plot \n",
        "pb.plot(approx.hist, label='Variational Inference: '+ VI.upper(), alpha=.3)\n",
        "pb.legend(loc='upper right')\n",
        "# Evidence Lower Bound (ELBO)\n",
        "# https://en.wikipedia.org/wiki/Evidence_lower_bound\n",
        "pb.ylabel('ELBO')\n",
        "pb.xlabel('iteration');"
      ],
      "execution_count": null,
      "outputs": [
        {
          "output_type": "display_data",
          "data": {
            "image/png": "[encoded data removed]",
            "text/plain": [
              "<Figure size 432x288 with 1 Axes>"
            ]
          },
          "metadata": {
            "needs_background": "light"
          }
        }
      ]
    },
    {
      "cell_type": "code",
      "metadata": {
        "id": "GUl9kIhwVu2R"
      },
      "source": [
        "# draw samples from variational posterior\n",
        "D = 702\n",
        "posterior = approx.sample(draws=D)"
      ],
      "execution_count": null,
      "outputs": []
    },
    {
      "cell_type": "code",
      "metadata": {
        "id": "TFKSw_NmV3cq"
      },
      "source": [
        "# add a column of ones to include an intercept in the model\n",
        "x2 = np.hstack([np.ones((X_test.shape[0],1)), X_test])\n",
        "\n",
        "y_pred = []\n",
        "for i in range(posterior['w_1'].shape[0]):\n",
        "    #inner layer\n",
        "    t1 = np.tanh(np.dot(posterior['w_1'][i,:,:].T,x2.T))\n",
        "    #outer layer\n",
        "    y_pred.append(np.dot(posterior['w_0'][i,:],t1))\n",
        "\n",
        "# predictions   \n",
        "y_pred = np.array(y_pred)"
      ],
      "execution_count": null,
      "outputs": []
    },
    {
      "cell_type": "code",
      "metadata": {
        "colab": {
          "base_uri": "https://localhost:8080/",
          "height": 419
        },
        "id": "Z7INT3jqeEcK",
        "outputId": "2bba1a8a-87d1-4cba-e6fd-80e47ddb0462"
      },
      "source": [
        "# prediction\n",
        "y_pred_BLR = np.exp(yscaler.inverse_transform(y_pred))[:,0]\n",
        "\n",
        "# Let's check how close these are to the Full Mdel Predictions (Piecewise Approach)\n",
        "df_1 = full_test_predictions.copy()\n",
        "df_2 = pd.DataFrame(y_pred_BLR, columns=['Price_NN'])\n",
        "full_test_predictions = pd.concat([df_1, df_2], axis=1)\n",
        "full_test_predictions"
      ],
      "execution_count": null,
      "outputs": [
        {
          "output_type": "execute_result",
          "data": {
            "text/html": [
              "<div>\n",
              "<style scoped>\n",
              "    .dataframe tbody tr th:only-of-type {\n",
              "        vertical-align: middle;\n",
              "    }\n",
              "\n",
              "    .dataframe tbody tr th {\n",
              "        vertical-align: top;\n",
              "    }\n",
              "\n",
              "    .dataframe thead th {\n",
              "        text-align: right;\n",
              "    }\n",
              "</style>\n",
              "<table border=\"1\" class=\"dataframe\">\n",
              "  <thead>\n",
              "    <tr style=\"text-align: right;\">\n",
              "      <th></th>\n",
              "      <th>Index</th>\n",
              "      <th>Price_Full</th>\n",
              "      <th>Price_Piecewise</th>\n",
              "      <th>Price_NN</th>\n",
              "    </tr>\n",
              "  </thead>\n",
              "  <tbody>\n",
              "    <tr>\n",
              "      <th>0</th>\n",
              "      <td>1639</td>\n",
              "      <td>327319.863719</td>\n",
              "      <td>544457.137278</td>\n",
              "      <td>470463.716307</td>\n",
              "    </tr>\n",
              "    <tr>\n",
              "      <th>1</th>\n",
              "      <td>1640</td>\n",
              "      <td>514588.816156</td>\n",
              "      <td>486291.974630</td>\n",
              "      <td>431699.757466</td>\n",
              "    </tr>\n",
              "    <tr>\n",
              "      <th>2</th>\n",
              "      <td>1641</td>\n",
              "      <td>554063.071616</td>\n",
              "      <td>796848.791118</td>\n",
              "      <td>454208.275172</td>\n",
              "    </tr>\n",
              "    <tr>\n",
              "      <th>3</th>\n",
              "      <td>1642</td>\n",
              "      <td>766644.161484</td>\n",
              "      <td>460711.203099</td>\n",
              "      <td>440544.744057</td>\n",
              "    </tr>\n",
              "    <tr>\n",
              "      <th>4</th>\n",
              "      <td>1643</td>\n",
              "      <td>472565.362024</td>\n",
              "      <td>640060.923345</td>\n",
              "      <td>437201.061297</td>\n",
              "    </tr>\n",
              "    <tr>\n",
              "      <th>...</th>\n",
              "      <td>...</td>\n",
              "      <td>...</td>\n",
              "      <td>...</td>\n",
              "      <td>...</td>\n",
              "    </tr>\n",
              "    <tr>\n",
              "      <th>697</th>\n",
              "      <td>2336</td>\n",
              "      <td>207250.815992</td>\n",
              "      <td>288755.223644</td>\n",
              "      <td>429075.263510</td>\n",
              "    </tr>\n",
              "    <tr>\n",
              "      <th>698</th>\n",
              "      <td>2337</td>\n",
              "      <td>248428.129017</td>\n",
              "      <td>245706.789650</td>\n",
              "      <td>424067.709968</td>\n",
              "    </tr>\n",
              "    <tr>\n",
              "      <th>699</th>\n",
              "      <td>2338</td>\n",
              "      <td>529817.781306</td>\n",
              "      <td>297286.911206</td>\n",
              "      <td>407642.688873</td>\n",
              "    </tr>\n",
              "    <tr>\n",
              "      <th>700</th>\n",
              "      <td>2339</td>\n",
              "      <td>563486.684498</td>\n",
              "      <td>209441.686576</td>\n",
              "      <td>428238.294273</td>\n",
              "    </tr>\n",
              "    <tr>\n",
              "      <th>701</th>\n",
              "      <td>2340</td>\n",
              "      <td>704054.135336</td>\n",
              "      <td>289472.352447</td>\n",
              "      <td>442289.504084</td>\n",
              "    </tr>\n",
              "  </tbody>\n",
              "</table>\n",
              "<p>702 rows × 4 columns</p>\n",
              "</div>"
            ],
            "text/plain": [
              "     Index     Price_Full  Price_Piecewise       Price_NN\n",
              "0     1639  327319.863719    544457.137278  470463.716307\n",
              "1     1640  514588.816156    486291.974630  431699.757466\n",
              "2     1641  554063.071616    796848.791118  454208.275172\n",
              "3     1642  766644.161484    460711.203099  440544.744057\n",
              "4     1643  472565.362024    640060.923345  437201.061297\n",
              "..     ...            ...              ...            ...\n",
              "697   2336  207250.815992    288755.223644  429075.263510\n",
              "698   2337  248428.129017    245706.789650  424067.709968\n",
              "699   2338  529817.781306    297286.911206  407642.688873\n",
              "700   2339  563486.684498    209441.686576  428238.294273\n",
              "701   2340  704054.135336    289472.352447  442289.504084\n",
              "\n",
              "[702 rows x 4 columns]"
            ]
          },
          "metadata": {},
          "execution_count": 438
        }
      ]
    },
    {
      "cell_type": "code",
      "metadata": {
        "id": "lim8PioxgJUl"
      },
      "source": [
        "# full_test_predictions.drop(columns=['Price_NN', 'Price_Full', 'Price_Piecewise'], inplace=True)\n",
        "full_test_predictions.drop(columns=['Price_NN'], inplace=True)"
      ],
      "execution_count": null,
      "outputs": []
    },
    {
      "cell_type": "markdown",
      "metadata": {
        "id": "f0GYCpwEM09T"
      },
      "source": [
        "# SUMMARY"
      ]
    },
    {
      "cell_type": "markdown",
      "metadata": {
        "id": "rBDzsZSJ7HZp"
      },
      "source": [
        "Your summary here."
      ]
    }
  ]
}