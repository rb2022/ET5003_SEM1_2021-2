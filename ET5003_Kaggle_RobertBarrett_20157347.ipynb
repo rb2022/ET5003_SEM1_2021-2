{
  "nbformat": 4,
  "nbformat_minor": 0,
  "metadata": {
    "colab": {
      "name": "ET5003_Kaggle_RobertBarrett_20157347.ipynb",
      "provenance": [],
      "collapsed_sections": [],
      "include_colab_link": true
    },
    "kernelspec": {
      "display_name": "Python 3 (ipykernel)",
      "language": "python",
      "name": "python3"
    },
    "language_info": {
      "codemirror_mode": {
        "name": "ipython",
        "version": 3
      },
      "file_extension": ".py",
      "mimetype": "text/x-python",
      "name": "python",
      "nbconvert_exporter": "python",
      "pygments_lexer": "ipython3",
      "version": "3.8.11"
    }
  },
  "cells": [
    {
      "cell_type": "markdown",
      "metadata": {
        "id": "view-in-github",
        "colab_type": "text"
      },
      "source": [
        "<a href=\"https://colab.research.google.com/github/rb2022/ET5003_SEM1_2021-2/blob/main/ET5003_Kaggle_RobertBarrett_20157347.ipynb\" target=\"_parent\"><img src=\"https://colab.research.google.com/assets/colab-badge.svg\" alt=\"Open In Colab\"/></a>"
      ]
    },
    {
      "cell_type": "markdown",
      "metadata": {
        "id": "930vlW5BrOtq"
      },
      "source": [
        "<div>\n",
        "<img src=\"https://drive.google.com/uc?export=view&id=1vK33e_EqaHgBHcbRV_m38hx6IkG0blK_\" width=\"350\"/>\n",
        "</div> \n",
        "\n",
        "#**Artificial Intelligence - MSc**\n",
        "##ET5003 - MACHINE LEARNING APPLICATIONS \n",
        "\n",
        "###Instructor: Enrique Naredo\n",
        "###ET5003_KaggleCompetition"
      ]
    },
    {
      "cell_type": "code",
      "metadata": {
        "cellView": "form",
        "id": "LqXD_IwUQuBF"
      },
      "source": [
        "#@title Current Date\n",
        "Today = '2021-10-16' #@param {type:\"date\"}\n"
      ],
      "execution_count": null,
      "outputs": []
    },
    {
      "cell_type": "code",
      "metadata": {
        "id": "uzDKau31OjVO",
        "cellView": "form"
      },
      "source": [
        "#@markdown ---\n",
        "#@markdown ### Enter your details here:\n",
        "Team_Number = \"5\" #@param {type:\"string\"}\n",
        "Student_ID&Name = \" 20157347 Robert Barrett\" #@param {type:\"string\"}\n",
        "Student_ID&Name = \" 20157347 Robert Barrett\" #@param {type:\"string\"}\n",
        "Student_ID&Name = \" \" #@param {type:\"string\"}\n",
        "Student_ID&Name = \" \" #@param {type:\"string\"}\n",
        "Student_ID&Name = \" \" #@param {type:\"string\"}\n",
        "#@markdown ---"
      ],
      "execution_count": null,
      "outputs": []
    },
    {
      "cell_type": "code",
      "metadata": {
        "cellView": "form",
        "id": "r39xGZckTpKx"
      },
      "source": [
        "#@title Notebook information\n",
        "Notebook_type = 'Etivity' #@param [\"Example\", \"Lab\", \"Practice\", \"Etivity\", \"Assignment\", \"Exam\"]\n",
        "Version = Final #@param [\"Draft\", \"Final\"] {type:\"raw\"}\n",
        "Submission = True #@param {type:\"boolean\"}"
      ],
      "execution_count": null,
      "outputs": []
    },
    {
      "cell_type": "markdown",
      "metadata": {
        "id": "_A0Z6S-r6DpA"
      },
      "source": [
        "# INTRODUCTION"
      ]
    },
    {
      "cell_type": "markdown",
      "metadata": {
        "id": "d2vlkUAJ7Pz7"
      },
      "source": [
        "The following notebook investigates Bayesian Methods on Kaggle House Price data. Bayes Regression, Bayesian Piecewise Regression and Bayesian Neural Networks are used to predict the prices of a test set of properties given a training set of similar properties in the Dublin area.\n",
        "\n",
        "As with other methods, Exploratory Data Analysis (EDA) and data pre-processing is an important precursor to a successful and performant model and I have applied several methods to ensure the data is prepared for optimal predictions.\n",
        "\n",
        "Key to this is the use of Natural Language Processing (NLP) to extract additional features from textual descriptions from estate agent advertisements. I applied word count and TF-IDF to extract key features that are seen to have a key impact on buying decisions and the Price paid.\n",
        "\n",
        "In addition, I have used an XGBoost Feature Importance analysis to understand what features are most likely to contribute most to the predictions. While not a highly accurate method, and only really ueful for generalising on the entire model rather than individual predictions (Masis, 2021; Gianfagna and Di Cecco, 2021), it is a useful approach to selecting appropriate features for training and predictions.\n",
        "\n",
        "A number of interesting outcomes were seen in the results. It was observed that Bayesian methods did not perform as well as traitional methods, such as XGBoost, in prediction Prices. Further work is required to investigate the hyperparameters of the Bayesian Neural Network, which performed the worst out of all methods, which was surprising.\n",
        "\n",
        "The following notebook will present code examples and explanations/comments throughout. Once the steps were seen to behave as expected, I created a function of all processing steps. These could equally be embedded in a CV pipeline, but for time and debugging purposes, the function was the best mechanism."
      ]
    },
    {
      "cell_type": "markdown",
      "metadata": {
        "id": "Wg7VCbX77eAA"
      },
      "source": [
        "## Imports"
      ]
    },
    {
      "cell_type": "code",
      "metadata": {
        "id": "iFFLThrpwibd"
      },
      "source": [
        "# Suppressing Warnings:\n",
        "import warnings\n",
        "warnings.filterwarnings(\"ignore\")"
      ],
      "execution_count": 1,
      "outputs": []
    },
    {
      "cell_type": "code",
      "metadata": {
        "id": "k96-GLUGE2ux"
      },
      "source": [
        "# standard libraries\n",
        "import pandas as pd\n",
        "import numpy as np\n",
        "import matplotlib.pyplot as plt\n",
        "%matplotlib inline"
      ],
      "execution_count": 2,
      "outputs": []
    },
    {
      "cell_type": "code",
      "metadata": {
        "id": "sYPJU_Y6O6Dq"
      },
      "source": [
        "# to plot\n",
        "import matplotlib.colors\n",
        "from mpl_toolkits.mplot3d import Axes3D\n",
        "\n",
        "# to generate classification, regression and clustering datasets\n",
        "import sklearn.datasets as dt\n",
        "\n",
        "# to create data frames\n",
        "from pandas import DataFrame\n",
        "\n",
        "# to generate data from an existing dataset\n",
        "from sklearn.neighbors import KernelDensity\n",
        "from sklearn.model_selection import GridSearchCV"
      ],
      "execution_count": 3,
      "outputs": []
    },
    {
      "cell_type": "code",
      "metadata": {
        "id": "mxMYIOx1FONV"
      },
      "source": [
        "# Scikit-learn is an open source machine learning library \n",
        "# that supports supervised and unsupervised learning\n",
        "# https://scikit-learn.org/stable/\n",
        "from sklearn.model_selection import train_test_split\n",
        "from sklearn.feature_extraction.text import CountVectorizer\n",
        "from sklearn.naive_bayes import MultinomialNB\n",
        "from sklearn.metrics import accuracy_score, confusion_matrix"
      ],
      "execution_count": 4,
      "outputs": []
    },
    {
      "cell_type": "code",
      "metadata": {
        "id": "YLlFHWx4j7W6"
      },
      "source": [
        "# Regular expression operations\n",
        "#https://docs.python.org/3/library/re.html\n",
        "import re \n",
        "\n",
        "# Natural Language Toolkit\n",
        "# https://www.nltk.org/install.html\n",
        "import nltk\n",
        "\n",
        "# Stemming maps different forms of the same word to a common “stem” \n",
        "# https://pypi.org/project/snowballstemmer/\n",
        "from nltk.stem import SnowballStemmer\n",
        "\n",
        "# https://www.nltk.org/book/ch02.html\n",
        "from nltk.corpus import stopwords\n",
        "\n",
        "# https://scikit-learn.org/stable/modules/generated/sklearn.preprocessing.StandardScaler.html\n",
        "from sklearn.preprocessing import StandardScaler"
      ],
      "execution_count": 5,
      "outputs": []
    },
    {
      "cell_type": "code",
      "metadata": {
        "colab": {
          "base_uri": "https://localhost:8080/",
          "height": 0
        },
        "id": "5cfDHD9BXh0s",
        "outputId": "22df8e53-619e-4729-f9f6-b519bd143d6d"
      },
      "source": [
        "!pip install gpy"
      ],
      "execution_count": 6,
      "outputs": [
        {
          "output_type": "stream",
          "name": "stdout",
          "text": [
            "Collecting gpy\n",
            "  Downloading GPy-1.10.0.tar.gz (959 kB)\n",
            "\u001b[K     |████████████████████████████████| 959 kB 5.1 MB/s \n",
            "\u001b[?25hRequirement already satisfied: numpy>=1.7 in /usr/local/lib/python3.7/dist-packages (from gpy) (1.19.5)\n",
            "Requirement already satisfied: six in /usr/local/lib/python3.7/dist-packages (from gpy) (1.15.0)\n",
            "Collecting paramz>=0.9.0\n",
            "  Downloading paramz-0.9.5.tar.gz (71 kB)\n",
            "\u001b[K     |████████████████████████████████| 71 kB 7.6 MB/s \n",
            "\u001b[?25hRequirement already satisfied: cython>=0.29 in /usr/local/lib/python3.7/dist-packages (from gpy) (0.29.24)\n",
            "Requirement already satisfied: scipy>=1.3.0 in /usr/local/lib/python3.7/dist-packages (from gpy) (1.4.1)\n",
            "Requirement already satisfied: decorator>=4.0.10 in /usr/local/lib/python3.7/dist-packages (from paramz>=0.9.0->gpy) (4.4.2)\n",
            "Building wheels for collected packages: gpy, paramz\n",
            "  Building wheel for gpy (setup.py) ... \u001b[?25l\u001b[?25hdone\n",
            "  Created wheel for gpy: filename=GPy-1.10.0-cp37-cp37m-linux_x86_64.whl size=2565086 sha256=91693dccb33fd46e75fa410a5c54be300e4a3041d1ad8b9ca6600c0972614db4\n",
            "  Stored in directory: /root/.cache/pip/wheels/f7/18/28/dd1ce0192a81b71a3b086fd952511d088b21e8359ea496860a\n",
            "  Building wheel for paramz (setup.py) ... \u001b[?25l\u001b[?25hdone\n",
            "  Created wheel for paramz: filename=paramz-0.9.5-py3-none-any.whl size=102565 sha256=9232e22436db44f5e842b457717c8007b18a0e8993696fe23cf9a46161856f46\n",
            "  Stored in directory: /root/.cache/pip/wheels/c8/95/f5/ce28482da28162e6028c4b3a32c41d147395825b3cd62bc810\n",
            "Successfully built gpy paramz\n",
            "Installing collected packages: paramz, gpy\n",
            "Successfully installed gpy-1.10.0 paramz-0.9.5\n"
          ]
        }
      ]
    },
    {
      "cell_type": "code",
      "metadata": {
        "id": "SwGh2bagw4kg"
      },
      "source": [
        "import GPy as GPy\n",
        "import numpy as np\n",
        "import pylab as pb\n",
        "import pymc3 as pm\n",
        "import arviz as az"
      ],
      "execution_count": 7,
      "outputs": []
    },
    {
      "cell_type": "code",
      "metadata": {
        "id": "6MUJdlxSPSMM"
      },
      "source": [
        "# Define the seed so that results can be reproduced\n",
        "seed = 11\n",
        "rand_state = 11\n",
        "\n",
        "# Define the color maps for plots\n",
        "color_map = plt.cm.get_cmap('RdYlBu')\n",
        "color_map_discrete = matplotlib.colors.LinearSegmentedColormap.from_list(\"\", [\"red\",\"cyan\",\"magenta\",\"blue\"])"
      ],
      "execution_count": 8,
      "outputs": []
    },
    {
      "cell_type": "markdown",
      "metadata": {
        "id": "WL91ShB19RPw"
      },
      "source": [
        "# DATASET"
      ]
    },
    {
      "cell_type": "markdown",
      "metadata": {
        "id": "ESg5DGKWJSOf"
      },
      "source": [
        "Extract from this [paper](https://ieeexplore.ieee.org/document/9300074):\n",
        "\n",
        "* House prices are a significant impression of the economy, and its value ranges are of great concerns for the clients and property dealers. \n",
        "\n",
        "* Housing price escalate every year that eventually reinforced the need of strategy or technique that could predict house prices in future. \n",
        "\n",
        "* There are certain factors that influence house prices including physical conditions, locations, number of bedrooms and others.\n"
      ]
    },
    {
      "cell_type": "markdown",
      "metadata": {
        "id": "a8Y2pf50FlYL"
      },
      "source": [
        "1. [Download the dataset](https://github.com/UL-CS6134/CS6134_SEM1_2021-2/tree/main/Week-5). \n",
        "\n",
        "2. Upload the dataset into your folder.\n",
        "\n"
      ]
    },
    {
      "cell_type": "code",
      "metadata": {
        "colab": {
          "base_uri": "https://localhost:8080/",
          "height": 0
        },
        "id": "4PaZf3Bn2c2h",
        "outputId": "d781f425-d606-45a3-dbee-6c78624217bf"
      },
      "source": [
        "from google.colab import drive\n",
        "drive.mount('/content/drive')"
      ],
      "execution_count": 9,
      "outputs": [
        {
          "output_type": "stream",
          "name": "stdout",
          "text": [
            "Mounted at /content/drive\n"
          ]
        }
      ]
    },
    {
      "cell_type": "code",
      "metadata": {
        "id": "G-wCWDj82o6V"
      },
      "source": [
        "path = '/content/sample_data/'\n",
        "\n",
        "# Due to formatting issues, I found that explicitly defining features of interest and omitting ones that are problematic was useful\n",
        "\n",
        "train_file = path+'HousePrice_Train.csv'\n",
        "test_file = path+'HousePrice_Test.csv'\n",
        "\n",
        "# Import the data, while excluding 'features' and 'description_block' explicitly on import\n",
        "train_data = pd.read_csv(train_file)\n",
        "test_data = pd.read_csv(test_file)"
      ],
      "execution_count": 10,
      "outputs": []
    },
    {
      "cell_type": "code",
      "metadata": {
        "colab": {
          "base_uri": "https://localhost:8080/",
          "height": 0
        },
        "id": "fYI6C0p33J-S",
        "outputId": "da5d7499-1949-423d-b72f-d7e6892a30c7"
      },
      "source": [
        "print(train_data.shape)\n",
        "print(test_data.shape)"
      ],
      "execution_count": 11,
      "outputs": [
        {
          "output_type": "stream",
          "name": "stdout",
          "text": [
            "(1638, 14)\n",
            "(702, 13)\n"
          ]
        }
      ]
    },
    {
      "cell_type": "markdown",
      "metadata": {
        "id": "FMkdCQEmKTof"
      },
      "source": [
        "The challenge is to predict the final price of each house."
      ]
    },
    {
      "cell_type": "markdown",
      "metadata": {
        "id": "8F8jPJL53vNj"
      },
      "source": [
        "## Exploratory Data Analysis"
      ]
    },
    {
      "cell_type": "markdown",
      "metadata": {
        "id": "XCkOiH5D4CtE"
      },
      "source": [
        "#### Let's look at samples of the tabular data and review some basic statistics"
      ]
    },
    {
      "cell_type": "code",
      "metadata": {
        "colab": {
          "base_uri": "https://localhost:8080/",
          "height": 289
        },
        "id": "GOXDPSG03pGd",
        "outputId": "e0f144ff-ee72-4935-e01b-2ff86b2a2cc5"
      },
      "source": [
        "# Review samples of training data\n",
        "\n",
        "train_data.head()"
      ],
      "execution_count": 14,
      "outputs": [
        {
          "output_type": "execute_result",
          "data": {
            "text/html": [
              "<div>\n",
              "<style scoped>\n",
              "    .dataframe tbody tr th:only-of-type {\n",
              "        vertical-align: middle;\n",
              "    }\n",
              "\n",
              "    .dataframe tbody tr th {\n",
              "        vertical-align: top;\n",
              "    }\n",
              "\n",
              "    .dataframe thead th {\n",
              "        text-align: right;\n",
              "    }\n",
              "</style>\n",
              "<table border=\"1\" class=\"dataframe\">\n",
              "  <thead>\n",
              "    <tr style=\"text-align: right;\">\n",
              "      <th></th>\n",
              "      <th>Index</th>\n",
              "      <th>ID</th>\n",
              "      <th>Location</th>\n",
              "      <th>Num_Bathrooms</th>\n",
              "      <th>Num_Beds</th>\n",
              "      <th>BER_class</th>\n",
              "      <th>Description</th>\n",
              "      <th>Services</th>\n",
              "      <th>Features</th>\n",
              "      <th>Latitude</th>\n",
              "      <th>Longitude</th>\n",
              "      <th>Type</th>\n",
              "      <th>Surface</th>\n",
              "      <th>Price</th>\n",
              "    </tr>\n",
              "  </thead>\n",
              "  <tbody>\n",
              "    <tr>\n",
              "      <th>0</th>\n",
              "      <td>1</td>\n",
              "      <td>12409116</td>\n",
              "      <td>Ongar</td>\n",
              "      <td>2</td>\n",
              "      <td>2</td>\n",
              "      <td>C3</td>\n",
              "      <td>DNG are delighted to present to the market no....</td>\n",
              "      <td>NaN</td>\n",
              "      <td>None</td>\n",
              "      <td>53.396659</td>\n",
              "      <td>-6.438791</td>\n",
              "      <td>apartment</td>\n",
              "      <td>67.00</td>\n",
              "      <td>195000</td>\n",
              "    </tr>\n",
              "    <tr>\n",
              "      <th>1</th>\n",
              "      <td>2</td>\n",
              "      <td>12320330</td>\n",
              "      <td>North Strand</td>\n",
              "      <td>1</td>\n",
              "      <td>2</td>\n",
              "      <td>D1</td>\n",
              "      <td>13 Northbrook Terrace is a charming red brick ...</td>\n",
              "      <td>NaN</td>\n",
              "      <td>Bight and Spacious interior\\nNumerous original...</td>\n",
              "      <td>53.357129</td>\n",
              "      <td>-6.239779</td>\n",
              "      <td>terraced</td>\n",
              "      <td>95.97</td>\n",
              "      <td>425000</td>\n",
              "    </tr>\n",
              "    <tr>\n",
              "      <th>2</th>\n",
              "      <td>3</td>\n",
              "      <td>12405953</td>\n",
              "      <td>Stepaside</td>\n",
              "      <td>3</td>\n",
              "      <td>3</td>\n",
              "      <td>A3</td>\n",
              "      <td>Welcome to No. 6 Cotter Close, an immaculately...</td>\n",
              "      <td>NaN</td>\n",
              "      <td>Special Features\\nLarge rear garden\\nGenerous ...</td>\n",
              "      <td>53.266468</td>\n",
              "      <td>-6.222771</td>\n",
              "      <td>semi-detached</td>\n",
              "      <td>107.00</td>\n",
              "      <td>535000</td>\n",
              "    </tr>\n",
              "    <tr>\n",
              "      <th>3</th>\n",
              "      <td>4</td>\n",
              "      <td>12202582</td>\n",
              "      <td>Cabinteely</td>\n",
              "      <td>1</td>\n",
              "      <td>3</td>\n",
              "      <td>E1</td>\n",
              "      <td>Welcome to 3 Sycamore Walk!\\n\\r\\nEnjoying a pr...</td>\n",
              "      <td>NaN</td>\n",
              "      <td>Wonderful 3 bed detached bungalow.     \\nAccom...</td>\n",
              "      <td>53.261600</td>\n",
              "      <td>-6.166738</td>\n",
              "      <td>detached</td>\n",
              "      <td>81.00</td>\n",
              "      <td>499000</td>\n",
              "    </tr>\n",
              "    <tr>\n",
              "      <th>4</th>\n",
              "      <td>5</td>\n",
              "      <td>12299336</td>\n",
              "      <td>Lusk</td>\n",
              "      <td>3</td>\n",
              "      <td>4</td>\n",
              "      <td>D1</td>\n",
              "      <td>'Four Seasons' comes to the market as a wonder...</td>\n",
              "      <td>NaN</td>\n",
              "      <td>Detached Property      \\nDouble Glazed Windows...</td>\n",
              "      <td>53.550731</td>\n",
              "      <td>-6.121415</td>\n",
              "      <td>detached</td>\n",
              "      <td>153.00</td>\n",
              "      <td>510000</td>\n",
              "    </tr>\n",
              "  </tbody>\n",
              "</table>\n",
              "</div>"
            ],
            "text/plain": [
              "   Index        ID      Location  ...           Type  Surface   Price\n",
              "0      1  12409116         Ongar  ...      apartment    67.00  195000\n",
              "1      2  12320330  North Strand  ...       terraced    95.97  425000\n",
              "2      3  12405953     Stepaside  ...  semi-detached   107.00  535000\n",
              "3      4  12202582    Cabinteely  ...       detached    81.00  499000\n",
              "4      5  12299336          Lusk  ...       detached   153.00  510000\n",
              "\n",
              "[5 rows x 14 columns]"
            ]
          },
          "metadata": {},
          "execution_count": 14
        }
      ]
    },
    {
      "cell_type": "code",
      "metadata": {
        "colab": {
          "base_uri": "https://localhost:8080/",
          "height": 289
        },
        "id": "yEyAR5qV4Us7",
        "outputId": "3a9bacd5-753b-4658-af6c-257333aff6e6"
      },
      "source": [
        "# Review samples of test data\n",
        "\n",
        "test_data.head()"
      ],
      "execution_count": 15,
      "outputs": [
        {
          "output_type": "execute_result",
          "data": {
            "text/html": [
              "<div>\n",
              "<style scoped>\n",
              "    .dataframe tbody tr th:only-of-type {\n",
              "        vertical-align: middle;\n",
              "    }\n",
              "\n",
              "    .dataframe tbody tr th {\n",
              "        vertical-align: top;\n",
              "    }\n",
              "\n",
              "    .dataframe thead th {\n",
              "        text-align: right;\n",
              "    }\n",
              "</style>\n",
              "<table border=\"1\" class=\"dataframe\">\n",
              "  <thead>\n",
              "    <tr style=\"text-align: right;\">\n",
              "      <th></th>\n",
              "      <th>Index</th>\n",
              "      <th>ID</th>\n",
              "      <th>Location</th>\n",
              "      <th>Num_Bathrooms</th>\n",
              "      <th>Num_Beds</th>\n",
              "      <th>BER_class</th>\n",
              "      <th>Description</th>\n",
              "      <th>Services</th>\n",
              "      <th>Features</th>\n",
              "      <th>Latitude</th>\n",
              "      <th>Longitude</th>\n",
              "      <th>Type</th>\n",
              "      <th>Surface</th>\n",
              "    </tr>\n",
              "  </thead>\n",
              "  <tbody>\n",
              "    <tr>\n",
              "      <th>0</th>\n",
              "      <td>1639</td>\n",
              "      <td>12292473</td>\n",
              "      <td>Milltown</td>\n",
              "      <td>2</td>\n",
              "      <td>2</td>\n",
              "      <td>C2</td>\n",
              "      <td>OMD Estate Agents are delighted to present thi...</td>\n",
              "      <td>Parking,Oil Fired Central Heating</td>\n",
              "      <td>Designated parking spaces\\nPresented in pristi...</td>\n",
              "      <td>53.316269</td>\n",
              "      <td>-6.243391</td>\n",
              "      <td>townhouse</td>\n",
              "      <td>65.0</td>\n",
              "    </tr>\n",
              "    <tr>\n",
              "      <th>1</th>\n",
              "      <td>1640</td>\n",
              "      <td>12314667</td>\n",
              "      <td>Glasnevin</td>\n",
              "      <td>2</td>\n",
              "      <td>5</td>\n",
              "      <td>E1</td>\n",
              "      <td>Welcome to Saint Anthony No.214 Glasnevin Aven...</td>\n",
              "      <td>Parking,Gas Fired Central Heating</td>\n",
              "      <td>Modern Worcester Gas Boiler\\nSingle Glazed Win...</td>\n",
              "      <td>53.390769</td>\n",
              "      <td>-6.281936</td>\n",
              "      <td>semi-detached</td>\n",
              "      <td>142.0</td>\n",
              "    </tr>\n",
              "    <tr>\n",
              "      <th>2</th>\n",
              "      <td>1641</td>\n",
              "      <td>11699240</td>\n",
              "      <td>Dalkey</td>\n",
              "      <td>1</td>\n",
              "      <td>2</td>\n",
              "      <td>G</td>\n",
              "      <td>Located in this ever popular road, on grounds ...</td>\n",
              "      <td>NaN</td>\n",
              "      <td>2 BEDROOM DETACHED HOUSE ON  1/5th ACRE\\nOIL F...</td>\n",
              "      <td>53.272486</td>\n",
              "      <td>-6.108675</td>\n",
              "      <td>detached</td>\n",
              "      <td>80.0</td>\n",
              "    </tr>\n",
              "    <tr>\n",
              "      <th>3</th>\n",
              "      <td>1642</td>\n",
              "      <td>12416984</td>\n",
              "      <td>Raheny</td>\n",
              "      <td>4</td>\n",
              "      <td>4</td>\n",
              "      <td>A2</td>\n",
              "      <td>DNG are delighted to represent the sale of thi...</td>\n",
              "      <td>Parking,Alarm</td>\n",
              "      <td>Detached House\\nSouth Facing Garden\\nOff Stree...</td>\n",
              "      <td>53.376932</td>\n",
              "      <td>-6.185334</td>\n",
              "      <td>detached</td>\n",
              "      <td>209.0</td>\n",
              "    </tr>\n",
              "    <tr>\n",
              "      <th>4</th>\n",
              "      <td>1643</td>\n",
              "      <td>12383407</td>\n",
              "      <td>Crumlin</td>\n",
              "      <td>2</td>\n",
              "      <td>3</td>\n",
              "      <td>F</td>\n",
              "      <td>A unique opportunity to acquire this red brick...</td>\n",
              "      <td>Parking,Gas Fired Central Heating,Alarm</td>\n",
              "      <td>Red brick end of terrace property \\nC. 108sqm ...</td>\n",
              "      <td>53.327208</td>\n",
              "      <td>-6.308938</td>\n",
              "      <td>end-of-terrace</td>\n",
              "      <td>108.0</td>\n",
              "    </tr>\n",
              "  </tbody>\n",
              "</table>\n",
              "</div>"
            ],
            "text/plain": [
              "   Index        ID   Location  ...  Longitude            Type Surface\n",
              "0   1639  12292473   Milltown  ...  -6.243391       townhouse    65.0\n",
              "1   1640  12314667  Glasnevin  ...  -6.281936   semi-detached   142.0\n",
              "2   1641  11699240     Dalkey  ...  -6.108675        detached    80.0\n",
              "3   1642  12416984     Raheny  ...  -6.185334        detached   209.0\n",
              "4   1643  12383407    Crumlin  ...  -6.308938  end-of-terrace   108.0\n",
              "\n",
              "[5 rows x 13 columns]"
            ]
          },
          "metadata": {},
          "execution_count": 15
        }
      ]
    },
    {
      "cell_type": "code",
      "metadata": {
        "colab": {
          "base_uri": "https://localhost:8080/",
          "height": 297
        },
        "id": "1p-xAm8s4pxn",
        "outputId": "0726fc03-918d-4610-8702-431d3329f8a5"
      },
      "source": [
        "# Generate statistcis for numeric training data\n",
        "\n",
        "train_data.describe()"
      ],
      "execution_count": 16,
      "outputs": [
        {
          "output_type": "execute_result",
          "data": {
            "text/html": [
              "<div>\n",
              "<style scoped>\n",
              "    .dataframe tbody tr th:only-of-type {\n",
              "        vertical-align: middle;\n",
              "    }\n",
              "\n",
              "    .dataframe tbody tr th {\n",
              "        vertical-align: top;\n",
              "    }\n",
              "\n",
              "    .dataframe thead th {\n",
              "        text-align: right;\n",
              "    }\n",
              "</style>\n",
              "<table border=\"1\" class=\"dataframe\">\n",
              "  <thead>\n",
              "    <tr style=\"text-align: right;\">\n",
              "      <th></th>\n",
              "      <th>Index</th>\n",
              "      <th>ID</th>\n",
              "      <th>Num_Bathrooms</th>\n",
              "      <th>Num_Beds</th>\n",
              "      <th>Latitude</th>\n",
              "      <th>Longitude</th>\n",
              "      <th>Surface</th>\n",
              "      <th>Price</th>\n",
              "    </tr>\n",
              "  </thead>\n",
              "  <tbody>\n",
              "    <tr>\n",
              "      <th>count</th>\n",
              "      <td>1638.000000</td>\n",
              "      <td>1.638000e+03</td>\n",
              "      <td>1638.000000</td>\n",
              "      <td>1638.000000</td>\n",
              "      <td>1638.000000</td>\n",
              "      <td>1638.000000</td>\n",
              "      <td>1638.000000</td>\n",
              "      <td>1.638000e+03</td>\n",
              "    </tr>\n",
              "    <tr>\n",
              "      <th>mean</th>\n",
              "      <td>819.500000</td>\n",
              "      <td>1.231930e+07</td>\n",
              "      <td>2.054335</td>\n",
              "      <td>3.043346</td>\n",
              "      <td>53.350473</td>\n",
              "      <td>-6.255086</td>\n",
              "      <td>169.540695</td>\n",
              "      <td>5.547196e+05</td>\n",
              "    </tr>\n",
              "    <tr>\n",
              "      <th>std</th>\n",
              "      <td>472.994186</td>\n",
              "      <td>1.447540e+05</td>\n",
              "      <td>1.241259</td>\n",
              "      <td>1.379650</td>\n",
              "      <td>0.076832</td>\n",
              "      <td>0.144430</td>\n",
              "      <td>1791.793934</td>\n",
              "      <td>5.652032e+05</td>\n",
              "    </tr>\n",
              "    <tr>\n",
              "      <th>min</th>\n",
              "      <td>1.000000</td>\n",
              "      <td>1.118567e+07</td>\n",
              "      <td>1.000000</td>\n",
              "      <td>1.000000</td>\n",
              "      <td>52.501856</td>\n",
              "      <td>-6.497000</td>\n",
              "      <td>3.400000</td>\n",
              "      <td>1.999500e+04</td>\n",
              "    </tr>\n",
              "    <tr>\n",
              "      <th>25%</th>\n",
              "      <td>410.250000</td>\n",
              "      <td>1.228104e+07</td>\n",
              "      <td>1.000000</td>\n",
              "      <td>2.000000</td>\n",
              "      <td>53.294261</td>\n",
              "      <td>-6.309613</td>\n",
              "      <td>73.000000</td>\n",
              "      <td>2.950000e+05</td>\n",
              "    </tr>\n",
              "    <tr>\n",
              "      <th>50%</th>\n",
              "      <td>819.500000</td>\n",
              "      <td>1.238055e+07</td>\n",
              "      <td>2.000000</td>\n",
              "      <td>3.000000</td>\n",
              "      <td>53.341386</td>\n",
              "      <td>-6.247780</td>\n",
              "      <td>97.050000</td>\n",
              "      <td>3.950000e+05</td>\n",
              "    </tr>\n",
              "    <tr>\n",
              "      <th>75%</th>\n",
              "      <td>1228.750000</td>\n",
              "      <td>1.240548e+07</td>\n",
              "      <td>3.000000</td>\n",
              "      <td>4.000000</td>\n",
              "      <td>53.382031</td>\n",
              "      <td>-6.193982</td>\n",
              "      <td>135.000000</td>\n",
              "      <td>5.950000e+05</td>\n",
              "    </tr>\n",
              "    <tr>\n",
              "      <th>max</th>\n",
              "      <td>1638.000000</td>\n",
              "      <td>1.242836e+07</td>\n",
              "      <td>18.000000</td>\n",
              "      <td>27.000000</td>\n",
              "      <td>53.630588</td>\n",
              "      <td>-1.744995</td>\n",
              "      <td>72236.387140</td>\n",
              "      <td>8.900000e+06</td>\n",
              "    </tr>\n",
              "  </tbody>\n",
              "</table>\n",
              "</div>"
            ],
            "text/plain": [
              "             Index            ID  ...       Surface         Price\n",
              "count  1638.000000  1.638000e+03  ...   1638.000000  1.638000e+03\n",
              "mean    819.500000  1.231930e+07  ...    169.540695  5.547196e+05\n",
              "std     472.994186  1.447540e+05  ...   1791.793934  5.652032e+05\n",
              "min       1.000000  1.118567e+07  ...      3.400000  1.999500e+04\n",
              "25%     410.250000  1.228104e+07  ...     73.000000  2.950000e+05\n",
              "50%     819.500000  1.238055e+07  ...     97.050000  3.950000e+05\n",
              "75%    1228.750000  1.240548e+07  ...    135.000000  5.950000e+05\n",
              "max    1638.000000  1.242836e+07  ...  72236.387140  8.900000e+06\n",
              "\n",
              "[8 rows x 8 columns]"
            ]
          },
          "metadata": {},
          "execution_count": 16
        }
      ]
    },
    {
      "cell_type": "markdown",
      "metadata": {
        "id": "GmDdrEf942fF"
      },
      "source": [
        "#### Initial Analysis of Training Data Statistics\n",
        "The above table provides a some key information:\n",
        "\n",
        "1. **counts** indicate no missing values for these numeric features\n",
        "\n",
        "2. **mean** and **50% Quartile** are the same or close except for \"Surface\" and \"Price\" showing an imbalance in the data .. we may need to deal with this.\n",
        "\n",
        "3. **min** and **max** indicate ranges that need to be scaled"
      ]
    },
    {
      "cell_type": "code",
      "metadata": {
        "colab": {
          "base_uri": "https://localhost:8080/",
          "height": 0
        },
        "id": "nKJ26Fef7GuI",
        "outputId": "155f528b-3967-454b-adf4-b8b0b4d2c195"
      },
      "source": [
        "# Check for missing values in Training data \n",
        "train_missing = train_data.isnull().sum()*100/len(train_data)\n",
        "print(train_missing)"
      ],
      "execution_count": 17,
      "outputs": [
        {
          "output_type": "stream",
          "name": "stdout",
          "text": [
            "Index             0.000000\n",
            "ID                0.000000\n",
            "Location          0.000000\n",
            "Num_Bathrooms     0.000000\n",
            "Num_Beds          0.000000\n",
            "BER_class        15.323565\n",
            "Description       0.000000\n",
            "Services         64.774115\n",
            "Features          0.000000\n",
            "Latitude          0.000000\n",
            "Longitude         0.000000\n",
            "Type              0.000000\n",
            "Surface           0.000000\n",
            "Price             0.000000\n",
            "dtype: float64\n"
          ]
        }
      ]
    },
    {
      "cell_type": "markdown",
      "metadata": {
        "id": "HboMCX6c7aIn"
      },
      "source": [
        "**Comments** There are two features that have missing values. These are categorical features as they did not appear in above statistics report. High % missing features cannot be remediated and should be removed. We should look at 'BER_class' and see if it is an important feature. If it is, then we should look to see if there is a way to handle the missing values. \n",
        "\n",
        "Approach here will be to \n",
        "\n",
        "1. Remove 'ID' as it provides no information\n",
        "\n",
        "2. Remove the feature 'Services' as it has 65% missing data\n",
        "\n",
        "3. Determine importance of 'BER_class' as a predictor of price. We will use XGBoost and its correspondng \"feature_importance\" metric.\n",
        "\n",
        "Reviewing the features for non-uniqueness, there are no features with just one value."
      ]
    },
    {
      "cell_type": "code",
      "metadata": {
        "colab": {
          "base_uri": "https://localhost:8080/",
          "height": 0
        },
        "id": "ZLOxMiD8-hVK",
        "outputId": "c9a20f04-bf22-4e65-81fe-da29df0eb58e"
      },
      "source": [
        "# Let's look at obvious erroneous values - no zero values in the training data\n",
        "\n",
        "train_data_zeros = (train_data == 0).all()\n",
        "print(train_data_zeros)"
      ],
      "execution_count": 18,
      "outputs": [
        {
          "output_type": "stream",
          "name": "stdout",
          "text": [
            "Index            False\n",
            "ID               False\n",
            "Location         False\n",
            "Num_Bathrooms    False\n",
            "Num_Beds         False\n",
            "BER_class        False\n",
            "Description      False\n",
            "Services         False\n",
            "Features         False\n",
            "Latitude         False\n",
            "Longitude        False\n",
            "Type             False\n",
            "Surface          False\n",
            "Price            False\n",
            "dtype: bool\n"
          ]
        }
      ]
    },
    {
      "cell_type": "markdown",
      "metadata": {
        "id": "dDdmVvJ58KZd"
      },
      "source": [
        "There are no features with zeros so we do not have to analyse this further."
      ]
    },
    {
      "cell_type": "code",
      "metadata": {
        "colab": {
          "base_uri": "https://localhost:8080/",
          "height": 80
        },
        "id": "7WUbJtyN8t3W",
        "outputId": "60f489c9-8daf-4682-d146-747a08fc85a4"
      },
      "source": [
        "# Let's look for obvious coordinates outside Dublin range\n",
        "\n",
        "outliers = train_data[(train_data.Longitude > -6) | (train_data.Latitude < 53)]\n",
        "\n",
        "outliers.head()"
      ],
      "execution_count": 19,
      "outputs": [
        {
          "output_type": "execute_result",
          "data": {
            "text/html": [
              "<div>\n",
              "<style scoped>\n",
              "    .dataframe tbody tr th:only-of-type {\n",
              "        vertical-align: middle;\n",
              "    }\n",
              "\n",
              "    .dataframe tbody tr th {\n",
              "        vertical-align: top;\n",
              "    }\n",
              "\n",
              "    .dataframe thead th {\n",
              "        text-align: right;\n",
              "    }\n",
              "</style>\n",
              "<table border=\"1\" class=\"dataframe\">\n",
              "  <thead>\n",
              "    <tr style=\"text-align: right;\">\n",
              "      <th></th>\n",
              "      <th>Index</th>\n",
              "      <th>ID</th>\n",
              "      <th>Location</th>\n",
              "      <th>Num_Bathrooms</th>\n",
              "      <th>Num_Beds</th>\n",
              "      <th>BER_class</th>\n",
              "      <th>Description</th>\n",
              "      <th>Services</th>\n",
              "      <th>Features</th>\n",
              "      <th>Latitude</th>\n",
              "      <th>Longitude</th>\n",
              "      <th>Type</th>\n",
              "      <th>Surface</th>\n",
              "      <th>Price</th>\n",
              "    </tr>\n",
              "  </thead>\n",
              "  <tbody>\n",
              "    <tr>\n",
              "      <th>355</th>\n",
              "      <td>356</td>\n",
              "      <td>12270559</td>\n",
              "      <td>Clondalkin</td>\n",
              "      <td>1</td>\n",
              "      <td>3</td>\n",
              "      <td>NaN</td>\n",
              "      <td>RAY COOKE AUCTIONEERS take great pleasure in i...</td>\n",
              "      <td>NaN</td>\n",
              "      <td>None</td>\n",
              "      <td>52.501856</td>\n",
              "      <td>-1.744995</td>\n",
              "      <td>semi-detached</td>\n",
              "      <td>79.0</td>\n",
              "      <td>199000</td>\n",
              "    </tr>\n",
              "  </tbody>\n",
              "</table>\n",
              "</div>"
            ],
            "text/plain": [
              "     Index        ID    Location  ...           Type  Surface   Price\n",
              "355    356  12270559  Clondalkin  ...  semi-detached     79.0  199000\n",
              "\n",
              "[1 rows x 14 columns]"
            ]
          },
          "metadata": {},
          "execution_count": 19
        }
      ]
    },
    {
      "cell_type": "markdown",
      "metadata": {
        "id": "pMr7bjEt9YKU"
      },
      "source": [
        "This location has coordinates for a UK address and should be removed."
      ]
    },
    {
      "cell_type": "code",
      "metadata": {
        "id": "xcxW9x0J9iWv"
      },
      "source": [
        "# Remove location in UK\n",
        "df_train = train_data.drop(train_data[(train_data.Longitude > -6) | (train_data.Latitude < 53)].index)"
      ],
      "execution_count": 12,
      "outputs": []
    },
    {
      "cell_type": "code",
      "metadata": {
        "id": "uFZVONMkA0vy"
      },
      "source": [
        "# Drop unimportant features\n",
        "\n",
        "df_train.drop(['ID', 'Services'], axis=1, inplace=True)"
      ],
      "execution_count": 13,
      "outputs": []
    },
    {
      "cell_type": "code",
      "metadata": {
        "id": "_vVew9ysIPW7"
      },
      "source": [
        "# Let's deal with categorical data\n",
        "\n",
        "# Feature map 'locations': combine locations in training and test datasets and extract unique list of these\n",
        "locations = np.hstack((train_data['Location'], test_data['Location']))\n",
        "unique_loc = np.unique(locations)\n",
        "unique_loc_index=[]\n",
        "\n",
        "# Create a dictionary lookup: create an incremental index for each location, i.e. 1, 2, 3, ... n\n",
        "i = [i+1 for i in range(len(unique_loc))]\n",
        "unique_areas_index = dict(zip(unique_loc, i))\n",
        "\n",
        "# Replace area name with the index from the 'unique_areas_index' dictionary \n",
        "df_train_1 = df_train.replace({'Location': unique_areas_index})\n",
        "\n",
        "# Feature map 'BER_class': same approach as for Locations above\n",
        "ber_stack = np.hstack((train_data['BER_class'], test_data['BER_class'])) # get all BER Classes from Train and Test datasets to ensure we have all classes in each set.\n",
        "ber_class = [c for c in ber_stack if not(pd.isna(c)) == True] # remove NaN from feature map list\n",
        "unique_ber = np.unique(ber_class)\n",
        "unique_ber_index=[]\n",
        "\n",
        "# Create a dictionary lookup\n",
        "i = [i+1 for i in range(len(unique_ber))]\n",
        "unique_ber_index = dict(zip(unique_ber, i))\n",
        "\n",
        "# Replace BER_class with the index from the 'unique_ber_index' dictionary \n",
        "df_train_2 = df_train_1.replace({'BER_class': unique_ber_index})\n",
        "\n",
        "# One-hot Encode 'Type'\n",
        "df_train_2 = pd.get_dummies(df_train_2, columns=['Type'])\n",
        "\n",
        "df_train = df_train_2.copy()\n",
        "\n",
        "# Take a copy of the Location and BER_class column before scaling - this will be used during imputing for NaNs later\n",
        "loc_ber_train_values = df_train[['Location', 'BER_class']].copy()\n"
      ],
      "execution_count": 14,
      "outputs": []
    },
    {
      "cell_type": "markdown",
      "metadata": {
        "id": "gAhx8VU4d9im"
      },
      "source": [
        "We will now look at the feature distributions and outliers."
      ]
    },
    {
      "cell_type": "code",
      "metadata": {
        "colab": {
          "base_uri": "https://localhost:8080/",
          "height": 0
        },
        "id": "c5nG9cSteJMh",
        "outputId": "a9a25610-af7f-4bc3-86db-79799b5a5a97"
      },
      "source": [
        "df_train.columns"
      ],
      "execution_count": 15,
      "outputs": [
        {
          "output_type": "execute_result",
          "data": {
            "text/plain": [
              "Index(['Index', 'Location', 'Num_Bathrooms', 'Num_Beds', 'BER_class',\n",
              "       'Description', 'Features', 'Latitude', 'Longitude', 'Surface', 'Price',\n",
              "       'Type_apartment', 'Type_bungalow', 'Type_detached', 'Type_duplex',\n",
              "       'Type_end-of-terrace', 'Type_semi-detached', 'Type_site', 'Type_studio',\n",
              "       'Type_terraced', 'Type_townhouse'],\n",
              "      dtype='object')"
            ]
          },
          "metadata": {},
          "execution_count": 15
        }
      ]
    },
    {
      "cell_type": "markdown",
      "metadata": {
        "id": "C_xwBU21eVmc"
      },
      "source": [
        "We will look at these key features:\n",
        "\n",
        "'Location', 'Num_Bathrooms', 'Num_Beds', 'BER_class', 'Latitude', 'Longitude', 'Surface', 'Price'"
      ]
    },
    {
      "cell_type": "code",
      "metadata": {
        "colab": {
          "base_uri": "https://localhost:8080/",
          "height": 1000
        },
        "id": "91wUPq0HeDOU",
        "outputId": "44919a0b-97ba-460e-a922-dff4e3459b04"
      },
      "source": [
        "# First we will look at the distribution of key predictor features\n",
        "\n",
        "fig = plt.figure(figsize=(20,30))\n",
        "\n",
        "ax1 = fig.add_subplot(8, 2, 1)\n",
        "ax1.set_title(\"Plot of 'Location'\")\n",
        "df_train.boxplot(column=['Location'])\n",
        "\n",
        "ax2 = fig.add_subplot(8, 2, 2)\n",
        "ax2.set_title(\"Histogram of 'Location'\")\n",
        "df_train['Location'].hist(bins=20)\n",
        "\n",
        "ax3 = fig.add_subplot(8, 2, 3)\n",
        "ax3.set_title(\"Plot of 'Num_Bathrooms'\")\n",
        "df_train.boxplot(column=['Num_Bathrooms'])\n",
        "\n",
        "ax4 = fig.add_subplot(8, 2, 4)\n",
        "ax4.set_title(\"Histogram of 'Num_Bathrooms'\")\n",
        "df_train['Num_Bathrooms'].hist(bins=20)\n",
        "\n",
        "ax5 = fig.add_subplot(8, 2, 5)\n",
        "ax5.set_title(\"Plot of 'Num_Beds'\")\n",
        "df_train.boxplot(column=['Num_Beds'])\n",
        "\n",
        "ax6 = fig.add_subplot(8, 2, 6)\n",
        "ax6.set_title(\"Histogram of 'Num_Beds'\")\n",
        "df_train['Num_Beds'].hist(bins=20)\n",
        "\n",
        "ax7 = fig.add_subplot(8, 2, 7)\n",
        "ax7.set_title(\"Plot of 'BER_class'\")\n",
        "df_train.boxplot(column=['BER_class'])\n",
        "\n",
        "ax8 = fig.add_subplot(8, 2, 8)\n",
        "ax8.set_title(\"Histogram of 'BER_class'\")\n",
        "df_train['BER_class'].hist(bins=20)\n",
        "\n",
        "ax9 = fig.add_subplot(8, 2, 9)\n",
        "ax9.set_title(\"Plot of 'Longitude'\")\n",
        "df_train.boxplot(column=['Longitude'])\n",
        "\n",
        "ax10 = fig.add_subplot(8, 2, 10)\n",
        "ax10.set_title(\"Histogram of 'Longitude'\")\n",
        "df_train['Longitude'].hist(bins=20)\n",
        "\n",
        "ax11 = fig.add_subplot(8, 2, 11)\n",
        "ax11.set_title(\"Plot of 'Latitude'\")\n",
        "df_train.boxplot(column=['Latitude'])\n",
        "\n",
        "ax12 = fig.add_subplot(8, 2, 12)\n",
        "ax12.set_title(\"Histogram of 'Latitude'\")\n",
        "df_train['Latitude'].hist(bins=20)\n",
        "\n",
        "ax13 = fig.add_subplot(8, 2, 13)\n",
        "ax13.set_title(\"Plot of 'Surface'\")\n",
        "df_train.boxplot(column=['Surface'])\n",
        "\n",
        "ax14 = fig.add_subplot(8, 2, 14)\n",
        "ax14.set_title(\"Histogram of 'Surface'\")\n",
        "df_train['Surface'].hist(bins=20)\n",
        "\n",
        "ax15 = fig.add_subplot(8, 2, 15)\n",
        "ax15.set_title(\"Plot of 'Price'\")\n",
        "df_train.boxplot(column=['Price'])\n",
        "\n",
        "ax16 = fig.add_subplot(8, 2, 16)\n",
        "ax16.set_title(\"Histogram of 'Price'\")\n",
        "df_train['Price'].hist(bins=20)"
      ],
      "execution_count": 16,
      "outputs": [
        {
          "output_type": "execute_result",
          "data": {
            "text/plain": [
              "<matplotlib.axes._subplots.AxesSubplot at 0x7f6cbb685610>"
            ]
          },
          "metadata": {},
          "execution_count": 16
        },
        {
          "output_type": "display_data",
          "data": {
            "image/png": "[encoded data removed]",
            "text/plain": [
              "<Figure size 1440x2160 with 16 Axes>"
            ]
          },
          "metadata": {
            "needs_background": "light"
          }
        }
      ]
    },
    {
      "cell_type": "markdown",
      "metadata": {
        "id": "p2LpCTSgljiU"
      },
      "source": [
        "There is an outlier on 'Surface' that needs to be investigated"
      ]
    },
    {
      "cell_type": "code",
      "metadata": {
        "colab": {
          "base_uri": "https://localhost:8080/",
          "height": 335
        },
        "id": "LMUs3SjJlCLT",
        "outputId": "7905b88f-e316-42be-b0fa-a6d20d078eea"
      },
      "source": [
        "df_train[(df_train.Surface > 2000)]"
      ],
      "execution_count": null,
      "outputs": [
        {
          "output_type": "execute_result",
          "data": {
            "text/html": [
              "<div>\n",
              "<style scoped>\n",
              "    .dataframe tbody tr th:only-of-type {\n",
              "        vertical-align: middle;\n",
              "    }\n",
              "\n",
              "    .dataframe tbody tr th {\n",
              "        vertical-align: top;\n",
              "    }\n",
              "\n",
              "    .dataframe thead th {\n",
              "        text-align: right;\n",
              "    }\n",
              "</style>\n",
              "<table border=\"1\" class=\"dataframe\">\n",
              "  <thead>\n",
              "    <tr style=\"text-align: right;\">\n",
              "      <th></th>\n",
              "      <th>Index</th>\n",
              "      <th>Location</th>\n",
              "      <th>Num_Bathrooms</th>\n",
              "      <th>Num_Beds</th>\n",
              "      <th>BER_class</th>\n",
              "      <th>Description</th>\n",
              "      <th>Features</th>\n",
              "      <th>Latitude</th>\n",
              "      <th>Longitude</th>\n",
              "      <th>Surface</th>\n",
              "      <th>Price</th>\n",
              "      <th>Type_apartment</th>\n",
              "      <th>Type_bungalow</th>\n",
              "      <th>Type_detached</th>\n",
              "      <th>Type_duplex</th>\n",
              "      <th>Type_end-of-terrace</th>\n",
              "      <th>Type_semi-detached</th>\n",
              "      <th>Type_site</th>\n",
              "      <th>Type_studio</th>\n",
              "      <th>Type_terraced</th>\n",
              "      <th>Type_townhouse</th>\n",
              "    </tr>\n",
              "  </thead>\n",
              "  <tbody>\n",
              "    <tr>\n",
              "      <th>506</th>\n",
              "      <td>507</td>\n",
              "      <td>138</td>\n",
              "      <td>1</td>\n",
              "      <td>4</td>\n",
              "      <td>12.0</td>\n",
              "      <td>Thornton Park is a superb modern equestrian ce...</td>\n",
              "      <td>None</td>\n",
              "      <td>53.474502</td>\n",
              "      <td>-6.343483</td>\n",
              "      <td>72236.38714</td>\n",
              "      <td>1100000</td>\n",
              "      <td>0</td>\n",
              "      <td>1</td>\n",
              "      <td>0</td>\n",
              "      <td>0</td>\n",
              "      <td>0</td>\n",
              "      <td>0</td>\n",
              "      <td>0</td>\n",
              "      <td>0</td>\n",
              "      <td>0</td>\n",
              "      <td>0</td>\n",
              "    </tr>\n",
              "    <tr>\n",
              "      <th>1115</th>\n",
              "      <td>1116</td>\n",
              "      <td>19</td>\n",
              "      <td>1</td>\n",
              "      <td>2</td>\n",
              "      <td>13.0</td>\n",
              "      <td>Baxter Real Estate are delighted to present to...</td>\n",
              "      <td>Short drive to the N3 and M50 .\\nSuitable for ...</td>\n",
              "      <td>53.386540</td>\n",
              "      <td>-6.377356</td>\n",
              "      <td>6705.00000</td>\n",
              "      <td>425000</td>\n",
              "      <td>0</td>\n",
              "      <td>1</td>\n",
              "      <td>0</td>\n",
              "      <td>0</td>\n",
              "      <td>0</td>\n",
              "      <td>0</td>\n",
              "      <td>0</td>\n",
              "      <td>0</td>\n",
              "      <td>0</td>\n",
              "      <td>0</td>\n",
              "    </tr>\n",
              "  </tbody>\n",
              "</table>\n",
              "</div>"
            ],
            "text/plain": [
              "      Index  Location  ...  Type_terraced  Type_townhouse\n",
              "506     507       138  ...              0               0\n",
              "1115   1116        19  ...              0               0\n",
              "\n",
              "[2 rows x 21 columns]"
            ]
          },
          "metadata": {},
          "execution_count": 74
        }
      ]
    },
    {
      "cell_type": "markdown",
      "metadata": {
        "id": "DRo9rE7Klnc9"
      },
      "source": [
        "There is only two values in the range greater than 2,000. Decision to remove them seems valid, although we wil be limited to the area size <= 2,000"
      ]
    },
    {
      "cell_type": "code",
      "metadata": {
        "id": "wvd5R8rulwpw"
      },
      "source": [
        "df_train = df_train.drop(df_train[df_train.Surface > 2000].index) # remove these properties with large areas/outliers"
      ],
      "execution_count": 17,
      "outputs": []
    },
    {
      "cell_type": "code",
      "metadata": {
        "id": "FR1Kurr8koN1"
      },
      "source": [
        "# Apply scalers to data to resolve distribution and outlier issues\n",
        "from sklearn.preprocessing import StandardScaler\n",
        "from sklearn.preprocessing import MinMaxScaler\n",
        "\n",
        "minmax = MinMaxScaler()\n",
        "standardscaler = StandardScaler()\n",
        "\n",
        "# Not a normal distribution so just scale with MinMax [0, 1]\n",
        "df_train[['Location']] = minmax.fit_transform(df_train[['Location']])\n",
        "\n",
        "# Deal with outliers with a Log Transform - later we will use Standard Scaler as well on some feature\n",
        "df_train['Num_Bathrooms'] = np.log(df_train['Num_Bathrooms'])\n",
        "\n",
        "df_train['Num_Beds'] = np.log(df_train['Num_Beds'])\n",
        "\n",
        "df_train['Latitude'] = np.log(df_train['Latitude'])\n",
        "\n",
        "df_train['Surface'] = np.log(df_train['Surface'])\n",
        "\n",
        "df_train['Price'] = np.log(df_train['Price'])\n",
        "\n",
        "# Standard scaler for normal distributions\n",
        "df_train[['BER_class', 'Longitude', 'Latitude', 'Surface', 'Price']] = standardscaler.fit_transform(df_train[['BER_class', 'Longitude', 'Latitude', 'Surface', 'Price']])\n"
      ],
      "execution_count": 18,
      "outputs": []
    },
    {
      "cell_type": "markdown",
      "metadata": {
        "id": "AG4JxHmwsjEd"
      },
      "source": [
        "Do the same scaling to the Test Data"
      ]
    },
    {
      "cell_type": "code",
      "metadata": {
        "colab": {
          "base_uri": "https://localhost:8080/",
          "height": 0
        },
        "id": "T641v2TdsnpI",
        "outputId": "861a9750-9683-448a-b755-c53f6780a164"
      },
      "source": [
        "# Check for missing values in Training data - calculate % misisng values\n",
        "test_missing = test_data.isnull().sum()*100/len(test_data)\n",
        "print(test_missing)"
      ],
      "execution_count": 19,
      "outputs": [
        {
          "output_type": "stream",
          "name": "stdout",
          "text": [
            "Index             0.000000\n",
            "ID                0.000000\n",
            "Location          0.000000\n",
            "Num_Bathrooms     0.000000\n",
            "Num_Beds          0.000000\n",
            "BER_class        15.384615\n",
            "Description       0.000000\n",
            "Services         64.957265\n",
            "Features          0.000000\n",
            "Latitude          0.000000\n",
            "Longitude         0.000000\n",
            "Type              0.000000\n",
            "Surface           0.000000\n",
            "dtype: float64\n"
          ]
        }
      ]
    },
    {
      "cell_type": "code",
      "metadata": {
        "id": "hA9fcSHbtbGT"
      },
      "source": [
        "# Drop unimportant features\n",
        "\n",
        "test_data.drop(['ID', 'Services'], axis=1, inplace=True)\n"
      ],
      "execution_count": 20,
      "outputs": []
    },
    {
      "cell_type": "code",
      "metadata": {
        "id": "0Vb-owPEt6cb"
      },
      "source": [
        "df_test = test_data.copy()"
      ],
      "execution_count": 21,
      "outputs": []
    },
    {
      "cell_type": "code",
      "metadata": {
        "id": "7EDOr10Itsga"
      },
      "source": [
        "# Let's deal with categorical data for Test Dataset\n",
        "\n",
        "# Replace area name with the index from the 'unique_areas_index' dictionary \n",
        "df_test_1 = df_test.replace({'Location': unique_areas_index})\n",
        "\n",
        "# Replace BER_class with the index from the 'unique_ber_index' dictionary \n",
        "df_test_2 = df_test_1.replace({'BER_class': unique_ber_index})\n",
        "\n",
        "# One-hot Encode 'Type'\n",
        "df_test_2 = pd.get_dummies(df_test_2, columns=['Type'])\n",
        "\n",
        "df_test = df_test_2.copy()\n",
        "\n",
        "# Take a copy of the Location and BER_class column before scaling - this will be used during imputing for NaNs later\n",
        "loc_ber_test_values = df_test[['Location', 'BER_class']].copy()\n",
        "\n",
        "# Apply same scalers as for Training dataset\n",
        "df_test[['Location']] = minmax.fit_transform(df_test[['Location']])\n",
        "\n",
        "df_test['Num_Bathrooms'] = np.log(df_test['Num_Bathrooms'])\n",
        "\n",
        "df_test['Num_Beds'] = np.log(df_test['Num_Beds'])\n",
        "\n",
        "df_test['Latitude'] = np.log(df_test['Latitude'])\n",
        "\n",
        "df_test['Surface'] = np.log(df_test['Surface'])\n",
        "\n",
        "# Standard scaler for normal distributions\n",
        "df_test[['BER_class', 'Longitude', 'Latitude', 'Surface']] = standardscaler.fit_transform(df_test[['BER_class', 'Longitude', 'Latitude', 'Surface']])\n"
      ],
      "execution_count": 22,
      "outputs": []
    },
    {
      "cell_type": "markdown",
      "metadata": {
        "id": "he3gk4kS-iPr"
      },
      "source": [
        "Now let's look at 'BER_class' and see how important it is for predicting price.\n",
        "The following approach uses XGBoost Regression algorithm which has some powerful built in functions for Feature Importance."
      ]
    },
    {
      "cell_type": "code",
      "metadata": {
        "id": "THFqAjKz9Kj1"
      },
      "source": [
        "# Let's take a closer look at 'BER_class' using feature importance on all data set\n",
        "# We will look at the feature Importance of 'BER_class' with empty features removed from the dataset \n",
        "# and left in to see check the impact also for imputation.\n",
        "\n",
        "import xgboost as xgb\n",
        "from sklearn.model_selection import train_test_split\n",
        "from sklearn.metrics import mean_squared_error, r2_score\n",
        "\n",
        "def xgb_model(X, y, msg):\n",
        "\n",
        "  xgb_model = xgb.XGBRegressor(max_depth=7, learning_rate = 0.6, n_jobs=4, objective = 'reg:squarederror', random_state=10, n_estimators=50).fit(X, y)\n",
        "\n",
        "  y_xgb_pred = xgb_model.predict(X)\n",
        "\n",
        "  RMSE_xgb = mean_squared_error(y, y_xgb_pred, squared=False)\n",
        "\n",
        "  r2_xgb = r2_score(y, y_xgb_pred)\n",
        "\n",
        "  print(msg)\n",
        "\n",
        "  print(\"RMSE_score: %.4f   R2_score: %.4f\" %(RMSE_xgb, r2_xgb))\n",
        "\n",
        "  return xgb_model, RMSE_xgb, r2_xgb"
      ],
      "execution_count": 23,
      "outputs": []
    },
    {
      "cell_type": "code",
      "metadata": {
        "colab": {
          "base_uri": "https://localhost:8080/",
          "height": 0
        },
        "id": "mbTJtwYQi2qN",
        "outputId": "c0bcc716-fb99-444d-a328-bda72cb3dbea"
      },
      "source": [
        "# Let's look at the Feature Importance with all BER_class values equal to NULL removed\n",
        "# We will also remove large text features for now.\n",
        "\n",
        "features = ['Location', 'Num_Bathrooms', 'Num_Beds', 'BER_class',\n",
        "                        'Latitude', 'Longitude', 'Surface', 'Type_apartment', \n",
        "                        'Type_bungalow', 'Type_detached', 'Type_duplex',\n",
        "                        'Type_end-of-terrace', 'Type_semi-detached', 'Type_site', 'Type_studio',\n",
        "                        'Type_terraced', 'Type_townhouse', 'Price']\n",
        "\n",
        "df_train_xgb = df_train[features]\n",
        "X_train_xgb = df_train_xgb.iloc[:,0:-1].values \n",
        "y_train_xgb = df_train_xgb.iloc[:,-1].values.reshape(-1,1)  \n",
        "\n",
        "df_train_xgb_partial = df_train_xgb.dropna(how='all', subset=['BER_class'])\n",
        "X_train_xgb_partial = df_train_xgb_partial.iloc[:,0:-1].values\n",
        "y_train_xgb_partial = df_train_xgb_partial.iloc[:,-1].values.reshape(-1,1) \n",
        "\n",
        "# Call XGBoost Model for each dataset\n",
        "\n",
        "Model_Full, RMSE_xgb_train_full, r2_xgb_train_full = xgb_model(X_train_xgb, y_train_xgb, \"Performance Evaluation for Full Training Set\")\n",
        "\n",
        "Model_Partial, RMSE_xgb_train_partial, r2_xgb_train_partial = xgb_model(X_train_xgb_partial, y_train_xgb_partial, \"Performance Evaluation for NaNs Removed\")\n",
        "\n"
      ],
      "execution_count": 24,
      "outputs": [
        {
          "output_type": "stream",
          "name": "stdout",
          "text": [
            "Performance Evaluation for Full Training Set\n",
            "RMSE_score: 0.0332   R2_score: 0.9989\n",
            "Performance Evaluation for NaNs Removed\n",
            "RMSE_score: 0.0230   R2_score: 0.9994\n"
          ]
        }
      ]
    },
    {
      "cell_type": "code",
      "metadata": {
        "colab": {
          "base_uri": "https://localhost:8080/",
          "height": 395
        },
        "id": "JwLrm20MlVoc",
        "outputId": "f54c4973-5a21-4df9-b019-5bc17a16b45a"
      },
      "source": [
        "# Let's plot the Feature Importance for each of these solutions\n",
        "\n",
        "import seaborn as sn\n",
        "\n",
        "fig = plt.figure(figsize=(25,6))\n",
        "\n",
        "Model_Full.get_booster().feature_names = features[:-1]\n",
        "ax1 = fig.add_subplot(1, 2, 1)\n",
        "ax1.set_title(\"Plot of Feature Importance for Full Model\")\n",
        "xgb.plot_importance(Model_Full, max_num_features= 17, ax=ax1, importance_type=\"weight\")\n",
        "\n",
        "Model_Partial.get_booster().feature_names = features[:-1]\n",
        "ax2 = fig.add_subplot(1, 2, 2)\n",
        "ax2.set_title(\"Plot of Feature Importance for Model with NaNs removed.\")\n",
        "xgb.plot_importance(Model_Partial, max_num_features= 17, ax=ax2, importance_type=\"weight\")\n",
        "\n",
        "plt.show()\n"
      ],
      "execution_count": 25,
      "outputs": [
        {
          "output_type": "display_data",
          "data": {
            "image/png": "[encoded data removed]",
            "text/plain": [
              "<Figure size 1800x432 with 2 Axes>"
            ]
          },
          "metadata": {
            "needs_background": "light"
          }
        }
      ]
    },
    {
      "cell_type": "markdown",
      "metadata": {
        "id": "-y3OfhT_49NQ"
      },
      "source": [
        "**Analysis of Plots** It can be seen from the above plots of Training Dataset with NaNs removed (plot on right) and with NaNs left in (plot on left) that both plots confirm the importance of BER_class. XGBoost handles NaN values by default but we cannot expect that all models wil do so. We will keep the BER_class and compute imputed values for missing data.\n",
        "\n",
        "Note also that both models agree on the overall importance of features. The Top 7 Features have a greater influence on model performance. It seems that property 'Type' is not so important.\n",
        "\n",
        "For this exercise, I will concentrate on the Top 7 key features and remove the 'Type'"
      ]
    },
    {
      "cell_type": "markdown",
      "metadata": {
        "id": "qOhE_Pm6Ugrq"
      },
      "source": [
        "#### Imputing BER_class value: replace NaNs with average BER by location"
      ]
    },
    {
      "cell_type": "code",
      "metadata": {
        "id": "ZIwkj9zDFY1g"
      },
      "source": [
        "# First we will determine the average BER_class for each Location.\n",
        "# This approach was taken because many locations have a mix of BER ratings (determined from analysis)\n",
        "# but are, in general, either new development areas or mature development areas and as such \n",
        "# are likely to have ratings within a range based on maturity of the location as a whole.\n",
        "\n",
        "# Determine the average BER_class rating by location\n",
        "feat = ['Location', 'BER_class']\n",
        "train_feat = df_train_2[feat]\n",
        "test_feat =  df_test_2[feat]\n",
        "train_test_stack = pd.concat([train_feat, test_feat])\n",
        "\n",
        "average_vals = train_test_stack.groupby(['Location'], dropna=True)['BER_class'].mean().round()\n"
      ],
      "execution_count": 26,
      "outputs": []
    },
    {
      "cell_type": "markdown",
      "metadata": {
        "id": "rQzYXEgixIox"
      },
      "source": [
        "**Comment** The code above creates a lookup of Average BER_class by Location. However, this is not a perfect lookup as there are several locations in the combined Training and Test datasets that have only one property in certain locations and these properties have a NaN value for BER_class. This means that the lookup will not be able to replace these NaNs with an average. Tests have shown that the effect is limited and the BER_class is improved from 15.4% missing values to 0.1% missing values. "
      ]
    },
    {
      "cell_type": "code",
      "metadata": {
        "id": "7g9ccilmcw_m"
      },
      "source": [
        "# Look for NaNs and replace them with the average for the given location\n",
        "import math\n",
        "\n",
        "def impute_ber(data):\n",
        "  for index, row in data.iterrows():\n",
        "    if math.isnan(row['BER_class']): \n",
        "      loc = row['Location']\n",
        "      lookup_ber = average_vals.loc[loc]\n",
        "      data.loc[index, \"BER_class\"] = lookup_ber\n",
        "  return data"
      ],
      "execution_count": 27,
      "outputs": []
    },
    {
      "cell_type": "code",
      "metadata": {
        "id": "2HGvWNPxRUof"
      },
      "source": [
        "# Impute BER_class on training data\n",
        "ber_tr_values = impute_ber(loc_ber_train_values)\n",
        "\n",
        "# Impute BER_class on test data\n",
        "ber_ts_values = impute_ber(loc_ber_test_values)\n",
        "\n",
        "# There are still a very small number (2 in both training and test datsets) of NaNs due to single properties in locations that have NaNs and therefore could not be averaged\n",
        "# We will apply an average over the entire feature for BER_class to populate these\n",
        "ber_tr_values['BER_class'].fillna((ber_tr_values['BER_class'].mean()), inplace=True)\n",
        "ber_ts_values['BER_class'].fillna((ber_ts_values['BER_class'].mean()), inplace=True)\n",
        "\n",
        "# We can apply the standard scaler to each of the training and test set BER_class features\n",
        "ber_tr_values[['BER_class']] = standardscaler.fit_transform(ber_tr_values[['BER_class']])\n",
        "ber_ts_values[['BER_class']] = standardscaler.fit_transform(ber_ts_values[['BER_class']])\n",
        "\n",
        "# Then we insert these columns back into the df_train and df_test datasets\n",
        "df_train['BER_class'] = ber_tr_values['BER_class']\n",
        "df_test['BER_class'] = ber_ts_values['BER_class']"
      ],
      "execution_count": 28,
      "outputs": []
    },
    {
      "cell_type": "code",
      "metadata": {
        "colab": {
          "base_uri": "https://localhost:8080/",
          "height": 0
        },
        "id": "MVFbKXYlaJna",
        "outputId": "165135ed-a64a-4510-e17b-ae1966ffe97c"
      },
      "source": [
        "# Let's test for any performance changes with the XGBoost Model\n",
        "\n",
        "# Remove 'Type' from dataset as it does not appear to be too important\n",
        "features = ['Location', 'Num_Bathrooms', 'Num_Beds', 'BER_class',\n",
        "                        'Latitude', 'Longitude', 'Surface','Price']\n",
        "\n",
        "df_train_xgb = df_train[features]\n",
        "X_train_xgb = df_train_xgb.iloc[:,0:-1].values \n",
        "y_train_xgb = df_train_xgb.iloc[:,-1].values.reshape(-1,1)  \n",
        "\n",
        "# Call XGBoost Model for each dataset\n",
        "Model_Full, RMSE_xgb_train_full, r2_xgb_train_full = xgb_model(X_train_xgb, y_train_xgb, \"Performance Evaluation for Full Training Set\")\n"
      ],
      "execution_count": 29,
      "outputs": [
        {
          "output_type": "stream",
          "name": "stdout",
          "text": [
            "Performance Evaluation for Full Training Set\n",
            "RMSE_score: 0.0410   R2_score: 0.9983\n"
          ]
        }
      ]
    },
    {
      "cell_type": "markdown",
      "metadata": {
        "id": "tzW8dKSMd7dc"
      },
      "source": [
        "**Comment** The performance of the XGBoost Model has not shown much improvement with the imputing of missing BER_values. However, that is expected as XGBoost handles missing values by default. We expect to see no great impact on the model, but no deterioration."
      ]
    },
    {
      "cell_type": "code",
      "metadata": {
        "colab": {
          "base_uri": "https://localhost:8080/",
          "height": 404
        },
        "id": "feqaggUld5Vs",
        "outputId": "cf8aabee-447b-4b4c-bb41-b3dc8de3674f"
      },
      "source": [
        "# Plot the Feature Importance to see what the impact of imputing BER_class has been\n",
        "fig, ax = plt.subplots(figsize=(12, 6))\n",
        "\n",
        "Model_Full.get_booster().feature_names = features[:-1]\n",
        "xgb.plot_importance(Model_Full, max_num_features= 7, ax=ax, importance_type=\"weight\")\n",
        "plt.show()"
      ],
      "execution_count": 30,
      "outputs": [
        {
          "output_type": "display_data",
          "data": {
            "image/png": "[encoded data removed]",
            "text/plain": [
              "<Figure size 864x432 with 1 Axes>"
            ]
          },
          "metadata": {
            "needs_background": "light"
          }
        }
      ]
    },
    {
      "cell_type": "markdown",
      "metadata": {
        "id": "yX3llkLheaDy"
      },
      "source": [
        "**Comment** As mentioned above, we expect to see no great change from in either BER_class feature importance. Key here is the model performs well with the newly processed data and that is confirmed. We want to process the data to perform well with models that do not handle missing data well and that is what we have done here."
      ]
    },
    {
      "cell_type": "markdown",
      "metadata": {
        "id": "kv89CagzfFWF"
      },
      "source": [
        "The training and test datasets have been fully processed by removing unnecessary columns, removing erroneous records, scaling and imputing values to provide complete datasets ready for further processing."
      ]
    },
    {
      "cell_type": "markdown",
      "metadata": {
        "id": "5iBxEe-2fgNs"
      },
      "source": [
        "**Comment** key to note here is the scales on all features are within similar ranges and not with large differences."
      ]
    },
    {
      "cell_type": "markdown",
      "metadata": {
        "id": "G5oRiZxo2gpN"
      },
      "source": [
        "# NATURAL LANGUAGE PROCESSING"
      ]
    },
    {
      "cell_type": "markdown",
      "metadata": {
        "id": "e8s0Wi3a8yjN"
      },
      "source": [
        "Natural language processing ([NLP](https://en.wikipedia.org/wiki/Natural_language_processing)) is a subfield of linguistics, computer science, and artificial intelligence.\n",
        "\n",
        "* NLP concerned with the interactions between computers and human language.\n",
        "* In particular how to program computers to process and analyze large amounts of natural language data. \n",
        "* The goal is a computer capable of \"understanding\" the contents of documents.\n",
        "* Including the contextual nuances of the language within them. \n",
        "* The technology can then accurately extract information and insights contained in the documents.\n",
        "* As well as categorize and organize the documents themselves. "
      ]
    },
    {
      "cell_type": "markdown",
      "metadata": {
        "id": "oValFP-z2gpN"
      },
      "source": [
        "For this section, we will process the two textual features using NLP techniqus. The two textual features are:\n",
        "\n",
        "1. Description\n",
        "\n",
        "2. Features\n",
        "\n",
        "We are looking to see if these features have an impact on price. There maybe some words or phrases (bi- or tri-grams) that may influence the Price paid for the propertes. This is interesting because these are typically used by sellers or estate agents to describe the property for sale. The use of descriptions like this, as well as more detail on features of the property, are likely to influence buyers, so we will test this."
      ]
    },
    {
      "cell_type": "markdown",
      "metadata": {
        "id": "__2NJo1HSWkF"
      },
      "source": [
        "### Approach to using NLP to increase the performance of the datasets\n",
        "There are many options available to using NLP to process text data. For the current exercise, I will look at using NLP to provide additional features that may enhance the results and increase performance of the prediction models.\n",
        "\n",
        "The approach will take the follow steps\n",
        "1. Process 'Description' and 'Features' features to extract relevant words or phrases (n-grams). **Note**: It has been observed that these features, especially 'Description' can have similar text content. An initial review has also found descriptions of property features in the 'Description' field and \"None\" in the 'Features' field. This will be mitigated by combining these textual fields for processing.\n",
        "\n",
        "2. Combine 'Description' and 'Features' fields and process by removing extraneous content such as numbers, punctuation, stopwords, etc and then Stemming, Lemmatizing, etc. to produce clean textual content.\n",
        "\n",
        "3. Apply TF-IDF to extract the most important words and phrases across the textual corpus.\n",
        "\n",
        "4. Order and select the top X number of words and phrases and create new features from them on the datasets, i.e. 'has_Parking', 'has_Garden', 'local_Amenities', etc.\n",
        "\n",
        "5. Process each property record in both Training and Test datasets to update these features with [0, 1] if any of the words or phrases are present in the text of the record/sample.\n",
        "\n",
        "6. This will provide additional features to train on - I will train on a full set of features on both Bayes Regression Model and Bayes Neural Network.\n",
        "\n",
        "7. I will also see if these features change the Feature Importance selected by XGBoost.\n",
        "\n",
        "8. Overall performance improvement will be evaluated across models with/without these new features."
      ]
    },
    {
      "cell_type": "markdown",
      "metadata": {
        "id": "EtzVO6GWJVeM"
      },
      "source": [
        "## Word Counting in Property Corpus"
      ]
    },
    {
      "cell_type": "code",
      "metadata": {
        "colab": {
          "base_uri": "https://localhost:8080/",
          "height": 0
        },
        "id": "bX15hme1jp1Y",
        "outputId": "dacc04c4-f394-4360-91ec-2470855a7e80"
      },
      "source": [
        "# Set up the various components of the NLP processing code\n",
        "\n",
        "from nltk.tokenize import word_tokenize  \n",
        "from nltk.stem import WordNetLemmatizer\n",
        "from nltk.stem.porter import *\n",
        "nltk.download('punkt')\n",
        "nltk.download('wordnet')\n",
        "import nltk\n",
        "nltk.download('stopwords')"
      ],
      "execution_count": 31,
      "outputs": [
        {
          "output_type": "stream",
          "name": "stdout",
          "text": [
            "[nltk_data] Downloading package punkt to /root/nltk_data...\n",
            "[nltk_data]   Unzipping tokenizers/punkt.zip.\n",
            "[nltk_data] Downloading package wordnet to /root/nltk_data...\n",
            "[nltk_data]   Unzipping corpora/wordnet.zip.\n",
            "[nltk_data] Downloading package stopwords to /root/nltk_data...\n",
            "[nltk_data]   Unzipping corpora/stopwords.zip.\n"
          ]
        },
        {
          "output_type": "execute_result",
          "data": {
            "text/plain": [
              "True"
            ]
          },
          "metadata": {},
          "execution_count": 31
        }
      ]
    },
    {
      "cell_type": "code",
      "metadata": {
        "id": "e_WND6NP2gpN"
      },
      "source": [
        "# Define a text preprocessing function\n",
        "\n",
        "def nlp_preprocess(text):\n",
        " \n",
        "  text = text.lower() # set all text to lower case\n",
        "\n",
        "  string = re.sub('[^a-zA-Z]', ' ', text) # extract only words from text\n",
        "\n",
        "  text = \" \".join(string.split()) # split text into words\n",
        "\n",
        "  shortword = re.compile(r'\\W*\\b\\w{1,2}\\b') # remove single or double letter words\n",
        "  text = (shortword.sub('', text))\n",
        "\n",
        "  # 1. Tokenization\n",
        "  NLP_token = word_tokenize(text) # Tokenise the words\n",
        "\n",
        "  # 3. Lemmatization\n",
        "  WL = WordNetLemmatizer()\n",
        "  NLP_lemma = []\n",
        "  for word in NLP_token:\n",
        "  #for word in NLP_stem:\n",
        "      NLP_lemma.append(WL.lemmatize(word))\n",
        "  \n",
        "  # 4. Stopword   \n",
        "  FS = []  \n",
        "  NLP_stop = set(stopwords.words(\"english\"))\n",
        "  for w in NLP_lemma:  \n",
        "      if w not in NLP_stop:  \n",
        "        FS.append(w)\n",
        "  \n",
        "  # 5. Punctuation  \n",
        "  punctuations = \"?:!.,;\"\n",
        "  for word in FS:\n",
        "      if word in punctuations:\n",
        "          FS.remove(word)\n",
        "             \n",
        "  return FS"
      ],
      "execution_count": 32,
      "outputs": []
    },
    {
      "cell_type": "code",
      "metadata": {
        "id": "STw0y9njNMxE"
      },
      "source": [
        "# Function to count words in text corpi\n",
        "\n",
        "def count_words(text):\n",
        "  for word in text:\n",
        "    if word not in list(word_counts.keys()): word_counts.update({word:1})\n",
        "    else: word_counts[word] += 1\n",
        "  return word_counts"
      ],
      "execution_count": 33,
      "outputs": []
    },
    {
      "cell_type": "code",
      "metadata": {
        "id": "NRSQz955j8Gx"
      },
      "source": [
        "# Firstly, let's add back the \"Description\" and \"Features\" columns to the df_train and df_test datsets\n",
        "\n",
        "df_train['Desc_Feat'] = train_data['Description'] + ' ' + train_data['Features']\n",
        "\n",
        "df_test['Desc_Feat'] = train_data['Description'] +' ' + train_data['Features']\n"
      ],
      "execution_count": 34,
      "outputs": []
    },
    {
      "cell_type": "code",
      "metadata": {
        "id": "1wwg0XFwR1Zm"
      },
      "source": [
        "# Generate the list of words sorted by count of word occurrences\n",
        "word_counts={}\n",
        "\n",
        "n = df_train.shape[0]\n",
        "for p in range(n):\n",
        "  text= nlp_preprocess((df_train.iloc[p]['Desc_Feat']))\n",
        "  count_words(text)\n",
        "\n",
        "sorted_words = dict(sorted(word_counts.items(), key=lambda x: x[1], reverse=True))"
      ],
      "execution_count": 35,
      "outputs": []
    },
    {
      "cell_type": "code",
      "metadata": {
        "id": "fwIKX04Dfnvm"
      },
      "source": [
        "# Create a DataFrame from the sorted list of words by word occurrences\n",
        "# Select just top 120 values\n",
        "\n",
        "words = list(sorted_words.keys())[0:120]\n",
        "count = list(sorted_words.values())[0:120]\n",
        "\n",
        "df_wdcount=pd.DataFrame(words, columns=['Words'])\n",
        "df_wdcount['Counts'] = count"
      ],
      "execution_count": 36,
      "outputs": []
    },
    {
      "cell_type": "code",
      "metadata": {
        "colab": {
          "base_uri": "https://localhost:8080/",
          "height": 737
        },
        "id": "4feK6VMSXBqw",
        "outputId": "a4e91325-6cb0-4948-af4b-376595678185"
      },
      "source": [
        "# Plot the list of words by word accurences acorss all the prperty records\n",
        "\n",
        "plt.figure(figsize=(20, 8))\n",
        "ax = sn.barplot(x='Words', y='Counts', data=df_wdcount, order=df_wdcount.sort_values('Counts', ascending=False).Words)\n",
        "plt.xticks(rotation=90)"
      ],
      "execution_count": 37,
      "outputs": [
        {
          "output_type": "execute_result",
          "data": {
            "text/plain": [
              "(array([  0,   1,   2,   3,   4,   5,   6,   7,   8,   9,  10,  11,  12,\n",
              "         13,  14,  15,  16,  17,  18,  19,  20,  21,  22,  23,  24,  25,\n",
              "         26,  27,  28,  29,  30,  31,  32,  33,  34,  35,  36,  37,  38,\n",
              "         39,  40,  41,  42,  43,  44,  45,  46,  47,  48,  49,  50,  51,\n",
              "         52,  53,  54,  55,  56,  57,  58,  59,  60,  61,  62,  63,  64,\n",
              "         65,  66,  67,  68,  69,  70,  71,  72,  73,  74,  75,  76,  77,\n",
              "         78,  79,  80,  81,  82,  83,  84,  85,  86,  87,  88,  89,  90,\n",
              "         91,  92,  93,  94,  95,  96,  97,  98,  99, 100, 101, 102, 103,\n",
              "        104, 105, 106, 107, 108, 109, 110, 111, 112, 113, 114, 115, 116,\n",
              "        117, 118, 119]), <a list of 120 Text major ticklabel objects>)"
            ]
          },
          "metadata": {},
          "execution_count": 37
        },
        {
          "output_type": "display_data",
          "data": {
            "image/png": "[encoded data removed]",
            "text/plain": [
              "<Figure size 1440x576 with 1 Axes>"
            ]
          },
          "metadata": {
            "needs_background": "light"
          }
        }
      ]
    },
    {
      "cell_type": "markdown",
      "metadata": {
        "id": "sPhTqy9fmYPU"
      },
      "source": [
        "### Word Occurrence Plot\n",
        "**Analysis** This plot of Word Occurrence in the corpus of text provides us with an view on recurring words in the description+feature text describing the properties. Recurring descriptive words are important as they are used by estate agents to differentiate properties and attract buyers. Many word are typically used by estate agents and they have a lexicon that they use for advertisements. \n",
        "\n",
        "However, the word occurrence, while important, does not tell the whole story. Recurring words may not differentiate properties in a large list of properties. Very common words may not attract attention to buy or have an impact on price, which is what we are predicting here. To augment our analysis, we will also look at TF-IDF to identify important words within the property descriptions."
      ]
    },
    {
      "cell_type": "markdown",
      "metadata": {
        "id": "x4MZ6EfhJbPl"
      },
      "source": [
        "## Term Frequency-Inverse Document Frequency (TF-IDF) in Property Corpus"
      ]
    },
    {
      "cell_type": "code",
      "metadata": {
        "colab": {
          "base_uri": "https://localhost:8080/",
          "height": 0
        },
        "id": "29d8i9hEiD2v",
        "outputId": "149708d7-322e-4fd5-a176-6267235c7c89"
      },
      "source": [
        "df_train.columns"
      ],
      "execution_count": 38,
      "outputs": [
        {
          "output_type": "execute_result",
          "data": {
            "text/plain": [
              "Index(['Index', 'Location', 'Num_Bathrooms', 'Num_Beds', 'BER_class',\n",
              "       'Description', 'Features', 'Latitude', 'Longitude', 'Surface', 'Price',\n",
              "       'Type_apartment', 'Type_bungalow', 'Type_detached', 'Type_duplex',\n",
              "       'Type_end-of-terrace', 'Type_semi-detached', 'Type_site', 'Type_studio',\n",
              "       'Type_terraced', 'Type_townhouse', 'Desc_Feat'],\n",
              "      dtype='object')"
            ]
          },
          "metadata": {},
          "execution_count": 38
        }
      ]
    },
    {
      "cell_type": "code",
      "metadata": {
        "id": "BnENpKBNhfdA"
      },
      "source": [
        "# Test out TF-IDF on the corpus of Description+Features\n",
        "# Preprocess the data first ... although for TF-IDF it would push common words down the list anyway, but for simplicity we remove them\n",
        "\n",
        "corpus = []\n",
        "n = df_train.shape[0]\n",
        "for p in range(n):\n",
        "  text = nlp_preprocess((df_train.iloc[p]['Desc_Feat']))\n",
        "  corpus.append(\" \".join(text))"
      ],
      "execution_count": 39,
      "outputs": []
    },
    {
      "cell_type": "code",
      "metadata": {
        "colab": {
          "base_uri": "https://localhost:8080/",
          "height": 0
        },
        "id": "2s8g32qDqRi-",
        "outputId": "03224084-e011-4205-c3db-6682a9a3b64f"
      },
      "source": [
        "# Apply TF-IDF to the corpus of text across all property records\n",
        "# This approach will provide us with another list, but this time rather than just calculating common words\n",
        "# we will calculate using TF-IDF hwo important words are to the corpus of documents\n",
        "\n",
        "from sklearn.feature_extraction.text import TfidfTransformer\n",
        "from sklearn.feature_extraction.text import CountVectorizer\n",
        "\n",
        "tfidfTransform = TfidfTransformer(use_idf=True)\n",
        "CV = CountVectorizer()\n",
        "word_count = CV.fit_transform(corpus)\n",
        "tf_idf = tfidfTransform.fit_transform(word_count)\n",
        "df = pd.DataFrame(tf_idf[0].T.todense(), index=CV.get_feature_names(), columns=['tfidf'])\n",
        "df = df.sort_values('tfidf', ascending=False)\n",
        "print(df.head(120))"
      ],
      "execution_count": 40,
      "outputs": [
        {
          "output_type": "stream",
          "name": "stdout",
          "text": [
            "                  tfidf\n",
            "extensively    0.333659\n",
            "chipping       0.312013\n",
            "row            0.283394\n",
            "bedroom        0.168313\n",
            "apartment      0.159009\n",
            "...                 ...\n",
            "school         0.034877\n",
            "home           0.034100\n",
            "location       0.032385\n",
            "accommodation  0.027935\n",
            "peninsula      0.000000\n",
            "\n",
            "[120 rows x 1 columns]\n"
          ]
        }
      ]
    },
    {
      "cell_type": "code",
      "metadata": {
        "id": "_KnMBPH2txxZ"
      },
      "source": [
        "# Reset the index of the dataframe and rename the index to make it easier to plot.\n",
        "\n",
        "df.reset_index(inplace=True)\n",
        "df_150=df.loc[1:150] # select 150 words from the dataframe\n",
        "df_150_words = df_150.rename(columns={\"index\":\"words\"})"
      ],
      "execution_count": 41,
      "outputs": []
    },
    {
      "cell_type": "code",
      "metadata": {
        "colab": {
          "base_uri": "https://localhost:8080/",
          "height": 788
        },
        "id": "oi-2LADErqwA",
        "outputId": "073bf248-63f3-4ec1-db57-ddfba67d5977"
      },
      "source": [
        "# Plot ordered list of words by TF-IDF score\n",
        "\n",
        "plt.figure(figsize=(20, 8))\n",
        "ax = sn.barplot(x='words', y='tfidf', data=df_150_words, order=df_150_words.sort_values('tfidf', ascending=False).words)\n",
        "plt.xticks(rotation=90)"
      ],
      "execution_count": 42,
      "outputs": [
        {
          "output_type": "execute_result",
          "data": {
            "text/plain": [
              "(array([  0,   1,   2,   3,   4,   5,   6,   7,   8,   9,  10,  11,  12,\n",
              "         13,  14,  15,  16,  17,  18,  19,  20,  21,  22,  23,  24,  25,\n",
              "         26,  27,  28,  29,  30,  31,  32,  33,  34,  35,  36,  37,  38,\n",
              "         39,  40,  41,  42,  43,  44,  45,  46,  47,  48,  49,  50,  51,\n",
              "         52,  53,  54,  55,  56,  57,  58,  59,  60,  61,  62,  63,  64,\n",
              "         65,  66,  67,  68,  69,  70,  71,  72,  73,  74,  75,  76,  77,\n",
              "         78,  79,  80,  81,  82,  83,  84,  85,  86,  87,  88,  89,  90,\n",
              "         91,  92,  93,  94,  95,  96,  97,  98,  99, 100, 101, 102, 103,\n",
              "        104, 105, 106, 107, 108, 109, 110, 111, 112, 113, 114, 115, 116,\n",
              "        117, 118, 119, 120, 121, 122, 123, 124, 125, 126, 127, 128, 129,\n",
              "        130, 131, 132, 133, 134, 135, 136, 137, 138, 139, 140, 141, 142,\n",
              "        143, 144, 145, 146, 147, 148, 149]),\n",
              " <a list of 150 Text major ticklabel objects>)"
            ]
          },
          "metadata": {},
          "execution_count": 42
        },
        {
          "output_type": "display_data",
          "data": {
            "image/png": "[encoded data removed]",
            "text/plain": [
              "<Figure size 1440x576 with 1 Axes>"
            ]
          },
          "metadata": {
            "needs_background": "light"
          }
        }
      ]
    },
    {
      "cell_type": "markdown",
      "metadata": {
        "id": "rBtOZYlz_flm"
      },
      "source": [
        "### Term Frequency - Inverse Document Frequency (TF-IDF) Plot\n",
        "**Analysis** This plot differs from the pure word count plot above. It provides a visual of the words that are most important to the corpus of data. You can see the words order by *how important they are* with words that are very common, i.e. recur very frequenetly in the property descriptions, set to '0' - this can be seen by the suddent drop after the word \"accomodation\".\n",
        "\n",
        "A good description of how TF-IDF works can be found in the text by Silge and Robinson (2021) and Chaudhary (2020).\n"
      ]
    },
    {
      "cell_type": "code",
      "metadata": {
        "colab": {
          "base_uri": "https://localhost:8080/"
        },
        "id": "0-AqlnL5C8vl",
        "outputId": "840286d2-1acd-4ddc-ad19-7181d1849b65"
      },
      "source": [
        "# Prints word position for analysis below\n",
        "\n",
        "print (df_150_words[df_150_words['words'] == \"amenity\"])\n",
        "\n",
        "print (df_wdcount[df_wdcount['Words'] == \"amenity\"])"
      ],
      "execution_count": null,
      "outputs": [
        {
          "output_type": "stream",
          "name": "stdout",
          "text": [
            "Empty DataFrame\n",
            "Columns: [words, tfidf]\n",
            "Index: []\n",
            "      Words  Counts\n",
            "47  amenity    1577\n"
          ]
        }
      ]
    },
    {
      "cell_type": "markdown",
      "metadata": {
        "id": "g9BbWfW_CRpM"
      },
      "source": [
        "### How do we create new features from this information?\n",
        "With the Word Occurrence and TF-IDF information we can now apply an heuristic approach to determine the new features.\n",
        "Neither plots provides us with all the information but given an understanding of what is important for prospective home buyers (or investors as the case may be), we can say:\n",
        "\n",
        "1. Having a garden is an important feature of a house but not an apartment. The word 'garden' appears a lot (high on Word Occurrence and low (< 7000) on TF-IDF). Given this we can assume that 'garden' is not a major differentiator in general but it is an important consideration to *generalise* our model\n",
        "\n",
        "2. Parking appears quite high in both word occurrence and TF-IDF score. It is clearly important for both house and apartment buyers. We will include this as one of our features\n",
        "\n",
        "3. School also appears on both plots: word occurrence (46) and TF-IDF (115). For families we know that this is important. Families live in both houses and apartments and it can be a deciding factor\n",
        "\n",
        "4. Public Transport appears as \"transport\" in TF-IDF and as \"bus\" in word count. Based on knowledge that public transport is important in Dublin, we can take these values as important features.\n",
        "\n",
        "5. Local Amenities appear in both lists of words as \"amentity\", \"restaurant\", \"pharmacy\", \"supermarket. These are key both from the position on both plots and heuristic domain knowledge.\n",
        "\n",
        "With these findings, we can now search the individual words in each property record looking for these words and setting [0] if it does not occur and [1] if it does for the following nw features:\n",
        "\n",
        "1. has_Garden\n",
        "2. has_Parking\n",
        "3. local_School (close to schools to include \"school\", \"secondary\", \"primary\")\n",
        "4. local_Transport (to include \"transport\", \"bus\")\n",
        "5. local_Amenities (to include \"amenity\", \"shop\", \"shopping\", \"restaurant\", \"supermarket\")\n"
      ]
    },
    {
      "cell_type": "markdown",
      "metadata": {
        "id": "j7Tz87rlKhlS"
      },
      "source": [
        "### Create new features from above rules"
      ]
    },
    {
      "cell_type": "code",
      "metadata": {
        "id": "21EaNbnyYWJp"
      },
      "source": [
        "# Reload the data to ensure we are working with clean datasets\n",
        "\n",
        "path = '/content/sample_data/'\n",
        "\n",
        "# Due to formatting issues, I found that explicitly defining features of interest and omitting ones that are problematic was useful\n",
        "\n",
        "train_file = path+'HousePrice_Train.csv'\n",
        "test_file = path+'HousePrice_Test.csv'\n",
        "\n",
        "# Import the data, while excluding 'features' and 'description_block' explicitly on import\n",
        "train_data = pd.read_csv(train_file)\n",
        "test_data = pd.read_csv(test_file)"
      ],
      "execution_count": 43,
      "outputs": []
    },
    {
      "cell_type": "code",
      "metadata": {
        "id": "xdR9QJKEK5nE"
      },
      "source": [
        "# Create new features in training and test dataframes\n",
        "# Go back to original datasets: we will want to split them for performance testing on training and validation sets\n",
        "\n",
        "df_train = train_data.join(pd.DataFrame(\n",
        "    {\n",
        "        'has_Garden': 0,\n",
        "        'has_Parking': 0,\n",
        "        'local_School': 0,\n",
        "        'local_Transport': 0,\n",
        "        'local_Amenities': 0\n",
        "    }, index=train_data.index\n",
        "))"
      ],
      "execution_count": 44,
      "outputs": []
    },
    {
      "cell_type": "code",
      "metadata": {
        "id": "2a-sMpvyMytk"
      },
      "source": [
        "# Combine 'Description' and 'Features'\n",
        "\n",
        "df_train['Desc_Feat'] = df_train['Description'] + ' ' + df_train['Features']"
      ],
      "execution_count": 45,
      "outputs": []
    },
    {
      "cell_type": "code",
      "metadata": {
        "id": "8-e8P8zknc_O"
      },
      "source": [
        "# check if words are in a text\n",
        "\n",
        "def words_in_text(list, text):\n",
        "  return set(list).intersection(text)"
      ],
      "execution_count": 46,
      "outputs": []
    },
    {
      "cell_type": "code",
      "metadata": {
        "id": "p_L6T7iVOrnM"
      },
      "source": [
        "# Process the text descriptions in the new 'Desc_Feat' column for each property\n",
        "\n",
        "_Garden = [\"garden\"]\n",
        "_Parking = [\"parking\"]\n",
        "_localSchool = [\"school\", \"primary school\", \"secondary school\"]\n",
        "_localTransport = [\"transport\", \"bus\"]\n",
        "_localAmenities = [\"amenity\", \"shop\", \"shopping\", \"restaurant\", \"supermarket\", \"pharmacy\"]\n",
        "\n",
        "for index, row in df_train.iterrows():\n",
        "  descfeat = []\n",
        "  text = nlp_preprocess((df_train.iloc[index]['Desc_Feat']))\n",
        "  descfeat.append(\" \".join(text))\n",
        "\n",
        "  # check for key keywords to set the new features\n",
        "  if words_in_text(_Garden, text): df_train.loc[index, \"has_Garden\"] = 1\n",
        "  if words_in_text(_Parking, text): df_train.loc[index, \"has_Parking\"] = 1\n",
        "  if words_in_text(_localSchool, text): df_train.loc[index, \"local_School\"] = 1\n",
        "  if words_in_text(_localTransport, text): df_train.loc[index, \"local_Transport\"] = 1\n",
        "  if words_in_text(_localAmenities, text): df_train.loc[index, \"local_Amenities\"] = 1"
      ],
      "execution_count": 47,
      "outputs": []
    },
    {
      "cell_type": "code",
      "metadata": {
        "id": "ZqXhzFpKOJMI"
      },
      "source": [
        "# Drop these columns from the datasets; they are no longer needed\n",
        "\n",
        "df_train.drop(columns=['Description', 'Features', 'Desc_Feat'], inplace=True)"
      ],
      "execution_count": 48,
      "outputs": []
    },
    {
      "cell_type": "code",
      "metadata": {
        "colab": {
          "base_uri": "https://localhost:8080/",
          "height": 258
        },
        "id": "Jk3FVvoDzOtH",
        "outputId": "7b99f1cf-b191-4015-f666-25fc18223570"
      },
      "source": [
        "df_train.head()"
      ],
      "execution_count": 49,
      "outputs": [
        {
          "output_type": "execute_result",
          "data": {
            "text/html": [
              "<div>\n",
              "<style scoped>\n",
              "    .dataframe tbody tr th:only-of-type {\n",
              "        vertical-align: middle;\n",
              "    }\n",
              "\n",
              "    .dataframe tbody tr th {\n",
              "        vertical-align: top;\n",
              "    }\n",
              "\n",
              "    .dataframe thead th {\n",
              "        text-align: right;\n",
              "    }\n",
              "</style>\n",
              "<table border=\"1\" class=\"dataframe\">\n",
              "  <thead>\n",
              "    <tr style=\"text-align: right;\">\n",
              "      <th></th>\n",
              "      <th>Index</th>\n",
              "      <th>ID</th>\n",
              "      <th>Location</th>\n",
              "      <th>Num_Bathrooms</th>\n",
              "      <th>Num_Beds</th>\n",
              "      <th>BER_class</th>\n",
              "      <th>Services</th>\n",
              "      <th>Latitude</th>\n",
              "      <th>Longitude</th>\n",
              "      <th>Type</th>\n",
              "      <th>Surface</th>\n",
              "      <th>Price</th>\n",
              "      <th>has_Garden</th>\n",
              "      <th>has_Parking</th>\n",
              "      <th>local_School</th>\n",
              "      <th>local_Transport</th>\n",
              "      <th>local_Amenities</th>\n",
              "    </tr>\n",
              "  </thead>\n",
              "  <tbody>\n",
              "    <tr>\n",
              "      <th>0</th>\n",
              "      <td>1</td>\n",
              "      <td>12409116</td>\n",
              "      <td>Ongar</td>\n",
              "      <td>2</td>\n",
              "      <td>2</td>\n",
              "      <td>C3</td>\n",
              "      <td>NaN</td>\n",
              "      <td>53.396659</td>\n",
              "      <td>-6.438791</td>\n",
              "      <td>apartment</td>\n",
              "      <td>67.00</td>\n",
              "      <td>195000</td>\n",
              "      <td>0</td>\n",
              "      <td>1</td>\n",
              "      <td>1</td>\n",
              "      <td>1</td>\n",
              "      <td>1</td>\n",
              "    </tr>\n",
              "    <tr>\n",
              "      <th>1</th>\n",
              "      <td>2</td>\n",
              "      <td>12320330</td>\n",
              "      <td>North Strand</td>\n",
              "      <td>1</td>\n",
              "      <td>2</td>\n",
              "      <td>D1</td>\n",
              "      <td>NaN</td>\n",
              "      <td>53.357129</td>\n",
              "      <td>-6.239779</td>\n",
              "      <td>terraced</td>\n",
              "      <td>95.97</td>\n",
              "      <td>425000</td>\n",
              "      <td>1</td>\n",
              "      <td>0</td>\n",
              "      <td>1</td>\n",
              "      <td>0</td>\n",
              "      <td>1</td>\n",
              "    </tr>\n",
              "    <tr>\n",
              "      <th>2</th>\n",
              "      <td>3</td>\n",
              "      <td>12405953</td>\n",
              "      <td>Stepaside</td>\n",
              "      <td>3</td>\n",
              "      <td>3</td>\n",
              "      <td>A3</td>\n",
              "      <td>NaN</td>\n",
              "      <td>53.266468</td>\n",
              "      <td>-6.222771</td>\n",
              "      <td>semi-detached</td>\n",
              "      <td>107.00</td>\n",
              "      <td>535000</td>\n",
              "      <td>1</td>\n",
              "      <td>1</td>\n",
              "      <td>1</td>\n",
              "      <td>1</td>\n",
              "      <td>1</td>\n",
              "    </tr>\n",
              "    <tr>\n",
              "      <th>3</th>\n",
              "      <td>4</td>\n",
              "      <td>12202582</td>\n",
              "      <td>Cabinteely</td>\n",
              "      <td>1</td>\n",
              "      <td>3</td>\n",
              "      <td>E1</td>\n",
              "      <td>NaN</td>\n",
              "      <td>53.261600</td>\n",
              "      <td>-6.166738</td>\n",
              "      <td>detached</td>\n",
              "      <td>81.00</td>\n",
              "      <td>499000</td>\n",
              "      <td>1</td>\n",
              "      <td>1</td>\n",
              "      <td>1</td>\n",
              "      <td>1</td>\n",
              "      <td>1</td>\n",
              "    </tr>\n",
              "    <tr>\n",
              "      <th>4</th>\n",
              "      <td>5</td>\n",
              "      <td>12299336</td>\n",
              "      <td>Lusk</td>\n",
              "      <td>3</td>\n",
              "      <td>4</td>\n",
              "      <td>D1</td>\n",
              "      <td>NaN</td>\n",
              "      <td>53.550731</td>\n",
              "      <td>-6.121415</td>\n",
              "      <td>detached</td>\n",
              "      <td>153.00</td>\n",
              "      <td>510000</td>\n",
              "      <td>1</td>\n",
              "      <td>0</td>\n",
              "      <td>1</td>\n",
              "      <td>0</td>\n",
              "      <td>0</td>\n",
              "    </tr>\n",
              "  </tbody>\n",
              "</table>\n",
              "</div>"
            ],
            "text/plain": [
              "   Index        ID  ... local_Transport  local_Amenities\n",
              "0      1  12409116  ...               1                1\n",
              "1      2  12320330  ...               0                1\n",
              "2      3  12405953  ...               1                1\n",
              "3      4  12202582  ...               1                1\n",
              "4      5  12299336  ...               0                0\n",
              "\n",
              "[5 rows x 17 columns]"
            ]
          },
          "metadata": {},
          "execution_count": 49
        }
      ]
    },
    {
      "cell_type": "markdown",
      "metadata": {
        "id": "lm0SiGU5sgxp"
      },
      "source": [
        "### Comments on New Features for datasets\n",
        "Now we have added five new features to the property datasets. Before we take the next step to train and test ML Models, I will quickly take a look to see if these features have impacted Feature Importance order."
      ]
    },
    {
      "cell_type": "markdown",
      "metadata": {
        "id": "JLvIdbY6DZo_"
      },
      "source": [
        "### Pipeline Function\n",
        "Firstly we create pipeline functions to encapsulate the pre-processing steps before modelling."
      ]
    },
    {
      "cell_type": "code",
      "metadata": {
        "id": "riiimrmxW5ay"
      },
      "source": [
        "# Create a processing pipeline as a function\n",
        "\n",
        "def drop_outliers(dataset):\n",
        "\n",
        "  # Remove outliers for location that is not in Dublin\n",
        "  df_dataset = dataset.drop(dataset[(dataset.Longitude > -6) | (dataset.Latitude < 53)].index)\n",
        "\n",
        "  # Remove Surface values over 2000.\n",
        "  df_dataset = df_dataset.drop(df_dataset[df_dataset.Surface > 2000].index)\n",
        "\n",
        "  return df_dataset\n",
        "\n",
        "def process_dataset(dataset, exclude=\"None\"):\n",
        "\n",
        "  # Drop unimportant features\n",
        "  dataset.drop(['ID', 'Index', 'Services'], axis=1, inplace=True)\n",
        "\n",
        "  df_dataset = dataset.copy()\n",
        "\n",
        "  # Replace Locations with index value from 'unique_areas_index' lookup\n",
        "  df_dataset_1 = df_dataset.replace({'Location': unique_areas_index})\n",
        "\n",
        "  # Replace BER_class with index value from 'unique_ber_index'\n",
        "  df_dataset_2 = df_dataset_1.replace({'BER_class': unique_ber_index})\n",
        "\n",
        "  # One-hot-encode 'Type\n",
        "  if exclude == \"None\": \n",
        "    df_dataset_2 = pd.get_dummies(df_dataset_2, columns=['Type'])\n",
        "  else: df_dataset_2.drop(columns=['Type'], inplace=True)\n",
        "\n",
        "  df_dataset = df_dataset_2.copy()\n",
        "\n",
        "  # Take a copy of the Location and BER_class before applying further scaling\n",
        "\n",
        "  loc_ber_dataset_values = df_dataset[['Location', 'BER_class']].copy()\n",
        "\n",
        "  # Apply scalers to features\n",
        "  # Not a normal distribution so just scale with MinMax [0, 1]\n",
        "\n",
        "  minmax=MinMaxScaler()\n",
        "  standardscaler = StandardScaler()\n",
        "\n",
        "  df_dataset[['Location']] = minmax.fit_transform(df_dataset[['Location']])\n",
        "\n",
        "  # Deal with outliers with a Log Transform - later we will use Standard Scaler as well on some feature\n",
        "  df_dataset['Num_Bathrooms'] = np.log(df_dataset['Num_Bathrooms'].apply(pd.to_numeric))\n",
        "  df_dataset['Num_Beds'] = np.log(df_dataset['Num_Beds'].apply(pd.to_numeric))\n",
        "  df_dataset['Latitude'] = np.log(df_dataset['Latitude'].apply(pd.to_numeric))\n",
        "  df_dataset['Surface'] = np.log(df_dataset['Surface'].apply(pd.to_numeric))\n",
        "\n",
        "  # Standard scaler for normal distributions\n",
        "  df_dataset[['BER_class', 'Longitude', 'Latitude', 'Surface']] = standardscaler.fit_transform(df_dataset[['BER_class', 'Longitude', 'Latitude', 'Surface']])\n",
        "\n",
        "  # Impute BER_class\n",
        "  ber_values = impute_ber(loc_ber_dataset_values)\n",
        "\n",
        "  # There are still a very small number (2 in both training and test datsets) of NaNs due to single properties in locations that have NaNs and therefore could not be averaged\n",
        "  # We will apply an average over the entire feature for BER_class to populate these\n",
        "  ber_values['BER_class'].fillna((ber_values['BER_class'].mean()), inplace=True)\n",
        "\n",
        "  # We can apply the standard scaler to each of the training and test set BER_class features\n",
        "  ber_values[['BER_class']] = standardscaler.fit_transform(ber_values[['BER_class']])\n",
        "\n",
        "  # Then we insert these columns back into the df_train and df_test datasets\n",
        "  df_dataset['BER_class'] = ber_values['BER_class']\n",
        "\n",
        "  return df_dataset"
      ],
      "execution_count": 50,
      "outputs": []
    },
    {
      "cell_type": "code",
      "metadata": {
        "id": "t8hYK9LUwBNN"
      },
      "source": [
        "# Create a New Features pipeline as a function\n",
        "\n",
        "def new_features(data):\n",
        "\n",
        "  df_data = data.join(pd.DataFrame(\n",
        "    {\n",
        "        'has_Garden': 0,\n",
        "        'has_Parking': 0,\n",
        "        'local_School': 0,\n",
        "        'local_Transport': 0,\n",
        "        'local_Amenities': 0\n",
        "    }, index=data.index\n",
        "  ))\n",
        "\n",
        "  # Combine 'Description' and 'Features'\n",
        "  df_data['Desc_Feat'] = df_data['Description'] + ' ' + df_data['Features']\n",
        "\n",
        "  # Process the text descriptions in the new 'Desc_Feat' column for each property\n",
        "  _Garden = [\"garden\"]\n",
        "  _Parking = [\"parking\"]\n",
        "  _localSchool = [\"school\", \"primary school\", \"secondary school\"]\n",
        "  _localTransport = [\"transport\", \"bus\"]\n",
        "  _localAmenities = [\"amenity\", \"shop\", \"shopping\", \"restaurant\", \"supermarket\", \"pharmacy\"]\n",
        "\n",
        "  for idx, row in df_data.iterrows():\n",
        "    descfeat = []\n",
        "    text = nlp_preprocess((df_data.iloc[idx]['Desc_Feat']))\n",
        "    descfeat.append(\" \".join(text))\n",
        "\n",
        "    # check for key keywords to set the new features\n",
        "    if words_in_text(_Garden, text): df_data.loc[idx, \"has_Garden\"] = 1\n",
        "    if words_in_text(_Parking, text): df_data.loc[idx, \"has_Parking\"] = 1\n",
        "    if words_in_text(_localSchool, text): df_data.loc[idx, \"local_School\"] = 1\n",
        "    if words_in_text(_localTransport, text): df_data.loc[idx, \"local_Transport\"] = 1\n",
        "    if words_in_text(_localAmenities, text): df_data.loc[idx, \"local_Amenities\"] = 1\n",
        "\n",
        "  # Drop these columns from the dataset; they are no longer needed\n",
        "\n",
        "  df_data.drop(columns=['Description', 'Features', 'Desc_Feat'], inplace=True)\n",
        "\n",
        "  return df_data"
      ],
      "execution_count": 51,
      "outputs": []
    },
    {
      "cell_type": "code",
      "metadata": {
        "id": "lO-JIbHTh-2T"
      },
      "source": [
        "# Function to calculate MAPE\n",
        "\n",
        "def MAPE(y_pred, y):\n",
        "\n",
        "  sum = 0\n",
        "  n = len(y_pred)\n",
        "  for i in range(n):\n",
        "    sum = sum + abs(y_pred[i] - y[i])/y[i]\n",
        "  mape = sum/n\n",
        "  return mape"
      ],
      "execution_count": 52,
      "outputs": []
    },
    {
      "cell_type": "code",
      "metadata": {
        "id": "Jx3jDFZKEFJr"
      },
      "source": [
        "# Reload the data to ensure we are working with clean datsets\n",
        "\n",
        "path = '/content/sample_data/'\n",
        "\n",
        "# Due to formatting issues, I found that explicitly defining features of interest and omitting ones that are problematic was useful\n",
        "\n",
        "train_file = path+'HousePrice_Train.csv'\n",
        "test_file = path+'HousePrice_Test.csv'\n",
        "\n",
        "# Import the data, while excluding 'features' and 'description_block' explicitly on import\n",
        "train_data = pd.read_csv(train_file)\n",
        "test_data = pd.read_csv(test_file)"
      ],
      "execution_count": 53,
      "outputs": []
    },
    {
      "cell_type": "code",
      "metadata": {
        "id": "upRWkTLj197v"
      },
      "source": [
        "df_tr = drop_outliers(train_data)"
      ],
      "execution_count": 54,
      "outputs": []
    },
    {
      "cell_type": "code",
      "metadata": {
        "id": "2ktwMzkREHW3"
      },
      "source": [
        "# Separate the training dataset into Training and Validation Sets\n",
        "colnames = list(df_tr.columns)\n",
        "X = df_tr.iloc[:,0:-1].values \n",
        "y = df_tr.iloc[:,-1].values.reshape(-1,1)  "
      ],
      "execution_count": 55,
      "outputs": []
    },
    {
      "cell_type": "code",
      "metadata": {
        "id": "bBSTUR4_zB3j"
      },
      "source": [
        "# Split training data into training and validation sets\n",
        "\n",
        "X_train, X_val, y_train, y_val = train_test_split(X, y, test_size = 0.3, shuffle = False)"
      ],
      "execution_count": 56,
      "outputs": []
    },
    {
      "cell_type": "code",
      "metadata": {
        "id": "jLmMA2bvG2i1"
      },
      "source": [
        "# Convert numpy arrays to dataframes before processing\n",
        "\n",
        "X_df_tr = pd.DataFrame(X_train, columns=colnames[:-1])\n",
        "X_df_vl = pd.DataFrame(X_val, columns=colnames[:-1])"
      ],
      "execution_count": 57,
      "outputs": []
    },
    {
      "cell_type": "code",
      "metadata": {
        "id": "l27DWK7xn6iC"
      },
      "source": [
        "# save features of the training dataset\n",
        "features = ['Location', 'Num_Bathrooms', 'Num_Beds', 'BER_class', 'Latitude',\n",
        "            'Longitude', 'Surface', 'has_Garden', 'has_Parking', 'local_School',\n",
        "            'local_Transport', 'local_Amenities', 'Type_apartment', 'Type_bungalow',\n",
        "            'Type_detached', 'Type_duplex', 'Type_end-of-terrace',\n",
        "            'Type_semi-detached', 'Type_studio', 'Type_terraced', 'Type_townhouse']"
      ],
      "execution_count": 58,
      "outputs": []
    },
    {
      "cell_type": "code",
      "metadata": {
        "id": "f4Ns5lrQKWvB"
      },
      "source": [
        "# Execute preprocessing steps in two calls\n",
        "# First for training data\n",
        "X_tr_step_1 = new_features(X_df_tr)\n",
        "X_trn_ = process_dataset(X_tr_step_1)\n",
        "X_trn_ = X_trn_[features]\n",
        "X_trn = X_trn_.values\n",
        "\n",
        "# Next for validation data\n",
        "X_vl_step_1 = new_features(X_df_vl)\n",
        "X_valid_ = process_dataset(X_vl_step_1)\n",
        "X_valid_ = X_valid_[features]\n",
        "X_valid = X_valid_.values\n"
      ],
      "execution_count": 59,
      "outputs": []
    },
    {
      "cell_type": "code",
      "metadata": {
        "id": "l71JTMSYGZyK"
      },
      "source": [
        "# Scale 'Price' if the dataset is Training\n",
        "\n",
        "ylog = np.log(y_train.astype('float'))\n",
        "yscaler = standardscaler.fit(ylog)\n",
        "y_trn =  yscaler.transform(ylog)"
      ],
      "execution_count": 60,
      "outputs": []
    },
    {
      "cell_type": "markdown",
      "metadata": {
        "id": "-4FI2AyGsAwe"
      },
      "source": [
        "**Caution** the following may fail if all columns are not in both training and validation. I fixed this by shuffling instead of random_state for the train/test split. This is caused by the split data not having samples of all 'Types' and thus when one-hot-encoded this feature may be missing in either dataset."
      ]
    },
    {
      "cell_type": "code",
      "metadata": {
        "id": "hC_MEqkytbVV",
        "colab": {
          "base_uri": "https://localhost:8080/",
          "height": 0
        },
        "outputId": "230936c0-66ef-4f0c-d794-e20bc2ddfc9d"
      },
      "source": [
        "# Let's test for any performance changes with the XGBoost Model\n",
        "\n",
        "# Call XGBoost Model for each dataset\n",
        "model_processed_data, RMSE_xgb_train_processed, r2_xgb_train_processed = xgb_model(X_trn, y_trn, \"Performance Evaluation for Full Training Set with New Features\")"
      ],
      "execution_count": 61,
      "outputs": [
        {
          "output_type": "stream",
          "name": "stdout",
          "text": [
            "Performance Evaluation for Full Training Set with New Features\n",
            "RMSE_score: 0.0145   R2_score: 0.9998\n"
          ]
        }
      ]
    },
    {
      "cell_type": "code",
      "metadata": {
        "colab": {
          "base_uri": "https://localhost:8080/",
          "height": 0
        },
        "id": "vpPsQWDvkYf4",
        "outputId": "5409e59f-cd10-4911-dd99-ba7008c82047"
      },
      "source": [
        "# Calculate MAPE scores for training and validation datsets\n",
        "\n",
        "# Predictions and MAPE score for training data\n",
        "# X_trn = X_trn_[features].values\n",
        "y_pred_trn = model_processed_data.predict(X_trn)\n",
        "y_pred_blr_trn = np.exp(yscaler.inverse_transform(y_pred_trn))\n",
        "mape_trn = MAPE(y_pred_blr_trn, y_train)\n",
        "\n",
        "# Predictions and MAPE score for validation data\n",
        "y_pred_val = model_processed_data.predict(X_valid)\n",
        "y_pred_blr_val = np.exp(yscaler.inverse_transform(y_pred_val))\n",
        "mape_val = MAPE(y_pred_blr_val, y_val)\n",
        "\n",
        "print(\"MAPE_training: %.4f   MAPE_validation: %.4f\" %(mape_trn, mape_val))"
      ],
      "execution_count": 62,
      "outputs": [
        {
          "output_type": "stream",
          "name": "stdout",
          "text": [
            "MAPE_training: 0.0058   MAPE_validation: 0.1715\n"
          ]
        }
      ]
    },
    {
      "cell_type": "markdown",
      "metadata": {
        "id": "L-8Mh1cHso9x"
      },
      "source": [
        "### Comment on model performance\n",
        "The performance of the XGBoost on the data is very good. Performance of the model on the validation set (17.1%) with the addition NLP feature is 2% better than without. We will use this model to examine the Feature Importance, now with all features."
      ]
    },
    {
      "cell_type": "code",
      "metadata": {
        "colab": {
          "base_uri": "https://localhost:8080/",
          "height": 404
        },
        "id": "b8yzrgE1lV37",
        "outputId": "0e675115-7958-42a4-9964-60f543856c60"
      },
      "source": [
        "# Plot the Feature Importance to see what the impact of imputing BER_class has been\n",
        "fig, ax = plt.subplots(figsize=(12, 6))\n",
        "\n",
        "model_processed_data.get_booster().feature_names = features\n",
        "xgb.plot_importance(model_processed_data, max_num_features= 21, ax=ax, importance_type=\"weight\")\n",
        "plt.show()"
      ],
      "execution_count": 63,
      "outputs": [
        {
          "output_type": "display_data",
          "data": {
            "image/png": "[encoded data removed]",
            "text/plain": [
              "<Figure size 864x432 with 1 Axes>"
            ]
          },
          "metadata": {
            "needs_background": "light"
          }
        }
      ]
    },
    {
      "cell_type": "markdown",
      "metadata": {
        "id": "7JuDh6ob_6Qr"
      },
      "source": [
        "### **Analysis of new feature importance metrics**\n",
        "From above plot it can be seen that the addition of the new features has impacted on the feature importance ranking. Most of the NLP features rank better than the 'Type' features, especially local_Transport, local_School, local_Amenities. These are interesting observations given that the features were embedded in text descriptions. The plot above has proven the value of NLP feature engineering, certainly in this case."
      ]
    },
    {
      "cell_type": "markdown",
      "metadata": {
        "id": "2PMoPLlUJ1Ly"
      },
      "source": [
        "## Training, Validation & Test Data"
      ]
    },
    {
      "cell_type": "code",
      "metadata": {
        "id": "flj3yEsUA0jV"
      },
      "source": [
        "# Reload the data to ensure we are working with clean datasets\n",
        "\n",
        "path = '/content/sample_data/'\n",
        "\n",
        "# Due to formatting issues, I found that explicitly defining features of interest and omitting ones that are problematic was useful\n",
        "\n",
        "train_file = path+'HousePrice_Train.csv'\n",
        "test_file = path+'HousePrice_Test.csv'\n",
        "\n",
        "# Import the data, while excluding 'features' and 'description_block' explicitly on import\n",
        "train_data = pd.read_csv(train_file)\n",
        "test_data = pd.read_csv(test_file)"
      ],
      "execution_count": 64,
      "outputs": []
    },
    {
      "cell_type": "code",
      "metadata": {
        "id": "apC1_NdtA1Wk"
      },
      "source": [
        "df_tr = drop_outliers(train_data)"
      ],
      "execution_count": 65,
      "outputs": []
    },
    {
      "cell_type": "code",
      "metadata": {
        "id": "p6u_EmH6A5Ax"
      },
      "source": [
        "# Separate the training dataset into Training and Validation Sets\n",
        "colnames = list(df_tr.columns)\n",
        "X = df_tr.iloc[:,0:-1].values \n",
        "y = df_tr.iloc[:,-1].values.reshape(-1,1)  "
      ],
      "execution_count": 66,
      "outputs": []
    },
    {
      "cell_type": "code",
      "metadata": {
        "id": "lZSkdvFyBidX"
      },
      "source": [
        "# Split training data into training and validation sets\n",
        "\n",
        "X_train, X_val, y_train, y_val = train_test_split(X, y, test_size = 0.3, shuffle = False)\n"
      ],
      "execution_count": 67,
      "outputs": []
    },
    {
      "cell_type": "code",
      "metadata": {
        "id": "EAHj0TgOBntF"
      },
      "source": [
        "# Convert numpy arrays to dataframes before processing\n",
        "\n",
        "X_df_trn = pd.DataFrame(X_train, columns=colnames[:-1])\n",
        "X_df_val = pd.DataFrame(X_val, columns=colnames[:-1])"
      ],
      "execution_count": 68,
      "outputs": []
    },
    {
      "cell_type": "code",
      "metadata": {
        "id": "mkC14hzYA-06"
      },
      "source": [
        "# Execute preprocessing steps for each dataset\n",
        "# First for training data\n",
        "X_trn_step_1 = new_features(X_df_trn)\n",
        "X_trn_ = process_dataset(X_trn_step_1, exclude=\"Type\")\n",
        "X_trn = X_trn_.values\n",
        "\n",
        "# Next for validation data\n",
        "X_val_step_1 = new_features(X_df_val)\n",
        "X_val_ = process_dataset(X_val_step_1, exclude=\"Type\")\n",
        "X_val = X_val_.values\n",
        "\n",
        "# Then for Test data\n",
        "X_tst_step_1 = new_features(test_data)\n",
        "X_tst_ = process_dataset(X_tst_step_1, exclude=\"Type\")\n",
        "X_tst = X_tst_.values\n"
      ],
      "execution_count": 69,
      "outputs": []
    },
    {
      "cell_type": "code",
      "metadata": {
        "id": "Kqcc16ztBwYH"
      },
      "source": [
        "# Scale 'Price' if the dataset if Training\n",
        "\n",
        "ylog = np.log(y_train.astype('float'))\n",
        "yscaler = standardscaler.fit(ylog)\n",
        "y_trn =  yscaler.transform(ylog)"
      ],
      "execution_count": 70,
      "outputs": []
    },
    {
      "cell_type": "markdown",
      "metadata": {
        "id": "ztBkSZluye87"
      },
      "source": [
        "### Train dataset"
      ]
    },
    {
      "cell_type": "code",
      "metadata": {
        "id": "6XUFUPABMHfF",
        "colab": {
          "base_uri": "https://localhost:8080/",
          "height": 111
        },
        "outputId": "291054f5-586e-4550-9195-55f6caac0e69"
      },
      "source": [
        "# show first data frame rows \n",
        "X_trn_.head(2)"
      ],
      "execution_count": 85,
      "outputs": [
        {
          "output_type": "execute_result",
          "data": {
            "text/html": [
              "<div>\n",
              "<style scoped>\n",
              "    .dataframe tbody tr th:only-of-type {\n",
              "        vertical-align: middle;\n",
              "    }\n",
              "\n",
              "    .dataframe tbody tr th {\n",
              "        vertical-align: top;\n",
              "    }\n",
              "\n",
              "    .dataframe thead th {\n",
              "        text-align: right;\n",
              "    }\n",
              "</style>\n",
              "<table border=\"1\" class=\"dataframe\">\n",
              "  <thead>\n",
              "    <tr style=\"text-align: right;\">\n",
              "      <th></th>\n",
              "      <th>Location</th>\n",
              "      <th>Num_Bathrooms</th>\n",
              "      <th>Num_Beds</th>\n",
              "      <th>BER_class</th>\n",
              "      <th>Latitude</th>\n",
              "      <th>Longitude</th>\n",
              "      <th>Surface</th>\n",
              "      <th>has_Garden</th>\n",
              "      <th>has_Parking</th>\n",
              "      <th>local_School</th>\n",
              "      <th>local_Transport</th>\n",
              "      <th>local_Amenities</th>\n",
              "    </tr>\n",
              "  </thead>\n",
              "  <tbody>\n",
              "    <tr>\n",
              "      <th>0</th>\n",
              "      <td>0.727891</td>\n",
              "      <td>0.693147</td>\n",
              "      <td>0.693147</td>\n",
              "      <td>-0.308404</td>\n",
              "      <td>0.620314</td>\n",
              "      <td>-2.004819</td>\n",
              "      <td>-0.803499</td>\n",
              "      <td>0</td>\n",
              "      <td>1</td>\n",
              "      <td>1</td>\n",
              "      <td>1</td>\n",
              "      <td>1</td>\n",
              "    </tr>\n",
              "    <tr>\n",
              "      <th>1</th>\n",
              "      <td>0.714286</td>\n",
              "      <td>0.000000</td>\n",
              "      <td>0.693147</td>\n",
              "      <td>0.030544</td>\n",
              "      <td>0.086969</td>\n",
              "      <td>0.194496</td>\n",
              "      <td>-0.109123</td>\n",
              "      <td>1</td>\n",
              "      <td>0</td>\n",
              "      <td>1</td>\n",
              "      <td>0</td>\n",
              "      <td>1</td>\n",
              "    </tr>\n",
              "  </tbody>\n",
              "</table>\n",
              "</div>"
            ],
            "text/plain": [
              "   Location  Num_Bathrooms  ...  local_Transport  local_Amenities\n",
              "0  0.727891       0.693147  ...                1                1\n",
              "1  0.714286       0.000000  ...                0                1\n",
              "\n",
              "[2 rows x 12 columns]"
            ]
          },
          "metadata": {},
          "execution_count": 85
        }
      ]
    },
    {
      "cell_type": "code",
      "metadata": {
        "id": "5rq_p-D4yLBe",
        "colab": {
          "base_uri": "https://localhost:8080/",
          "height": 297
        },
        "outputId": "6da3e75c-bd01-480a-ba9e-a6e5470dc73a"
      },
      "source": [
        "# Generate descriptive statistics\n",
        "X_trn_.describe()"
      ],
      "execution_count": 86,
      "outputs": [
        {
          "output_type": "execute_result",
          "data": {
            "text/html": [
              "<div>\n",
              "<style scoped>\n",
              "    .dataframe tbody tr th:only-of-type {\n",
              "        vertical-align: middle;\n",
              "    }\n",
              "\n",
              "    .dataframe tbody tr th {\n",
              "        vertical-align: top;\n",
              "    }\n",
              "\n",
              "    .dataframe thead th {\n",
              "        text-align: right;\n",
              "    }\n",
              "</style>\n",
              "<table border=\"1\" class=\"dataframe\">\n",
              "  <thead>\n",
              "    <tr style=\"text-align: right;\">\n",
              "      <th></th>\n",
              "      <th>Location</th>\n",
              "      <th>Num_Bathrooms</th>\n",
              "      <th>Num_Beds</th>\n",
              "      <th>BER_class</th>\n",
              "      <th>Latitude</th>\n",
              "      <th>Longitude</th>\n",
              "      <th>Surface</th>\n",
              "      <th>has_Garden</th>\n",
              "      <th>has_Parking</th>\n",
              "      <th>local_School</th>\n",
              "      <th>local_Transport</th>\n",
              "      <th>local_Amenities</th>\n",
              "    </tr>\n",
              "  </thead>\n",
              "  <tbody>\n",
              "    <tr>\n",
              "      <th>count</th>\n",
              "      <td>1144.000000</td>\n",
              "      <td>1144.000000</td>\n",
              "      <td>1144.000000</td>\n",
              "      <td>1.144000e+03</td>\n",
              "      <td>1.144000e+03</td>\n",
              "      <td>1.144000e+03</td>\n",
              "      <td>1.144000e+03</td>\n",
              "      <td>1144.000000</td>\n",
              "      <td>1144.000000</td>\n",
              "      <td>1144.000000</td>\n",
              "      <td>1144.000000</td>\n",
              "      <td>1144.000000</td>\n",
              "    </tr>\n",
              "    <tr>\n",
              "      <th>mean</th>\n",
              "      <td>0.493899</td>\n",
              "      <td>0.573604</td>\n",
              "      <td>1.014252</td>\n",
              "      <td>2.393191e-16</td>\n",
              "      <td>7.657526e-14</td>\n",
              "      <td>-2.101903e-15</td>\n",
              "      <td>-7.955951e-16</td>\n",
              "      <td>0.763112</td>\n",
              "      <td>0.687937</td>\n",
              "      <td>0.616259</td>\n",
              "      <td>0.701049</td>\n",
              "      <td>0.904720</td>\n",
              "    </tr>\n",
              "    <tr>\n",
              "      <th>std</th>\n",
              "      <td>0.291405</td>\n",
              "      <td>0.501227</td>\n",
              "      <td>0.417951</td>\n",
              "      <td>1.000437e+00</td>\n",
              "      <td>1.000437e+00</td>\n",
              "      <td>1.000437e+00</td>\n",
              "      <td>1.000437e+00</td>\n",
              "      <td>0.425359</td>\n",
              "      <td>0.463538</td>\n",
              "      <td>0.486509</td>\n",
              "      <td>0.457999</td>\n",
              "      <td>0.293729</td>\n",
              "    </tr>\n",
              "    <tr>\n",
              "      <th>min</th>\n",
              "      <td>0.000000</td>\n",
              "      <td>0.000000</td>\n",
              "      <td>0.000000</td>\n",
              "      <td>-3.019988e+00</td>\n",
              "      <td>-1.828771e+00</td>\n",
              "      <td>-2.648097e+00</td>\n",
              "      <td>-3.279863e+00</td>\n",
              "      <td>0.000000</td>\n",
              "      <td>0.000000</td>\n",
              "      <td>0.000000</td>\n",
              "      <td>0.000000</td>\n",
              "      <td>0.000000</td>\n",
              "    </tr>\n",
              "    <tr>\n",
              "      <th>25%</th>\n",
              "      <td>0.244898</td>\n",
              "      <td>0.000000</td>\n",
              "      <td>0.693147</td>\n",
              "      <td>-6.473522e-01</td>\n",
              "      <td>-7.794919e-01</td>\n",
              "      <td>-5.569837e-01</td>\n",
              "      <td>-6.216262e-01</td>\n",
              "      <td>1.000000</td>\n",
              "      <td>0.000000</td>\n",
              "      <td>0.000000</td>\n",
              "      <td>0.000000</td>\n",
              "      <td>1.000000</td>\n",
              "    </tr>\n",
              "    <tr>\n",
              "      <th>50%</th>\n",
              "      <td>0.455782</td>\n",
              "      <td>0.693147</td>\n",
              "      <td>1.098612</td>\n",
              "      <td>3.054387e-02</td>\n",
              "      <td>-1.193644e-01</td>\n",
              "      <td>8.847636e-02</td>\n",
              "      <td>-1.085192e-01</td>\n",
              "      <td>1.000000</td>\n",
              "      <td>1.000000</td>\n",
              "      <td>1.000000</td>\n",
              "      <td>1.000000</td>\n",
              "      <td>1.000000</td>\n",
              "    </tr>\n",
              "    <tr>\n",
              "      <th>75%</th>\n",
              "      <td>0.782313</td>\n",
              "      <td>1.098612</td>\n",
              "      <td>1.386294</td>\n",
              "      <td>7.084399e-01</td>\n",
              "      <td>4.148042e-01</td>\n",
              "      <td>7.141824e-01</td>\n",
              "      <td>5.214280e-01</td>\n",
              "      <td>1.000000</td>\n",
              "      <td>1.000000</td>\n",
              "      <td>1.000000</td>\n",
              "      <td>1.000000</td>\n",
              "      <td>1.000000</td>\n",
              "    </tr>\n",
              "    <tr>\n",
              "      <th>max</th>\n",
              "      <td>1.000000</td>\n",
              "      <td>2.708050</td>\n",
              "      <td>2.708050</td>\n",
              "      <td>2.064232e+00</td>\n",
              "      <td>3.768460e+00</td>\n",
              "      <td>2.239625e+00</td>\n",
              "      <td>4.763999e+00</td>\n",
              "      <td>1.000000</td>\n",
              "      <td>1.000000</td>\n",
              "      <td>1.000000</td>\n",
              "      <td>1.000000</td>\n",
              "      <td>1.000000</td>\n",
              "    </tr>\n",
              "  </tbody>\n",
              "</table>\n",
              "</div>"
            ],
            "text/plain": [
              "          Location  Num_Bathrooms  ...  local_Transport  local_Amenities\n",
              "count  1144.000000    1144.000000  ...      1144.000000      1144.000000\n",
              "mean      0.493899       0.573604  ...         0.701049         0.904720\n",
              "std       0.291405       0.501227  ...         0.457999         0.293729\n",
              "min       0.000000       0.000000  ...         0.000000         0.000000\n",
              "25%       0.244898       0.000000  ...         0.000000         1.000000\n",
              "50%       0.455782       0.693147  ...         1.000000         1.000000\n",
              "75%       0.782313       1.098612  ...         1.000000         1.000000\n",
              "max       1.000000       2.708050  ...         1.000000         1.000000\n",
              "\n",
              "[8 rows x 12 columns]"
            ]
          },
          "metadata": {},
          "execution_count": 86
        }
      ]
    },
    {
      "cell_type": "markdown",
      "metadata": {
        "id": "xyIEcjSj-dsq"
      },
      "source": [
        "### Validation dataset"
      ]
    },
    {
      "cell_type": "code",
      "metadata": {
        "colab": {
          "base_uri": "https://localhost:8080/",
          "height": 111
        },
        "id": "2u-kvJ0r-a-l",
        "outputId": "a4485c0d-d91a-45ab-dcbc-26df77775c2e"
      },
      "source": [
        "X_val_.head(2)"
      ],
      "execution_count": 87,
      "outputs": [
        {
          "output_type": "execute_result",
          "data": {
            "text/html": [
              "<div>\n",
              "<style scoped>\n",
              "    .dataframe tbody tr th:only-of-type {\n",
              "        vertical-align: middle;\n",
              "    }\n",
              "\n",
              "    .dataframe tbody tr th {\n",
              "        vertical-align: top;\n",
              "    }\n",
              "\n",
              "    .dataframe thead th {\n",
              "        text-align: right;\n",
              "    }\n",
              "</style>\n",
              "<table border=\"1\" class=\"dataframe\">\n",
              "  <thead>\n",
              "    <tr style=\"text-align: right;\">\n",
              "      <th></th>\n",
              "      <th>Location</th>\n",
              "      <th>Num_Bathrooms</th>\n",
              "      <th>Num_Beds</th>\n",
              "      <th>BER_class</th>\n",
              "      <th>Latitude</th>\n",
              "      <th>Longitude</th>\n",
              "      <th>Surface</th>\n",
              "      <th>has_Garden</th>\n",
              "      <th>has_Parking</th>\n",
              "      <th>local_School</th>\n",
              "      <th>local_Transport</th>\n",
              "      <th>local_Amenities</th>\n",
              "    </tr>\n",
              "  </thead>\n",
              "  <tbody>\n",
              "    <tr>\n",
              "      <th>0</th>\n",
              "      <td>0.383562</td>\n",
              "      <td>1.94591</td>\n",
              "      <td>1.945910</td>\n",
              "      <td>0.729833</td>\n",
              "      <td>0.133894</td>\n",
              "      <td>-0.174115</td>\n",
              "      <td>1.176450</td>\n",
              "      <td>0</td>\n",
              "      <td>0</td>\n",
              "      <td>0</td>\n",
              "      <td>1</td>\n",
              "      <td>1</td>\n",
              "    </tr>\n",
              "    <tr>\n",
              "      <th>1</th>\n",
              "      <td>0.554795</td>\n",
              "      <td>0.00000</td>\n",
              "      <td>0.693147</td>\n",
              "      <td>0.376455</td>\n",
              "      <td>-0.125558</td>\n",
              "      <td>-0.652997</td>\n",
              "      <td>-0.907761</td>\n",
              "      <td>1</td>\n",
              "      <td>1</td>\n",
              "      <td>0</td>\n",
              "      <td>1</td>\n",
              "      <td>1</td>\n",
              "    </tr>\n",
              "  </tbody>\n",
              "</table>\n",
              "</div>"
            ],
            "text/plain": [
              "   Location  Num_Bathrooms  ...  local_Transport  local_Amenities\n",
              "0  0.383562        1.94591  ...                1                1\n",
              "1  0.554795        0.00000  ...                1                1\n",
              "\n",
              "[2 rows x 12 columns]"
            ]
          },
          "metadata": {},
          "execution_count": 87
        }
      ]
    },
    {
      "cell_type": "code",
      "metadata": {
        "colab": {
          "base_uri": "https://localhost:8080/",
          "height": 297
        },
        "id": "-Ag8EhDU-lOD",
        "outputId": "d67aef6e-5581-4d49-ec3e-0ae4bdaa17a0"
      },
      "source": [
        "X_val_.describe()"
      ],
      "execution_count": 88,
      "outputs": [
        {
          "output_type": "execute_result",
          "data": {
            "text/html": [
              "<div>\n",
              "<style scoped>\n",
              "    .dataframe tbody tr th:only-of-type {\n",
              "        vertical-align: middle;\n",
              "    }\n",
              "\n",
              "    .dataframe tbody tr th {\n",
              "        vertical-align: top;\n",
              "    }\n",
              "\n",
              "    .dataframe thead th {\n",
              "        text-align: right;\n",
              "    }\n",
              "</style>\n",
              "<table border=\"1\" class=\"dataframe\">\n",
              "  <thead>\n",
              "    <tr style=\"text-align: right;\">\n",
              "      <th></th>\n",
              "      <th>Location</th>\n",
              "      <th>Num_Bathrooms</th>\n",
              "      <th>Num_Beds</th>\n",
              "      <th>BER_class</th>\n",
              "      <th>Latitude</th>\n",
              "      <th>Longitude</th>\n",
              "      <th>Surface</th>\n",
              "      <th>has_Garden</th>\n",
              "      <th>has_Parking</th>\n",
              "      <th>local_School</th>\n",
              "      <th>local_Transport</th>\n",
              "      <th>local_Amenities</th>\n",
              "    </tr>\n",
              "  </thead>\n",
              "  <tbody>\n",
              "    <tr>\n",
              "      <th>count</th>\n",
              "      <td>491.000000</td>\n",
              "      <td>491.000000</td>\n",
              "      <td>491.000000</td>\n",
              "      <td>4.910000e+02</td>\n",
              "      <td>4.910000e+02</td>\n",
              "      <td>4.910000e+02</td>\n",
              "      <td>4.910000e+02</td>\n",
              "      <td>491.000000</td>\n",
              "      <td>491.000000</td>\n",
              "      <td>491.000000</td>\n",
              "      <td>491.000000</td>\n",
              "      <td>491.000000</td>\n",
              "    </tr>\n",
              "    <tr>\n",
              "      <th>mean</th>\n",
              "      <td>0.516349</td>\n",
              "      <td>0.610902</td>\n",
              "      <td>1.051803</td>\n",
              "      <td>2.469172e-16</td>\n",
              "      <td>-1.483172e-13</td>\n",
              "      <td>4.284421e-15</td>\n",
              "      <td>-9.542039e-17</td>\n",
              "      <td>0.780041</td>\n",
              "      <td>0.714868</td>\n",
              "      <td>0.629328</td>\n",
              "      <td>0.712831</td>\n",
              "      <td>0.885947</td>\n",
              "    </tr>\n",
              "    <tr>\n",
              "      <th>std</th>\n",
              "      <td>0.292266</td>\n",
              "      <td>0.525939</td>\n",
              "      <td>0.446404</td>\n",
              "      <td>1.001020e+00</td>\n",
              "      <td>1.001020e+00</td>\n",
              "      <td>1.001020e+00</td>\n",
              "      <td>1.001020e+00</td>\n",
              "      <td>0.414641</td>\n",
              "      <td>0.451938</td>\n",
              "      <td>0.483477</td>\n",
              "      <td>0.452903</td>\n",
              "      <td>0.318200</td>\n",
              "    </tr>\n",
              "    <tr>\n",
              "      <th>min</th>\n",
              "      <td>0.000000</td>\n",
              "      <td>0.000000</td>\n",
              "      <td>0.000000</td>\n",
              "      <td>-2.803943e+00</td>\n",
              "      <td>-1.729079e+00</td>\n",
              "      <td>-2.450815e+00</td>\n",
              "      <td>-6.001987e+00</td>\n",
              "      <td>0.000000</td>\n",
              "      <td>0.000000</td>\n",
              "      <td>0.000000</td>\n",
              "      <td>0.000000</td>\n",
              "      <td>0.000000</td>\n",
              "    </tr>\n",
              "    <tr>\n",
              "      <th>25%</th>\n",
              "      <td>0.256849</td>\n",
              "      <td>0.000000</td>\n",
              "      <td>0.693147</td>\n",
              "      <td>-6.836774e-01</td>\n",
              "      <td>-7.300245e-01</td>\n",
              "      <td>-6.142714e-01</td>\n",
              "      <td>-6.747513e-01</td>\n",
              "      <td>1.000000</td>\n",
              "      <td>0.000000</td>\n",
              "      <td>0.000000</td>\n",
              "      <td>0.000000</td>\n",
              "      <td>1.000000</td>\n",
              "    </tr>\n",
              "    <tr>\n",
              "      <th>50%</th>\n",
              "      <td>0.472603</td>\n",
              "      <td>0.693147</td>\n",
              "      <td>1.098612</td>\n",
              "      <td>2.307772e-02</td>\n",
              "      <td>-1.535161e-01</td>\n",
              "      <td>1.407822e-01</td>\n",
              "      <td>-1.015180e-01</td>\n",
              "      <td>1.000000</td>\n",
              "      <td>1.000000</td>\n",
              "      <td>1.000000</td>\n",
              "      <td>1.000000</td>\n",
              "      <td>1.000000</td>\n",
              "    </tr>\n",
              "    <tr>\n",
              "      <th>75%</th>\n",
              "      <td>0.801370</td>\n",
              "      <td>1.098612</td>\n",
              "      <td>1.386294</td>\n",
              "      <td>7.298328e-01</td>\n",
              "      <td>4.368323e-01</td>\n",
              "      <td>6.589140e-01</td>\n",
              "      <td>5.747842e-01</td>\n",
              "      <td>1.000000</td>\n",
              "      <td>1.000000</td>\n",
              "      <td>1.000000</td>\n",
              "      <td>1.000000</td>\n",
              "      <td>1.000000</td>\n",
              "    </tr>\n",
              "    <tr>\n",
              "      <th>max</th>\n",
              "      <td>1.000000</td>\n",
              "      <td>2.890372</td>\n",
              "      <td>3.295837</td>\n",
              "      <td>2.143343e+00</td>\n",
              "      <td>3.622611e+00</td>\n",
              "      <td>2.097493e+00</td>\n",
              "      <td>4.612305e+00</td>\n",
              "      <td>1.000000</td>\n",
              "      <td>1.000000</td>\n",
              "      <td>1.000000</td>\n",
              "      <td>1.000000</td>\n",
              "      <td>1.000000</td>\n",
              "    </tr>\n",
              "  </tbody>\n",
              "</table>\n",
              "</div>"
            ],
            "text/plain": [
              "         Location  Num_Bathrooms  ...  local_Transport  local_Amenities\n",
              "count  491.000000     491.000000  ...       491.000000       491.000000\n",
              "mean     0.516349       0.610902  ...         0.712831         0.885947\n",
              "std      0.292266       0.525939  ...         0.452903         0.318200\n",
              "min      0.000000       0.000000  ...         0.000000         0.000000\n",
              "25%      0.256849       0.000000  ...         0.000000         1.000000\n",
              "50%      0.472603       0.693147  ...         1.000000         1.000000\n",
              "75%      0.801370       1.098612  ...         1.000000         1.000000\n",
              "max      1.000000       2.890372  ...         1.000000         1.000000\n",
              "\n",
              "[8 rows x 12 columns]"
            ]
          },
          "metadata": {},
          "execution_count": 88
        }
      ]
    },
    {
      "cell_type": "markdown",
      "metadata": {
        "id": "Iqg9_uxFyZli"
      },
      "source": [
        "### Test dataset"
      ]
    },
    {
      "cell_type": "code",
      "metadata": {
        "id": "bw2_yypxMfsi",
        "colab": {
          "base_uri": "https://localhost:8080/",
          "height": 111
        },
        "outputId": "1f067fbc-f8bb-4f2b-9f7e-777c64581682"
      },
      "source": [
        "# show first data frame rows \n",
        "X_tst_.head(2)"
      ],
      "execution_count": 89,
      "outputs": [
        {
          "output_type": "execute_result",
          "data": {
            "text/html": [
              "<div>\n",
              "<style scoped>\n",
              "    .dataframe tbody tr th:only-of-type {\n",
              "        vertical-align: middle;\n",
              "    }\n",
              "\n",
              "    .dataframe tbody tr th {\n",
              "        vertical-align: top;\n",
              "    }\n",
              "\n",
              "    .dataframe thead th {\n",
              "        text-align: right;\n",
              "    }\n",
              "</style>\n",
              "<table border=\"1\" class=\"dataframe\">\n",
              "  <thead>\n",
              "    <tr style=\"text-align: right;\">\n",
              "      <th></th>\n",
              "      <th>Location</th>\n",
              "      <th>Num_Bathrooms</th>\n",
              "      <th>Num_Beds</th>\n",
              "      <th>BER_class</th>\n",
              "      <th>Latitude</th>\n",
              "      <th>Longitude</th>\n",
              "      <th>Surface</th>\n",
              "      <th>has_Garden</th>\n",
              "      <th>has_Parking</th>\n",
              "      <th>local_School</th>\n",
              "      <th>local_Transport</th>\n",
              "      <th>local_Amenities</th>\n",
              "    </tr>\n",
              "  </thead>\n",
              "  <tbody>\n",
              "    <tr>\n",
              "      <th>0</th>\n",
              "      <td>0.655172</td>\n",
              "      <td>0.693147</td>\n",
              "      <td>0.693147</td>\n",
              "      <td>-0.616615</td>\n",
              "      <td>-0.462275</td>\n",
              "      <td>0.098546</td>\n",
              "      <td>-0.854973</td>\n",
              "      <td>0</td>\n",
              "      <td>1</td>\n",
              "      <td>0</td>\n",
              "      <td>1</td>\n",
              "      <td>1</td>\n",
              "    </tr>\n",
              "    <tr>\n",
              "      <th>1</th>\n",
              "      <td>0.448276</td>\n",
              "      <td>0.693147</td>\n",
              "      <td>1.609438</td>\n",
              "      <td>0.689377</td>\n",
              "      <td>0.546564</td>\n",
              "      <td>-0.322551</td>\n",
              "      <td>0.571829</td>\n",
              "      <td>1</td>\n",
              "      <td>1</td>\n",
              "      <td>1</td>\n",
              "      <td>1</td>\n",
              "      <td>1</td>\n",
              "    </tr>\n",
              "  </tbody>\n",
              "</table>\n",
              "</div>"
            ],
            "text/plain": [
              "   Location  Num_Bathrooms  ...  local_Transport  local_Amenities\n",
              "0  0.655172       0.693147  ...                1                1\n",
              "1  0.448276       0.693147  ...                1                1\n",
              "\n",
              "[2 rows x 12 columns]"
            ]
          },
          "metadata": {},
          "execution_count": 89
        }
      ]
    },
    {
      "cell_type": "code",
      "metadata": {
        "id": "FXo0x2u7T7-1",
        "colab": {
          "base_uri": "https://localhost:8080/",
          "height": 297
        },
        "outputId": "68c4a496-0cda-493b-b24b-3c3012775f01"
      },
      "source": [
        "# Generate descriptive statistics\n",
        "X_tst_.describe()"
      ],
      "execution_count": 90,
      "outputs": [
        {
          "output_type": "execute_result",
          "data": {
            "text/html": [
              "<div>\n",
              "<style scoped>\n",
              "    .dataframe tbody tr th:only-of-type {\n",
              "        vertical-align: middle;\n",
              "    }\n",
              "\n",
              "    .dataframe tbody tr th {\n",
              "        vertical-align: top;\n",
              "    }\n",
              "\n",
              "    .dataframe thead th {\n",
              "        text-align: right;\n",
              "    }\n",
              "</style>\n",
              "<table border=\"1\" class=\"dataframe\">\n",
              "  <thead>\n",
              "    <tr style=\"text-align: right;\">\n",
              "      <th></th>\n",
              "      <th>Location</th>\n",
              "      <th>Num_Bathrooms</th>\n",
              "      <th>Num_Beds</th>\n",
              "      <th>BER_class</th>\n",
              "      <th>Latitude</th>\n",
              "      <th>Longitude</th>\n",
              "      <th>Surface</th>\n",
              "      <th>has_Garden</th>\n",
              "      <th>has_Parking</th>\n",
              "      <th>local_School</th>\n",
              "      <th>local_Transport</th>\n",
              "      <th>local_Amenities</th>\n",
              "    </tr>\n",
              "  </thead>\n",
              "  <tbody>\n",
              "    <tr>\n",
              "      <th>count</th>\n",
              "      <td>702.000000</td>\n",
              "      <td>702.000000</td>\n",
              "      <td>702.000000</td>\n",
              "      <td>7.020000e+02</td>\n",
              "      <td>7.020000e+02</td>\n",
              "      <td>7.020000e+02</td>\n",
              "      <td>7.020000e+02</td>\n",
              "      <td>702.000000</td>\n",
              "      <td>702.000000</td>\n",
              "      <td>702.000000</td>\n",
              "      <td>702.000000</td>\n",
              "      <td>702.000000</td>\n",
              "    </tr>\n",
              "    <tr>\n",
              "      <th>mean</th>\n",
              "      <td>0.507663</td>\n",
              "      <td>0.580580</td>\n",
              "      <td>1.013545</td>\n",
              "      <td>-3.722885e-16</td>\n",
              "      <td>5.027555e-14</td>\n",
              "      <td>6.153356e-15</td>\n",
              "      <td>1.031147e-16</td>\n",
              "      <td>0.742165</td>\n",
              "      <td>0.688034</td>\n",
              "      <td>0.594017</td>\n",
              "      <td>0.692308</td>\n",
              "      <td>0.914530</td>\n",
              "    </tr>\n",
              "    <tr>\n",
              "      <th>std</th>\n",
              "      <td>0.291095</td>\n",
              "      <td>0.498537</td>\n",
              "      <td>0.415753</td>\n",
              "      <td>1.000713e+00</td>\n",
              "      <td>1.000713e+00</td>\n",
              "      <td>1.000713e+00</td>\n",
              "      <td>1.000713e+00</td>\n",
              "      <td>0.437754</td>\n",
              "      <td>0.463626</td>\n",
              "      <td>0.491431</td>\n",
              "      <td>0.461868</td>\n",
              "      <td>0.279779</td>\n",
              "    </tr>\n",
              "    <tr>\n",
              "      <th>min</th>\n",
              "      <td>0.000000</td>\n",
              "      <td>0.000000</td>\n",
              "      <td>0.000000</td>\n",
              "      <td>-2.575603e+00</td>\n",
              "      <td>-1.846362e+00</td>\n",
              "      <td>-2.936280e+00</td>\n",
              "      <td>-2.143177e+00</td>\n",
              "      <td>0.000000</td>\n",
              "      <td>0.000000</td>\n",
              "      <td>0.000000</td>\n",
              "      <td>0.000000</td>\n",
              "      <td>0.000000</td>\n",
              "    </tr>\n",
              "    <tr>\n",
              "      <th>25%</th>\n",
              "      <td>0.270690</td>\n",
              "      <td>0.000000</td>\n",
              "      <td>0.693147</td>\n",
              "      <td>-6.166147e-01</td>\n",
              "      <td>-7.474966e-01</td>\n",
              "      <td>-5.664116e-01</td>\n",
              "      <td>-6.430413e-01</td>\n",
              "      <td>0.000000</td>\n",
              "      <td>0.000000</td>\n",
              "      <td>0.000000</td>\n",
              "      <td>0.000000</td>\n",
              "      <td>1.000000</td>\n",
              "    </tr>\n",
              "    <tr>\n",
              "      <th>50%</th>\n",
              "      <td>0.462069</td>\n",
              "      <td>0.693147</td>\n",
              "      <td>1.098612</td>\n",
              "      <td>3.638120e-02</td>\n",
              "      <td>-1.251458e-01</td>\n",
              "      <td>5.039519e-02</td>\n",
              "      <td>-8.309184e-02</td>\n",
              "      <td>1.000000</td>\n",
              "      <td>1.000000</td>\n",
              "      <td>1.000000</td>\n",
              "      <td>1.000000</td>\n",
              "      <td>1.000000</td>\n",
              "    </tr>\n",
              "    <tr>\n",
              "      <th>75%</th>\n",
              "      <td>0.793103</td>\n",
              "      <td>1.098612</td>\n",
              "      <td>1.386294</td>\n",
              "      <td>6.893772e-01</td>\n",
              "      <td>4.245285e-01</td>\n",
              "      <td>7.443558e-01</td>\n",
              "      <td>5.047100e-01</td>\n",
              "      <td>1.000000</td>\n",
              "      <td>1.000000</td>\n",
              "      <td>1.000000</td>\n",
              "      <td>1.000000</td>\n",
              "      <td>1.000000</td>\n",
              "    </tr>\n",
              "    <tr>\n",
              "      <th>max</th>\n",
              "      <td>1.000000</td>\n",
              "      <td>2.197225</td>\n",
              "      <td>2.639057</td>\n",
              "      <td>1.995369e+00</td>\n",
              "      <td>3.607425e+00</td>\n",
              "      <td>2.133195e+00</td>\n",
              "      <td>8.059505e+00</td>\n",
              "      <td>1.000000</td>\n",
              "      <td>1.000000</td>\n",
              "      <td>1.000000</td>\n",
              "      <td>1.000000</td>\n",
              "      <td>1.000000</td>\n",
              "    </tr>\n",
              "  </tbody>\n",
              "</table>\n",
              "</div>"
            ],
            "text/plain": [
              "         Location  Num_Bathrooms  ...  local_Transport  local_Amenities\n",
              "count  702.000000     702.000000  ...       702.000000       702.000000\n",
              "mean     0.507663       0.580580  ...         0.692308         0.914530\n",
              "std      0.291095       0.498537  ...         0.461868         0.279779\n",
              "min      0.000000       0.000000  ...         0.000000         0.000000\n",
              "25%      0.270690       0.000000  ...         0.000000         1.000000\n",
              "50%      0.462069       0.693147  ...         1.000000         1.000000\n",
              "75%      0.793103       1.098612  ...         1.000000         1.000000\n",
              "max      1.000000       2.197225  ...         1.000000         1.000000\n",
              "\n",
              "[8 rows x 12 columns]"
            ]
          },
          "metadata": {},
          "execution_count": 90
        }
      ]
    },
    {
      "cell_type": "markdown",
      "metadata": {
        "id": "jc3lMkE5GKV9"
      },
      "source": [
        "### Baseline Predictions on Test with a Known Model Performance \n",
        "Let's set a baseline prediction on test data from XGBoost so we can compare with Bayesian Regression and Bayesian Neural Network"
      ]
    },
    {
      "cell_type": "code",
      "metadata": {
        "colab": {
          "base_uri": "https://localhost:8080/",
          "height": 0
        },
        "id": "YzV5Ev5XHdqG",
        "outputId": "62a077ca-a1b2-4858-8a12-ffecec4d0906"
      },
      "source": [
        "# Call XGBoost Model for each dataset\n",
        "model_processed_data, RMSE_xgb_processed, r2_xgb_processed = xgb_model(X_trn, y_trn, \"Performance Evaluation for Full Training Set with New Features\")"
      ],
      "execution_count": 71,
      "outputs": [
        {
          "output_type": "stream",
          "name": "stdout",
          "text": [
            "Performance Evaluation for Full Training Set with New Features\n",
            "RMSE_score: 0.0124   R2_score: 0.9998\n"
          ]
        }
      ]
    },
    {
      "cell_type": "code",
      "metadata": {
        "id": "3cdnIbuuF-v4"
      },
      "source": [
        "# Predict on test dataset\n",
        "y_pred_tst = model_processed_data.predict(X_tst)\n",
        "y_pred_blr_tst = np.exp(yscaler.inverse_transform(y_pred_tst))"
      ],
      "execution_count": 72,
      "outputs": []
    },
    {
      "cell_type": "code",
      "metadata": {
        "colab": {
          "base_uri": "https://localhost:8080/",
          "height": 419
        },
        "id": "zEPxWsc1HyqV",
        "outputId": "c63b5860-0879-4284-d7b1-88e7c6913629"
      },
      "source": [
        "# Record baseline prices\n",
        "df_prices = test_data['Index']\n",
        "df_prices_tst = pd.DataFrame(y_pred_blr_tst, columns=['Baseline_price'])\n",
        "full_test_predictions = pd.concat([df_prices, df_prices_tst], axis=1)\n",
        "full_test_predictions"
      ],
      "execution_count": 73,
      "outputs": [
        {
          "output_type": "execute_result",
          "data": {
            "text/html": [
              "<div>\n",
              "<style scoped>\n",
              "    .dataframe tbody tr th:only-of-type {\n",
              "        vertical-align: middle;\n",
              "    }\n",
              "\n",
              "    .dataframe tbody tr th {\n",
              "        vertical-align: top;\n",
              "    }\n",
              "\n",
              "    .dataframe thead th {\n",
              "        text-align: right;\n",
              "    }\n",
              "</style>\n",
              "<table border=\"1\" class=\"dataframe\">\n",
              "  <thead>\n",
              "    <tr style=\"text-align: right;\">\n",
              "      <th></th>\n",
              "      <th>Index</th>\n",
              "      <th>Baseline_price</th>\n",
              "    </tr>\n",
              "  </thead>\n",
              "  <tbody>\n",
              "    <tr>\n",
              "      <th>0</th>\n",
              "      <td>1639</td>\n",
              "      <td>4.150231e+05</td>\n",
              "    </tr>\n",
              "    <tr>\n",
              "      <th>1</th>\n",
              "      <td>1640</td>\n",
              "      <td>5.011805e+05</td>\n",
              "    </tr>\n",
              "    <tr>\n",
              "      <th>2</th>\n",
              "      <td>1641</td>\n",
              "      <td>6.149604e+05</td>\n",
              "    </tr>\n",
              "    <tr>\n",
              "      <th>3</th>\n",
              "      <td>1642</td>\n",
              "      <td>1.305630e+06</td>\n",
              "    </tr>\n",
              "    <tr>\n",
              "      <th>4</th>\n",
              "      <td>1643</td>\n",
              "      <td>4.293751e+05</td>\n",
              "    </tr>\n",
              "    <tr>\n",
              "      <th>...</th>\n",
              "      <td>...</td>\n",
              "      <td>...</td>\n",
              "    </tr>\n",
              "    <tr>\n",
              "      <th>697</th>\n",
              "      <td>2336</td>\n",
              "      <td>2.236142e+05</td>\n",
              "    </tr>\n",
              "    <tr>\n",
              "      <th>698</th>\n",
              "      <td>2337</td>\n",
              "      <td>4.069345e+05</td>\n",
              "    </tr>\n",
              "    <tr>\n",
              "      <th>699</th>\n",
              "      <td>2338</td>\n",
              "      <td>5.456849e+05</td>\n",
              "    </tr>\n",
              "    <tr>\n",
              "      <th>700</th>\n",
              "      <td>2339</td>\n",
              "      <td>6.364734e+05</td>\n",
              "    </tr>\n",
              "    <tr>\n",
              "      <th>701</th>\n",
              "      <td>2340</td>\n",
              "      <td>7.246476e+05</td>\n",
              "    </tr>\n",
              "  </tbody>\n",
              "</table>\n",
              "<p>702 rows × 2 columns</p>\n",
              "</div>"
            ],
            "text/plain": [
              "     Index  Baseline_price\n",
              "0     1639    4.150231e+05\n",
              "1     1640    5.011805e+05\n",
              "2     1641    6.149604e+05\n",
              "3     1642    1.305630e+06\n",
              "4     1643    4.293751e+05\n",
              "..     ...             ...\n",
              "697   2336    2.236142e+05\n",
              "698   2337    4.069345e+05\n",
              "699   2338    5.456849e+05\n",
              "700   2339    6.364734e+05\n",
              "701   2340    7.246476e+05\n",
              "\n",
              "[702 rows x 2 columns]"
            ]
          },
          "metadata": {},
          "execution_count": 73
        }
      ]
    },
    {
      "cell_type": "markdown",
      "metadata": {
        "id": "tY8yyn5dITlb"
      },
      "source": [
        "**Comment** These are the baseline predictions from XGBoost with a MAPE of 17% - we expect these to be a good estimate to check other methods against."
      ]
    },
    {
      "cell_type": "markdown",
      "metadata": {
        "id": "bJFJQxAS9HZK"
      },
      "source": [
        "# PIECEWISE REGRESSION"
      ]
    },
    {
      "cell_type": "markdown",
      "metadata": {
        "id": "QkRchZtf6IV-"
      },
      "source": [
        "**Piecewise regression**, extract from [Wikipedia](https://en.wikipedia.org/wiki/Segmented_regression):\n",
        "\n",
        "Segmented regression, also known as piecewise regression or broken-stick regression, is a method in regression analysis in which the independent variable is partitioned into intervals and a separate line segment is fit to each interval. \n",
        "\n",
        "* Segmented regression analysis can also be performed on \n",
        "multivariate data by partitioning the various independent variables. \n",
        "* Segmented regression is useful when the independent variables, clustered into different groups, exhibit different relationships between the variables in these regions. \n",
        "\n",
        "* The boundaries between the segments are breakpoints.\n",
        "\n",
        "* Segmented linear regression is segmented regression whereby the relations in the intervals are obtained by linear regression. "
      ]
    },
    {
      "cell_type": "markdown",
      "metadata": {
        "id": "4vmFyHndJbNI"
      },
      "source": [
        "### Bayesian Model Price Prediction on dataset with all key features (excluding 'Type' as determined above in EDA Section"
      ]
    },
    {
      "cell_type": "code",
      "metadata": {
        "id": "i-uyDxqzdO4B"
      },
      "source": [
        "# model\n",
        "with pm.Model() as model:\n",
        "    #prior over the parameters of linear regression\n",
        "    alpha = pm.Normal('alpha', mu=0, sigma=30)\n",
        "    #we have one beta for each column of Xn\n",
        "    beta = pm.Normal('beta', mu=0, sigma=30, shape=X_trn.shape[1])\n",
        "    #prior over the variance of the noise\n",
        "    sigma = pm.HalfCauchy('sigma_n', 5)\n",
        "    #linear regression model in matrix form\n",
        "    mu = alpha + pm.math.dot(beta, X_trn.T)\n",
        "    #likelihood, be sure that observed is a 1d vector\n",
        "    like = pm.Normal('like', mu=mu, sigma=sigma, observed=y_trn[:,0])"
      ],
      "execution_count": 74,
      "outputs": []
    },
    {
      "cell_type": "code",
      "metadata": {
        "colab": {
          "base_uri": "https://localhost:8080/",
          "height": 336
        },
        "id": "DCu7Zw2YdT4w",
        "outputId": "372e8da9-da36-4c27-8216-784f1a2d919e"
      },
      "source": [
        "#number of iterations of the algorithms\n",
        "iter = 50000\n",
        "\n",
        "# run the model\n",
        "with model:\n",
        "    approximation = pm.fit(iter,method='advi')\n",
        "    \n",
        "# check the convergence\n",
        "plt.plot(approximation.hist);"
      ],
      "execution_count": 75,
      "outputs": [
        {
          "output_type": "stream",
          "name": "stderr",
          "text": [
            "WARNING (theano.tensor.blas): We did not find a dynamic library in the library_dir of the library we use for blas. If you use ATLAS, make sure to compile it with dynamics library.\n",
            "WARNING (theano.tensor.blas): We did not find a dynamic library in the library_dir of the library we use for blas. If you use ATLAS, make sure to compile it with dynamics library.\n"
          ]
        },
        {
          "output_type": "display_data",
          "data": {
            "text/html": [
              "\n",
              "    <div>\n",
              "        <style>\n",
              "            /* Turns off some styling */\n",
              "            progress {\n",
              "                /* gets rid of default border in Firefox and Opera. */\n",
              "                border: none;\n",
              "                /* Needs to be in here for Safari polyfill so background images work as expected. */\n",
              "                background-size: auto;\n",
              "            }\n",
              "            .progress-bar-interrupted, .progress-bar-interrupted::-webkit-progress-bar {\n",
              "                background: #F44336;\n",
              "            }\n",
              "        </style>\n",
              "      <progress value='50000' class='' max='50000' style='width:300px; height:20px; vertical-align: middle;'></progress>\n",
              "      100.00% [50000/50000 00:11<00:00 Average Loss = 944.58]\n",
              "    </div>\n",
              "    "
            ],
            "text/plain": [
              "<IPython.core.display.HTML object>"
            ]
          },
          "metadata": {}
        },
        {
          "output_type": "stream",
          "name": "stderr",
          "text": [
            "Finished [100%]: Average Loss = 944.58\n"
          ]
        },
        {
          "output_type": "display_data",
          "data": {
            "image/png": "[encoded data removed]",
            "text/plain": [
              "<Figure size 432x288 with 1 Axes>"
            ]
          },
          "metadata": {
            "needs_background": "light"
          }
        }
      ]
    },
    {
      "cell_type": "code",
      "metadata": {
        "id": "IUtJkuxcdWH1"
      },
      "source": [
        "# samples from the posterior\n",
        "posterior = approximation.sample(draws=702)"
      ],
      "execution_count": 76,
      "outputs": []
    },
    {
      "cell_type": "code",
      "metadata": {
        "colab": {
          "base_uri": "https://localhost:8080/",
          "height": 0
        },
        "id": "k2MNcvxqdX1Y",
        "outputId": "9a3b0931-a21d-4a24-8e9c-d8c2c604eeeb"
      },
      "source": [
        "# prediction\n",
        "ll=np.mean(posterior['alpha']) + np.dot(np.mean(posterior['beta'],axis=0), X_tst.T)\n",
        "y_pred_BLR = np.exp(yscaler.inverse_transform(ll.reshape(-1,1)))[:,0]\n",
        "print(len(y_pred_BLR))"
      ],
      "execution_count": 77,
      "outputs": [
        {
          "output_type": "stream",
          "name": "stdout",
          "text": [
            "702\n"
          ]
        }
      ]
    },
    {
      "cell_type": "code",
      "metadata": {
        "colab": {
          "base_uri": "https://localhost:8080/",
          "height": 419
        },
        "id": "SUMuRuAeKRu6",
        "outputId": "70ca1f04-e66d-43d7-ed9a-2c7ec8ddc2e3"
      },
      "source": [
        "df_prices = full_test_predictions\n",
        "df_prices_bayes_full = pd.DataFrame(y_pred_BLR, columns=['Bayes_full_price'])\n",
        "full_test_predictions = pd.concat([full_test_predictions, df_prices_bayes_full], axis=1)\n",
        "full_test_predictions"
      ],
      "execution_count": 98,
      "outputs": [
        {
          "output_type": "execute_result",
          "data": {
            "text/html": [
              "<div>\n",
              "<style scoped>\n",
              "    .dataframe tbody tr th:only-of-type {\n",
              "        vertical-align: middle;\n",
              "    }\n",
              "\n",
              "    .dataframe tbody tr th {\n",
              "        vertical-align: top;\n",
              "    }\n",
              "\n",
              "    .dataframe thead th {\n",
              "        text-align: right;\n",
              "    }\n",
              "</style>\n",
              "<table border=\"1\" class=\"dataframe\">\n",
              "  <thead>\n",
              "    <tr style=\"text-align: right;\">\n",
              "      <th></th>\n",
              "      <th>Index</th>\n",
              "      <th>Baseline_price</th>\n",
              "      <th>Bayes_full_price</th>\n",
              "    </tr>\n",
              "  </thead>\n",
              "  <tbody>\n",
              "    <tr>\n",
              "      <th>0</th>\n",
              "      <td>1639</td>\n",
              "      <td>4.150231e+05</td>\n",
              "      <td>322759.770161</td>\n",
              "    </tr>\n",
              "    <tr>\n",
              "      <th>1</th>\n",
              "      <td>1640</td>\n",
              "      <td>5.011805e+05</td>\n",
              "      <td>501242.978570</td>\n",
              "    </tr>\n",
              "    <tr>\n",
              "      <th>2</th>\n",
              "      <td>1641</td>\n",
              "      <td>6.149604e+05</td>\n",
              "      <td>530196.332540</td>\n",
              "    </tr>\n",
              "    <tr>\n",
              "      <th>3</th>\n",
              "      <td>1642</td>\n",
              "      <td>1.305630e+06</td>\n",
              "      <td>775982.885230</td>\n",
              "    </tr>\n",
              "    <tr>\n",
              "      <th>4</th>\n",
              "      <td>1643</td>\n",
              "      <td>4.293751e+05</td>\n",
              "      <td>447204.015396</td>\n",
              "    </tr>\n",
              "    <tr>\n",
              "      <th>...</th>\n",
              "      <td>...</td>\n",
              "      <td>...</td>\n",
              "      <td>...</td>\n",
              "    </tr>\n",
              "    <tr>\n",
              "      <th>697</th>\n",
              "      <td>2336</td>\n",
              "      <td>2.236142e+05</td>\n",
              "      <td>202256.411182</td>\n",
              "    </tr>\n",
              "    <tr>\n",
              "      <th>698</th>\n",
              "      <td>2337</td>\n",
              "      <td>4.069345e+05</td>\n",
              "      <td>250391.308633</td>\n",
              "    </tr>\n",
              "    <tr>\n",
              "      <th>699</th>\n",
              "      <td>2338</td>\n",
              "      <td>5.456849e+05</td>\n",
              "      <td>506232.910687</td>\n",
              "    </tr>\n",
              "    <tr>\n",
              "      <th>700</th>\n",
              "      <td>2339</td>\n",
              "      <td>6.364734e+05</td>\n",
              "      <td>598520.094601</td>\n",
              "    </tr>\n",
              "    <tr>\n",
              "      <th>701</th>\n",
              "      <td>2340</td>\n",
              "      <td>7.246476e+05</td>\n",
              "      <td>699698.648731</td>\n",
              "    </tr>\n",
              "  </tbody>\n",
              "</table>\n",
              "<p>702 rows × 3 columns</p>\n",
              "</div>"
            ],
            "text/plain": [
              "     Index  Baseline_price  Bayes_full_price\n",
              "0     1639    4.150231e+05     322759.770161\n",
              "1     1640    5.011805e+05     501242.978570\n",
              "2     1641    6.149604e+05     530196.332540\n",
              "3     1642    1.305630e+06     775982.885230\n",
              "4     1643    4.293751e+05     447204.015396\n",
              "..     ...             ...               ...\n",
              "697   2336    2.236142e+05     202256.411182\n",
              "698   2337    4.069345e+05     250391.308633\n",
              "699   2338    5.456849e+05     506232.910687\n",
              "700   2339    6.364734e+05     598520.094601\n",
              "701   2340    7.246476e+05     699698.648731\n",
              "\n",
              "[702 rows x 3 columns]"
            ]
          },
          "metadata": {},
          "execution_count": 98
        }
      ]
    },
    {
      "cell_type": "code",
      "metadata": {
        "colab": {
          "base_uri": "https://localhost:8080/",
          "height": 0
        },
        "id": "DDQGSQdOMmKU",
        "outputId": "e9f0f257-27cc-4f10-c283-0a0e726ef74c"
      },
      "source": [
        "mape_bayes_full = MAPE(y_pred_blr_tst, y_pred_BLR)\n",
        "\n",
        "print(\"MAPE_validation: %.4f   MAPE_bayes_full: %.4f\" %(mape_val, mape_bayes_full))"
      ],
      "execution_count": 99,
      "outputs": [
        {
          "output_type": "stream",
          "name": "stdout",
          "text": [
            "MAPE_validation: 0.1715   MAPE_bayes_full: 0.1920\n"
          ]
        }
      ]
    },
    {
      "cell_type": "markdown",
      "metadata": {
        "id": "_j-8lmb8NnXf"
      },
      "source": [
        "**Comments** MAPE_bayes_full is the MAPE score when comparing the baseline estimated prices on the test dataset with the estimated prices from the Bayesian Regression Model with all key features. This score of 19.3 % is a good performance if we are confident that the baseline estimates are good enough. Given the performance of the baseline estimation using XGBoost, it is reasonable to take this view."
      ]
    },
    {
      "cell_type": "markdown",
      "metadata": {
        "id": "kDtjYcehOkJL"
      },
      "source": [
        "### Price Prediction using Piecewise Bayesian Model (Clustering by Top 2 Key Features)"
      ]
    },
    {
      "cell_type": "code",
      "metadata": {
        "colab": {
          "base_uri": "https://localhost:8080/",
          "height": 0
        },
        "id": "LA3vJ0-pO3qO",
        "outputId": "0601add0-d5fb-4936-fb3d-b2f239bd7c34"
      },
      "source": [
        "X_trn_.columns"
      ],
      "execution_count": 100,
      "outputs": [
        {
          "output_type": "execute_result",
          "data": {
            "text/plain": [
              "Index(['Location', 'Num_Bathrooms', 'Num_Beds', 'BER_class', 'Latitude',\n",
              "       'Longitude', 'Surface', 'has_Garden', 'has_Parking', 'local_School',\n",
              "       'local_Transport', 'local_Amenities'],\n",
              "      dtype='object')"
            ]
          },
          "metadata": {},
          "execution_count": 100
        }
      ]
    },
    {
      "cell_type": "markdown",
      "metadata": {
        "id": "4hEI8BY2PSjn"
      },
      "source": [
        "**Comment** from the Feature Importance analysis above, the Longitude and Latitude features rank the highest. We will look at these features for the Piecewise approach."
      ]
    },
    {
      "cell_type": "code",
      "metadata": {
        "id": "czOtO9e_k6Bo"
      },
      "source": [
        "# clustering by features 4, 5; from list above these are 'longitude' and 'latitude'\n",
        "ind=[4, 5]\n",
        "X_ind = np.vstack([X_trn[:,ind],X_tst[:,ind]])"
      ],
      "execution_count": 91,
      "outputs": []
    },
    {
      "cell_type": "code",
      "metadata": {
        "colab": {
          "base_uri": "https://localhost:8080/",
          "height": 282
        },
        "id": "ESF1oKnsjn7M",
        "outputId": "98c4acd4-1b3e-4d41-e8d3-afd611c57715"
      },
      "source": [
        "# training gaussian mixture model \n",
        "from sklearn.mixture import GaussianMixture\n",
        "\n",
        "gmm = GaussianMixture(n_components=4)\n",
        "\n",
        "# Gaussian Mixture\n",
        "gmm.fit(X_ind)\n",
        "# plot predicted clusters\n",
        "label = gmm.predict(X_ind)\n",
        "plt.scatter(X_ind[:,0],X_ind[:,1], c = label)\n",
        "# centroids:  orange dots\n",
        "plt.scatter(gmm.means_[:,0],gmm.means_[:,1], c = 'orange')"
      ],
      "execution_count": 92,
      "outputs": [
        {
          "output_type": "execute_result",
          "data": {
            "text/plain": [
              "<matplotlib.collections.PathCollection at 0x7f6c82425d10>"
            ]
          },
          "metadata": {},
          "execution_count": 92
        },
        {
          "output_type": "display_data",
          "data": {
            "image/png": "[encoded data removed]",
            "text/plain": [
              "<Figure size 432x288 with 1 Axes>"
            ]
          },
          "metadata": {
            "needs_background": "light"
          }
        }
      ]
    },
    {
      "cell_type": "markdown",
      "metadata": {
        "id": "ncqt1UjFPs5C"
      },
      "source": [
        "**Comment** reviewing 3, 4, 5 and 6 clusters, four clusters seems a reasonable choice."
      ]
    },
    {
      "cell_type": "markdown",
      "metadata": {
        "id": "ojXElPMamAcq"
      },
      "source": [
        "#### Prediction on 4 Clusters\n",
        "\n",
        "This approach can be tricky due to the clustering of the test data, i.e. clustering will shuffle the order of test property samples. To ensure that we do not mix up predictions, we keep track of the Index value throughout the clustering steps and then add back the Index when the predictions are made. We can then re-oder the predictions to align with other predictions from above approaches. **Note** if we did not do this, the predictions are very poor and essentially meaningless."
      ]
    },
    {
      "cell_type": "code",
      "metadata": {
        "id": "e5VkY0L6QKaU"
      },
      "source": [
        "# Split training data into training and validation sets\n",
        "X_train, X_val, y_train, y_val = train_test_split(X, y, test_size = 0.3, shuffle = False)\n",
        "\n",
        "# Change names to make them more meaningful\n",
        "X_train = X_trn\n",
        "X_test = X_tst"
      ],
      "execution_count": 93,
      "outputs": []
    },
    {
      "cell_type": "code",
      "metadata": {
        "colab": {
          "base_uri": "https://localhost:8080/",
          "height": 0
        },
        "id": "ywO8THgHl_Cp",
        "outputId": "607188df-73dc-43e2-a327-f944f681c340"
      },
      "source": [
        "# train clusters\n",
        "\n",
        "clusters_train = gmm.predict(X_train[:,ind])\n",
        "unique_train, counts_train = np.unique(clusters_train, return_counts=True)\n",
        "dict(zip(unique_train, counts_train))"
      ],
      "execution_count": 94,
      "outputs": [
        {
          "output_type": "execute_result",
          "data": {
            "text/plain": [
              "{0: 575, 1: 186, 2: 199, 3: 184}"
            ]
          },
          "metadata": {},
          "execution_count": 94
        }
      ]
    },
    {
      "cell_type": "code",
      "metadata": {
        "id": "jQ45lS7wIMae"
      },
      "source": [
        "# Add back in the Index for the test data so we can realign the values afterwards\n",
        "# This is important because the clustering shuffles the values and there is no way to realign unless we know the Index value\n",
        "\n",
        "index_arr = test_data['Index'].to_numpy()\n",
        "new_test = np.insert(X_test, 0, index_arr, axis=1)"
      ],
      "execution_count": 95,
      "outputs": []
    },
    {
      "cell_type": "code",
      "metadata": {
        "colab": {
          "base_uri": "https://localhost:8080/",
          "height": 0
        },
        "id": "Cm4hRIx7mT5f",
        "outputId": "c75f9283-f975-4e5d-e792-0971bf3a316f"
      },
      "source": [
        "# Test clusters\n",
        "clusters_test = gmm.predict(new_test[:,ind])\n",
        "unique_test, counts_test = np.unique(clusters_test, return_counts=True)\n",
        "dict(zip(unique_test, counts_test))"
      ],
      "execution_count": 97,
      "outputs": [
        {
          "output_type": "execute_result",
          "data": {
            "text/plain": [
              "{0: 376, 1: 148, 2: 125, 3: 53}"
            ]
          },
          "metadata": {},
          "execution_count": 97
        }
      ]
    },
    {
      "cell_type": "code",
      "metadata": {
        "id": "EidKJ4ZWmxhY"
      },
      "source": [
        "# Process data for cluster 0\n",
        "Xn0 = X_train[clusters_train==0,:]\n",
        "Xtestn0 = new_test[clusters_test==0,:]\n",
        "Xtestn0 = np.delete(Xtestn0, 0, axis=1) # drop Index from test data.\n",
        "\n",
        "ylog0 = np.log(y_train.astype('float')[clusters_train==0,:])\n",
        "yscaler0 = StandardScaler().fit(ylog0)\n",
        "yn0 = yscaler0.transform(ylog0)"
      ],
      "execution_count": 110,
      "outputs": []
    },
    {
      "cell_type": "code",
      "metadata": {
        "id": "EKWzBquum0Yx"
      },
      "source": [
        "# Process data for cluster 1\n",
        "Xn1 = X_train[clusters_train==1,:]\n",
        "Xtestn1 = new_test[clusters_test==1,:]\n",
        "Xtestn1 = np.delete(Xtestn1, 0, axis=1) # drop Index from test data.\n",
        "\n",
        "ylog1 = np.log(y_train.astype('float')[clusters_train==1,:])\n",
        "yscaler1 = StandardScaler().fit(ylog1)\n",
        "yn1 = yscaler1.transform(ylog1)"
      ],
      "execution_count": 111,
      "outputs": []
    },
    {
      "cell_type": "code",
      "metadata": {
        "id": "ZfBGAwuMm2_0"
      },
      "source": [
        "# Process data for cluster 2\n",
        "Xn2 = X_train[clusters_train==2,:]\n",
        "Xtestn2 = new_test[clusters_test==2,:]\n",
        "Xtestn2 = np.delete(Xtestn2, 0, axis=1) # drop Index from test data.\n",
        "\n",
        "ylog2 = np.log(y_train.astype('float')[clusters_train==2,:])\n",
        "yscaler2 = StandardScaler().fit(ylog2)\n",
        "yn2 = yscaler2.transform(ylog2)"
      ],
      "execution_count": 112,
      "outputs": []
    },
    {
      "cell_type": "code",
      "metadata": {
        "id": "s3qpmST-m5tG"
      },
      "source": [
        "# Process data for cluster 3\n",
        "Xn3 = X_train[clusters_train==3,:]\n",
        "Xtestn3 = new_test[clusters_test==3,:]\n",
        "Xtestn3 = np.delete(Xtestn3, 0, axis=1) # drop Index from test data.\n",
        "\n",
        "ylog3 = np.log(y_train.astype('float')[clusters_train==3,:])\n",
        "yscaler3 = StandardScaler().fit(ylog3)\n",
        "yn3 = yscaler3.transform(ylog3)"
      ],
      "execution_count": 113,
      "outputs": []
    },
    {
      "cell_type": "code",
      "metadata": {
        "colab": {
          "base_uri": "https://localhost:8080/",
          "height": 54
        },
        "id": "twzeQBFzm-CV",
        "outputId": "747329a5-2272-420a-b1ca-af42afb8d527"
      },
      "source": [
        "# Train model_0\n",
        "with pm.Model() as model_0:\n",
        "  # prior over the parameters of linear regression\n",
        "  alpha = pm.Normal('alpha', mu=0, sigma=30)\n",
        "  # we have a beta for each column of Xn0\n",
        "  beta = pm.Normal('beta', mu=0, sigma=30, shape=Xn0.shape[1])\n",
        "  # prior over the variance of the noise\n",
        "  sigma = pm.HalfCauchy('sigma_n', 5)\n",
        "  # linear regression relationship\n",
        "  #linear regression model in matrix form\n",
        "  mu = alpha + pm.math.dot(beta, Xn0.T)\n",
        "  # likelihood, be sure that observed is a 1d vector\n",
        "  like = pm.Normal('like', mu=mu, sigma=sigma, observed=yn0[:,0])\n",
        "\n",
        "with model_0:\n",
        "  # iterations of the algorithm\n",
        "  approximation = pm.fit(40000,method='advi')\n",
        "\n",
        "# samples from the posterior   \n",
        "posterior0 = approximation.sample(counts_test[0])"
      ],
      "execution_count": 114,
      "outputs": [
        {
          "output_type": "display_data",
          "data": {
            "text/html": [
              "\n",
              "    <div>\n",
              "        <style>\n",
              "            /* Turns off some styling */\n",
              "            progress {\n",
              "                /* gets rid of default border in Firefox and Opera. */\n",
              "                border: none;\n",
              "                /* Needs to be in here for Safari polyfill so background images work as expected. */\n",
              "                background-size: auto;\n",
              "            }\n",
              "            .progress-bar-interrupted, .progress-bar-interrupted::-webkit-progress-bar {\n",
              "                background: #F44336;\n",
              "            }\n",
              "        </style>\n",
              "      <progress value='40000' class='' max='40000' style='width:300px; height:20px; vertical-align: middle;'></progress>\n",
              "      100.00% [40000/40000 00:04<00:00 Average Loss = 485.73]\n",
              "    </div>\n",
              "    "
            ],
            "text/plain": [
              "<IPython.core.display.HTML object>"
            ]
          },
          "metadata": {}
        },
        {
          "output_type": "stream",
          "name": "stderr",
          "text": [
            "Finished [100%]: Average Loss = 485.69\n"
          ]
        }
      ]
    },
    {
      "cell_type": "code",
      "metadata": {
        "colab": {
          "base_uri": "https://localhost:8080/",
          "height": 54
        },
        "id": "R7RkKF-_nCP9",
        "outputId": "8987c6da-a25d-49b0-8de3-e5ba56397e15"
      },
      "source": [
        "# Train model_1\n",
        "with pm.Model() as model_1:\n",
        "  # prior over the parameters of linear regression\n",
        "  alpha = pm.Normal('alpha', mu=0, sigma=30)\n",
        "  # we have a beta for each column of Xn\n",
        "  beta = pm.Normal('beta', mu=0, sigma=30, shape=Xn1.shape[1])\n",
        "  # prior over the variance of the noise\n",
        "  sigma = pm.HalfCauchy('sigma_n', 5)\n",
        "  # linear regression relationship\n",
        "  #linear regression model in matrix form\n",
        "  mu = alpha + pm.math.dot(beta, Xn1.T)\n",
        "  # likelihood, # \n",
        "  like = pm.Normal('like', mu=mu, sigma=sigma, observed=yn1[:,0])\n",
        "  \n",
        "with model_1:\n",
        "  # iterations of the algorithm\n",
        "  approximation = pm.fit(40000,method='advi')\n",
        "\n",
        "# samples from the posterior    \n",
        "posterior1 = approximation.sample(counts_test[1])"
      ],
      "execution_count": 115,
      "outputs": [
        {
          "output_type": "display_data",
          "data": {
            "text/html": [
              "\n",
              "    <div>\n",
              "        <style>\n",
              "            /* Turns off some styling */\n",
              "            progress {\n",
              "                /* gets rid of default border in Firefox and Opera. */\n",
              "                border: none;\n",
              "                /* Needs to be in here for Safari polyfill so background images work as expected. */\n",
              "                background-size: auto;\n",
              "            }\n",
              "            .progress-bar-interrupted, .progress-bar-interrupted::-webkit-progress-bar {\n",
              "                background: #F44336;\n",
              "            }\n",
              "        </style>\n",
              "      <progress value='40000' class='' max='40000' style='width:300px; height:20px; vertical-align: middle;'></progress>\n",
              "      100.00% [40000/40000 00:04<00:00 Average Loss = 200]\n",
              "    </div>\n",
              "    "
            ],
            "text/plain": [
              "<IPython.core.display.HTML object>"
            ]
          },
          "metadata": {}
        },
        {
          "output_type": "stream",
          "name": "stderr",
          "text": [
            "Finished [100%]: Average Loss = 199.99\n"
          ]
        }
      ]
    },
    {
      "cell_type": "code",
      "metadata": {
        "colab": {
          "base_uri": "https://localhost:8080/",
          "height": 54
        },
        "id": "tXIIUP8jnI3U",
        "outputId": "06ca8c70-2ead-4e6a-c606-53f80a29e977"
      },
      "source": [
        "# Train model_2\n",
        "with pm.Model() as model_2:\n",
        "  # prior over the parameters of linear regression\n",
        "  alpha = pm.Normal('alpha', mu=0, sigma=30)\n",
        "  # we have a beta for each column of Xn\n",
        "  beta = pm.Normal('beta', mu=0, sigma=30, shape=Xn2.shape[1])\n",
        "  # prior over the variance of the noise\n",
        "  sigma = pm.HalfCauchy('sigma_n', 5)\n",
        "  # linear regression relationship\n",
        "  # linear regression model in matrix form\n",
        "  mu = alpha + pm.math.dot(beta, Xn2.T)\n",
        "  # likelihood, be sure that observed is a 1d vector\n",
        "  like = pm.Normal('like', mu=mu, sigma=sigma, observed=yn2[:,0])\n",
        "    \n",
        "with model_2:\n",
        "  # iterations of the algorithms\n",
        "  approximation = pm.fit(40000,method='advi')\n",
        "\n",
        "# samples from the posterior    \n",
        "posterior2 = approximation.sample(counts_test[2])"
      ],
      "execution_count": 116,
      "outputs": [
        {
          "output_type": "display_data",
          "data": {
            "text/html": [
              "\n",
              "    <div>\n",
              "        <style>\n",
              "            /* Turns off some styling */\n",
              "            progress {\n",
              "                /* gets rid of default border in Firefox and Opera. */\n",
              "                border: none;\n",
              "                /* Needs to be in here for Safari polyfill so background images work as expected. */\n",
              "                background-size: auto;\n",
              "            }\n",
              "            .progress-bar-interrupted, .progress-bar-interrupted::-webkit-progress-bar {\n",
              "                background: #F44336;\n",
              "            }\n",
              "        </style>\n",
              "      <progress value='40000' class='' max='40000' style='width:300px; height:20px; vertical-align: middle;'></progress>\n",
              "      100.00% [40000/40000 00:04<00:00 Average Loss = 216.15]\n",
              "    </div>\n",
              "    "
            ],
            "text/plain": [
              "<IPython.core.display.HTML object>"
            ]
          },
          "metadata": {}
        },
        {
          "output_type": "stream",
          "name": "stderr",
          "text": [
            "Finished [100%]: Average Loss = 216.02\n"
          ]
        }
      ]
    },
    {
      "cell_type": "code",
      "metadata": {
        "colab": {
          "base_uri": "https://localhost:8080/",
          "height": 54
        },
        "id": "4-QZ3k3tnMvl",
        "outputId": "8e583edb-e8dc-4c61-d9c2-b514b9f88f6f"
      },
      "source": [
        "# Train model_3\n",
        "with pm.Model() as model3:\n",
        "  # prior over the parameters of linear regression\n",
        "  alpha = pm.Normal('alpha', mu=0, sigma=30)\n",
        "  # we have a beta for each column of Xn\n",
        "  beta = pm.Normal('beta', mu=0, sigma=30, shape=Xn3.shape[1])\n",
        "  # prior over the variance of the noise\n",
        "  sigma = pm.HalfCauchy('sigma_n', 5)\n",
        "  # linear regression relationship\n",
        "  mu = alpha + pm.math.dot(beta, Xn3.T)#linear regression model in matrix form\n",
        "  # likelihood, be sure that observed is a 1d vector\n",
        "  like = pm.Normal('like', mu=mu, sigma=sigma, observed=yn3[:,0])\n",
        "    \n",
        "with model3:\n",
        "  # number of iterations of the algorithms\n",
        "  approximation = pm.fit(40000,method='advi')\n",
        "\n",
        "# samples from the posterior     \n",
        "posterior3 = approximation.sample(counts_test[3])"
      ],
      "execution_count": 117,
      "outputs": [
        {
          "output_type": "display_data",
          "data": {
            "text/html": [
              "\n",
              "    <div>\n",
              "        <style>\n",
              "            /* Turns off some styling */\n",
              "            progress {\n",
              "                /* gets rid of default border in Firefox and Opera. */\n",
              "                border: none;\n",
              "                /* Needs to be in here for Safari polyfill so background images work as expected. */\n",
              "                background-size: auto;\n",
              "            }\n",
              "            .progress-bar-interrupted, .progress-bar-interrupted::-webkit-progress-bar {\n",
              "                background: #F44336;\n",
              "            }\n",
              "        </style>\n",
              "      <progress value='40000' class='' max='40000' style='width:300px; height:20px; vertical-align: middle;'></progress>\n",
              "      100.00% [40000/40000 00:04<00:00 Average Loss = 220.92]\n",
              "    </div>\n",
              "    "
            ],
            "text/plain": [
              "<IPython.core.display.HTML object>"
            ]
          },
          "metadata": {}
        },
        {
          "output_type": "stream",
          "name": "stderr",
          "text": [
            "Finished [100%]: Average Loss = 220.91\n"
          ]
        }
      ]
    },
    {
      "cell_type": "code",
      "metadata": {
        "id": "6_-fZmXqnRF2"
      },
      "source": [
        "# Posterior predictive checks (PPCs)\n",
        "def ppc(alpha,beta,sigma, X,  nsamples=500):\n",
        "    #we select nsamples random samples from the posterior\n",
        "    ind = np.random.randint(0,beta.shape[0],size=nsamples)\n",
        "    alphai = alpha[ind]\n",
        "    betai = beta[ind,:]\n",
        "    sigmai = sigma[ind]\n",
        "\n",
        "    Ypred = np.zeros((nsamples,X.shape[0]))\n",
        "    for i in range(X.shape[0]):\n",
        "        #we generate data from linear model\n",
        "        y_pred = alphai + np.dot(betai, X[i:i+1,:].T).T +np.random.randn(len(sigmai))*sigmai\n",
        "        Ypred[:,i]=y_pred[0,:]\n",
        "    return Ypred"
      ],
      "execution_count": 118,
      "outputs": []
    },
    {
      "cell_type": "code",
      "metadata": {
        "colab": {
          "base_uri": "https://localhost:8080/",
          "height": 283
        },
        "id": "hoQUu310nSbK",
        "outputId": "2f35b1e2-e5ba-4528-a3ba-d20cce347551"
      },
      "source": [
        "# Simulation for cluster 0\n",
        "# Reverse the scaling for predicted value to get back to the original price scale\n",
        "Ypred0 = yscaler0.inverse_transform(ppc(posterior0['alpha'],posterior0['beta'],posterior0['sigma_n'],Xn0,  nsamples=200))\n",
        "for i in range(Ypred0.shape[0]):\n",
        "    az.plot_dist( Ypred0[i,:],color='r',plot_kwargs={\"linewidth\": 0.2})\n",
        "az.plot_dist(Ypred0[i,:],color='r',plot_kwargs={\"linewidth\": 0.2}, label=\"prediction\")\n",
        "#plt.plot(np.linspace(-8,8,100),norm.pdf(np.linspace(-8,8,100),df=np.mean(posterior_1['nu'])))\n",
        "#plt.xlim([0,10e7])\n",
        "az.plot_dist(ylog0,label='true observations');\n",
        "plt.legend()\n",
        "plt.xlabel(\"log(y) - output variable\")\n",
        "plt.ylabel(\"density plot\");"
      ],
      "execution_count": 119,
      "outputs": [
        {
          "output_type": "display_data",
          "data": {
            "image/png": "[encoded data removed]",
            "text/plain": [
              "<Figure size 432x288 with 1 Axes>"
            ]
          },
          "metadata": {
            "needs_background": "light"
          }
        }
      ]
    },
    {
      "cell_type": "code",
      "metadata": {
        "colab": {
          "base_uri": "https://localhost:8080/",
          "height": 283
        },
        "id": "vyvgl4I2nXZg",
        "outputId": "8fa53563-7405-421e-b7b3-5317efb8ff11"
      },
      "source": [
        "#Simulation for cluster 1\n",
        "# Reverse the scaling for predicted value to get back to the original price scale\n",
        "Ypred1 = yscaler1.inverse_transform(ppc(posterior1['alpha'],posterior1['beta'],posterior1['sigma_n'],Xn1,  nsamples=200))\n",
        "for i in range(Ypred1.shape[0]):\n",
        "    az.plot_dist( Ypred1[i,:],color='r',plot_kwargs={\"linewidth\": 0.2})\n",
        "az.plot_dist(Ypred1[i,:],color='r',plot_kwargs={\"linewidth\": 0.2}, label=\"prediction\")\n",
        "#plt.plot(np.linspace(-8,8,100),norm.pdf(np.linspace(-8,8,100),df=np.mean(posterior_1['nu'])))\n",
        "#plt.xlim([0,10e7])\n",
        "az.plot_dist(ylog1,label='true observations');\n",
        "plt.legend()\n",
        "plt.xlabel(\"log(y) - output variable\")\n",
        "plt.ylabel(\"density plot\");"
      ],
      "execution_count": 120,
      "outputs": [
        {
          "output_type": "display_data",
          "data": {
            "image/png": "[encoded data removed]",
            "text/plain": [
              "<Figure size 432x288 with 1 Axes>"
            ]
          },
          "metadata": {
            "needs_background": "light"
          }
        }
      ]
    },
    {
      "cell_type": "code",
      "metadata": {
        "colab": {
          "base_uri": "https://localhost:8080/",
          "height": 283
        },
        "id": "wB9iCDxGna7L",
        "outputId": "5bfaf9f4-e2f7-4336-f785-aeb9eb092bd0"
      },
      "source": [
        "#Simulation\n",
        "Ypred2 = yscaler2.inverse_transform(ppc(posterior2['alpha'],posterior2['beta'],posterior2['sigma_n'],Xn2,  nsamples=200))\n",
        "for i in range(Ypred2.shape[0]):\n",
        "    az.plot_dist( Ypred2[i,:],color='r',plot_kwargs={\"linewidth\": 0.2})\n",
        "az.plot_dist(Ypred2[i,:],color='r',plot_kwargs={\"linewidth\": 0.2}, label=\"prediction\")\n",
        "#plt.plot(np.linspace(-8,8,100),norm.pdf(np.linspace(-8,8,100),df=np.mean(posterior_1['nu'])))\n",
        "#plt.xlim([0,10e7])\n",
        "az.plot_dist(ylog2,label='true observations');\n",
        "plt.legend()\n",
        "plt.xlabel(\"log(y) - output variable\")\n",
        "plt.ylabel(\"density plot\");"
      ],
      "execution_count": 121,
      "outputs": [
        {
          "output_type": "display_data",
          "data": {
            "image/png": "[encoded data removed]",
            "text/plain": [
              "<Figure size 432x288 with 1 Axes>"
            ]
          },
          "metadata": {
            "needs_background": "light"
          }
        }
      ]
    },
    {
      "cell_type": "code",
      "metadata": {
        "colab": {
          "base_uri": "https://localhost:8080/",
          "height": 283
        },
        "id": "oSG-dcm2nfKq",
        "outputId": "508e73ed-2dbe-40dd-81ed-6f7e43d2d627"
      },
      "source": [
        "#Simulation for Cluster 3\n",
        "# Reverse the scaling for predicted value to get back to the original price scale\n",
        "Ypred3 = yscaler3.inverse_transform(ppc(posterior3['alpha'],posterior3['beta'],posterior3['sigma_n'],Xn3,  nsamples=200))\n",
        "for i in range(Ypred3.shape[0]):\n",
        "    az.plot_dist( Ypred3[i,:],color='r',plot_kwargs={\"linewidth\": 0.2})\n",
        "az.plot_dist(Ypred3[i,:],color='r',plot_kwargs={\"linewidth\": 0.2}, label=\"prediction\")\n",
        "#plt.plot(np.linspace(-8,8,100),norm.pdf(np.linspace(-8,8,100),df=np.mean(posterior_1['nu'])))\n",
        "#plt.xlim([0,10e7])\n",
        "az.plot_dist(ylog3,label='true observations');\n",
        "plt.legend()\n",
        "plt.xlabel(\"log(y) - output variable\")\n",
        "plt.ylabel(\"density plot\");"
      ],
      "execution_count": 122,
      "outputs": [
        {
          "output_type": "display_data",
          "data": {
            "image/png": "[encoded data removed]",
            "text/plain": [
              "<Figure size 432x288 with 1 Axes>"
            ]
          },
          "metadata": {
            "needs_background": "light"
          }
        }
      ]
    },
    {
      "cell_type": "code",
      "metadata": {
        "colab": {
          "base_uri": "https://localhost:8080/",
          "height": 283
        },
        "id": "hsWzYfOanjK7",
        "outputId": "18f025b7-5f86-4845-ca54-4aee20f904bf"
      },
      "source": [
        "# Using PPC, take 200 samples from the posteriors of each cluster\n",
        "Ypred0 = ppc(posterior0['alpha'],posterior0['beta'],posterior0['sigma_n'],Xn0,  nsamples=200)\n",
        "Ypred1 = ppc(posterior1['alpha'],posterior1['beta'],posterior1['sigma_n'],Xn1,  nsamples=200)\n",
        "Ypred2 = ppc(posterior2['alpha'],posterior2['beta'],posterior2['sigma_n'],Xn2,  nsamples=200)\n",
        "Ypred3 = ppc(posterior3['alpha'],posterior3['beta'],posterior3['sigma_n'],Xn3,  nsamples=200)\n",
        "\n",
        "# Create a combined predicted value by reversing the scaling done on each cluster prediction\n",
        "Ypred = np.hstack([ yscaler0.inverse_transform(Ypred0),\n",
        "                 yscaler1.inverse_transform(Ypred1),\n",
        "                 yscaler2.inverse_transform(Ypred2),\n",
        "                 yscaler3.inverse_transform(Ypred3)])\n",
        "\n",
        "# Plot the distribution for the combined set of samples\n",
        "for i in range(Ypred.shape[0]):\n",
        "    az.plot_dist( Ypred[i,:],color='r',plot_kwargs={\"linewidth\": 0.2})\n",
        "\n",
        "# plot the predicted distributions against the true distribution to see how they are close\n",
        "az.plot_dist(Ypred[i,:],color='r',plot_kwargs={\"linewidth\": 0.2}, label=\"prediction\")\n",
        "ylog=np.vstack([ylog0,ylog1,ylog2,ylog3])\n",
        "az.plot_dist(ylog,label='true observations');\n",
        "plt.legend()\n",
        "plt.xlabel(\"log(y) - output variable\")\n",
        "plt.ylabel(\"density plot\");"
      ],
      "execution_count": 123,
      "outputs": [
        {
          "output_type": "display_data",
          "data": {
            "image/png": "[encoded data removed]",
            "text/plain": [
              "<Figure size 432x288 with 1 Axes>"
            ]
          },
          "metadata": {
            "needs_background": "light"
          }
        }
      ]
    },
    {
      "cell_type": "code",
      "metadata": {
        "id": "XSQhGvYDoFBj"
      },
      "source": [
        "# cluster 0\n",
        "y_pred_BLR0 = np.exp(yscaler0.inverse_transform(np.mean(posterior0['alpha']) \n",
        "              + np.dot(np.mean(posterior0['beta'],axis=0), Xtestn0.T)))\n",
        "\n",
        "# cluster 1\n",
        "y_pred_BLR1 = np.exp(yscaler1.inverse_transform(np.mean(posterior1['alpha']) \n",
        "              + np.dot(np.mean(posterior1['beta'],axis=0), Xtestn1.T)))\n",
        "\n",
        "# cluster 2\n",
        "y_pred_BLR2 = np.exp(yscaler2.inverse_transform(np.mean(posterior2['alpha']) \n",
        "              + np.dot(np.mean(posterior2['beta'],axis=0), Xtestn2.T)))\n",
        "\n",
        "# cluster 3\n",
        "y_pred_BLR3 = np.exp(yscaler3.inverse_transform(np.mean(posterior3['alpha']) \n",
        "              + np.dot(np.mean(posterior3['beta'],axis=0), Xtestn3.T)))"
      ],
      "execution_count": 125,
      "outputs": []
    },
    {
      "cell_type": "code",
      "metadata": {
        "id": "z7_b8Q-6ORpP"
      },
      "source": [
        "# Add back in the relevant indices ('Index' column)for each clusters before joining the clusters\n",
        "\n",
        "# Cluster 0\n",
        "idx_cluster0 = new_test[clusters_test==0,:1]\n",
        "idx_cluster0 = np.reshape(idx_cluster0, len(y_pred_BLR0))\n",
        "y_pred_BLR0 = np.dstack((idx_cluster0, y_pred_BLR0))\n",
        "\n",
        "# Cluster 1\n",
        "idx_cluster1 = new_test[clusters_test==1,:1]\n",
        "idx_cluster1 = np.reshape(idx_cluster1, len(y_pred_BLR1))\n",
        "y_pred_BLR1 = np.dstack((idx_cluster1, y_pred_BLR1))\n",
        "\n",
        "# Cluster 2\n",
        "idx_cluster2 = new_test[clusters_test==2,:1]\n",
        "idx_cluster2 = np.reshape(idx_cluster2, len(y_pred_BLR2))\n",
        "y_pred_BLR2 = np.dstack((idx_cluster2, y_pred_BLR2))\n",
        "\n",
        "# Cluster 2\n",
        "idx_cluster3 = new_test[clusters_test==3,:1]\n",
        "idx_cluster3 = np.reshape(idx_cluster3, len(y_pred_BLR3))\n",
        "y_pred_BLR3 = np.dstack((idx_cluster3, y_pred_BLR3))"
      ],
      "execution_count": 163,
      "outputs": []
    },
    {
      "cell_type": "code",
      "metadata": {
        "id": "A_tAE0U7OOR2"
      },
      "source": [
        "joint_y_pred=np.hstack([y_pred_BLR0, y_pred_BLR1, y_pred_BLR2, y_pred_BLR3])\n",
        "joint_y_pred = joint_y_pred.reshape((-1, 2)) # reshape to remove extraneous dimension in array\n",
        "joint_y_pred = joint_y_pred[joint_y_pred[:,0].argsort()] # use sorted indexes to sort data columns in order of index value\n",
        "joint_y_pred_values = joint_y_pred[:,1] # remove extraneous dimension"
      ],
      "execution_count": 178,
      "outputs": []
    },
    {
      "cell_type": "code",
      "metadata": {
        "colab": {
          "base_uri": "https://localhost:8080/",
          "height": 419
        },
        "id": "-aJCzAsvqrwC",
        "outputId": "7a7efe04-53a9-43a2-9d40-2dcba4016342"
      },
      "source": [
        "# Save predictions to predictions dataframe\n",
        "df_1 = full_test_predictions\n",
        "df_2 = pd.DataFrame(joint_y_pred_values, columns=['Price_Piecewise'])\n",
        "full_test_predictions = pd.concat([df_1, df_2], axis=1)\n",
        "full_test_predictions"
      ],
      "execution_count": 180,
      "outputs": [
        {
          "output_type": "execute_result",
          "data": {
            "text/html": [
              "<div>\n",
              "<style scoped>\n",
              "    .dataframe tbody tr th:only-of-type {\n",
              "        vertical-align: middle;\n",
              "    }\n",
              "\n",
              "    .dataframe tbody tr th {\n",
              "        vertical-align: top;\n",
              "    }\n",
              "\n",
              "    .dataframe thead th {\n",
              "        text-align: right;\n",
              "    }\n",
              "</style>\n",
              "<table border=\"1\" class=\"dataframe\">\n",
              "  <thead>\n",
              "    <tr style=\"text-align: right;\">\n",
              "      <th></th>\n",
              "      <th>Index</th>\n",
              "      <th>Baseline_price</th>\n",
              "      <th>Price_Piecewise</th>\n",
              "    </tr>\n",
              "  </thead>\n",
              "  <tbody>\n",
              "    <tr>\n",
              "      <th>0</th>\n",
              "      <td>1639</td>\n",
              "      <td>4.150231e+05</td>\n",
              "      <td>403557.808203</td>\n",
              "    </tr>\n",
              "    <tr>\n",
              "      <th>1</th>\n",
              "      <td>1640</td>\n",
              "      <td>5.011805e+05</td>\n",
              "      <td>466556.105237</td>\n",
              "    </tr>\n",
              "    <tr>\n",
              "      <th>2</th>\n",
              "      <td>1641</td>\n",
              "      <td>6.149604e+05</td>\n",
              "      <td>351471.425293</td>\n",
              "    </tr>\n",
              "    <tr>\n",
              "      <th>3</th>\n",
              "      <td>1642</td>\n",
              "      <td>1.305630e+06</td>\n",
              "      <td>843346.236841</td>\n",
              "    </tr>\n",
              "    <tr>\n",
              "      <th>4</th>\n",
              "      <td>1643</td>\n",
              "      <td>4.293751e+05</td>\n",
              "      <td>390202.000254</td>\n",
              "    </tr>\n",
              "    <tr>\n",
              "      <th>...</th>\n",
              "      <td>...</td>\n",
              "      <td>...</td>\n",
              "      <td>...</td>\n",
              "    </tr>\n",
              "    <tr>\n",
              "      <th>697</th>\n",
              "      <td>2336</td>\n",
              "      <td>2.236142e+05</td>\n",
              "      <td>192244.199039</td>\n",
              "    </tr>\n",
              "    <tr>\n",
              "      <th>698</th>\n",
              "      <td>2337</td>\n",
              "      <td>4.069345e+05</td>\n",
              "      <td>267923.491091</td>\n",
              "    </tr>\n",
              "    <tr>\n",
              "      <th>699</th>\n",
              "      <td>2338</td>\n",
              "      <td>5.456849e+05</td>\n",
              "      <td>394942.010511</td>\n",
              "    </tr>\n",
              "    <tr>\n",
              "      <th>700</th>\n",
              "      <td>2339</td>\n",
              "      <td>6.364734e+05</td>\n",
              "      <td>709439.692705</td>\n",
              "    </tr>\n",
              "    <tr>\n",
              "      <th>701</th>\n",
              "      <td>2340</td>\n",
              "      <td>7.246476e+05</td>\n",
              "      <td>484546.140123</td>\n",
              "    </tr>\n",
              "  </tbody>\n",
              "</table>\n",
              "<p>702 rows × 3 columns</p>\n",
              "</div>"
            ],
            "text/plain": [
              "     Index  Baseline_price  Price_Piecewise\n",
              "0     1639    4.150231e+05    403557.808203\n",
              "1     1640    5.011805e+05    466556.105237\n",
              "2     1641    6.149604e+05    351471.425293\n",
              "3     1642    1.305630e+06    843346.236841\n",
              "4     1643    4.293751e+05    390202.000254\n",
              "..     ...             ...              ...\n",
              "697   2336    2.236142e+05    192244.199039\n",
              "698   2337    4.069345e+05    267923.491091\n",
              "699   2338    5.456849e+05    394942.010511\n",
              "700   2339    6.364734e+05    709439.692705\n",
              "701   2340    7.246476e+05    484546.140123\n",
              "\n",
              "[702 rows x 3 columns]"
            ]
          },
          "metadata": {},
          "execution_count": 180
        }
      ]
    },
    {
      "cell_type": "code",
      "metadata": {
        "colab": {
          "base_uri": "https://localhost:8080/",
          "height": 0
        },
        "id": "v_WQ0UpiZgbO",
        "outputId": "0a1770e4-1faa-4ac8-88fc-63fae7a3b386"
      },
      "source": [
        "mape_bayes_cluster = MAPE(y_pred_blr_tst, joint_y_pred_values)\n",
        "\n",
        "print(\"MAPE_validation: %.4f   MAPE_bayes_cluster: %.4f\" %(mape_val, mape_bayes_cluster))"
      ],
      "execution_count": 181,
      "outputs": [
        {
          "output_type": "stream",
          "name": "stdout",
          "text": [
            "MAPE_validation: 0.1715   MAPE_bayes_cluster: 0.2744\n"
          ]
        }
      ]
    },
    {
      "cell_type": "markdown",
      "metadata": {
        "id": "oZWmW8oqZhLt"
      },
      "source": [
        "**Comments** MAPE_bayes_cluster is the MAPE score when comparing the baseline estimated prices on the test dataset with the estimated prices from the Bayesian Piecewise Regression Model with all key features. This score of 27.4 % is reasonable for the method and is attributed to the use of only 2 features, where the other key feature also have a strong impact on performance of predictions. If the model was trained in clusters of all features, we would likely see a small improvement over just unclustered features.\n",
        "\n",
        "Key challenge for this approach is to keep track of Index values for each cluster. Clusters do not contain sequential values but a mix depending on how the cluster algorithm selected the values for each cluster. The approach taken was:\n",
        "\n",
        "- Re-insert the index in the Test Dataset before separating clusters\n",
        "\n",
        "- Separate the data into clusters and drop the Index before training and testing each cluster - maintain the 'shape' of the index values for each cluster\n",
        "\n",
        "- Follow predictions by each cluster, re-insert the relevant Index values for each cluster\n",
        "\n",
        "- Because these are not ordered, we have to sort the data again by Index value after combining each cluster prediction\n",
        "\n",
        "- Once the predictions are sorted by index, we can now compare these with previous results and calculate the MAPE value.\n",
        "\n",
        "If we did not do this, we would get mis-aligned prediction values and the MAPE value would be meaningless."
      ]
    },
    {
      "cell_type": "markdown",
      "metadata": {
        "id": "_kFgkUA85_pn"
      },
      "source": [
        "# BAYESIAN NN"
      ]
    },
    {
      "cell_type": "markdown",
      "metadata": {
        "id": "ELer5PV37ftX"
      },
      "source": [
        "A [Bayesian network](https://en.wikipedia.org/wiki/Bayesian_network) (also known as a Bayes network, Bayes net, belief network, or decision network) is a probabilistic graphical model that represents a set of variables and their conditional dependencies via a directed acyclic graph (DAG). \n",
        "\n",
        "* Bayesian networks are ideal for taking an event that occurred and predicting the likelihood that any one of several possible known causes was the contributing factor. \n",
        "* For example, a Bayesian network could represent the probabilistic relationships between diseases and symptoms. \n",
        "* Given symptoms, the network can be used to compute the probabilities of the presence of various diseases."
      ]
    },
    {
      "cell_type": "markdown",
      "metadata": {
        "id": "z0kauv1L5_po"
      },
      "source": [
        "It was expected that this approach would perform the best of all above approaches. However, it was challenging and time-consuming tuning hyperparameters for this model. With more time, a GridSearch approach may have worked better, but the calculation times of each step made this too long to be effective. With manual changes, I got small improvements. However, it is a factor in Neural Network performance tuning that the steps require careful testing and more time.\n",
        "\n",
        "Even so, the Bayesian Neural Networks did not perform well and in fact was the worst of all approaches. With further research I will look to see if traditional approaches such as XGBoost perform better than Bayesian methods on such challenges. A key take-away was it has been seen that Bayesian methods are more challenging to work with and tune that other methods encountered."
      ]
    },
    {
      "cell_type": "code",
      "metadata": {
        "id": "0smpwCET5_pp",
        "colab": {
          "base_uri": "https://localhost:8080/",
          "height": 0
        },
        "outputId": "d1ca5736-bfc2-4ed7-c67c-b133f6c7cc1a"
      },
      "source": [
        "# Instantiate Kernel\n",
        "kernel = GPy.kern.RBF(input_dim=1,lengthscale=0.15,variance=0.2)\n",
        "print(kernel)"
      ],
      "execution_count": 189,
      "outputs": [
        {
          "output_type": "stream",
          "name": "stdout",
          "text": [
            "  \u001b[1mrbf.       \u001b[0;0m  |  value  |  constraints  |  priors\n",
            "  \u001b[1mvariance   \u001b[0;0m  |    0.2  |      +ve      |        \n",
            "  \u001b[1mlengthscale\u001b[0;0m  |   0.15  |      +ve      |        \n"
          ]
        }
      ]
    },
    {
      "cell_type": "code",
      "metadata": {
        "id": "rZK4NTZhcJOI"
      },
      "source": [
        "# Split training data into training and validation sets\n",
        "# X_train, X_val, y_train, y_val = train_test_split(X, y, test_size = 0.3, shuffle = False)\n",
        "\n",
        "# Change names to make them more meaningful\n",
        "X_train = X_trn\n",
        "X_test = X_tst"
      ],
      "execution_count": 192,
      "outputs": []
    },
    {
      "cell_type": "code",
      "metadata": {
        "id": "kfmxtt47dqag"
      },
      "source": [
        "# Scale 'Price' if the dataset if Training\n",
        "\n",
        "ylog = np.log(y_train.astype('float'))\n",
        "yscaler = standardscaler.fit(ylog)\n",
        "y_train =  yscaler.transform(ylog)"
      ],
      "execution_count": 193,
      "outputs": []
    },
    {
      "cell_type": "code",
      "metadata": {
        "id": "l7W_Ht59dMjE"
      },
      "source": [
        "# https://theano-pymc.readthedocs.io/en/latest/\n",
        "import theano\n",
        "\n",
        "# add a column of ones to include an intercept in the model\n",
        "x1 = np.hstack([np.ones((X_train.shape[0],1)), X_train])\n",
        "floatX = theano.config.floatX"
      ],
      "execution_count": 194,
      "outputs": []
    },
    {
      "cell_type": "code",
      "metadata": {
        "id": "U9OcKk8RU5ag"
      },
      "source": [
        "l = 15\n",
        "# Initialize random weights between each layer\n",
        "# we do that to help the numerical algorithm that computes the posterior\n",
        "init_1 = np.random.randn(x1.shape[1], l).astype(floatX)\n",
        "init_out = np.random.randn(l).astype(floatX)\n",
        "\n",
        "# pymc3 model as neural_network\n",
        "with pm.Model() as bayesian_neural_network:\n",
        "    # we convert the data in theano type so we can do dot products with the correct type.\n",
        "    ann_input = pm.Data('ann_input', x1)\n",
        "    ann_output = pm.Data('ann_output', y_train)\n",
        "    # Priors \n",
        "    # Weights from input to hidden layer\n",
        "    weights_in_1 = pm.Normal('w_1', 0, sigma=1,\n",
        "                             shape=(x1.shape[1], l), testval=init_1)\n",
        "    # Weights from hidden layer to output\n",
        "    weights_2_out = pm.Normal('w_0', 0, sigma=1,\n",
        "                              shape=(l,),testval=init_out)\n",
        "\n",
        "    # Build neural-network using tanh activation function\n",
        "    # Inner layer\n",
        "    act_1 = pm.math.tanh(pm.math.dot(ann_input,weights_in_1))\n",
        "    # Linear layer, like in Linear regression\n",
        "    act_out = pm.Deterministic('act_out',pm.math.dot(act_1, weights_2_out))\n",
        "\n",
        "    # standard deviation of noise\n",
        "    sigma = pm.HalfCauchy('sigma',5)\n",
        "\n",
        "    # Normal likelihood\n",
        "    out = pm.Normal('out',\n",
        "                       act_out,\n",
        "                       sigma=sigma,\n",
        "                       observed=ann_output[:,0])"
      ],
      "execution_count": 195,
      "outputs": []
    },
    {
      "cell_type": "code",
      "metadata": {
        "colab": {
          "base_uri": "https://localhost:8080/",
          "height": 156
        },
        "id": "WFAYsnzpm70b",
        "outputId": "a24f088f-f5af-4954-b73c-5fa70084e21f"
      },
      "source": [
        "par_1 = 100\n",
        "par_2 = 1000\n",
        "\n",
        "with bayesian_neural_network:\n",
        "  posterior = pm.sample(par_1, tune=par_2, chains=1)"
      ],
      "execution_count": 187,
      "outputs": [
        {
          "output_type": "stream",
          "name": "stderr",
          "text": [
            "Only 100 samples in chain.\n",
            "Auto-assigning NUTS sampler...\n",
            "Initializing NUTS using jitter+adapt_diag...\n",
            "Sequential sampling (1 chains in 1 job)\n",
            "NUTS: [sigma, w_0, w_1]\n"
          ]
        },
        {
          "output_type": "display_data",
          "data": {
            "text/html": [
              "\n",
              "    <div>\n",
              "        <style>\n",
              "            /* Turns off some styling */\n",
              "            progress {\n",
              "                /* gets rid of default border in Firefox and Opera. */\n",
              "                border: none;\n",
              "                /* Needs to be in here for Safari polyfill so background images work as expected. */\n",
              "                background-size: auto;\n",
              "            }\n",
              "            .progress-bar-interrupted, .progress-bar-interrupted::-webkit-progress-bar {\n",
              "                background: #F44336;\n",
              "            }\n",
              "        </style>\n",
              "      <progress value='945' class='' max='1100' style='width:300px; height:20px; vertical-align: middle;'></progress>\n",
              "      85.91% [945/1100 09:46<01:36 Sampling chain 0, 0 divergences]\n",
              "    </div>\n",
              "    "
            ],
            "text/plain": [
              "<IPython.core.display.HTML object>"
            ]
          },
          "metadata": {}
        },
        {
          "output_type": "stream",
          "name": "stderr",
          "text": [
            "Sampling 1 chain for 945 tune and 0 draw iterations (945 + 0 draws total) took 586 seconds.\n",
            "No posterior samples. Unable to run convergence checks\n"
          ]
        }
      ]
    },
    {
      "cell_type": "code",
      "metadata": {
        "colab": {
          "base_uri": "https://localhost:8080/",
          "height": 54
        },
        "id": "Eb9gsxyGVmoW",
        "outputId": "aa50c0f4-f24a-40a5-9e44-9e4f43f5ee2f"
      },
      "source": [
        "# we can do instead an approximated inference\n",
        "param3 = 20000 # start with 1000, then use 50000+\n",
        "VI = 'advi'  # 'advi', 'fullrank_advi', 'svgd', 'asvgd', 'nfvi'\n",
        "OP = pm.adam # pm.adam, pm.sgd, pm.adagrad, pm.adagrad_window, pm.adadelta\n",
        "LR = 0.001    \n",
        "\n",
        "with bayesian_neural_network:\n",
        "    approx = pm.fit(param3, method=VI, obj_optimizer=pm.adam(learning_rate=LR))"
      ],
      "execution_count": 196,
      "outputs": [
        {
          "output_type": "display_data",
          "data": {
            "text/html": [
              "\n",
              "    <div>\n",
              "        <style>\n",
              "            /* Turns off some styling */\n",
              "            progress {\n",
              "                /* gets rid of default border in Firefox and Opera. */\n",
              "                border: none;\n",
              "                /* Needs to be in here for Safari polyfill so background images work as expected. */\n",
              "                background-size: auto;\n",
              "            }\n",
              "            .progress-bar-interrupted, .progress-bar-interrupted::-webkit-progress-bar {\n",
              "                background: #F44336;\n",
              "            }\n",
              "        </style>\n",
              "      <progress value='20000' class='' max='20000' style='width:300px; height:20px; vertical-align: middle;'></progress>\n",
              "      100.00% [20000/20000 00:34<00:00 Average Loss = 1,016.1]\n",
              "    </div>\n",
              "    "
            ],
            "text/plain": [
              "<IPython.core.display.HTML object>"
            ]
          },
          "metadata": {}
        },
        {
          "output_type": "stream",
          "name": "stderr",
          "text": [
            "Finished [100%]: Average Loss = 1,016.2\n"
          ]
        }
      ]
    },
    {
      "cell_type": "code",
      "metadata": {
        "colab": {
          "base_uri": "https://localhost:8080/",
          "height": 279
        },
        "id": "EfYUAf29VqI9",
        "outputId": "fc80e384-29b5-45a0-dc4e-c2d75a92dd91"
      },
      "source": [
        "# plot \n",
        "pb.plot(approx.hist, label='Variational Inference: '+ VI.upper(), alpha=.3)\n",
        "pb.legend(loc='upper right')\n",
        "# Evidence Lower Bound (ELBO)\n",
        "# https://en.wikipedia.org/wiki/Evidence_lower_bound\n",
        "pb.ylabel('ELBO')\n",
        "pb.xlabel('iteration');"
      ],
      "execution_count": 197,
      "outputs": [
        {
          "output_type": "display_data",
          "data": {
            "image/png": "[encoded data removed]",
            "text/plain": [
              "<Figure size 432x288 with 1 Axes>"
            ]
          },
          "metadata": {
            "needs_background": "light"
          }
        }
      ]
    },
    {
      "cell_type": "code",
      "metadata": {
        "id": "GUl9kIhwVu2R"
      },
      "source": [
        "# draw samples from variational posterior\n",
        "D = 702\n",
        "posterior = approx.sample(draws=D)"
      ],
      "execution_count": 198,
      "outputs": []
    },
    {
      "cell_type": "code",
      "metadata": {
        "id": "TFKSw_NmV3cq"
      },
      "source": [
        "# add a column of ones to include an intercept in the model\n",
        "x2 = np.hstack([np.ones((X_test.shape[0],1)), X_test])\n",
        "\n",
        "y_pred = []\n",
        "for i in range(posterior['w_1'].shape[0]):\n",
        "    #inner layer\n",
        "    t1 = np.tanh(np.dot(posterior['w_1'][i,:,:].T,x2.T))\n",
        "    #outer layer\n",
        "    y_pred.append(np.dot(posterior['w_0'][i,:],t1))\n",
        "\n",
        "# predictions   \n",
        "y_pred = np.array(y_pred)"
      ],
      "execution_count": 199,
      "outputs": []
    },
    {
      "cell_type": "markdown",
      "metadata": {
        "id": "hk86j_YhkKG3"
      },
      "source": [
        "**Comments** MAPE_BNN is the MAPE score when comparing the baseline estimated prices on the test dataset with the estimated prices from the Bayesian Neural Network Model with all key features. This score of 38.4% is not great performance. The model requires tuning. Results:\n",
        "\n",
        "1) No tuning = 38.4%\n",
        "\n",
        "2) Learning rate 0.001 = 36.0%\n",
        "\n",
        "3) Learning_rate 0.0001 = 37.8% \n",
        "\n",
        "4) Addition of NUTS Sampler = 37.1%\n",
        "\n",
        "Recommend, if time permits, a GridSearch approach to hyperparameter tuning."
      ]
    },
    {
      "cell_type": "code",
      "metadata": {
        "id": "He8cZ6IOG5l1"
      },
      "source": [
        "# Save this file as a CSV\n",
        "\n",
        "full_test_predictions.to_csv(path+'ET5003_Kaggle_RobertBarrett_20157347.csv')"
      ],
      "execution_count": 201,
      "outputs": []
    },
    {
      "cell_type": "markdown",
      "metadata": {
        "id": "f0GYCpwEM09T"
      },
      "source": [
        "# SUMMARY"
      ]
    },
    {
      "cell_type": "markdown",
      "metadata": {
        "id": "rBDzsZSJ7HZp"
      },
      "source": [
        "The following is a table of predictions of test samples using Full Bayesian, Piecewise Bayesian and Bayesian Neural Network. The MAPE values for each of these are:\n",
        "\n",
        "1. Baseline Price (XGBoost Regression) = 17%\n",
        "\n",
        "2. Bayesian Full Regression = 19%\n",
        "\n",
        "3. Bayesian Piecewise Regressian = 27%\n",
        "\n",
        "4. Bayesian Neural Network = 36% (best)"
      ]
    },
    {
      "cell_type": "code",
      "metadata": {
        "colab": {
          "base_uri": "https://localhost:8080/",
          "height": 419
        },
        "id": "Z7INT3jqeEcK",
        "outputId": "6f82d11b-63ba-459a-9613-ad24263e49d0"
      },
      "source": [
        "# prediction\n",
        "y_pred_BNN = np.exp(yscaler.inverse_transform(y_pred))[:,0]\n",
        "\n",
        "# Let's check how close these are to the Full Mdel Predictions (Piecewise Approach)\n",
        "df_1 = full_test_predictions.copy()\n",
        "df_2 = pd.DataFrame(y_pred_BNN, columns=['Price_NN'])\n",
        "full_test_predictions = pd.concat([df_1, df_2], axis=1)\n",
        "full_test_predictions"
      ],
      "execution_count": 200,
      "outputs": [
        {
          "output_type": "execute_result",
          "data": {
            "text/html": [
              "<div>\n",
              "<style scoped>\n",
              "    .dataframe tbody tr th:only-of-type {\n",
              "        vertical-align: middle;\n",
              "    }\n",
              "\n",
              "    .dataframe tbody tr th {\n",
              "        vertical-align: top;\n",
              "    }\n",
              "\n",
              "    .dataframe thead th {\n",
              "        text-align: right;\n",
              "    }\n",
              "</style>\n",
              "<table border=\"1\" class=\"dataframe\">\n",
              "  <thead>\n",
              "    <tr style=\"text-align: right;\">\n",
              "      <th></th>\n",
              "      <th>Index</th>\n",
              "      <th>Baseline_price</th>\n",
              "      <th>Price_Piecewise</th>\n",
              "      <th>Price_NN</th>\n",
              "    </tr>\n",
              "  </thead>\n",
              "  <tbody>\n",
              "    <tr>\n",
              "      <th>0</th>\n",
              "      <td>1639</td>\n",
              "      <td>4.150231e+05</td>\n",
              "      <td>403557.808203</td>\n",
              "      <td>349969.256252</td>\n",
              "    </tr>\n",
              "    <tr>\n",
              "      <th>1</th>\n",
              "      <td>1640</td>\n",
              "      <td>5.011805e+05</td>\n",
              "      <td>466556.105237</td>\n",
              "      <td>311198.913927</td>\n",
              "    </tr>\n",
              "    <tr>\n",
              "      <th>2</th>\n",
              "      <td>1641</td>\n",
              "      <td>6.149604e+05</td>\n",
              "      <td>351471.425293</td>\n",
              "      <td>410136.616953</td>\n",
              "    </tr>\n",
              "    <tr>\n",
              "      <th>3</th>\n",
              "      <td>1642</td>\n",
              "      <td>1.305630e+06</td>\n",
              "      <td>843346.236841</td>\n",
              "      <td>343906.004843</td>\n",
              "    </tr>\n",
              "    <tr>\n",
              "      <th>4</th>\n",
              "      <td>1643</td>\n",
              "      <td>4.293751e+05</td>\n",
              "      <td>390202.000254</td>\n",
              "      <td>412120.800051</td>\n",
              "    </tr>\n",
              "    <tr>\n",
              "      <th>...</th>\n",
              "      <td>...</td>\n",
              "      <td>...</td>\n",
              "      <td>...</td>\n",
              "      <td>...</td>\n",
              "    </tr>\n",
              "    <tr>\n",
              "      <th>697</th>\n",
              "      <td>2336</td>\n",
              "      <td>2.236142e+05</td>\n",
              "      <td>192244.199039</td>\n",
              "      <td>394801.905287</td>\n",
              "    </tr>\n",
              "    <tr>\n",
              "      <th>698</th>\n",
              "      <td>2337</td>\n",
              "      <td>4.069345e+05</td>\n",
              "      <td>267923.491091</td>\n",
              "      <td>380135.607604</td>\n",
              "    </tr>\n",
              "    <tr>\n",
              "      <th>699</th>\n",
              "      <td>2338</td>\n",
              "      <td>5.456849e+05</td>\n",
              "      <td>394942.010511</td>\n",
              "      <td>290175.957445</td>\n",
              "    </tr>\n",
              "    <tr>\n",
              "      <th>700</th>\n",
              "      <td>2339</td>\n",
              "      <td>6.364734e+05</td>\n",
              "      <td>709439.692705</td>\n",
              "      <td>344608.932536</td>\n",
              "    </tr>\n",
              "    <tr>\n",
              "      <th>701</th>\n",
              "      <td>2340</td>\n",
              "      <td>7.246476e+05</td>\n",
              "      <td>484546.140123</td>\n",
              "      <td>416937.108801</td>\n",
              "    </tr>\n",
              "  </tbody>\n",
              "</table>\n",
              "<p>702 rows × 4 columns</p>\n",
              "</div>"
            ],
            "text/plain": [
              "     Index  Baseline_price  Price_Piecewise       Price_NN\n",
              "0     1639    4.150231e+05    403557.808203  349969.256252\n",
              "1     1640    5.011805e+05    466556.105237  311198.913927\n",
              "2     1641    6.149604e+05    351471.425293  410136.616953\n",
              "3     1642    1.305630e+06    843346.236841  343906.004843\n",
              "4     1643    4.293751e+05    390202.000254  412120.800051\n",
              "..     ...             ...              ...            ...\n",
              "697   2336    2.236142e+05    192244.199039  394801.905287\n",
              "698   2337    4.069345e+05    267923.491091  380135.607604\n",
              "699   2338    5.456849e+05    394942.010511  290175.957445\n",
              "700   2339    6.364734e+05    709439.692705  344608.932536\n",
              "701   2340    7.246476e+05    484546.140123  416937.108801\n",
              "\n",
              "[702 rows x 4 columns]"
            ]
          },
          "metadata": {},
          "execution_count": 200
        }
      ]
    },
    {
      "cell_type": "markdown",
      "metadata": {
        "id": "S6SYEILZwbpf"
      },
      "source": [
        "Data preprocessing was extensive with the application of feature exclusion, feature scaling and imputation. BER_class was a key feature and it required considerable analysis to impute the 15% missing values. I took the approach to get the mean of the BER values *by location* with the logic being that districts of Dublin are *in general* of the same level of maturity, i.e. proportion of new and old houses are the same within a district, acknowledging the districts can have new developments but less in more mature areas. This approahc worked well and imputation of values seemed not to affect overall performance when compared with XGBoost (which works well with missing values).\n",
        "\n",
        "The addition of new features using NLP was also explored and followed the work described by Bird et al (2009) and Silge and Robinson (2021). I implemented an approach using word counting and TF-IDF to identify the key words within the sample text. In addition to using heuristics based on domain knowledge, 5 additional features were verified using word count and TF-IDF data. Checking these with Feature Importance ranking using XGBoost again showed that these features were important and more so than the one-hot-encoded 'Type' feature. Features added from NLP checked for availability of schools, public transport, parking, amenities (shops and pharmacy) and  garden.\n",
        "\n",
        "Exploring each approach, and in the absence of test predictor values (Kaggle was not available to me for much of the assignment), I generated test predictor (y) values using XGBoost that performed well on Training and Validation data. I used this baseline to get a sense of how well the Bayesian methods were performing.\n",
        "\n",
        "A key challeng was keeping the predictions from the Piecewise approach aligned through trainig and prediction. I did this by tracking the order of indexes once clustered and then reshaping and re-ordering the combined preidtion set at the end. This was important as clustering mixed up the data as described above.\n",
        "\n",
        "Lastly, the Bayesian Neural Network approach was challenging to tune without deeper investigation of tuning parameters using 'gridsearch'. Results were disappointing but getting an introduction to this method helped broader my understanding of methods.\n",
        "\n",
        "\n",
        "**References**\n",
        "\n",
        "Bird, S. et al. (2009) *Natural language processing with Python* . 1st edition. Sebastopol, California: O’Reilly.\n",
        "\n",
        "\n",
        "Gianfagna, L. & Di Cecco, A. (2021) *Explainable AI with Python.* Cham: Springer International Publishing AG.\n",
        "\n",
        "\n",
        "Masís, S. (2021) *Interpretable Machine Learning with Python* [online], Packt, available: https://www.packtpub.com/product/interpretable-machine-learning-with-python/9781800203907 [accessed 12 October 2021].\n"
      ]
    }
  ]
}