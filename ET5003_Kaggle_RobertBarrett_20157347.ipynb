{
  "nbformat": 4,
  "nbformat_minor": 0,
  "metadata": {
    "colab": {
      "name": "ET5003_Kaggle_RobertBarrett_20157347.ipynb",
      "provenance": [],
      "collapsed_sections": [],
      "include_colab_link": true
    },
    "kernelspec": {
      "display_name": "Python 3 (ipykernel)",
      "language": "python",
      "name": "python3"
    },
    "language_info": {
      "codemirror_mode": {
        "name": "ipython",
        "version": 3
      },
      "file_extension": ".py",
      "mimetype": "text/x-python",
      "name": "python",
      "nbconvert_exporter": "python",
      "pygments_lexer": "ipython3",
      "version": "3.8.11"
    }
  },
  "cells": [
    {
      "cell_type": "markdown",
      "metadata": {
        "id": "view-in-github",
        "colab_type": "text"
      },
      "source": [
        "<a href=\"https://colab.research.google.com/github/rb2022/ET5003_SEM1_2021-2/blob/main/ET5003_Kaggle_RobertBarrett_20157347.ipynb\" target=\"_parent\"><img src=\"https://colab.research.google.com/assets/colab-badge.svg\" alt=\"Open In Colab\"/></a>"
      ]
    },
    {
      "cell_type": "markdown",
      "metadata": {
        "id": "930vlW5BrOtq"
      },
      "source": [
        "<div>\n",
        "<img src=\"https://drive.google.com/uc?export=view&id=1vK33e_EqaHgBHcbRV_m38hx6IkG0blK_\" width=\"350\"/>\n",
        "</div> \n",
        "\n",
        "#**Artificial Intelligence - MSc**\n",
        "##ET5003 - MACHINE LEARNING APPLICATIONS \n",
        "\n",
        "###Instructor: Enrique Naredo\n",
        "###ET5003_KaggleCompetition"
      ]
    },
    {
      "cell_type": "code",
      "metadata": {
        "cellView": "form",
        "id": "LqXD_IwUQuBF"
      },
      "source": [
        "#@title Current Date\n",
        "Today = '2021-10-06' #@param {type:\"date\"}\n"
      ],
      "execution_count": null,
      "outputs": []
    },
    {
      "cell_type": "code",
      "metadata": {
        "cellView": "form",
        "id": "uzDKau31OjVO"
      },
      "source": [
        "#@markdown ---\n",
        "#@markdown ### Enter your details here:\n",
        "Team_Number = \"5\" #@param {type:\"string\"}\n",
        "Student_ID&Name = \"\" #@param {type:\"string\"}\n",
        "Student_ID&Name = \"\" #@param {type:\"string\"}\n",
        "Student_ID&Name = \"\" #@param {type:\"string\"}\n",
        "Student_ID&Name = \"\" #@param {type:\"string\"}\n",
        "Student_ID&Name = \"\" #@param {type:\"string\"}\n",
        "#@markdown ---"
      ],
      "execution_count": null,
      "outputs": []
    },
    {
      "cell_type": "code",
      "metadata": {
        "cellView": "form",
        "id": "r39xGZckTpKx"
      },
      "source": [
        "#@title Notebook information\n",
        "Notebook_type = 'Etivity' #@param [\"Example\", \"Lab\", \"Practice\", \"Etivity\", \"Assignment\", \"Exam\"]\n",
        "Version = Final #@param [\"Draft\", \"Final\"] {type:\"raw\"}\n",
        "Submission = False #@param {type:\"boolean\"}"
      ],
      "execution_count": null,
      "outputs": []
    },
    {
      "cell_type": "markdown",
      "metadata": {
        "id": "_A0Z6S-r6DpA"
      },
      "source": [
        "# INTRODUCTION"
      ]
    },
    {
      "cell_type": "markdown",
      "metadata": {
        "id": "d2vlkUAJ7Pz7"
      },
      "source": [
        "Your introduction here."
      ]
    },
    {
      "cell_type": "markdown",
      "metadata": {
        "id": "aajlS0WCJ8pm"
      },
      "source": [
        "***The goal is to use advanced Machine Learning methods to predict House price.***"
      ]
    },
    {
      "cell_type": "markdown",
      "metadata": {
        "id": "Wg7VCbX77eAA"
      },
      "source": [
        "## Imports"
      ]
    },
    {
      "cell_type": "code",
      "metadata": {
        "id": "iFFLThrpwibd"
      },
      "source": [
        "# Suppressing Warnings:\n",
        "import warnings\n",
        "warnings.filterwarnings(\"ignore\")"
      ],
      "execution_count": 1,
      "outputs": []
    },
    {
      "cell_type": "code",
      "metadata": {
        "id": "k96-GLUGE2ux"
      },
      "source": [
        "# standard libraries\n",
        "import pandas as pd\n",
        "import numpy as np\n",
        "import matplotlib.pyplot as plt\n",
        "%matplotlib inline"
      ],
      "execution_count": 2,
      "outputs": []
    },
    {
      "cell_type": "code",
      "metadata": {
        "id": "sYPJU_Y6O6Dq"
      },
      "source": [
        "# to plot\n",
        "import matplotlib.colors\n",
        "from mpl_toolkits.mplot3d import Axes3D\n",
        "\n",
        "# to generate classification, regression and clustering datasets\n",
        "import sklearn.datasets as dt\n",
        "\n",
        "# to create data frames\n",
        "from pandas import DataFrame\n",
        "\n",
        "# to generate data from an existing dataset\n",
        "from sklearn.neighbors import KernelDensity\n",
        "from sklearn.model_selection import GridSearchCV"
      ],
      "execution_count": 3,
      "outputs": []
    },
    {
      "cell_type": "code",
      "metadata": {
        "id": "mxMYIOx1FONV"
      },
      "source": [
        "# Scikit-learn is an open source machine learning library \n",
        "# that supports supervised and unsupervised learning\n",
        "# https://scikit-learn.org/stable/\n",
        "from sklearn.model_selection import train_test_split\n",
        "from sklearn.feature_extraction.text import CountVectorizer\n",
        "from sklearn.naive_bayes import MultinomialNB\n",
        "from sklearn.metrics import accuracy_score, confusion_matrix"
      ],
      "execution_count": 4,
      "outputs": []
    },
    {
      "cell_type": "code",
      "metadata": {
        "id": "YLlFHWx4j7W6"
      },
      "source": [
        "# Regular expression operations\n",
        "#https://docs.python.org/3/library/re.html\n",
        "import re \n",
        "\n",
        "# Natural Language Toolkit\n",
        "# https://www.nltk.org/install.html\n",
        "import nltk\n",
        "\n",
        "# Stemming maps different forms of the same word to a common “stem” \n",
        "# https://pypi.org/project/snowballstemmer/\n",
        "from nltk.stem import SnowballStemmer\n",
        "\n",
        "# https://www.nltk.org/book/ch02.html\n",
        "from nltk.corpus import stopwords\n",
        "\n",
        "# https://scikit-learn.org/stable/modules/generated/sklearn.preprocessing.StandardScaler.html\n",
        "from sklearn.preprocessing import StandardScaler"
      ],
      "execution_count": 5,
      "outputs": []
    },
    {
      "cell_type": "code",
      "metadata": {
        "colab": {
          "base_uri": "https://localhost:8080/"
        },
        "id": "5cfDHD9BXh0s",
        "outputId": "06a6b88a-268a-4816-bc5d-4b8a8a89b43e"
      },
      "source": [
        "!pip install gpy"
      ],
      "execution_count": 7,
      "outputs": [
        {
          "output_type": "stream",
          "name": "stdout",
          "text": [
            "Collecting gpy\n",
            "  Downloading GPy-1.10.0.tar.gz (959 kB)\n",
            "\u001b[K     |████████████████████████████████| 959 kB 7.2 MB/s \n",
            "\u001b[?25hRequirement already satisfied: numpy>=1.7 in /usr/local/lib/python3.7/dist-packages (from gpy) (1.19.5)\n",
            "Requirement already satisfied: six in /usr/local/lib/python3.7/dist-packages (from gpy) (1.15.0)\n",
            "Collecting paramz>=0.9.0\n",
            "  Downloading paramz-0.9.5.tar.gz (71 kB)\n",
            "\u001b[K     |████████████████████████████████| 71 kB 8.3 MB/s \n",
            "\u001b[?25hRequirement already satisfied: cython>=0.29 in /usr/local/lib/python3.7/dist-packages (from gpy) (0.29.24)\n",
            "Requirement already satisfied: scipy>=1.3.0 in /usr/local/lib/python3.7/dist-packages (from gpy) (1.4.1)\n",
            "Requirement already satisfied: decorator>=4.0.10 in /usr/local/lib/python3.7/dist-packages (from paramz>=0.9.0->gpy) (4.4.2)\n",
            "Building wheels for collected packages: gpy, paramz\n",
            "  Building wheel for gpy (setup.py) ... \u001b[?25l\u001b[?25hdone\n",
            "  Created wheel for gpy: filename=GPy-1.10.0-cp37-cp37m-linux_x86_64.whl size=2565126 sha256=a7c33c7df8a0ea5999eecfb9aeeb7650897ce0c5b729fafa020e686d880d0ad8\n",
            "  Stored in directory: /root/.cache/pip/wheels/f7/18/28/dd1ce0192a81b71a3b086fd952511d088b21e8359ea496860a\n",
            "  Building wheel for paramz (setup.py) ... \u001b[?25l\u001b[?25hdone\n",
            "  Created wheel for paramz: filename=paramz-0.9.5-py3-none-any.whl size=102565 sha256=3acd06278917834bbc664f3f431725e0edd794760070e4785519f3d357fd17d5\n",
            "  Stored in directory: /root/.cache/pip/wheels/c8/95/f5/ce28482da28162e6028c4b3a32c41d147395825b3cd62bc810\n",
            "Successfully built gpy paramz\n",
            "Installing collected packages: paramz, gpy\n",
            "Successfully installed gpy-1.10.0 paramz-0.9.5\n"
          ]
        }
      ]
    },
    {
      "cell_type": "code",
      "metadata": {
        "id": "SwGh2bagw4kg"
      },
      "source": [
        "import GPy as GPy\n",
        "import numpy as np\n",
        "import pylab as pb\n",
        "import pymc3 as pm\n",
        "import arviz as az"
      ],
      "execution_count": 8,
      "outputs": []
    },
    {
      "cell_type": "code",
      "metadata": {
        "id": "6MUJdlxSPSMM"
      },
      "source": [
        "# Define the seed so that results can be reproduced\n",
        "seed = 11\n",
        "rand_state = 11\n",
        "\n",
        "# Define the color maps for plots\n",
        "color_map = plt.cm.get_cmap('RdYlBu')\n",
        "color_map_discrete = matplotlib.colors.LinearSegmentedColormap.from_list(\"\", [\"red\",\"cyan\",\"magenta\",\"blue\"])"
      ],
      "execution_count": 9,
      "outputs": []
    },
    {
      "cell_type": "markdown",
      "metadata": {
        "id": "WL91ShB19RPw"
      },
      "source": [
        "# DATASET"
      ]
    },
    {
      "cell_type": "markdown",
      "metadata": {
        "id": "ESg5DGKWJSOf"
      },
      "source": [
        "Extract from this [paper](https://ieeexplore.ieee.org/document/9300074):\n",
        "\n",
        "* House prices are a significant impression of the economy, and its value ranges are of great concerns for the clients and property dealers. \n",
        "\n",
        "* Housing price escalate every year that eventually reinforced the need of strategy or technique that could predict house prices in future. \n",
        "\n",
        "* There are certain factors that influence house prices including physical conditions, locations, number of bedrooms and others.\n"
      ]
    },
    {
      "cell_type": "markdown",
      "metadata": {
        "id": "a8Y2pf50FlYL"
      },
      "source": [
        "1. [Download the dataset](https://github.com/UL-CS6134/CS6134_SEM1_2021-2/tree/main/Week-5). \n",
        "\n",
        "2. Upload the dataset into your folder.\n",
        "\n"
      ]
    },
    {
      "cell_type": "code",
      "metadata": {
        "colab": {
          "base_uri": "https://localhost:8080/"
        },
        "id": "4PaZf3Bn2c2h",
        "outputId": "47a0ee4d-b1c3-4642-eaa8-3a4ee163296f"
      },
      "source": [
        "from google.colab import drive\n",
        "drive.mount('/content/drive')"
      ],
      "execution_count": 10,
      "outputs": [
        {
          "output_type": "stream",
          "name": "stdout",
          "text": [
            "Mounted at /content/drive\n"
          ]
        }
      ]
    },
    {
      "cell_type": "code",
      "metadata": {
        "id": "G-wCWDj82o6V"
      },
      "source": [
        "path = '/content/sample_data/'\n",
        "\n",
        "# Due to formatting issues, I found that explicitly defining features of interest and omitting ones that are problematic was useful\n",
        "\n",
        "train_file = path+'HousePrice_Train.csv'\n",
        "test_file = path+'HousePrice_Test.csv'\n",
        "\n",
        "# Import the data, while excluding 'features' and 'description_block' explicitly on import\n",
        "train_data = pd.read_csv(train_file)\n",
        "test_data = pd.read_csv(test_file)"
      ],
      "execution_count": 129,
      "outputs": []
    },
    {
      "cell_type": "code",
      "metadata": {
        "colab": {
          "base_uri": "https://localhost:8080/"
        },
        "id": "fYI6C0p33J-S",
        "outputId": "d478c316-ba48-42e1-ff81-87c1dd1b1bcb"
      },
      "source": [
        "print(train_data.shape)\n",
        "print(test_data.shape)"
      ],
      "execution_count": 12,
      "outputs": [
        {
          "output_type": "stream",
          "name": "stdout",
          "text": [
            "(1638, 14)\n",
            "(702, 13)\n"
          ]
        }
      ]
    },
    {
      "cell_type": "markdown",
      "metadata": {
        "id": "FMkdCQEmKTof"
      },
      "source": [
        "The challenge is to predict the final price of each house."
      ]
    },
    {
      "cell_type": "markdown",
      "metadata": {
        "id": "8F8jPJL53vNj"
      },
      "source": [
        "## Exploratory Data Analysis"
      ]
    },
    {
      "cell_type": "markdown",
      "metadata": {
        "id": "XCkOiH5D4CtE"
      },
      "source": [
        "#### Let's look at samples of the tabular data and review some basic statistics"
      ]
    },
    {
      "cell_type": "code",
      "metadata": {
        "colab": {
          "base_uri": "https://localhost:8080/",
          "height": 289
        },
        "id": "GOXDPSG03pGd",
        "outputId": "c3eab3cc-b3d1-4864-81b3-a3f2c9d94fdf"
      },
      "source": [
        "# Review samples of training data\n",
        "\n",
        "train_data.head()"
      ],
      "execution_count": 13,
      "outputs": [
        {
          "output_type": "execute_result",
          "data": {
            "text/html": [
              "<div>\n",
              "<style scoped>\n",
              "    .dataframe tbody tr th:only-of-type {\n",
              "        vertical-align: middle;\n",
              "    }\n",
              "\n",
              "    .dataframe tbody tr th {\n",
              "        vertical-align: top;\n",
              "    }\n",
              "\n",
              "    .dataframe thead th {\n",
              "        text-align: right;\n",
              "    }\n",
              "</style>\n",
              "<table border=\"1\" class=\"dataframe\">\n",
              "  <thead>\n",
              "    <tr style=\"text-align: right;\">\n",
              "      <th></th>\n",
              "      <th>Index</th>\n",
              "      <th>ID</th>\n",
              "      <th>Location</th>\n",
              "      <th>Num_Bathrooms</th>\n",
              "      <th>Num_Beds</th>\n",
              "      <th>BER_class</th>\n",
              "      <th>Description</th>\n",
              "      <th>Services</th>\n",
              "      <th>Features</th>\n",
              "      <th>Latitude</th>\n",
              "      <th>Longitude</th>\n",
              "      <th>Type</th>\n",
              "      <th>Surface</th>\n",
              "      <th>Price</th>\n",
              "    </tr>\n",
              "  </thead>\n",
              "  <tbody>\n",
              "    <tr>\n",
              "      <th>0</th>\n",
              "      <td>1</td>\n",
              "      <td>12409116</td>\n",
              "      <td>Ongar</td>\n",
              "      <td>2</td>\n",
              "      <td>2</td>\n",
              "      <td>C3</td>\n",
              "      <td>DNG are delighted to present to the market no....</td>\n",
              "      <td>NaN</td>\n",
              "      <td>None</td>\n",
              "      <td>53.396659</td>\n",
              "      <td>-6.438791</td>\n",
              "      <td>apartment</td>\n",
              "      <td>67.00</td>\n",
              "      <td>195000</td>\n",
              "    </tr>\n",
              "    <tr>\n",
              "      <th>1</th>\n",
              "      <td>2</td>\n",
              "      <td>12320330</td>\n",
              "      <td>North Strand</td>\n",
              "      <td>1</td>\n",
              "      <td>2</td>\n",
              "      <td>D1</td>\n",
              "      <td>13 Northbrook Terrace is a charming red brick ...</td>\n",
              "      <td>NaN</td>\n",
              "      <td>Bight and Spacious interior\\nNumerous original...</td>\n",
              "      <td>53.357129</td>\n",
              "      <td>-6.239779</td>\n",
              "      <td>terraced</td>\n",
              "      <td>95.97</td>\n",
              "      <td>425000</td>\n",
              "    </tr>\n",
              "    <tr>\n",
              "      <th>2</th>\n",
              "      <td>3</td>\n",
              "      <td>12405953</td>\n",
              "      <td>Stepaside</td>\n",
              "      <td>3</td>\n",
              "      <td>3</td>\n",
              "      <td>A3</td>\n",
              "      <td>Welcome to No. 6 Cotter Close, an immaculately...</td>\n",
              "      <td>NaN</td>\n",
              "      <td>Special Features\\nLarge rear garden\\nGenerous ...</td>\n",
              "      <td>53.266468</td>\n",
              "      <td>-6.222771</td>\n",
              "      <td>semi-detached</td>\n",
              "      <td>107.00</td>\n",
              "      <td>535000</td>\n",
              "    </tr>\n",
              "    <tr>\n",
              "      <th>3</th>\n",
              "      <td>4</td>\n",
              "      <td>12202582</td>\n",
              "      <td>Cabinteely</td>\n",
              "      <td>1</td>\n",
              "      <td>3</td>\n",
              "      <td>E1</td>\n",
              "      <td>Welcome to 3 Sycamore Walk!\\n\\r\\nEnjoying a pr...</td>\n",
              "      <td>NaN</td>\n",
              "      <td>Wonderful 3 bed detached bungalow.     \\nAccom...</td>\n",
              "      <td>53.261600</td>\n",
              "      <td>-6.166738</td>\n",
              "      <td>detached</td>\n",
              "      <td>81.00</td>\n",
              "      <td>499000</td>\n",
              "    </tr>\n",
              "    <tr>\n",
              "      <th>4</th>\n",
              "      <td>5</td>\n",
              "      <td>12299336</td>\n",
              "      <td>Lusk</td>\n",
              "      <td>3</td>\n",
              "      <td>4</td>\n",
              "      <td>D1</td>\n",
              "      <td>'Four Seasons' comes to the market as a wonder...</td>\n",
              "      <td>NaN</td>\n",
              "      <td>Detached Property      \\nDouble Glazed Windows...</td>\n",
              "      <td>53.550731</td>\n",
              "      <td>-6.121415</td>\n",
              "      <td>detached</td>\n",
              "      <td>153.00</td>\n",
              "      <td>510000</td>\n",
              "    </tr>\n",
              "  </tbody>\n",
              "</table>\n",
              "</div>"
            ],
            "text/plain": [
              "   Index        ID      Location  ...           Type  Surface   Price\n",
              "0      1  12409116         Ongar  ...      apartment    67.00  195000\n",
              "1      2  12320330  North Strand  ...       terraced    95.97  425000\n",
              "2      3  12405953     Stepaside  ...  semi-detached   107.00  535000\n",
              "3      4  12202582    Cabinteely  ...       detached    81.00  499000\n",
              "4      5  12299336          Lusk  ...       detached   153.00  510000\n",
              "\n",
              "[5 rows x 14 columns]"
            ]
          },
          "metadata": {},
          "execution_count": 13
        }
      ]
    },
    {
      "cell_type": "code",
      "metadata": {
        "colab": {
          "base_uri": "https://localhost:8080/",
          "height": 289
        },
        "id": "yEyAR5qV4Us7",
        "outputId": "1afadaaa-c33e-4c7a-a24c-e409f219cc7d"
      },
      "source": [
        "# Review samples of test data\n",
        "\n",
        "test_data.head()"
      ],
      "execution_count": 14,
      "outputs": [
        {
          "output_type": "execute_result",
          "data": {
            "text/html": [
              "<div>\n",
              "<style scoped>\n",
              "    .dataframe tbody tr th:only-of-type {\n",
              "        vertical-align: middle;\n",
              "    }\n",
              "\n",
              "    .dataframe tbody tr th {\n",
              "        vertical-align: top;\n",
              "    }\n",
              "\n",
              "    .dataframe thead th {\n",
              "        text-align: right;\n",
              "    }\n",
              "</style>\n",
              "<table border=\"1\" class=\"dataframe\">\n",
              "  <thead>\n",
              "    <tr style=\"text-align: right;\">\n",
              "      <th></th>\n",
              "      <th>Index</th>\n",
              "      <th>ID</th>\n",
              "      <th>Location</th>\n",
              "      <th>Num_Bathrooms</th>\n",
              "      <th>Num_Beds</th>\n",
              "      <th>BER_class</th>\n",
              "      <th>Description</th>\n",
              "      <th>Services</th>\n",
              "      <th>Features</th>\n",
              "      <th>Latitude</th>\n",
              "      <th>Longitude</th>\n",
              "      <th>Type</th>\n",
              "      <th>Surface</th>\n",
              "    </tr>\n",
              "  </thead>\n",
              "  <tbody>\n",
              "    <tr>\n",
              "      <th>0</th>\n",
              "      <td>1639</td>\n",
              "      <td>12292473</td>\n",
              "      <td>Milltown</td>\n",
              "      <td>2</td>\n",
              "      <td>2</td>\n",
              "      <td>C2</td>\n",
              "      <td>OMD Estate Agents are delighted to present thi...</td>\n",
              "      <td>Parking,Oil Fired Central Heating</td>\n",
              "      <td>Designated parking spaces\\nPresented in pristi...</td>\n",
              "      <td>53.316269</td>\n",
              "      <td>-6.243391</td>\n",
              "      <td>townhouse</td>\n",
              "      <td>65.0</td>\n",
              "    </tr>\n",
              "    <tr>\n",
              "      <th>1</th>\n",
              "      <td>1640</td>\n",
              "      <td>12314667</td>\n",
              "      <td>Glasnevin</td>\n",
              "      <td>2</td>\n",
              "      <td>5</td>\n",
              "      <td>E1</td>\n",
              "      <td>Welcome to Saint Anthony No.214 Glasnevin Aven...</td>\n",
              "      <td>Parking,Gas Fired Central Heating</td>\n",
              "      <td>Modern Worcester Gas Boiler\\nSingle Glazed Win...</td>\n",
              "      <td>53.390769</td>\n",
              "      <td>-6.281936</td>\n",
              "      <td>semi-detached</td>\n",
              "      <td>142.0</td>\n",
              "    </tr>\n",
              "    <tr>\n",
              "      <th>2</th>\n",
              "      <td>1641</td>\n",
              "      <td>11699240</td>\n",
              "      <td>Dalkey</td>\n",
              "      <td>1</td>\n",
              "      <td>2</td>\n",
              "      <td>G</td>\n",
              "      <td>Located in this ever popular road, on grounds ...</td>\n",
              "      <td>NaN</td>\n",
              "      <td>2 BEDROOM DETACHED HOUSE ON  1/5th ACRE\\nOIL F...</td>\n",
              "      <td>53.272486</td>\n",
              "      <td>-6.108675</td>\n",
              "      <td>detached</td>\n",
              "      <td>80.0</td>\n",
              "    </tr>\n",
              "    <tr>\n",
              "      <th>3</th>\n",
              "      <td>1642</td>\n",
              "      <td>12416984</td>\n",
              "      <td>Raheny</td>\n",
              "      <td>4</td>\n",
              "      <td>4</td>\n",
              "      <td>A2</td>\n",
              "      <td>DNG are delighted to represent the sale of thi...</td>\n",
              "      <td>Parking,Alarm</td>\n",
              "      <td>Detached House\\nSouth Facing Garden\\nOff Stree...</td>\n",
              "      <td>53.376932</td>\n",
              "      <td>-6.185334</td>\n",
              "      <td>detached</td>\n",
              "      <td>209.0</td>\n",
              "    </tr>\n",
              "    <tr>\n",
              "      <th>4</th>\n",
              "      <td>1643</td>\n",
              "      <td>12383407</td>\n",
              "      <td>Crumlin</td>\n",
              "      <td>2</td>\n",
              "      <td>3</td>\n",
              "      <td>F</td>\n",
              "      <td>A unique opportunity to acquire this red brick...</td>\n",
              "      <td>Parking,Gas Fired Central Heating,Alarm</td>\n",
              "      <td>Red brick end of terrace property \\nC. 108sqm ...</td>\n",
              "      <td>53.327208</td>\n",
              "      <td>-6.308938</td>\n",
              "      <td>end-of-terrace</td>\n",
              "      <td>108.0</td>\n",
              "    </tr>\n",
              "  </tbody>\n",
              "</table>\n",
              "</div>"
            ],
            "text/plain": [
              "   Index        ID   Location  ...  Longitude            Type Surface\n",
              "0   1639  12292473   Milltown  ...  -6.243391       townhouse    65.0\n",
              "1   1640  12314667  Glasnevin  ...  -6.281936   semi-detached   142.0\n",
              "2   1641  11699240     Dalkey  ...  -6.108675        detached    80.0\n",
              "3   1642  12416984     Raheny  ...  -6.185334        detached   209.0\n",
              "4   1643  12383407    Crumlin  ...  -6.308938  end-of-terrace   108.0\n",
              "\n",
              "[5 rows x 13 columns]"
            ]
          },
          "metadata": {},
          "execution_count": 14
        }
      ]
    },
    {
      "cell_type": "code",
      "metadata": {
        "colab": {
          "base_uri": "https://localhost:8080/",
          "height": 297
        },
        "id": "1p-xAm8s4pxn",
        "outputId": "354519ce-cbb0-4264-b291-eafa1ad03a41"
      },
      "source": [
        "# Generate statistcis for numeric training data\n",
        "\n",
        "train_data.describe()"
      ],
      "execution_count": 15,
      "outputs": [
        {
          "output_type": "execute_result",
          "data": {
            "text/html": [
              "<div>\n",
              "<style scoped>\n",
              "    .dataframe tbody tr th:only-of-type {\n",
              "        vertical-align: middle;\n",
              "    }\n",
              "\n",
              "    .dataframe tbody tr th {\n",
              "        vertical-align: top;\n",
              "    }\n",
              "\n",
              "    .dataframe thead th {\n",
              "        text-align: right;\n",
              "    }\n",
              "</style>\n",
              "<table border=\"1\" class=\"dataframe\">\n",
              "  <thead>\n",
              "    <tr style=\"text-align: right;\">\n",
              "      <th></th>\n",
              "      <th>Index</th>\n",
              "      <th>ID</th>\n",
              "      <th>Num_Bathrooms</th>\n",
              "      <th>Num_Beds</th>\n",
              "      <th>Latitude</th>\n",
              "      <th>Longitude</th>\n",
              "      <th>Surface</th>\n",
              "      <th>Price</th>\n",
              "    </tr>\n",
              "  </thead>\n",
              "  <tbody>\n",
              "    <tr>\n",
              "      <th>count</th>\n",
              "      <td>1638.000000</td>\n",
              "      <td>1.638000e+03</td>\n",
              "      <td>1638.000000</td>\n",
              "      <td>1638.000000</td>\n",
              "      <td>1638.000000</td>\n",
              "      <td>1638.000000</td>\n",
              "      <td>1638.000000</td>\n",
              "      <td>1.638000e+03</td>\n",
              "    </tr>\n",
              "    <tr>\n",
              "      <th>mean</th>\n",
              "      <td>819.500000</td>\n",
              "      <td>1.231930e+07</td>\n",
              "      <td>2.054335</td>\n",
              "      <td>3.043346</td>\n",
              "      <td>53.350473</td>\n",
              "      <td>-6.255086</td>\n",
              "      <td>169.540695</td>\n",
              "      <td>5.547196e+05</td>\n",
              "    </tr>\n",
              "    <tr>\n",
              "      <th>std</th>\n",
              "      <td>472.994186</td>\n",
              "      <td>1.447540e+05</td>\n",
              "      <td>1.241259</td>\n",
              "      <td>1.379650</td>\n",
              "      <td>0.076832</td>\n",
              "      <td>0.144430</td>\n",
              "      <td>1791.793934</td>\n",
              "      <td>5.652032e+05</td>\n",
              "    </tr>\n",
              "    <tr>\n",
              "      <th>min</th>\n",
              "      <td>1.000000</td>\n",
              "      <td>1.118567e+07</td>\n",
              "      <td>1.000000</td>\n",
              "      <td>1.000000</td>\n",
              "      <td>52.501856</td>\n",
              "      <td>-6.497000</td>\n",
              "      <td>3.400000</td>\n",
              "      <td>1.999500e+04</td>\n",
              "    </tr>\n",
              "    <tr>\n",
              "      <th>25%</th>\n",
              "      <td>410.250000</td>\n",
              "      <td>1.228104e+07</td>\n",
              "      <td>1.000000</td>\n",
              "      <td>2.000000</td>\n",
              "      <td>53.294261</td>\n",
              "      <td>-6.309613</td>\n",
              "      <td>73.000000</td>\n",
              "      <td>2.950000e+05</td>\n",
              "    </tr>\n",
              "    <tr>\n",
              "      <th>50%</th>\n",
              "      <td>819.500000</td>\n",
              "      <td>1.238055e+07</td>\n",
              "      <td>2.000000</td>\n",
              "      <td>3.000000</td>\n",
              "      <td>53.341386</td>\n",
              "      <td>-6.247780</td>\n",
              "      <td>97.050000</td>\n",
              "      <td>3.950000e+05</td>\n",
              "    </tr>\n",
              "    <tr>\n",
              "      <th>75%</th>\n",
              "      <td>1228.750000</td>\n",
              "      <td>1.240548e+07</td>\n",
              "      <td>3.000000</td>\n",
              "      <td>4.000000</td>\n",
              "      <td>53.382031</td>\n",
              "      <td>-6.193982</td>\n",
              "      <td>135.000000</td>\n",
              "      <td>5.950000e+05</td>\n",
              "    </tr>\n",
              "    <tr>\n",
              "      <th>max</th>\n",
              "      <td>1638.000000</td>\n",
              "      <td>1.242836e+07</td>\n",
              "      <td>18.000000</td>\n",
              "      <td>27.000000</td>\n",
              "      <td>53.630588</td>\n",
              "      <td>-1.744995</td>\n",
              "      <td>72236.387140</td>\n",
              "      <td>8.900000e+06</td>\n",
              "    </tr>\n",
              "  </tbody>\n",
              "</table>\n",
              "</div>"
            ],
            "text/plain": [
              "             Index            ID  ...       Surface         Price\n",
              "count  1638.000000  1.638000e+03  ...   1638.000000  1.638000e+03\n",
              "mean    819.500000  1.231930e+07  ...    169.540695  5.547196e+05\n",
              "std     472.994186  1.447540e+05  ...   1791.793934  5.652032e+05\n",
              "min       1.000000  1.118567e+07  ...      3.400000  1.999500e+04\n",
              "25%     410.250000  1.228104e+07  ...     73.000000  2.950000e+05\n",
              "50%     819.500000  1.238055e+07  ...     97.050000  3.950000e+05\n",
              "75%    1228.750000  1.240548e+07  ...    135.000000  5.950000e+05\n",
              "max    1638.000000  1.242836e+07  ...  72236.387140  8.900000e+06\n",
              "\n",
              "[8 rows x 8 columns]"
            ]
          },
          "metadata": {},
          "execution_count": 15
        }
      ]
    },
    {
      "cell_type": "markdown",
      "metadata": {
        "id": "GmDdrEf942fF"
      },
      "source": [
        "#### Initial Analysis of Training Data Statistics\n",
        "The above table provides a some key information:\n",
        "\n",
        "1. **counts** indicate no missing values for these numeric features\n",
        "\n",
        "2. **mean** and **50% Quartile** are the same or close except for \"Surface\" and \"Price\" showing an imbalance in the data .. we may need to deal with this.\n",
        "\n",
        "3. **min** and **max** indicate ranges that need to be scaled"
      ]
    },
    {
      "cell_type": "code",
      "metadata": {
        "colab": {
          "base_uri": "https://localhost:8080/"
        },
        "id": "nKJ26Fef7GuI",
        "outputId": "de233b88-eed6-441e-c973-022fef0111ba"
      },
      "source": [
        "# Check for missing values in Training data \n",
        "train_missing = train_data.isnull().sum()*100/len(train_data)\n",
        "print(train_missing)"
      ],
      "execution_count": 16,
      "outputs": [
        {
          "output_type": "stream",
          "name": "stdout",
          "text": [
            "Index             0.000000\n",
            "ID                0.000000\n",
            "Location          0.000000\n",
            "Num_Bathrooms     0.000000\n",
            "Num_Beds          0.000000\n",
            "BER_class        15.323565\n",
            "Description       0.000000\n",
            "Services         64.774115\n",
            "Features          0.000000\n",
            "Latitude          0.000000\n",
            "Longitude         0.000000\n",
            "Type              0.000000\n",
            "Surface           0.000000\n",
            "Price             0.000000\n",
            "dtype: float64\n"
          ]
        }
      ]
    },
    {
      "cell_type": "markdown",
      "metadata": {
        "id": "HboMCX6c7aIn"
      },
      "source": [
        "**Comments** There are two features have missing values. These are categorical features as they did not appear in above statistics report. High % missing features cannot be remediated and should be removed. We should look at 'BER_class' and see if it is an important feature. If it is, then we should look to see if there is a way to handle the missing values. \n",
        "\n",
        "Approach here will be to \n",
        "\n",
        "1. Remove 'ID' as it provides no information\n",
        "\n",
        "2. Remove the feature 'Services'\n",
        "\n",
        "3. Determine importance of 'BER_class' as a predictor of price. We will use XGBoost and its correspondng \"feature_importance\" metric.\n",
        "\n",
        "Reviewing the features for non-uniqueness, there are no features with just one value."
      ]
    },
    {
      "cell_type": "code",
      "metadata": {
        "colab": {
          "base_uri": "https://localhost:8080/"
        },
        "id": "ZLOxMiD8-hVK",
        "outputId": "b3793c42-7857-4479-9e4a-a934131baf88"
      },
      "source": [
        "# Let's look at obvious erroneous values - no zero values in the training data\n",
        "\n",
        "train_data_zeros = (train_data == 0).all()\n",
        "print(train_data_zeros)"
      ],
      "execution_count": 17,
      "outputs": [
        {
          "output_type": "stream",
          "name": "stdout",
          "text": [
            "Index            False\n",
            "ID               False\n",
            "Location         False\n",
            "Num_Bathrooms    False\n",
            "Num_Beds         False\n",
            "BER_class        False\n",
            "Description      False\n",
            "Services         False\n",
            "Features         False\n",
            "Latitude         False\n",
            "Longitude        False\n",
            "Type             False\n",
            "Surface          False\n",
            "Price            False\n",
            "dtype: bool\n"
          ]
        }
      ]
    },
    {
      "cell_type": "markdown",
      "metadata": {
        "id": "dDdmVvJ58KZd"
      },
      "source": [
        "There are no features with zeros so we do not have to analyse this further."
      ]
    },
    {
      "cell_type": "code",
      "metadata": {
        "colab": {
          "base_uri": "https://localhost:8080/",
          "height": 80
        },
        "id": "7WUbJtyN8t3W",
        "outputId": "15332c75-9253-4b87-d9a2-dd92ea830c93"
      },
      "source": [
        "# Let's look for obvious coordinates outside Dublin range\n",
        "\n",
        "outliers = train_data[(train_data.Longitude > -6) | (train_data.Latitude < 53)]\n",
        "\n",
        "outliers.head()"
      ],
      "execution_count": 18,
      "outputs": [
        {
          "output_type": "execute_result",
          "data": {
            "text/html": [
              "<div>\n",
              "<style scoped>\n",
              "    .dataframe tbody tr th:only-of-type {\n",
              "        vertical-align: middle;\n",
              "    }\n",
              "\n",
              "    .dataframe tbody tr th {\n",
              "        vertical-align: top;\n",
              "    }\n",
              "\n",
              "    .dataframe thead th {\n",
              "        text-align: right;\n",
              "    }\n",
              "</style>\n",
              "<table border=\"1\" class=\"dataframe\">\n",
              "  <thead>\n",
              "    <tr style=\"text-align: right;\">\n",
              "      <th></th>\n",
              "      <th>Index</th>\n",
              "      <th>ID</th>\n",
              "      <th>Location</th>\n",
              "      <th>Num_Bathrooms</th>\n",
              "      <th>Num_Beds</th>\n",
              "      <th>BER_class</th>\n",
              "      <th>Description</th>\n",
              "      <th>Services</th>\n",
              "      <th>Features</th>\n",
              "      <th>Latitude</th>\n",
              "      <th>Longitude</th>\n",
              "      <th>Type</th>\n",
              "      <th>Surface</th>\n",
              "      <th>Price</th>\n",
              "    </tr>\n",
              "  </thead>\n",
              "  <tbody>\n",
              "    <tr>\n",
              "      <th>355</th>\n",
              "      <td>356</td>\n",
              "      <td>12270559</td>\n",
              "      <td>Clondalkin</td>\n",
              "      <td>1</td>\n",
              "      <td>3</td>\n",
              "      <td>NaN</td>\n",
              "      <td>RAY COOKE AUCTIONEERS take great pleasure in i...</td>\n",
              "      <td>NaN</td>\n",
              "      <td>None</td>\n",
              "      <td>52.501856</td>\n",
              "      <td>-1.744995</td>\n",
              "      <td>semi-detached</td>\n",
              "      <td>79.0</td>\n",
              "      <td>199000</td>\n",
              "    </tr>\n",
              "  </tbody>\n",
              "</table>\n",
              "</div>"
            ],
            "text/plain": [
              "     Index        ID    Location  ...           Type  Surface   Price\n",
              "355    356  12270559  Clondalkin  ...  semi-detached     79.0  199000\n",
              "\n",
              "[1 rows x 14 columns]"
            ]
          },
          "metadata": {},
          "execution_count": 18
        }
      ]
    },
    {
      "cell_type": "markdown",
      "metadata": {
        "id": "pMr7bjEt9YKU"
      },
      "source": [
        "This location has coordinates for a UK address and should be removed."
      ]
    },
    {
      "cell_type": "code",
      "metadata": {
        "id": "xcxW9x0J9iWv"
      },
      "source": [
        "# Remove location in UK\n",
        "df_train = train_data.drop(train_data[(train_data.Longitude > -6) | (train_data.Latitude < 53)].index)"
      ],
      "execution_count": 130,
      "outputs": []
    },
    {
      "cell_type": "code",
      "metadata": {
        "id": "uFZVONMkA0vy"
      },
      "source": [
        "# Drop unimportant features\n",
        "\n",
        "df_train.drop(['ID', 'Services'], axis=1, inplace=True)"
      ],
      "execution_count": 131,
      "outputs": []
    },
    {
      "cell_type": "code",
      "metadata": {
        "id": "_vVew9ysIPW7"
      },
      "source": [
        "# Let's deal with categorical data\n",
        "\n",
        "# Feature map 'locations'\n",
        "locations = np.hstack((train_data['Location'], test_data['Location']))\n",
        "unique_loc = np.unique(locations)\n",
        "unique_loc_index=[]\n",
        "\n",
        "# Create a dictionary lookup\n",
        "i = [i+1 for i in range(len(unique_loc))]\n",
        "unique_areas_index = dict(zip(unique_loc, i))\n",
        "\n",
        "# Replace area name with the index from the 'unique_areas_index' dictionary \n",
        "df_train_1 = df_train.replace({'Location': unique_areas_index})\n",
        "\n",
        "# Feature map 'BER_class'\n",
        "ber_stack = np.hstack((train_data['BER_class'], test_data['BER_class'])) # get all BER Classes from Train and Test datasets to ensure we have all classes in each set.\n",
        "ber_class = [c for c in ber_stack if not(pd.isna(c)) == True] # remove NaN from feature map list\n",
        "unique_ber = np.unique(ber_class)\n",
        "unique_ber_index=[]\n",
        "\n",
        "# Create a dictionary lookup\n",
        "i = [i+1 for i in range(len(unique_ber))]\n",
        "unique_ber_index = dict(zip(unique_ber, i))\n",
        "\n",
        "# Replace BER_class with the index from the 'unique_ber_index' dictionary \n",
        "df_train_2 = df_train_1.replace({'BER_class': unique_ber_index})\n",
        "\n",
        "# One-hot Encode 'Type'\n",
        "df_train_2 = pd.get_dummies(df_train_2, columns=['Type'])\n",
        "\n",
        "df_train = df_train_2.copy()\n",
        "\n",
        "# Take a copy of the Location and BER_class column before scaling - this will be used during imputing for NaNs later\n",
        "loc_ber_train_values = df_train[['Location', 'BER_class']].copy()\n"
      ],
      "execution_count": 132,
      "outputs": []
    },
    {
      "cell_type": "markdown",
      "metadata": {
        "id": "gAhx8VU4d9im"
      },
      "source": [
        "We will now look at the feature distributions and outliers."
      ]
    },
    {
      "cell_type": "code",
      "metadata": {
        "colab": {
          "base_uri": "https://localhost:8080/"
        },
        "id": "c5nG9cSteJMh",
        "outputId": "30c298e0-6f4b-4b37-b522-2a75bf7cdbf6"
      },
      "source": [
        "df_train.columns"
      ],
      "execution_count": 102,
      "outputs": [
        {
          "output_type": "execute_result",
          "data": {
            "text/plain": [
              "Index(['Index', 'Location', 'Num_Bathrooms', 'Num_Beds', 'BER_class',\n",
              "       'Description', 'Features', 'Latitude', 'Longitude', 'Surface', 'Price',\n",
              "       'Type_apartment', 'Type_bungalow', 'Type_detached', 'Type_duplex',\n",
              "       'Type_end-of-terrace', 'Type_semi-detached', 'Type_site', 'Type_studio',\n",
              "       'Type_terraced', 'Type_townhouse'],\n",
              "      dtype='object')"
            ]
          },
          "metadata": {},
          "execution_count": 102
        }
      ]
    },
    {
      "cell_type": "markdown",
      "metadata": {
        "id": "C_xwBU21eVmc"
      },
      "source": [
        "We will look at these key features:\n",
        "\n",
        "'Location', 'Num_Bathrooms', 'Num_Beds', 'BER_class', 'Latitude', 'Longitude', 'Surface', 'Price'"
      ]
    },
    {
      "cell_type": "code",
      "metadata": {
        "colab": {
          "base_uri": "https://localhost:8080/",
          "height": 1000
        },
        "id": "91wUPq0HeDOU",
        "outputId": "c5fb34f1-be93-4ab8-d408-8a187732794d"
      },
      "source": [
        "# First we will look at the distribution of key predictor features\n",
        "\n",
        "fig = plt.figure(figsize=(20,30))\n",
        "\n",
        "ax1 = fig.add_subplot(8, 2, 1)\n",
        "ax1.set_title(\"Plot of 'Location'\")\n",
        "df_train.boxplot(column=['Location'])\n",
        "\n",
        "ax2 = fig.add_subplot(8, 2, 2)\n",
        "ax2.set_title(\"Histogram of 'Location'\")\n",
        "df_train['Location'].hist(bins=20)\n",
        "\n",
        "ax3 = fig.add_subplot(8, 2, 3)\n",
        "ax3.set_title(\"Plot of 'Num_Bathrooms'\")\n",
        "df_train.boxplot(column=['Num_Bathrooms'])\n",
        "\n",
        "ax4 = fig.add_subplot(8, 2, 4)\n",
        "ax4.set_title(\"Histogram of 'Num_Bathrooms'\")\n",
        "df_train['Num_Bathrooms'].hist(bins=20)\n",
        "\n",
        "ax5 = fig.add_subplot(8, 2, 5)\n",
        "ax5.set_title(\"Plot of 'Num_Beds'\")\n",
        "df_train.boxplot(column=['Num_Beds'])\n",
        "\n",
        "ax6 = fig.add_subplot(8, 2, 6)\n",
        "ax6.set_title(\"Histogram of 'Num_Beds'\")\n",
        "df_train['Num_Beds'].hist(bins=20)\n",
        "\n",
        "ax7 = fig.add_subplot(8, 2, 7)\n",
        "ax7.set_title(\"Plot of 'BER_class'\")\n",
        "df_train.boxplot(column=['BER_class'])\n",
        "\n",
        "ax8 = fig.add_subplot(8, 2, 8)\n",
        "ax8.set_title(\"Histogram of 'BER_class'\")\n",
        "df_train['BER_class'].hist(bins=20)\n",
        "\n",
        "ax9 = fig.add_subplot(8, 2, 9)\n",
        "ax9.set_title(\"Plot of 'Longitude'\")\n",
        "df_train.boxplot(column=['Longitude'])\n",
        "\n",
        "ax10 = fig.add_subplot(8, 2, 10)\n",
        "ax10.set_title(\"Histogram of 'Longitude'\")\n",
        "df_train['Longitude'].hist(bins=20)\n",
        "\n",
        "ax11 = fig.add_subplot(8, 2, 11)\n",
        "ax11.set_title(\"Plot of 'Latitude'\")\n",
        "df_train.boxplot(column=['Latitude'])\n",
        "\n",
        "ax12 = fig.add_subplot(8, 2, 12)\n",
        "ax12.set_title(\"Histogram of 'Latitude'\")\n",
        "df_train['Latitude'].hist(bins=20)\n",
        "\n",
        "ax13 = fig.add_subplot(8, 2, 13)\n",
        "ax13.set_title(\"Plot of 'Surface'\")\n",
        "df_train.boxplot(column=['Surface'])\n",
        "\n",
        "ax14 = fig.add_subplot(8, 2, 14)\n",
        "ax14.set_title(\"Histogram of 'Surface'\")\n",
        "df_train['Surface'].hist(bins=20)\n",
        "\n",
        "ax15 = fig.add_subplot(8, 2, 15)\n",
        "ax15.set_title(\"Plot of 'Price'\")\n",
        "df_train.boxplot(column=['Price'])\n",
        "\n",
        "ax16 = fig.add_subplot(8, 2, 16)\n",
        "ax16.set_title(\"Histogram of 'Price'\")\n",
        "df_train['Price'].hist(bins=20)"
      ],
      "execution_count": 103,
      "outputs": [
        {
          "output_type": "execute_result",
          "data": {
            "text/plain": [
              "<matplotlib.axes._subplots.AxesSubplot at 0x7fca1f626ed0>"
            ]
          },
          "metadata": {},
          "execution_count": 103
        },
        {
          "output_type": "display_data",
          "data": {
            "image/png": "[encoded data removed]",
            "text/plain": [
              "<Figure size 1440x2160 with 16 Axes>"
            ]
          },
          "metadata": {
            "needs_background": "light"
          }
        }
      ]
    },
    {
      "cell_type": "markdown",
      "metadata": {
        "id": "p2LpCTSgljiU"
      },
      "source": [
        "There is an outlier on 'Surface' that needs to be investigated"
      ]
    },
    {
      "cell_type": "code",
      "metadata": {
        "colab": {
          "base_uri": "https://localhost:8080/",
          "height": 335
        },
        "id": "LMUs3SjJlCLT",
        "outputId": "42a86228-6159-4b8c-ade3-e865043de9c1"
      },
      "source": [
        "df_train[(df_train.Surface > 2000)]"
      ],
      "execution_count": 122,
      "outputs": [
        {
          "output_type": "execute_result",
          "data": {
            "text/html": [
              "<div>\n",
              "<style scoped>\n",
              "    .dataframe tbody tr th:only-of-type {\n",
              "        vertical-align: middle;\n",
              "    }\n",
              "\n",
              "    .dataframe tbody tr th {\n",
              "        vertical-align: top;\n",
              "    }\n",
              "\n",
              "    .dataframe thead th {\n",
              "        text-align: right;\n",
              "    }\n",
              "</style>\n",
              "<table border=\"1\" class=\"dataframe\">\n",
              "  <thead>\n",
              "    <tr style=\"text-align: right;\">\n",
              "      <th></th>\n",
              "      <th>Index</th>\n",
              "      <th>Location</th>\n",
              "      <th>Num_Bathrooms</th>\n",
              "      <th>Num_Beds</th>\n",
              "      <th>BER_class</th>\n",
              "      <th>Description</th>\n",
              "      <th>Features</th>\n",
              "      <th>Latitude</th>\n",
              "      <th>Longitude</th>\n",
              "      <th>Surface</th>\n",
              "      <th>Price</th>\n",
              "      <th>Type_apartment</th>\n",
              "      <th>Type_bungalow</th>\n",
              "      <th>Type_detached</th>\n",
              "      <th>Type_duplex</th>\n",
              "      <th>Type_end-of-terrace</th>\n",
              "      <th>Type_semi-detached</th>\n",
              "      <th>Type_site</th>\n",
              "      <th>Type_studio</th>\n",
              "      <th>Type_terraced</th>\n",
              "      <th>Type_townhouse</th>\n",
              "    </tr>\n",
              "  </thead>\n",
              "  <tbody>\n",
              "    <tr>\n",
              "      <th>506</th>\n",
              "      <td>507</td>\n",
              "      <td>138</td>\n",
              "      <td>1</td>\n",
              "      <td>4</td>\n",
              "      <td>12.0</td>\n",
              "      <td>Thornton Park is a superb modern equestrian ce...</td>\n",
              "      <td>None</td>\n",
              "      <td>53.474502</td>\n",
              "      <td>-6.343483</td>\n",
              "      <td>72236.38714</td>\n",
              "      <td>1100000</td>\n",
              "      <td>0</td>\n",
              "      <td>1</td>\n",
              "      <td>0</td>\n",
              "      <td>0</td>\n",
              "      <td>0</td>\n",
              "      <td>0</td>\n",
              "      <td>0</td>\n",
              "      <td>0</td>\n",
              "      <td>0</td>\n",
              "      <td>0</td>\n",
              "    </tr>\n",
              "    <tr>\n",
              "      <th>1115</th>\n",
              "      <td>1116</td>\n",
              "      <td>19</td>\n",
              "      <td>1</td>\n",
              "      <td>2</td>\n",
              "      <td>13.0</td>\n",
              "      <td>Baxter Real Estate are delighted to present to...</td>\n",
              "      <td>Short drive to the N3 and M50 .\\nSuitable for ...</td>\n",
              "      <td>53.386540</td>\n",
              "      <td>-6.377356</td>\n",
              "      <td>6705.00000</td>\n",
              "      <td>425000</td>\n",
              "      <td>0</td>\n",
              "      <td>1</td>\n",
              "      <td>0</td>\n",
              "      <td>0</td>\n",
              "      <td>0</td>\n",
              "      <td>0</td>\n",
              "      <td>0</td>\n",
              "      <td>0</td>\n",
              "      <td>0</td>\n",
              "      <td>0</td>\n",
              "    </tr>\n",
              "  </tbody>\n",
              "</table>\n",
              "</div>"
            ],
            "text/plain": [
              "      Index  Location  ...  Type_terraced  Type_townhouse\n",
              "506     507       138  ...              0               0\n",
              "1115   1116        19  ...              0               0\n",
              "\n",
              "[2 rows x 21 columns]"
            ]
          },
          "metadata": {},
          "execution_count": 122
        }
      ]
    },
    {
      "cell_type": "markdown",
      "metadata": {
        "id": "DRo9rE7Klnc9"
      },
      "source": [
        "There is only two values in the range greater than 2,000. Decision to remove it seems valid."
      ]
    },
    {
      "cell_type": "code",
      "metadata": {
        "id": "wvd5R8rulwpw"
      },
      "source": [
        "df_train = df_train.drop(df_train[df_train.Surface > 2000].index)"
      ],
      "execution_count": 133,
      "outputs": []
    },
    {
      "cell_type": "code",
      "metadata": {
        "id": "FR1Kurr8koN1"
      },
      "source": [
        "# Apply scalers to data to resolve distribution and outlier issues\n",
        "from sklearn.preprocessing import StandardScaler\n",
        "from sklearn.preprocessing import MinMaxScaler\n",
        "\n",
        "minmax = MinMaxScaler()\n",
        "standardscaler = StandardScaler()\n",
        "\n",
        "# Not a normal distribution so just scale with MinMax [0, 1]\n",
        "df_train[['Location']] = minmax.fit_transform(df_train[['Location']])\n",
        "\n",
        "# Deal with outliers with a Log Transform - later we will use Standard Scaler as well on some feature\n",
        "df_train['Num_Bathrooms'] = np.log(df_train['Num_Bathrooms'])\n",
        "\n",
        "df_train['Num_Beds'] = np.log(df_train['Num_Beds'])\n",
        "\n",
        "df_train['Latitude'] = np.log(df_train['Latitude'])\n",
        "\n",
        "df_train['Surface'] = np.log(df_train['Surface'])\n",
        "\n",
        "df_train['Price'] = np.log(df_train['Price'])\n",
        "\n",
        "# Standard scaler for normal distributions\n",
        "df_train[['BER_class', 'Longitude', 'Latitude', 'Surface', 'Price']] = standardscaler.fit_transform(df_train[['BER_class', 'Longitude', 'Latitude', 'Surface', 'Price']])\n"
      ],
      "execution_count": 134,
      "outputs": []
    },
    {
      "cell_type": "markdown",
      "metadata": {
        "id": "AG4JxHmwsjEd"
      },
      "source": [
        "Do the same scaling to the Test Data"
      ]
    },
    {
      "cell_type": "code",
      "metadata": {
        "colab": {
          "base_uri": "https://localhost:8080/"
        },
        "id": "T641v2TdsnpI",
        "outputId": "dd4b2939-309e-4a68-fcbe-268c64aa2195"
      },
      "source": [
        "# Check for missing values in Training data - calculate % misisng values\n",
        "test_missing = test_data.isnull().sum()*100/len(test_data)\n",
        "print(test_missing)"
      ],
      "execution_count": 107,
      "outputs": [
        {
          "output_type": "stream",
          "name": "stdout",
          "text": [
            "Index             0.000000\n",
            "ID                0.000000\n",
            "Location          0.000000\n",
            "Num_Bathrooms     0.000000\n",
            "Num_Beds          0.000000\n",
            "BER_class        15.384615\n",
            "Description       0.000000\n",
            "Services         64.957265\n",
            "Features          0.000000\n",
            "Latitude          0.000000\n",
            "Longitude         0.000000\n",
            "Type              0.000000\n",
            "Surface           0.000000\n",
            "dtype: float64\n"
          ]
        }
      ]
    },
    {
      "cell_type": "code",
      "metadata": {
        "id": "hA9fcSHbtbGT"
      },
      "source": [
        "# Drop unimportant features\n",
        "\n",
        "test_data.drop(['ID', 'Services'], axis=1, inplace=True)\n"
      ],
      "execution_count": 135,
      "outputs": []
    },
    {
      "cell_type": "code",
      "metadata": {
        "id": "0Vb-owPEt6cb"
      },
      "source": [
        "df_test = test_data.copy()"
      ],
      "execution_count": 136,
      "outputs": []
    },
    {
      "cell_type": "code",
      "metadata": {
        "id": "7EDOr10Itsga"
      },
      "source": [
        "# Let's deal with categorical data for Test Dataset\n",
        "\n",
        "# Replace area name with the index from the 'unique_areas_index' dictionary \n",
        "df_test_1 = df_test.replace({'Location': unique_areas_index})\n",
        "\n",
        "# Replace BER_class with the index from the 'unique_ber_index' dictionary \n",
        "df_test_2 = df_test_1.replace({'BER_class': unique_ber_index})\n",
        "\n",
        "# One-hot Encode 'Type'\n",
        "df_test_2 = pd.get_dummies(df_test_2, columns=['Type'])\n",
        "\n",
        "df_test = df_test_2.copy()\n",
        "\n",
        "# Take a copy of the Location and BER_class column before scaling - this will be used during imputing for NaNs later\n",
        "loc_ber_test_values = df_test[['Location', 'BER_class']].copy()\n",
        "\n",
        "# Apply same scalers as for Training dataset\n",
        "df_test[['Location']] = minmax.fit_transform(df_test[['Location']])\n",
        "\n",
        "df_test['Num_Bathrooms'] = np.log(df_test['Num_Bathrooms'])\n",
        "\n",
        "df_test['Num_Beds'] = np.log(df_test['Num_Beds'])\n",
        "\n",
        "df_test['Latitude'] = np.log(df_test['Latitude'])\n",
        "\n",
        "df_test['Surface'] = np.log(df_test['Surface'])\n",
        "\n",
        "# Standard scaler for normal distributions\n",
        "df_test[['BER_class', 'Longitude', 'Latitude', 'Surface']] = standardscaler.fit_transform(df_test[['BER_class', 'Longitude', 'Latitude', 'Surface']])\n"
      ],
      "execution_count": 137,
      "outputs": []
    },
    {
      "cell_type": "markdown",
      "metadata": {
        "id": "he3gk4kS-iPr"
      },
      "source": [
        "Now let's look at 'BER_class' and see how important it is for predicting price.\n",
        "The following approach uses XGBoost Regression algorithm which has some powerful built in functions for Feature Importance."
      ]
    },
    {
      "cell_type": "code",
      "metadata": {
        "id": "THFqAjKz9Kj1"
      },
      "source": [
        "# Let's take a closer look at 'BER_class' using feature importance on all data set\n",
        "# We will look at the feature Importance of 'BER_class' with empty features removed from the dataset \n",
        "# and left in to see check the impact also for imputation.\n",
        "\n",
        "import xgboost as xgb\n",
        "from sklearn.model_selection import train_test_split\n",
        "from sklearn.metrics import mean_squared_error, r2_score\n",
        "\n",
        "def xgb_model(X, y, msg):\n",
        "\n",
        "  X_train,X_val,y_train,y_val = train_test_split(X, y, test_size=0.3)\n",
        "\n",
        "  xgb_model = xgb.XGBRegressor(max_depth=7, learning_rate = 0.6, n_jobs=4, objective = 'reg:squarederror', random_state=10, n_estimators=50).fit(X_train, y_train)\n",
        "\n",
        "  y_train_xgb_pred = xgb_model.predict(X_train)\n",
        "  y_val_xgb_pred = xgb_model.predict(X_val)\n",
        "\n",
        "  RMSE_xgb_train = mean_squared_error(y_train, y_train_xgb_pred, squared=False)\n",
        "  RMSE_xgb_val = mean_squared_error(y_val, y_val_xgb_pred, squared=False)\n",
        "\n",
        "  r2_xgb_val = r2_score(y_val, y_val_xgb_pred)\n",
        "\n",
        "  print(msg)\n",
        "\n",
        "  print(\"RMSE_train: %.4f   RMSE_test: %.4f   R2_score: %.4f\" %(RMSE_xgb_train, RMSE_xgb_val, r2_xgb_val))\n",
        "\n",
        "  return xgb_model, RMSE_xgb_train, RMSE_xgb_val, r2_xgb_val"
      ],
      "execution_count": 111,
      "outputs": []
    },
    {
      "cell_type": "code",
      "metadata": {
        "colab": {
          "base_uri": "https://localhost:8080/"
        },
        "id": "mbTJtwYQi2qN",
        "outputId": "47103f5c-4ef8-4ef8-b175-f6baa74acc60"
      },
      "source": [
        "# Let's look at the Feature Importance with all BER_class values equal to NULL removed\n",
        "# We will also remove large text features for now.\n",
        "\n",
        "features = ['Location', 'Num_Bathrooms', 'Num_Beds', 'BER_class',\n",
        "                        'Latitude', 'Longitude', 'Surface', 'Type_apartment', \n",
        "                        'Type_bungalow', 'Type_detached', 'Type_duplex',\n",
        "                        'Type_end-of-terrace', 'Type_semi-detached', 'Type_site', 'Type_studio',\n",
        "                        'Type_terraced', 'Type_townhouse', 'Price']\n",
        "\n",
        "df_train_xgb = df_train[features]\n",
        "X_train_xgb = df_train_xgb.iloc[:,0:-1].values \n",
        "y_train_xgb = df_train_xgb.iloc[:,-1].values.reshape(-1,1)  \n",
        "\n",
        "df_train_xgb_partial = df_train_xgb.dropna(how='all', subset=['BER_class'])\n",
        "X_train_xgb_partial = df_train_xgb_partial.iloc[:,0:-1].values\n",
        "y_train_xgb_partial = df_train_xgb_partial.iloc[:,-1].values.reshape(-1,1) \n",
        "\n",
        "# Call XGBoost Model for each dataset\n",
        "\n",
        "Model_Full, RMSE_xgb_train_full, RMSE_xgb_val_full, r2_xgb_val_full = xgb_model(X_train_xgb, y_train_xgb, \"Performance Evaluation for Full Training Set\")\n",
        "\n",
        "Model_Partial, RMSE_xgb_train_partial, RMSE_xgb_val_partial, r2_xgb_val_partial = xgb_model(X_train_xgb_partial, y_train_xgb_partial, \"Performance Evaluation for NaNs Removed\")\n",
        "\n"
      ],
      "execution_count": 217,
      "outputs": [
        {
          "output_type": "stream",
          "name": "stdout",
          "text": [
            "Performance Evaluation for Full Training Set\n",
            "RMSE_train: 0.0172   RMSE_test: 0.3661   R2_score: 0.8663\n",
            "Performance Evaluation for NaNs Removed\n",
            "RMSE_train: 0.0178   RMSE_test: 0.4052   R2_score: 0.8214\n"
          ]
        }
      ]
    },
    {
      "cell_type": "code",
      "metadata": {
        "colab": {
          "base_uri": "https://localhost:8080/",
          "height": 424
        },
        "id": "JwLrm20MlVoc",
        "outputId": "294f6b70-3c31-433d-c0c1-4fabbab63366"
      },
      "source": [
        "# Let's plot the Feature Importance for each of these solutions\n",
        "\n",
        "import seaborn as sn\n",
        "\n",
        "fig = plt.figure(figsize=(25,6))\n",
        "\n",
        "Model_Full.get_booster().feature_names = features[:-1]\n",
        "ax1 = fig.add_subplot(1, 2, 1)\n",
        "ax1.set_title(\"Plot of Feature Importance for Full Model\")\n",
        "xgb.plot_importance(Model_Full, max_num_features= 17, ax=ax1, importance_type=\"weight\")\n",
        "\n",
        "Model_Partial.get_booster().feature_names = features[:-1]\n",
        "ax2 = fig.add_subplot(1, 2, 2)\n",
        "ax2.set_title(\"Plot of Feature Importance for Model with NaNs removed.\")\n",
        "xgb.plot_importance(Model_Partial, max_num_features= 17, ax=ax2, importance_type=\"weight\")\n",
        "\n",
        "plt.show()\n"
      ],
      "execution_count": 113,
      "outputs": [
        {
          "output_type": "display_data",
          "data": {
            "image/png": "[encoded data removed]",
            "text/plain": [
              "<Figure size 1800x432 with 2 Axes>"
            ]
          },
          "metadata": {
            "needs_background": "light"
          }
        }
      ]
    },
    {
      "cell_type": "markdown",
      "metadata": {
        "id": "-y3OfhT_49NQ"
      },
      "source": [
        "**Analysis of Plots** It can be seen from the above plots of Training Dataset with NaNs removed (plot on right) and NaNs left (plot on left) in that both plots confirm the importance of BER_class. XGBoost handles NaN values by default but we cannot expect that all models wil do so. We will keep the BER_class and compute imputed values for missing data.\n",
        "\n",
        "Note also that both models agree on the overall importance of features. The Top 7 Features have a greater influence on model performance. It seems that property 'Type' is not so important.\n",
        "\n",
        "For this exercise, I will concentrate on the Top 7 key features and remove the 'Type'"
      ]
    },
    {
      "cell_type": "markdown",
      "metadata": {
        "id": "qOhE_Pm6Ugrq"
      },
      "source": [
        "#### Imputing BER_class value: replace NaNs with average BER by location"
      ]
    },
    {
      "cell_type": "code",
      "metadata": {
        "id": "ZIwkj9zDFY1g"
      },
      "source": [
        "# First we will determine the average BER_class for each Location.\n",
        "# This approach was taken because many locations have a mix of BER ratings (determined from analysis)\n",
        "# but are, in general, either new development areas or mature development areas and as such \n",
        "# are likely to have ratings within a range based on maturity of the location as a whole.\n",
        "\n",
        "# Determine the average BER_class rating by location\n",
        "feat = ['Location', 'BER_class']\n",
        "train_feat = df_train_2[feat]\n",
        "test_feat =  df_test_2[feat]\n",
        "train_test_stack = pd.concat([train_feat, test_feat])\n",
        "\n",
        "average_vals = train_test_stack.groupby(['Location'], dropna=True)['BER_class'].mean().round()\n"
      ],
      "execution_count": 51,
      "outputs": []
    },
    {
      "cell_type": "markdown",
      "metadata": {
        "id": "rQzYXEgixIox"
      },
      "source": [
        "**Comment** The code above creates a lookup of Average BER_class by Location. However, this is not a perfect lookup as there are several locations in the combined Training and Test datasets that have only one property in certain locations and these properties have a NaN value for BER_class. This means that the lookup will not be able to replace these NaNs with and average. Tests have shown that the effect is limited and the BER_class is improved from 15.4% missing values to 0.1% missing values. "
      ]
    },
    {
      "cell_type": "code",
      "metadata": {
        "id": "7g9ccilmcw_m"
      },
      "source": [
        "# Look for NaNs and replace them with the average for the given location\n",
        "import math\n",
        "\n",
        "def impute_ber(data):\n",
        "  for index, row in data.iterrows():\n",
        "    if math.isnan(row['BER_class']): \n",
        "      loc = row['Location']\n",
        "      lookup_ber = average_vals.loc[loc]\n",
        "      data.loc[index, \"BER_class\"] = lookup_ber\n",
        "  return data"
      ],
      "execution_count": 156,
      "outputs": []
    },
    {
      "cell_type": "code",
      "metadata": {
        "id": "2HGvWNPxRUof"
      },
      "source": [
        "# Impute BER_class on training data\n",
        "ber_tr_values = impute_ber(loc_ber_train_values)\n",
        "\n",
        "# Impute BER_class on test data\n",
        "ber_ts_values = impute_ber(loc_ber_test_values)\n",
        "\n",
        "# There are still a very small number (2 in both training and test datsets) of NaNs due to single properties in locations that have NaNs and therefore could not be averaged\n",
        "# We will apply an average over the entire feature for BER_class to populate these\n",
        "ber_tr_values['BER_class'].fillna((ber_tr_values['BER_class'].mean()), inplace=True)\n",
        "ber_ts_values['BER_class'].fillna((ber_ts_values['BER_class'].mean()), inplace=True)\n",
        "\n",
        "# We can apply the standard scaler to each of the training and test set BER_class features\n",
        "ber_tr_values[['BER_class']] = standardscaler.fit_transform(ber_tr_values[['BER_class']])\n",
        "ber_ts_values[['BER_class']] = standardscaler.fit_transform(ber_ts_values[['BER_class']])\n",
        "\n",
        "# Then we insert these columns back into the df_train and df_test datasets\n",
        "df_train['BER_class'] = ber_tr_values['BER_class']\n",
        "df_test['BER_class'] = ber_ts_values['BER_class']"
      ],
      "execution_count": 181,
      "outputs": []
    },
    {
      "cell_type": "code",
      "metadata": {
        "colab": {
          "base_uri": "https://localhost:8080/"
        },
        "id": "MVFbKXYlaJna",
        "outputId": "e6faf7bb-f89d-41b2-a734-9c4639851d6e"
      },
      "source": [
        "# Let's test for any improvement in performance with the XGBoost Model\n",
        "\n",
        "# Remove 'Type' from dataset as it does not appear to be too important\n",
        "features = ['Location', 'Num_Bathrooms', 'Num_Beds', 'BER_class',\n",
        "                        'Latitude', 'Longitude', 'Surface','Price']\n",
        "\n",
        "df_train_xgb = df_train[features]\n",
        "X_train_xgb = df_train_xgb.iloc[:,0:-1].values \n",
        "y_train_xgb = df_train_xgb.iloc[:,-1].values.reshape(-1,1)  \n",
        "\n",
        "# Call XGBoost Model for each dataset\n",
        "Model_Full, RMSE_xgb_train_full, RMSE_xgb_val_full, r2_xgb_val_full = xgb_model(X_train_xgb, y_train_xgb, \"Performance Evaluation for Full Training Set\")\n"
      ],
      "execution_count": 235,
      "outputs": [
        {
          "output_type": "stream",
          "name": "stdout",
          "text": [
            "Performance Evaluation for Full Training Set\n",
            "RMSE_train: 0.0162   RMSE_test: 0.4123   R2_score: 0.8462\n"
          ]
        }
      ]
    },
    {
      "cell_type": "markdown",
      "metadata": {
        "id": "tzW8dKSMd7dc"
      },
      "source": [
        "**Comment** The performance of the XGBoost Model has not shown much improvement with the imputing of missing BER_values. However, that is expected as XGBoost handles missing values by default. We expect to see no great impact on the model, but no deterioration."
      ]
    },
    {
      "cell_type": "code",
      "metadata": {
        "colab": {
          "base_uri": "https://localhost:8080/",
          "height": 404
        },
        "id": "feqaggUld5Vs",
        "outputId": "1921bb33-819f-420a-e0bb-775bc0d99843"
      },
      "source": [
        "# Plot the Feature Importance to see what the impact of imputing BER_class has been\n",
        "fig, ax = plt.subplots(figsize=(12, 6))\n",
        "\n",
        "Model_Full.get_booster().feature_names = features[:-1]\n",
        "xgb.plot_importance(Model_Full, max_num_features= 7, ax=ax, importance_type=\"weight\")\n",
        "plt.show()"
      ],
      "execution_count": 238,
      "outputs": [
        {
          "output_type": "display_data",
          "data": {
            "image/png": "[encoded data removed]",
            "text/plain": [
              "<Figure size 864x432 with 1 Axes>"
            ]
          },
          "metadata": {
            "needs_background": "light"
          }
        }
      ]
    },
    {
      "cell_type": "markdown",
      "metadata": {
        "id": "yX3llkLheaDy"
      },
      "source": [
        "**Comment** As mentioned above, we expect to see no great change from in either BER_class feature importance. Key here is the model performs well with the newly processed data and that is confirmed. We want to process the data to perform well with models that do not handle missing data well and that is what we have done here."
      ]
    },
    {
      "cell_type": "markdown",
      "metadata": {
        "id": "pezB2qttcfvJ"
      },
      "source": [
        "### Analysis of Exploratory Data Analysis and Feature Engineering/Preprocessing\n",
        "**Explain the approach, setps and results**\n",
        "\n",
        "**Discuss the imputing for BER_class**\n",
        ">>1) Not much impact and \n",
        "\n",
        ">>2) not expected with XGBoost but will be important for modelling with algorithms that do not handle NaNs as well as XGBoost>\n",
        "\n",
        "**Discuss the Type feature(s)** and the fact they do not look useful and may be removed from further processing\n",
        "\n",
        "\n",
        "**The data is fully processed and ready for next stage - NLP Processing**"
      ]
    },
    {
      "cell_type": "markdown",
      "metadata": {
        "id": "2PMoPLlUJ1Ly"
      },
      "source": [
        "## Training & Test Data"
      ]
    },
    {
      "cell_type": "markdown",
      "metadata": {
        "id": "kv89CagzfFWF"
      },
      "source": [
        "The training and test datasets have been fully processed by removing unnecessary columns removing erroneous records, scaling and imputing values to provide complete datasets ready for further processing."
      ]
    },
    {
      "cell_type": "markdown",
      "metadata": {
        "id": "ztBkSZluye87"
      },
      "source": [
        "### Train dataset"
      ]
    },
    {
      "cell_type": "code",
      "metadata": {
        "id": "6XUFUPABMHfF",
        "colab": {
          "base_uri": "https://localhost:8080/",
          "height": 513
        },
        "outputId": "38d5ad6d-7e12-4d1f-9609-e248516f653a"
      },
      "source": [
        "# show first data frame rows \n",
        "df_train.head()"
      ],
      "execution_count": 225,
      "outputs": [
        {
          "output_type": "execute_result",
          "data": {
            "text/html": [
              "<div>\n",
              "<style scoped>\n",
              "    .dataframe tbody tr th:only-of-type {\n",
              "        vertical-align: middle;\n",
              "    }\n",
              "\n",
              "    .dataframe tbody tr th {\n",
              "        vertical-align: top;\n",
              "    }\n",
              "\n",
              "    .dataframe thead th {\n",
              "        text-align: right;\n",
              "    }\n",
              "</style>\n",
              "<table border=\"1\" class=\"dataframe\">\n",
              "  <thead>\n",
              "    <tr style=\"text-align: right;\">\n",
              "      <th></th>\n",
              "      <th>Index</th>\n",
              "      <th>Location</th>\n",
              "      <th>Num_Bathrooms</th>\n",
              "      <th>Num_Beds</th>\n",
              "      <th>BER_class</th>\n",
              "      <th>Description</th>\n",
              "      <th>Features</th>\n",
              "      <th>Latitude</th>\n",
              "      <th>Longitude</th>\n",
              "      <th>Surface</th>\n",
              "      <th>Price</th>\n",
              "      <th>Type_apartment</th>\n",
              "      <th>Type_bungalow</th>\n",
              "      <th>Type_detached</th>\n",
              "      <th>Type_duplex</th>\n",
              "      <th>Type_end-of-terrace</th>\n",
              "      <th>Type_semi-detached</th>\n",
              "      <th>Type_site</th>\n",
              "      <th>Type_studio</th>\n",
              "      <th>Type_terraced</th>\n",
              "      <th>Type_townhouse</th>\n",
              "    </tr>\n",
              "  </thead>\n",
              "  <tbody>\n",
              "    <tr>\n",
              "      <th>0</th>\n",
              "      <td>1</td>\n",
              "      <td>0.727891</td>\n",
              "      <td>0.693147</td>\n",
              "      <td>0.693147</td>\n",
              "      <td>-0.315848</td>\n",
              "      <td>DNG are delighted to present to the market no....</td>\n",
              "      <td>None</td>\n",
              "      <td>0.620414</td>\n",
              "      <td>-1.972920</td>\n",
              "      <td>-0.801032</td>\n",
              "      <td>-1.375767</td>\n",
              "      <td>1</td>\n",
              "      <td>0</td>\n",
              "      <td>0</td>\n",
              "      <td>0</td>\n",
              "      <td>0</td>\n",
              "      <td>0</td>\n",
              "      <td>0</td>\n",
              "      <td>0</td>\n",
              "      <td>0</td>\n",
              "      <td>0</td>\n",
              "    </tr>\n",
              "    <tr>\n",
              "      <th>1</th>\n",
              "      <td>2</td>\n",
              "      <td>0.714286</td>\n",
              "      <td>0.000000</td>\n",
              "      <td>0.693147</td>\n",
              "      <td>0.027283</td>\n",
              "      <td>13 Northbrook Terrace is a charming red brick ...</td>\n",
              "      <td>Bight and Spacious interior\\nNumerous original...</td>\n",
              "      <td>0.085158</td>\n",
              "      <td>0.195426</td>\n",
              "      <td>-0.129563</td>\n",
              "      <td>-0.069313</td>\n",
              "      <td>0</td>\n",
              "      <td>0</td>\n",
              "      <td>0</td>\n",
              "      <td>0</td>\n",
              "      <td>0</td>\n",
              "      <td>0</td>\n",
              "      <td>0</td>\n",
              "      <td>0</td>\n",
              "      <td>1</td>\n",
              "      <td>0</td>\n",
              "    </tr>\n",
              "    <tr>\n",
              "      <th>2</th>\n",
              "      <td>3</td>\n",
              "      <td>0.911565</td>\n",
              "      <td>1.098612</td>\n",
              "      <td>1.098612</td>\n",
              "      <td>-2.374633</td>\n",
              "      <td>Welcome to No. 6 Cotter Close, an immaculately...</td>\n",
              "      <td>Special Features\\nLarge rear garden\\nGenerous ...</td>\n",
              "      <td>-1.143935</td>\n",
              "      <td>0.380738</td>\n",
              "      <td>0.073728</td>\n",
              "      <td>0.316671</td>\n",
              "      <td>0</td>\n",
              "      <td>0</td>\n",
              "      <td>0</td>\n",
              "      <td>0</td>\n",
              "      <td>0</td>\n",
              "      <td>1</td>\n",
              "      <td>0</td>\n",
              "      <td>0</td>\n",
              "      <td>0</td>\n",
              "      <td>0</td>\n",
              "    </tr>\n",
              "    <tr>\n",
              "      <th>3</th>\n",
              "      <td>4</td>\n",
              "      <td>0.149660</td>\n",
              "      <td>0.000000</td>\n",
              "      <td>1.098612</td>\n",
              "      <td>0.713544</td>\n",
              "      <td>Welcome to 3 Sycamore Walk!\\n\\r\\nEnjoying a pr...</td>\n",
              "      <td>Wonderful 3 bed detached bungalow.     \\nAccom...</td>\n",
              "      <td>-1.209989</td>\n",
              "      <td>0.991249</td>\n",
              "      <td>-0.446453</td>\n",
              "      <td>0.199858</td>\n",
              "      <td>0</td>\n",
              "      <td>0</td>\n",
              "      <td>1</td>\n",
              "      <td>0</td>\n",
              "      <td>0</td>\n",
              "      <td>0</td>\n",
              "      <td>0</td>\n",
              "      <td>0</td>\n",
              "      <td>0</td>\n",
              "      <td>0</td>\n",
              "    </tr>\n",
              "    <tr>\n",
              "      <th>4</th>\n",
              "      <td>5</td>\n",
              "      <td>0.639456</td>\n",
              "      <td>1.098612</td>\n",
              "      <td>1.386294</td>\n",
              "      <td>0.027283</td>\n",
              "      <td>'Four Seasons' comes to the market as a wonder...</td>\n",
              "      <td>Detached Property      \\nDouble Glazed Windows...</td>\n",
              "      <td>2.702848</td>\n",
              "      <td>1.485068</td>\n",
              "      <td>0.741957</td>\n",
              "      <td>0.236422</td>\n",
              "      <td>0</td>\n",
              "      <td>0</td>\n",
              "      <td>1</td>\n",
              "      <td>0</td>\n",
              "      <td>0</td>\n",
              "      <td>0</td>\n",
              "      <td>0</td>\n",
              "      <td>0</td>\n",
              "      <td>0</td>\n",
              "      <td>0</td>\n",
              "    </tr>\n",
              "  </tbody>\n",
              "</table>\n",
              "</div>"
            ],
            "text/plain": [
              "   Index  Location  Num_Bathrooms  ...  Type_studio  Type_terraced Type_townhouse\n",
              "0      1  0.727891       0.693147  ...            0              0              0\n",
              "1      2  0.714286       0.000000  ...            0              1              0\n",
              "2      3  0.911565       1.098612  ...            0              0              0\n",
              "3      4  0.149660       0.000000  ...            0              0              0\n",
              "4      5  0.639456       1.098612  ...            0              0              0\n",
              "\n",
              "[5 rows x 21 columns]"
            ]
          },
          "metadata": {},
          "execution_count": 225
        }
      ]
    },
    {
      "cell_type": "code",
      "metadata": {
        "id": "5rq_p-D4yLBe",
        "colab": {
          "base_uri": "https://localhost:8080/",
          "height": 334
        },
        "outputId": "0cfd4084-d8c8-415f-ec19-22d91d56b823"
      },
      "source": [
        "# Generate descriptive statistics\n",
        "df_train.describe()"
      ],
      "execution_count": 226,
      "outputs": [
        {
          "output_type": "execute_result",
          "data": {
            "text/html": [
              "<div>\n",
              "<style scoped>\n",
              "    .dataframe tbody tr th:only-of-type {\n",
              "        vertical-align: middle;\n",
              "    }\n",
              "\n",
              "    .dataframe tbody tr th {\n",
              "        vertical-align: top;\n",
              "    }\n",
              "\n",
              "    .dataframe thead th {\n",
              "        text-align: right;\n",
              "    }\n",
              "</style>\n",
              "<table border=\"1\" class=\"dataframe\">\n",
              "  <thead>\n",
              "    <tr style=\"text-align: right;\">\n",
              "      <th></th>\n",
              "      <th>Index</th>\n",
              "      <th>Location</th>\n",
              "      <th>Num_Bathrooms</th>\n",
              "      <th>Num_Beds</th>\n",
              "      <th>BER_class</th>\n",
              "      <th>Latitude</th>\n",
              "      <th>Longitude</th>\n",
              "      <th>Surface</th>\n",
              "      <th>Price</th>\n",
              "      <th>Type_apartment</th>\n",
              "      <th>Type_bungalow</th>\n",
              "      <th>Type_detached</th>\n",
              "      <th>Type_duplex</th>\n",
              "      <th>Type_end-of-terrace</th>\n",
              "      <th>Type_semi-detached</th>\n",
              "      <th>Type_site</th>\n",
              "      <th>Type_studio</th>\n",
              "      <th>Type_terraced</th>\n",
              "      <th>Type_townhouse</th>\n",
              "    </tr>\n",
              "  </thead>\n",
              "  <tbody>\n",
              "    <tr>\n",
              "      <th>count</th>\n",
              "      <td>1635.000000</td>\n",
              "      <td>1635.000000</td>\n",
              "      <td>1635.000000</td>\n",
              "      <td>1635.000000</td>\n",
              "      <td>1635.000000</td>\n",
              "      <td>1.635000e+03</td>\n",
              "      <td>1.635000e+03</td>\n",
              "      <td>1.635000e+03</td>\n",
              "      <td>1.635000e+03</td>\n",
              "      <td>1635.000000</td>\n",
              "      <td>1635.000000</td>\n",
              "      <td>1635.000000</td>\n",
              "      <td>1635.000000</td>\n",
              "      <td>1635.000000</td>\n",
              "      <td>1635.000000</td>\n",
              "      <td>1635.000000</td>\n",
              "      <td>1635.000000</td>\n",
              "      <td>1635.000000</td>\n",
              "      <td>1635.000000</td>\n",
              "    </tr>\n",
              "    <tr>\n",
              "      <th>mean</th>\n",
              "      <td>819.793272</td>\n",
              "      <td>0.499586</td>\n",
              "      <td>0.584805</td>\n",
              "      <td>1.025529</td>\n",
              "      <td>-0.001083</td>\n",
              "      <td>-2.551883e-14</td>\n",
              "      <td>2.844887e-15</td>\n",
              "      <td>-4.305085e-17</td>\n",
              "      <td>-6.779151e-16</td>\n",
              "      <td>0.263609</td>\n",
              "      <td>0.028135</td>\n",
              "      <td>0.143119</td>\n",
              "      <td>0.020183</td>\n",
              "      <td>0.072171</td>\n",
              "      <td>0.279511</td>\n",
              "      <td>0.000612</td>\n",
              "      <td>0.001223</td>\n",
              "      <td>0.182875</td>\n",
              "      <td>0.008563</td>\n",
              "    </tr>\n",
              "    <tr>\n",
              "      <th>std</th>\n",
              "      <td>473.169234</td>\n",
              "      <td>0.291108</td>\n",
              "      <td>0.508900</td>\n",
              "      <td>0.426905</td>\n",
              "      <td>1.000420</td>\n",
              "      <td>1.000306e+00</td>\n",
              "      <td>1.000306e+00</td>\n",
              "      <td>1.000306e+00</td>\n",
              "      <td>1.000306e+00</td>\n",
              "      <td>0.440724</td>\n",
              "      <td>0.165408</td>\n",
              "      <td>0.350302</td>\n",
              "      <td>0.140671</td>\n",
              "      <td>0.258850</td>\n",
              "      <td>0.448896</td>\n",
              "      <td>0.024731</td>\n",
              "      <td>0.034964</td>\n",
              "      <td>0.386682</td>\n",
              "      <td>0.092166</td>\n",
              "    </tr>\n",
              "    <tr>\n",
              "      <th>min</th>\n",
              "      <td>1.000000</td>\n",
              "      <td>0.000000</td>\n",
              "      <td>0.000000</td>\n",
              "      <td>0.000000</td>\n",
              "      <td>-3.060895</td>\n",
              "      <td>-1.837444e+00</td>\n",
              "      <td>-2.607139e+00</td>\n",
              "      <td>-6.371178e+00</td>\n",
              "      <td>-5.194933e+00</td>\n",
              "      <td>0.000000</td>\n",
              "      <td>0.000000</td>\n",
              "      <td>0.000000</td>\n",
              "      <td>0.000000</td>\n",
              "      <td>0.000000</td>\n",
              "      <td>0.000000</td>\n",
              "      <td>0.000000</td>\n",
              "      <td>0.000000</td>\n",
              "      <td>0.000000</td>\n",
              "      <td>0.000000</td>\n",
              "    </tr>\n",
              "    <tr>\n",
              "      <th>25%</th>\n",
              "      <td>410.500000</td>\n",
              "      <td>0.244898</td>\n",
              "      <td>0.000000</td>\n",
              "      <td>0.693147</td>\n",
              "      <td>-0.658979</td>\n",
              "      <td>-7.665698e-01</td>\n",
              "      <td>-5.638635e-01</td>\n",
              "      <td>-6.407679e-01</td>\n",
              "      <td>-6.815719e-01</td>\n",
              "      <td>0.000000</td>\n",
              "      <td>0.000000</td>\n",
              "      <td>0.000000</td>\n",
              "      <td>0.000000</td>\n",
              "      <td>0.000000</td>\n",
              "      <td>0.000000</td>\n",
              "      <td>0.000000</td>\n",
              "      <td>0.000000</td>\n",
              "      <td>0.000000</td>\n",
              "      <td>0.000000</td>\n",
              "    </tr>\n",
              "    <tr>\n",
              "      <th>50%</th>\n",
              "      <td>820.000000</td>\n",
              "      <td>0.455782</td>\n",
              "      <td>0.693147</td>\n",
              "      <td>1.098612</td>\n",
              "      <td>0.027283</td>\n",
              "      <td>-1.297867e-01</td>\n",
              "      <td>1.086977e-01</td>\n",
              "      <td>-1.096150e-01</td>\n",
              "      <td>-1.920677e-01</td>\n",
              "      <td>0.000000</td>\n",
              "      <td>0.000000</td>\n",
              "      <td>0.000000</td>\n",
              "      <td>0.000000</td>\n",
              "      <td>0.000000</td>\n",
              "      <td>0.000000</td>\n",
              "      <td>0.000000</td>\n",
              "      <td>0.000000</td>\n",
              "      <td>0.000000</td>\n",
              "      <td>0.000000</td>\n",
              "    </tr>\n",
              "    <tr>\n",
              "      <th>75%</th>\n",
              "      <td>1229.500000</td>\n",
              "      <td>0.782313</td>\n",
              "      <td>1.098612</td>\n",
              "      <td>1.386294</td>\n",
              "      <td>0.713544</td>\n",
              "      <td>4.214960e-01</td>\n",
              "      <td>6.931843e-01</td>\n",
              "      <td>5.080770e-01</td>\n",
              "      <td>4.949167e-01</td>\n",
              "      <td>1.000000</td>\n",
              "      <td>0.000000</td>\n",
              "      <td>0.000000</td>\n",
              "      <td>0.000000</td>\n",
              "      <td>0.000000</td>\n",
              "      <td>1.000000</td>\n",
              "      <td>0.000000</td>\n",
              "      <td>0.000000</td>\n",
              "      <td>0.000000</td>\n",
              "      <td>0.000000</td>\n",
              "    </tr>\n",
              "    <tr>\n",
              "      <th>max</th>\n",
              "      <td>1638.000000</td>\n",
              "      <td>1.000000</td>\n",
              "      <td>2.890372</td>\n",
              "      <td>3.295837</td>\n",
              "      <td>2.086067</td>\n",
              "      <td>3.779837e+00</td>\n",
              "      <td>2.211758e+00</td>\n",
              "      <td>4.995069e+00</td>\n",
              "      <td>5.031338e+00</td>\n",
              "      <td>1.000000</td>\n",
              "      <td>1.000000</td>\n",
              "      <td>1.000000</td>\n",
              "      <td>1.000000</td>\n",
              "      <td>1.000000</td>\n",
              "      <td>1.000000</td>\n",
              "      <td>1.000000</td>\n",
              "      <td>1.000000</td>\n",
              "      <td>1.000000</td>\n",
              "      <td>1.000000</td>\n",
              "    </tr>\n",
              "  </tbody>\n",
              "</table>\n",
              "</div>"
            ],
            "text/plain": [
              "             Index     Location  ...  Type_terraced  Type_townhouse\n",
              "count  1635.000000  1635.000000  ...    1635.000000     1635.000000\n",
              "mean    819.793272     0.499586  ...       0.182875        0.008563\n",
              "std     473.169234     0.291108  ...       0.386682        0.092166\n",
              "min       1.000000     0.000000  ...       0.000000        0.000000\n",
              "25%     410.500000     0.244898  ...       0.000000        0.000000\n",
              "50%     820.000000     0.455782  ...       0.000000        0.000000\n",
              "75%    1229.500000     0.782313  ...       0.000000        0.000000\n",
              "max    1638.000000     1.000000  ...       1.000000        1.000000\n",
              "\n",
              "[8 rows x 19 columns]"
            ]
          },
          "metadata": {},
          "execution_count": 226
        }
      ]
    },
    {
      "cell_type": "markdown",
      "metadata": {
        "id": "5iBxEe-2fgNs"
      },
      "source": [
        "**Comment** key to note here is the scales on all features are within similar ranges and not with large differences."
      ]
    },
    {
      "cell_type": "markdown",
      "metadata": {
        "id": "Iqg9_uxFyZli"
      },
      "source": [
        "### Test dataset"
      ]
    },
    {
      "cell_type": "code",
      "metadata": {
        "id": "bw2_yypxMfsi",
        "colab": {
          "base_uri": "https://localhost:8080/",
          "height": 598
        },
        "outputId": "1c29ba88-6235-4738-b883-a26106ef55f8"
      },
      "source": [
        "# show first data frame rows \n",
        "df_test.head()"
      ],
      "execution_count": 227,
      "outputs": [
        {
          "output_type": "execute_result",
          "data": {
            "text/html": [
              "<div>\n",
              "<style scoped>\n",
              "    .dataframe tbody tr th:only-of-type {\n",
              "        vertical-align: middle;\n",
              "    }\n",
              "\n",
              "    .dataframe tbody tr th {\n",
              "        vertical-align: top;\n",
              "    }\n",
              "\n",
              "    .dataframe thead th {\n",
              "        text-align: right;\n",
              "    }\n",
              "</style>\n",
              "<table border=\"1\" class=\"dataframe\">\n",
              "  <thead>\n",
              "    <tr style=\"text-align: right;\">\n",
              "      <th></th>\n",
              "      <th>Index</th>\n",
              "      <th>Location</th>\n",
              "      <th>Num_Bathrooms</th>\n",
              "      <th>Num_Beds</th>\n",
              "      <th>BER_class</th>\n",
              "      <th>Description</th>\n",
              "      <th>Features</th>\n",
              "      <th>Latitude</th>\n",
              "      <th>Longitude</th>\n",
              "      <th>Surface</th>\n",
              "      <th>Type_apartment</th>\n",
              "      <th>Type_bungalow</th>\n",
              "      <th>Type_detached</th>\n",
              "      <th>Type_duplex</th>\n",
              "      <th>Type_end-of-terrace</th>\n",
              "      <th>Type_semi-detached</th>\n",
              "      <th>Type_site</th>\n",
              "      <th>Type_terraced</th>\n",
              "      <th>Type_townhouse</th>\n",
              "    </tr>\n",
              "  </thead>\n",
              "  <tbody>\n",
              "    <tr>\n",
              "      <th>0</th>\n",
              "      <td>1639</td>\n",
              "      <td>0.655172</td>\n",
              "      <td>0.693147</td>\n",
              "      <td>0.693147</td>\n",
              "      <td>-0.616615</td>\n",
              "      <td>OMD Estate Agents are delighted to present thi...</td>\n",
              "      <td>Designated parking spaces\\nPresented in pristi...</td>\n",
              "      <td>-0.462275</td>\n",
              "      <td>0.098546</td>\n",
              "      <td>-0.854973</td>\n",
              "      <td>0</td>\n",
              "      <td>0</td>\n",
              "      <td>0</td>\n",
              "      <td>0</td>\n",
              "      <td>0</td>\n",
              "      <td>0</td>\n",
              "      <td>0</td>\n",
              "      <td>0</td>\n",
              "      <td>1</td>\n",
              "    </tr>\n",
              "    <tr>\n",
              "      <th>1</th>\n",
              "      <td>1640</td>\n",
              "      <td>0.448276</td>\n",
              "      <td>0.693147</td>\n",
              "      <td>1.609438</td>\n",
              "      <td>0.689377</td>\n",
              "      <td>Welcome to Saint Anthony No.214 Glasnevin Aven...</td>\n",
              "      <td>Modern Worcester Gas Boiler\\nSingle Glazed Win...</td>\n",
              "      <td>0.546564</td>\n",
              "      <td>-0.322551</td>\n",
              "      <td>0.571829</td>\n",
              "      <td>0</td>\n",
              "      <td>0</td>\n",
              "      <td>0</td>\n",
              "      <td>0</td>\n",
              "      <td>0</td>\n",
              "      <td>1</td>\n",
              "      <td>0</td>\n",
              "      <td>0</td>\n",
              "      <td>0</td>\n",
              "    </tr>\n",
              "    <tr>\n",
              "      <th>2</th>\n",
              "      <td>1641</td>\n",
              "      <td>0.275862</td>\n",
              "      <td>0.000000</td>\n",
              "      <td>0.693147</td>\n",
              "      <td>1.668871</td>\n",
              "      <td>Located in this ever popular road, on grounds ...</td>\n",
              "      <td>2 BEDROOM DETACHED HOUSE ON  1/5th ACRE\\nOIL F...</td>\n",
              "      <td>-1.055818</td>\n",
              "      <td>1.570297</td>\n",
              "      <td>-0.475852</td>\n",
              "      <td>0</td>\n",
              "      <td>0</td>\n",
              "      <td>1</td>\n",
              "      <td>0</td>\n",
              "      <td>0</td>\n",
              "      <td>0</td>\n",
              "      <td>0</td>\n",
              "      <td>0</td>\n",
              "      <td>0</td>\n",
              "    </tr>\n",
              "    <tr>\n",
              "      <th>3</th>\n",
              "      <td>1642</td>\n",
              "      <td>0.772414</td>\n",
              "      <td>1.386294</td>\n",
              "      <td>1.386294</td>\n",
              "      <td>-2.575603</td>\n",
              "      <td>DNG are delighted to represent the sale of thi...</td>\n",
              "      <td>Detached House\\nSouth Facing Garden\\nOff Stree...</td>\n",
              "      <td>0.359297</td>\n",
              "      <td>0.732808</td>\n",
              "      <td>1.277538</td>\n",
              "      <td>0</td>\n",
              "      <td>0</td>\n",
              "      <td>1</td>\n",
              "      <td>0</td>\n",
              "      <td>0</td>\n",
              "      <td>0</td>\n",
              "      <td>0</td>\n",
              "      <td>0</td>\n",
              "      <td>0</td>\n",
              "    </tr>\n",
              "    <tr>\n",
              "      <th>4</th>\n",
              "      <td>1643</td>\n",
              "      <td>0.268966</td>\n",
              "      <td>0.693147</td>\n",
              "      <td>1.098612</td>\n",
              "      <td>1.342373</td>\n",
              "      <td>A unique opportunity to acquire this red brick...</td>\n",
              "      <td>Red brick end of terrace property \\nC. 108sqm ...</td>\n",
              "      <td>-0.314053</td>\n",
              "      <td>-0.617542</td>\n",
              "      <td>0.072098</td>\n",
              "      <td>0</td>\n",
              "      <td>0</td>\n",
              "      <td>0</td>\n",
              "      <td>0</td>\n",
              "      <td>1</td>\n",
              "      <td>0</td>\n",
              "      <td>0</td>\n",
              "      <td>0</td>\n",
              "      <td>0</td>\n",
              "    </tr>\n",
              "  </tbody>\n",
              "</table>\n",
              "</div>"
            ],
            "text/plain": [
              "   Index  Location  Num_Bathrooms  ...  Type_site  Type_terraced Type_townhouse\n",
              "0   1639  0.655172       0.693147  ...          0              0              1\n",
              "1   1640  0.448276       0.693147  ...          0              0              0\n",
              "2   1641  0.275862       0.000000  ...          0              0              0\n",
              "3   1642  0.772414       1.386294  ...          0              0              0\n",
              "4   1643  0.268966       0.693147  ...          0              0              0\n",
              "\n",
              "[5 rows x 19 columns]"
            ]
          },
          "metadata": {},
          "execution_count": 227
        }
      ]
    },
    {
      "cell_type": "code",
      "metadata": {
        "id": "FXo0x2u7T7-1",
        "colab": {
          "base_uri": "https://localhost:8080/",
          "height": 351
        },
        "outputId": "8695677e-9b2c-4ea7-8b6f-6b6f3fcdc13c"
      },
      "source": [
        "# Generate descriptive statistics\n",
        "df_test.describe()"
      ],
      "execution_count": 228,
      "outputs": [
        {
          "output_type": "execute_result",
          "data": {
            "text/html": [
              "<div>\n",
              "<style scoped>\n",
              "    .dataframe tbody tr th:only-of-type {\n",
              "        vertical-align: middle;\n",
              "    }\n",
              "\n",
              "    .dataframe tbody tr th {\n",
              "        vertical-align: top;\n",
              "    }\n",
              "\n",
              "    .dataframe thead th {\n",
              "        text-align: right;\n",
              "    }\n",
              "</style>\n",
              "<table border=\"1\" class=\"dataframe\">\n",
              "  <thead>\n",
              "    <tr style=\"text-align: right;\">\n",
              "      <th></th>\n",
              "      <th>Index</th>\n",
              "      <th>Location</th>\n",
              "      <th>Num_Bathrooms</th>\n",
              "      <th>Num_Beds</th>\n",
              "      <th>BER_class</th>\n",
              "      <th>Latitude</th>\n",
              "      <th>Longitude</th>\n",
              "      <th>Surface</th>\n",
              "      <th>Type_apartment</th>\n",
              "      <th>Type_bungalow</th>\n",
              "      <th>Type_detached</th>\n",
              "      <th>Type_duplex</th>\n",
              "      <th>Type_end-of-terrace</th>\n",
              "      <th>Type_semi-detached</th>\n",
              "      <th>Type_site</th>\n",
              "      <th>Type_terraced</th>\n",
              "      <th>Type_townhouse</th>\n",
              "    </tr>\n",
              "  </thead>\n",
              "  <tbody>\n",
              "    <tr>\n",
              "      <th>count</th>\n",
              "      <td>702.000000</td>\n",
              "      <td>702.000000</td>\n",
              "      <td>702.000000</td>\n",
              "      <td>702.000000</td>\n",
              "      <td>7.020000e+02</td>\n",
              "      <td>7.020000e+02</td>\n",
              "      <td>7.020000e+02</td>\n",
              "      <td>7.020000e+02</td>\n",
              "      <td>702.000000</td>\n",
              "      <td>702.000000</td>\n",
              "      <td>702.00000</td>\n",
              "      <td>702.000000</td>\n",
              "      <td>702.000000</td>\n",
              "      <td>702.000000</td>\n",
              "      <td>702.000000</td>\n",
              "      <td>702.000000</td>\n",
              "      <td>702.000000</td>\n",
              "    </tr>\n",
              "    <tr>\n",
              "      <th>mean</th>\n",
              "      <td>1989.500000</td>\n",
              "      <td>0.507663</td>\n",
              "      <td>0.580580</td>\n",
              "      <td>1.013545</td>\n",
              "      <td>-3.722885e-16</td>\n",
              "      <td>5.027555e-14</td>\n",
              "      <td>6.153356e-15</td>\n",
              "      <td>1.031147e-16</td>\n",
              "      <td>0.276353</td>\n",
              "      <td>0.025641</td>\n",
              "      <td>0.14245</td>\n",
              "      <td>0.021368</td>\n",
              "      <td>0.091168</td>\n",
              "      <td>0.245014</td>\n",
              "      <td>0.002849</td>\n",
              "      <td>0.188034</td>\n",
              "      <td>0.007123</td>\n",
              "    </tr>\n",
              "    <tr>\n",
              "      <th>std</th>\n",
              "      <td>202.794231</td>\n",
              "      <td>0.291095</td>\n",
              "      <td>0.498537</td>\n",
              "      <td>0.415753</td>\n",
              "      <td>1.000713e+00</td>\n",
              "      <td>1.000713e+00</td>\n",
              "      <td>1.000713e+00</td>\n",
              "      <td>1.000713e+00</td>\n",
              "      <td>0.447512</td>\n",
              "      <td>0.158175</td>\n",
              "      <td>0.34976</td>\n",
              "      <td>0.144709</td>\n",
              "      <td>0.288053</td>\n",
              "      <td>0.430402</td>\n",
              "      <td>0.053338</td>\n",
              "      <td>0.391018</td>\n",
              "      <td>0.084154</td>\n",
              "    </tr>\n",
              "    <tr>\n",
              "      <th>min</th>\n",
              "      <td>1639.000000</td>\n",
              "      <td>0.000000</td>\n",
              "      <td>0.000000</td>\n",
              "      <td>0.000000</td>\n",
              "      <td>-2.575603e+00</td>\n",
              "      <td>-1.846362e+00</td>\n",
              "      <td>-2.936280e+00</td>\n",
              "      <td>-2.143177e+00</td>\n",
              "      <td>0.000000</td>\n",
              "      <td>0.000000</td>\n",
              "      <td>0.00000</td>\n",
              "      <td>0.000000</td>\n",
              "      <td>0.000000</td>\n",
              "      <td>0.000000</td>\n",
              "      <td>0.000000</td>\n",
              "      <td>0.000000</td>\n",
              "      <td>0.000000</td>\n",
              "    </tr>\n",
              "    <tr>\n",
              "      <th>25%</th>\n",
              "      <td>1814.250000</td>\n",
              "      <td>0.270690</td>\n",
              "      <td>0.000000</td>\n",
              "      <td>0.693147</td>\n",
              "      <td>-6.166147e-01</td>\n",
              "      <td>-7.474966e-01</td>\n",
              "      <td>-5.664116e-01</td>\n",
              "      <td>-6.430413e-01</td>\n",
              "      <td>0.000000</td>\n",
              "      <td>0.000000</td>\n",
              "      <td>0.00000</td>\n",
              "      <td>0.000000</td>\n",
              "      <td>0.000000</td>\n",
              "      <td>0.000000</td>\n",
              "      <td>0.000000</td>\n",
              "      <td>0.000000</td>\n",
              "      <td>0.000000</td>\n",
              "    </tr>\n",
              "    <tr>\n",
              "      <th>50%</th>\n",
              "      <td>1989.500000</td>\n",
              "      <td>0.462069</td>\n",
              "      <td>0.693147</td>\n",
              "      <td>1.098612</td>\n",
              "      <td>3.638120e-02</td>\n",
              "      <td>-1.251458e-01</td>\n",
              "      <td>5.039519e-02</td>\n",
              "      <td>-8.309184e-02</td>\n",
              "      <td>0.000000</td>\n",
              "      <td>0.000000</td>\n",
              "      <td>0.00000</td>\n",
              "      <td>0.000000</td>\n",
              "      <td>0.000000</td>\n",
              "      <td>0.000000</td>\n",
              "      <td>0.000000</td>\n",
              "      <td>0.000000</td>\n",
              "      <td>0.000000</td>\n",
              "    </tr>\n",
              "    <tr>\n",
              "      <th>75%</th>\n",
              "      <td>2164.750000</td>\n",
              "      <td>0.793103</td>\n",
              "      <td>1.098612</td>\n",
              "      <td>1.386294</td>\n",
              "      <td>6.893772e-01</td>\n",
              "      <td>4.245285e-01</td>\n",
              "      <td>7.443558e-01</td>\n",
              "      <td>5.047100e-01</td>\n",
              "      <td>1.000000</td>\n",
              "      <td>0.000000</td>\n",
              "      <td>0.00000</td>\n",
              "      <td>0.000000</td>\n",
              "      <td>0.000000</td>\n",
              "      <td>0.000000</td>\n",
              "      <td>0.000000</td>\n",
              "      <td>0.000000</td>\n",
              "      <td>0.000000</td>\n",
              "    </tr>\n",
              "    <tr>\n",
              "      <th>max</th>\n",
              "      <td>2340.000000</td>\n",
              "      <td>1.000000</td>\n",
              "      <td>2.197225</td>\n",
              "      <td>2.639057</td>\n",
              "      <td>1.995369e+00</td>\n",
              "      <td>3.607425e+00</td>\n",
              "      <td>2.133195e+00</td>\n",
              "      <td>8.059505e+00</td>\n",
              "      <td>1.000000</td>\n",
              "      <td>1.000000</td>\n",
              "      <td>1.00000</td>\n",
              "      <td>1.000000</td>\n",
              "      <td>1.000000</td>\n",
              "      <td>1.000000</td>\n",
              "      <td>1.000000</td>\n",
              "      <td>1.000000</td>\n",
              "      <td>1.000000</td>\n",
              "    </tr>\n",
              "  </tbody>\n",
              "</table>\n",
              "</div>"
            ],
            "text/plain": [
              "             Index    Location  ...  Type_terraced  Type_townhouse\n",
              "count   702.000000  702.000000  ...     702.000000      702.000000\n",
              "mean   1989.500000    0.507663  ...       0.188034        0.007123\n",
              "std     202.794231    0.291095  ...       0.391018        0.084154\n",
              "min    1639.000000    0.000000  ...       0.000000        0.000000\n",
              "25%    1814.250000    0.270690  ...       0.000000        0.000000\n",
              "50%    1989.500000    0.462069  ...       0.000000        0.000000\n",
              "75%    2164.750000    0.793103  ...       0.000000        0.000000\n",
              "max    2340.000000    1.000000  ...       1.000000        1.000000\n",
              "\n",
              "[8 rows x 17 columns]"
            ]
          },
          "metadata": {},
          "execution_count": 228
        }
      ]
    },
    {
      "cell_type": "markdown",
      "metadata": {
        "id": "G5oRiZxo2gpN"
      },
      "source": [
        "# NATURAL LANGUAGE PROCESSING"
      ]
    },
    {
      "cell_type": "markdown",
      "metadata": {
        "id": "e8s0Wi3a8yjN"
      },
      "source": [
        "Natural language processing ([NLP](https://en.wikipedia.org/wiki/Natural_language_processing)) is a subfield of linguistics, computer science, and artificial intelligence.\n",
        "\n",
        "* NLP concerned with the interactions between computers and human language.\n",
        "* In particular how to program computers to process and analyze large amounts of natural language data. \n",
        "* The goal is a computer capable of \"understanding\" the contents of documents.\n",
        "* Including the contextual nuances of the language within them. \n",
        "* The technology can then accurately extract information and insights contained in the documents.\n",
        "* As well as categorize and organize the documents themselves. "
      ]
    },
    {
      "cell_type": "markdown",
      "metadata": {
        "id": "oValFP-z2gpN"
      },
      "source": [
        "For this section, we will process the two textual features using NLP techniqus. The two textual features are:\n",
        "\n",
        "1. Description\n",
        "\n",
        "2. Features\n",
        "\n",
        "We are looking to see if these features have an impact on price. There maybe some words or phrases (bi- or tri-grams) that may influence the Price paid for the propertes. This is interesting because these are typically used by sellers or estate agents to dscribe the prperty for sale. The use of descriptions like this, as well as more detail on features of the prperty, are likely to influence buyers, so we will test this."
      ]
    },
    {
      "cell_type": "code",
      "metadata": {
        "id": "e_WND6NP2gpN",
        "colab": {
          "base_uri": "https://localhost:8080/"
        },
        "outputId": "37228413-6417-448d-c9a2-5d0df2e88697"
      },
      "source": [
        "# Set up the various components of the NLP processing code\n",
        "\n",
        "from nltk.tokenize import word_tokenize  \n",
        "from nltk.stem import WordNetLemmatizer\n",
        "from nltk.stem.porter import *\n",
        "nltk.download('punkt')\n",
        "nltk.download('wordnet')\n",
        "import nltk\n",
        "nltk.download('stopwords')\n",
        "\n",
        "def nlp_preprocess(some_text):\n",
        "  \"\"\"\n",
        "  Normalization using NLTK and spaCy\n",
        "  \"\"\"\n",
        "  # 1. Tokenization\n",
        "  NLP_token = word_tokenize(some_text)\n",
        "\n",
        "  # 2. Stemming\n",
        "  PS = PorterStemmer()\n",
        "  NLP_stem = []\n",
        "  for word in NLP_token:\n",
        "      NLP_stem.append(PS.stem(word))\n",
        "\n",
        "  # 3. Lemmatization\n",
        "  WL = WordNetLemmatizer()\n",
        "  NLP_lemma = []\n",
        "  for word in NLP_stem:\n",
        "      NLP_lemma.append(WL.lemmatize(word))\n",
        "  \n",
        "  # 4. Stopword   \n",
        "  FS = []  \n",
        "  NLP_stop = set(stopwords.words(\"english\"))\n",
        "  for w in NLP_lemma:  \n",
        "      if w not in NLP_stop:  \n",
        "        FS.append(w)\n",
        "  \n",
        "  # 5. Punctuation  \n",
        "  punctuations = \"?:!.,;\"\n",
        "  for word in FS:\n",
        "      if word in punctuations:\n",
        "          FS.remove(word)\n",
        "\n",
        "  # print comparison\n",
        "  print(\" \")\n",
        "  print(some_text)\n",
        "  print(FS)"
      ],
      "execution_count": 260,
      "outputs": [
        {
          "output_type": "stream",
          "name": "stdout",
          "text": [
            "[nltk_data] Downloading package punkt to /root/nltk_data...\n",
            "[nltk_data]   Package punkt is already up-to-date!\n",
            "[nltk_data] Downloading package wordnet to /root/nltk_data...\n",
            "[nltk_data]   Package wordnet is already up-to-date!\n",
            "[nltk_data] Downloading package stopwords to /root/nltk_data...\n",
            "[nltk_data]   Unzipping corpora/stopwords.zip.\n"
          ]
        }
      ]
    },
    {
      "cell_type": "code",
      "metadata": {
        "colab": {
          "base_uri": "https://localhost:8080/",
          "height": 301
        },
        "id": "BElFnVSFrfeO",
        "outputId": "9f4b4e46-3c90-4bf3-feb0-f087bf6ca94b"
      },
      "source": [
        "df_train.head(2)"
      ],
      "execution_count": 247,
      "outputs": [
        {
          "output_type": "execute_result",
          "data": {
            "text/html": [
              "<div>\n",
              "<style scoped>\n",
              "    .dataframe tbody tr th:only-of-type {\n",
              "        vertical-align: middle;\n",
              "    }\n",
              "\n",
              "    .dataframe tbody tr th {\n",
              "        vertical-align: top;\n",
              "    }\n",
              "\n",
              "    .dataframe thead th {\n",
              "        text-align: right;\n",
              "    }\n",
              "</style>\n",
              "<table border=\"1\" class=\"dataframe\">\n",
              "  <thead>\n",
              "    <tr style=\"text-align: right;\">\n",
              "      <th></th>\n",
              "      <th>Index</th>\n",
              "      <th>Location</th>\n",
              "      <th>Num_Bathrooms</th>\n",
              "      <th>Num_Beds</th>\n",
              "      <th>BER_class</th>\n",
              "      <th>Description</th>\n",
              "      <th>Features</th>\n",
              "      <th>Latitude</th>\n",
              "      <th>Longitude</th>\n",
              "      <th>Surface</th>\n",
              "      <th>Price</th>\n",
              "      <th>Type_apartment</th>\n",
              "      <th>Type_bungalow</th>\n",
              "      <th>Type_detached</th>\n",
              "      <th>Type_duplex</th>\n",
              "      <th>Type_end-of-terrace</th>\n",
              "      <th>Type_semi-detached</th>\n",
              "      <th>Type_site</th>\n",
              "      <th>Type_studio</th>\n",
              "      <th>Type_terraced</th>\n",
              "      <th>Type_townhouse</th>\n",
              "    </tr>\n",
              "  </thead>\n",
              "  <tbody>\n",
              "    <tr>\n",
              "      <th>0</th>\n",
              "      <td>1</td>\n",
              "      <td>0.727891</td>\n",
              "      <td>0.693147</td>\n",
              "      <td>0.693147</td>\n",
              "      <td>-0.315848</td>\n",
              "      <td>DNG are delighted to present to the market no....</td>\n",
              "      <td>None</td>\n",
              "      <td>0.620414</td>\n",
              "      <td>-1.972920</td>\n",
              "      <td>-0.801032</td>\n",
              "      <td>-1.375767</td>\n",
              "      <td>1</td>\n",
              "      <td>0</td>\n",
              "      <td>0</td>\n",
              "      <td>0</td>\n",
              "      <td>0</td>\n",
              "      <td>0</td>\n",
              "      <td>0</td>\n",
              "      <td>0</td>\n",
              "      <td>0</td>\n",
              "      <td>0</td>\n",
              "    </tr>\n",
              "    <tr>\n",
              "      <th>1</th>\n",
              "      <td>2</td>\n",
              "      <td>0.714286</td>\n",
              "      <td>0.000000</td>\n",
              "      <td>0.693147</td>\n",
              "      <td>0.027283</td>\n",
              "      <td>13 Northbrook Terrace is a charming red brick ...</td>\n",
              "      <td>Bight and Spacious interior\\nNumerous original...</td>\n",
              "      <td>0.085158</td>\n",
              "      <td>0.195426</td>\n",
              "      <td>-0.129563</td>\n",
              "      <td>-0.069313</td>\n",
              "      <td>0</td>\n",
              "      <td>0</td>\n",
              "      <td>0</td>\n",
              "      <td>0</td>\n",
              "      <td>0</td>\n",
              "      <td>0</td>\n",
              "      <td>0</td>\n",
              "      <td>0</td>\n",
              "      <td>1</td>\n",
              "      <td>0</td>\n",
              "    </tr>\n",
              "  </tbody>\n",
              "</table>\n",
              "</div>"
            ],
            "text/plain": [
              "   Index  Location  Num_Bathrooms  ...  Type_studio  Type_terraced Type_townhouse\n",
              "0      1  0.727891       0.693147  ...            0              0              0\n",
              "1      2  0.714286       0.000000  ...            0              1              0\n",
              "\n",
              "[2 rows x 21 columns]"
            ]
          },
          "metadata": {},
          "execution_count": 247
        }
      ]
    },
    {
      "cell_type": "code",
      "metadata": {
        "colab": {
          "base_uri": "https://localhost:8080/"
        },
        "id": "V7Fq006MrnUw",
        "outputId": "20cf89d5-3d55-473e-8678-7cadcffd4e61"
      },
      "source": [
        "training_first = df_train.head(1)\n",
        "\n",
        "descr_str = training_first['Description']\n",
        "\n",
        "description = re.sub(\"[^a-zA-Z]\", \" \", str(descr_str))\n",
        "\n",
        "nlp_preprocess(description)\n",
        "\n",
        "print(description)"
      ],
      "execution_count": 261,
      "outputs": [
        {
          "output_type": "stream",
          "name": "stdout",
          "text": [
            " \n",
            "     DNG are delighted to present to the market no     Name  Description  dtype  object\n",
            "['dng', 'delight', 'present', 'market', 'name', 'descript', 'dtype', 'object']\n",
            "     DNG are delighted to present to the market no     Name  Description  dtype  object\n"
          ]
        }
      ]
    },
    {
      "cell_type": "markdown",
      "metadata": {
        "id": "bJFJQxAS9HZK"
      },
      "source": [
        "# PIECEWISE REGRESSION"
      ]
    },
    {
      "cell_type": "markdown",
      "metadata": {
        "id": "QkRchZtf6IV-"
      },
      "source": [
        "**Piecewise regression**, extract from [Wikipedia](https://en.wikipedia.org/wiki/Segmented_regression):\n",
        "\n",
        "Segmented regression, also known as piecewise regression or broken-stick regression, is a method in regression analysis in which the independent variable is partitioned into intervals and a separate line segment is fit to each interval. \n",
        "\n",
        "* Segmented regression analysis can also be performed on \n",
        "multivariate data by partitioning the various independent variables. \n",
        "* Segmented regression is useful when the independent variables, clustered into different groups, exhibit different relationships between the variables in these regions. \n",
        "\n",
        "* The boundaries between the segments are breakpoints.\n",
        "\n",
        "* Segmented linear regression is segmented regression whereby the relations in the intervals are obtained by linear regression. "
      ]
    },
    {
      "cell_type": "markdown",
      "metadata": {
        "id": "po84zvge2NS7"
      },
      "source": [
        "Your comments, explanation, and references here."
      ]
    },
    {
      "cell_type": "code",
      "metadata": {
        "id": "pXX7Mq2Y2NrK"
      },
      "source": [
        "# your code here"
      ],
      "execution_count": null,
      "outputs": []
    },
    {
      "cell_type": "markdown",
      "metadata": {
        "id": "_kFgkUA85_pn"
      },
      "source": [
        "# BAYESIAN NN"
      ]
    },
    {
      "cell_type": "markdown",
      "metadata": {
        "id": "ELer5PV37ftX"
      },
      "source": [
        "A [Bayesian network](https://en.wikipedia.org/wiki/Bayesian_network) (also known as a Bayes network, Bayes net, belief network, or decision network) is a probabilistic graphical model that represents a set of variables and their conditional dependencies via a directed acyclic graph (DAG). \n",
        "\n",
        "* Bayesian networks are ideal for taking an event that occurred and predicting the likelihood that any one of several possible known causes was the contributing factor. \n",
        "* For example, a Bayesian network could represent the probabilistic relationships between diseases and symptoms. \n",
        "* Given symptoms, the network can be used to compute the probabilities of the presence of various diseases."
      ]
    },
    {
      "cell_type": "markdown",
      "metadata": {
        "id": "z0kauv1L5_po"
      },
      "source": [
        "Your comments, explanation, and references here."
      ]
    },
    {
      "cell_type": "code",
      "metadata": {
        "id": "0smpwCET5_pp"
      },
      "source": [
        "# your code here"
      ],
      "execution_count": null,
      "outputs": []
    },
    {
      "cell_type": "markdown",
      "metadata": {
        "id": "f0GYCpwEM09T"
      },
      "source": [
        "# SUMMARY"
      ]
    },
    {
      "cell_type": "markdown",
      "metadata": {
        "id": "rBDzsZSJ7HZp"
      },
      "source": [
        "Your summary here."
      ]
    }
  ]
}